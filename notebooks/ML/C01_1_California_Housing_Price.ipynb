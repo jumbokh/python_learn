{
  "cells": [
    {
      "cell_type": "markdown",
      "metadata": {
        "id": "view-in-github",
        "colab_type": "text"
      },
      "source": [
        "<a href=\"https://colab.research.google.com/github/jumbokh/python_learn/blob/master/notebooks/ML/C01_1_California_Housing_Price.ipynb\" target=\"_parent\"><img src=\"https://colab.research.google.com/assets/colab-badge.svg\" alt=\"Open In Colab\"/></a>"
      ]
    },
    {
      "metadata": {
        "_uuid": "8f2839f25d086af736a60e9eeb907d3b93b6e0e5",
        "_cell_guid": "b1076dfc-b9ad-4769-8c92-a6c4dae69d19",
        "trusted": true,
        "colab": {
          "base_uri": "https://localhost:8080/"
        },
        "id": "bmd0UA_fqbn3",
        "outputId": "7bbec0db-9ae9-4340-c513-ea0cb7321289"
      },
      "cell_type": "code",
      "source": [
        "import pandas as pd #导入Pandas，用于数据读取和处理\n",
        "# 读入房价数据，示例代码中的文件地址为internet链接，读者也可以下载该文件到本机进行读取\n",
        "# 如，当数据集和代码文件位于相同本地目录，路径名应为\"./house.csv\"，或直接放\"house.csv\"亦可\n",
        "df_housing = pd.read_csv(\"https://raw.githubusercontent.com/huangjia2019/house/master/house.csv\") \n",
        "df_housing.head #显示加州房价数据"
      ],
      "execution_count": 1,
      "outputs": [
        {
          "output_type": "execute_result",
          "data": {
            "text/plain": [
              "<bound method NDFrame.head of        longitude  latitude  housing_median_age  total_rooms  total_bedrooms  \\\n",
              "0        -114.31     34.19                15.0       5612.0          1283.0   \n",
              "1        -114.47     34.40                19.0       7650.0          1901.0   \n",
              "2        -114.56     33.69                17.0        720.0           174.0   \n",
              "3        -114.57     33.64                14.0       1501.0           337.0   \n",
              "4        -114.57     33.57                20.0       1454.0           326.0   \n",
              "...          ...       ...                 ...          ...             ...   \n",
              "16995    -124.26     40.58                52.0       2217.0           394.0   \n",
              "16996    -124.27     40.69                36.0       2349.0           528.0   \n",
              "16997    -124.30     41.84                17.0       2677.0           531.0   \n",
              "16998    -124.30     41.80                19.0       2672.0           552.0   \n",
              "16999    -124.35     40.54                52.0       1820.0           300.0   \n",
              "\n",
              "       population  households  median_income  median_house_value  \n",
              "0          1015.0       472.0         1.4936             66900.0  \n",
              "1          1129.0       463.0         1.8200             80100.0  \n",
              "2           333.0       117.0         1.6509             85700.0  \n",
              "3           515.0       226.0         3.1917             73400.0  \n",
              "4           624.0       262.0         1.9250             65500.0  \n",
              "...           ...         ...            ...                 ...  \n",
              "16995       907.0       369.0         2.3571            111400.0  \n",
              "16996      1194.0       465.0         2.5179             79000.0  \n",
              "16997      1244.0       456.0         3.0313            103600.0  \n",
              "16998      1298.0       478.0         1.9797             85800.0  \n",
              "16999       806.0       270.0         3.0147             94600.0  \n",
              "\n",
              "[17000 rows x 9 columns]>"
            ]
          },
          "metadata": {},
          "execution_count": 1
        }
      ]
    },
    {
      "metadata": {
        "_uuid": "d629ff2d2480ee46fbb7e2d37f6b5fab8052498a",
        "_cell_guid": "79c7e3d0-c299-4dcb-8224-4455121ee9b0",
        "trusted": true,
        "id": "VRP_yNGOqboE"
      },
      "cell_type": "code",
      "source": [
        "X = df_housing.drop(\"median_house_value\",axis = 1) #构建特征集X\n",
        "y = df_housing.median_house_value #构建标签集y"
      ],
      "execution_count": 2,
      "outputs": []
    },
    {
      "metadata": {
        "trusted": true,
        "id": "mt2zA84hqboH"
      },
      "cell_type": "code",
      "source": [
        "from sklearn.model_selection import train_test_split #导入数据集拆分工具\n",
        "X_train, X_test, y_train, y_test = train_test_split(X, y, \n",
        "         test_size=0.2, random_state=0) #以80%/20%的比例进行数据集的拆分"
      ],
      "execution_count": 3,
      "outputs": []
    },
    {
      "metadata": {
        "trusted": true,
        "colab": {
          "base_uri": "https://localhost:8080/"
        },
        "id": "79sr19J1qboJ",
        "outputId": "5149ec4f-166f-4096-8d57-8747a899e064"
      },
      "cell_type": "code",
      "source": [
        "from sklearn.linear_model import LinearRegression #导入线性回归算法模型\n",
        "model = LinearRegression() #使用线性回归算法\n",
        "model.fit(X_train, y_train) #用训练集数据，训练机器，拟合函数，确定参数"
      ],
      "execution_count": 4,
      "outputs": [
        {
          "output_type": "execute_result",
          "data": {
            "text/plain": [
              "LinearRegression()"
            ]
          },
          "metadata": {},
          "execution_count": 4
        }
      ]
    },
    {
      "metadata": {
        "trusted": true,
        "colab": {
          "base_uri": "https://localhost:8080/"
        },
        "id": "7aHO9GhnqboM",
        "outputId": "78ce1a7b-322e-4494-be2d-3dcd30b19b2f"
      },
      "cell_type": "code",
      "source": [
        "y_pred = model.predict(X_test) #预测测试集的Y值\n",
        "print ('房价的真值(测试集)',y_test)\n",
        "print ('预测的房价(测试集)',y_pred)"
      ],
      "execution_count": 5,
      "outputs": [
        {
          "output_type": "stream",
          "name": "stdout",
          "text": [
            "房价的真值(测试集) 3873     171400.0\n",
            "3625     189600.0\n",
            "3028     500001.0\n",
            "13814    229400.0\n",
            "15398    163400.0\n",
            "           ...   \n",
            "1363     212500.0\n",
            "7947     210500.0\n",
            "14574    142900.0\n",
            "10009    128300.0\n",
            "9149      84700.0\n",
            "Name: median_house_value, Length: 3400, dtype: float64\n",
            "预测的房价(测试集) [211157.06335416 218581.64298575 465317.31295563 ... 201751.23969632\n",
            " 160873.51846958 138847.26913351]\n"
          ]
        }
      ]
    },
    {
      "metadata": {
        "trusted": true,
        "colab": {
          "base_uri": "https://localhost:8080/"
        },
        "id": "zxj_4UIlqboO",
        "outputId": "d23da2d9-f868-4b24-fcd6-d663e05f9ac2"
      },
      "cell_type": "code",
      "source": [
        "print(\"给预测评分：\", model.score(X_test, y_test)) #评估预测结果"
      ],
      "execution_count": 6,
      "outputs": [
        {
          "output_type": "stream",
          "name": "stdout",
          "text": [
            "给预测评分： 0.6321014171579513\n"
          ]
        }
      ]
    },
    {
      "metadata": {
        "trusted": true,
        "colab": {
          "base_uri": "https://localhost:8080/",
          "height": 279
        },
        "id": "Y1fy3uGcqboP",
        "outputId": "1e3eb487-941b-4295-882e-2e783b8ceed9"
      },
      "cell_type": "code",
      "source": [
        "import matplotlib.pyplot as plt #导入matplotlib画图库\n",
        "#用散点图显示家庭收入中位数和房价中位数的分布\n",
        "plt.scatter(X_test.median_income, y_test,  color='brown')\n",
        "#画出回归函数(从特征到预测标签)\n",
        "plt.plot(X_test.median_income, y_pred, color='green', linewidth=1)\n",
        "plt.xlabel('Median Income') #X轴-家庭收入中位数\n",
        "plt.ylabel('Median House Value') #Y轴-房价中位数\n",
        "plt.show() #显示房价分布和机器习得的函数图形"
      ],
      "execution_count": 7,
      "outputs": [
        {
          "output_type": "display_data",
          "data": {
            "text/plain": [
              "<Figure size 432x288 with 1 Axes>"
            ],
            "image/png": "[encoded data removed]"
          },
          "metadata": {
            "needs_background": "light"
          }
        }
      ]
    }
  ],
  "metadata": {
    "kernelspec": {
      "language": "python",
      "display_name": "Python 3",
      "name": "python3"
    },
    "language_info": {
      "pygments_lexer": "ipython3",
      "nbconvert_exporter": "python",
      "version": "3.6.4",
      "file_extension": ".py",
      "codemirror_mode": {
        "name": "ipython",
        "version": 3
      },
      "name": "python",
      "mimetype": "text/x-python"
    },
    "colab": {
      "name": "C01-1 California Housing Price.ipynb",
      "provenance": [],
      "include_colab_link": true
    }
  },
  "nbformat": 4,
  "nbformat_minor": 0
}