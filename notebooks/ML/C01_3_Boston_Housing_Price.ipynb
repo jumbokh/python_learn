{
  "cells": [
    {
      "cell_type": "markdown",
      "metadata": {
        "id": "view-in-github",
        "colab_type": "text"
      },
      "source": [
        "<a href=\"https://colab.research.google.com/github/jumbokh/python_learn/blob/master/notebooks/ML/C01_3_Boston_Housing_Price.ipynb\" target=\"_parent\"><img src=\"https://colab.research.google.com/assets/colab-badge.svg\" alt=\"Open In Colab\"/></a>"
      ]
    },
    {
      "metadata": {
        "_cell_guid": "79c7e3d0-c299-4dcb-8224-4455121ee9b0",
        "_uuid": "d629ff2d2480ee46fbb7e2d37f6b5fab8052498a",
        "trusted": true,
        "colab": {
          "base_uri": "https://localhost:8080/"
        },
        "id": "ttz8zXm1oodm",
        "outputId": "ca12c9e5-e2dd-4e2f-d701-940da344fc15"
      },
      "cell_type": "code",
      "source": [
        "import numpy as np # 导入NumPy数学工具箱\n",
        "import pandas as pd # 导入Pandas数据处理工具箱\n",
        "from keras.datasets import boston_housing #从Keras中导入Boston Housing数据集\n",
        "#读入训练集和测试集\n",
        "(X_train, y_train), (X_test, y_test) = boston_housing.load_data()"
      ],
      "execution_count": 1,
      "outputs": [
        {
          "output_type": "stream",
          "name": "stdout",
          "text": [
            "Downloading data from https://storage.googleapis.com/tensorflow/tf-keras-datasets/boston_housing.npz\n",
            "57344/57026 [==============================] - 0s 0us/step\n",
            "65536/57026 [==================================] - 0s 0us/step\n"
          ]
        }
      ]
    },
    {
      "metadata": {
        "trusted": true,
        "colab": {
          "base_uri": "https://localhost:8080/"
        },
        "id": "WRpw8oBtoodq",
        "outputId": "d039d068-4b44-4c75-b56a-33e6c92f90c7"
      },
      "cell_type": "code",
      "source": [
        "print (\"数据集张量形状：\", X_train.shape) #shape方法显示张量的形状\n",
        "print (\"第一个数据样本：\\n\", X_train[0]) #注意Python的索引是从0开始的"
      ],
      "execution_count": 2,
      "outputs": [
        {
          "output_type": "stream",
          "name": "stdout",
          "text": [
            "数据集张量形状： (404, 13)\n",
            "第一个数据样本：\n",
            " [  1.23247   0.        8.14      0.        0.538     6.142    91.7\n",
            "   3.9769    4.      307.       21.      396.9      18.72   ]\n"
          ]
        }
      ]
    },
    {
      "metadata": {
        "trusted": true,
        "colab": {
          "base_uri": "https://localhost:8080/"
        },
        "id": "6LKM7bVBoodr",
        "outputId": "e0179838-9b7b-40ad-cf26-73b274818efc"
      },
      "cell_type": "code",
      "source": [
        "print (\"第一个数据样本的标签：\", y_train[0])"
      ],
      "execution_count": 3,
      "outputs": [
        {
          "output_type": "stream",
          "name": "stdout",
          "text": [
            "第一个数据样本的标签： 15.2\n"
          ]
        }
      ]
    },
    {
      "metadata": {
        "trusted": true,
        "colab": {
          "base_uri": "https://localhost:8080/"
        },
        "id": "hlord1mBoods",
        "outputId": "e5d1727e-e19f-4bc1-c2b4-73f7c9d03d4b"
      },
      "cell_type": "code",
      "source": [
        "from sklearn.linear_model import LinearRegression #导入线性回归算法模型\n",
        "model = LinearRegression() #使用线性回归算法\n",
        "model.fit(X_train, y_train) #用训练集数据，训练机器，拟合函数，确定参数"
      ],
      "execution_count": 4,
      "outputs": [
        {
          "output_type": "execute_result",
          "data": {
            "text/plain": [
              "LinearRegression()"
            ]
          },
          "metadata": {},
          "execution_count": 4
        }
      ]
    },
    {
      "metadata": {
        "trusted": true,
        "colab": {
          "base_uri": "https://localhost:8080/"
        },
        "id": "A5G2OUw9oodt",
        "outputId": "c4a12b19-264e-4374-ae2d-d786a1477593"
      },
      "cell_type": "code",
      "source": [
        "y_pred = model.predict(X_test) #预测测试集的Y值\n",
        "print ('房价的真值(测试集)',y_test)\n",
        "print ('预测的房价(测试集)',y_pred)"
      ],
      "execution_count": 5,
      "outputs": [
        {
          "output_type": "stream",
          "name": "stdout",
          "text": [
            "房价的真值(测试集) [ 7.2 18.8 19.  27.  22.2 24.5 31.2 22.9 20.5 23.2 18.6 14.5 17.8 50.\n",
            " 20.8 24.3 24.2 19.8 19.1 22.7 12.  10.2 20.  18.5 20.9 23.  27.5 30.1\n",
            "  9.5 22.  21.2 14.1 33.1 23.4 20.1  7.4 15.4 23.8 20.1 24.5 33.  28.4\n",
            " 14.1 46.7 32.5 29.6 28.4 19.8 20.2 25.  35.4 20.3  9.7 14.5 34.9 26.6\n",
            "  7.2 50.  32.4 21.6 29.8 13.1 27.5 21.2 23.1 21.9 13.  23.2  8.1  5.6\n",
            " 21.7 29.6 19.6  7.  26.4 18.9 20.9 28.1 35.4 10.2 24.3 43.1 17.6 15.4\n",
            " 16.2 27.1 21.4 21.5 22.4 25.  16.6 18.6 22.  42.8 35.1 21.5 36.  21.9\n",
            " 24.1 50.  26.7 25. ]\n",
            "预测的房价(测试集) [ 9.69267239 21.05859431 20.94145461 34.25223414 25.95902598 20.56741038\n",
            " 28.15310405 25.07113862 20.30519458 22.82489511 20.29027213 18.07938917\n",
            " 16.46141024 35.31166595 19.41369959 19.34727116 24.58140904 21.01346252\n",
            " 19.99079236 23.79286427 12.20780045 17.14218992 22.51468752 12.92570511\n",
            " 21.18070615 23.94073547 33.46176314 24.2631555  13.35213096 20.71939252\n",
            " 23.45082103 19.1486881  36.09743765 23.47113531 19.03141995  5.92425733\n",
            " 14.02090469 22.96425377 16.01731242 27.09134249 22.06997029 28.61755389\n",
            " 17.75679772 34.75579014 31.29455712 24.73234165 31.12655323 18.09268992\n",
            " 22.62638989 24.21208909 30.5854317  18.71860574 10.50163617 13.73779292\n",
            " 34.4022841  27.53140317 18.08151522 40.05101982 37.63271513 24.64021422\n",
            " 25.73823434 20.64369987 20.33514699 21.38393124 24.63485497 23.53071805\n",
            " 17.42141466 26.76911736  3.83782148 11.97063636 24.2602519  23.67191799\n",
            " 23.66639182  8.4403269  28.52690962 20.94071229 20.44489658 24.77678169\n",
            " 33.77299778  7.02038331 24.55379254 36.73923493 16.09878612 18.14663987\n",
            " 20.48899554 18.7928142  22.45683561 26.19154506 23.36585592 28.89583791\n",
            " 17.48243942 16.05642916 26.69532678 28.1393996  35.04164989 20.05308052\n",
            " 36.25269116 38.51475052 25.13506119 41.49062194 34.65500235 25.33950895]\n"
          ]
        }
      ]
    },
    {
      "metadata": {
        "trusted": true,
        "colab": {
          "base_uri": "https://localhost:8080/"
        },
        "id": "LRKjdL44oodu",
        "outputId": "258fe990-7183-4d08-d8e1-835185be9105"
      },
      "cell_type": "code",
      "source": [
        "print(\"给预测评分：\", model.score(X_test, y_test)) #评估预测结果"
      ],
      "execution_count": 6,
      "outputs": [
        {
          "output_type": "stream",
          "name": "stdout",
          "text": [
            "给预测评分： 0.7213535934621562\n"
          ]
        }
      ]
    }
  ],
  "metadata": {
    "kernelspec": {
      "display_name": "Python 3",
      "language": "python",
      "name": "python3"
    },
    "language_info": {
      "name": "python",
      "version": "3.6.4",
      "mimetype": "text/x-python",
      "codemirror_mode": {
        "name": "ipython",
        "version": 3
      },
      "pygments_lexer": "ipython3",
      "nbconvert_exporter": "python",
      "file_extension": ".py"
    },
    "colab": {
      "name": "C01-3 Boston Housing Price.ipynb",
      "provenance": [],
      "include_colab_link": true
    }
  },
  "nbformat": 4,
  "nbformat_minor": 0
}