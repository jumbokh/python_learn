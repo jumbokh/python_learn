{
  "nbformat": 4,
  "nbformat_minor": 0,
  "metadata": {
    "colab": {
      "provenance": [],
      "authorship_tag": "ABX9TyModXVTyWT7H/bsn8PtN/Ra",
      "include_colab_link": true
    },
    "kernelspec": {
      "name": "python3",
      "display_name": "Python 3"
    },
    "language_info": {
      "name": "python"
    }
  },
  "cells": [
    {
      "cell_type": "markdown",
      "metadata": {
        "id": "view-in-github",
        "colab_type": "text"
      },
      "source": [
        "<a href=\"https://colab.research.google.com/github/jumbokh/python_learn/blob/master/notebooks/Numpy%E5%85%A5%E9%96%80.ipynb\" target=\"_parent\"><img src=\"https://colab.research.google.com/assets/colab-badge.svg\" alt=\"Open In Colab\"/></a>"
      ]
    },
    {
      "cell_type": "markdown",
      "source": [
        "### 1. 導入 NumPy 並創建數組"
      ],
      "metadata": {
        "id": "c0lno8RIbHxT"
      }
    },
    {
      "cell_type": "code",
      "execution_count": null,
      "metadata": {
        "id": "-Eiwe7oxbEAQ"
      },
      "outputs": [],
      "source": [
        "import numpy as np\n",
        "\n",
        "# 創建一個一維數組\n",
        "array_1d = np.array([1, 2, 3, 4, 5])\n",
        "\n",
        "# 創建一個二維數組\n",
        "array_2d = np.array([[1, 2, 3], [4, 5, 6]])\n",
        "\n",
        "# 查看數組的形狀\n",
        "print(\"1D array shape:\", array_1d.shape)\n",
        "print(\"2D array shape:\", array_2d.shape)"
      ]
    },
    {
      "cell_type": "markdown",
      "source": [
        "### 2. 使用 NumPy 的內置函數創建數組"
      ],
      "metadata": {
        "id": "wtpx1tvGbQdm"
      }
    },
    {
      "cell_type": "code",
      "source": [
        "# 創建一個全為零的數組\n",
        "zeros_array = np.zeros((3, 3))\n",
        "\n",
        "# 創建一個全為一的數組\n",
        "ones_array = np.ones((2, 4))\n",
        "\n",
        "# 創建一個包含隨機數的數組\n",
        "random_array = np.random.random((3, 3))\n",
        "\n",
        "# 創建一個範圍內的數組\n",
        "range_array = np.arange(0, 10, 2)\n",
        "\n",
        "# 創建一個線性空間的數組\n",
        "linspace_array = np.linspace(0, 1, 5)\n",
        "\n",
        "print(zeros_array)\n",
        "print(ones_array)\n",
        "print(random_array)\n",
        "print(range_array)\n",
        "print(linspace_array)"
      ],
      "metadata": {
        "id": "6-mIfv8UbUQz"
      },
      "execution_count": null,
      "outputs": []
    },
    {
      "cell_type": "markdown",
      "source": [
        "### 3. 數組的基本運算"
      ],
      "metadata": {
        "id": "MPenTH-ybaR5"
      }
    },
    {
      "cell_type": "code",
      "source": [
        "# 創建兩個數組\n",
        "a = np.array([1, 2, 3])\n",
        "b = np.array([4, 5, 6])\n",
        "\n",
        "# 加法\n",
        "sum_array = a + b\n",
        "\n",
        "# 減法\n",
        "diff_array = a - b\n",
        "\n",
        "# 乘法\n",
        "prod_array = a * b\n",
        "\n",
        "# 除法\n",
        "quot_array = a / b\n",
        "\n",
        "# 指數運算\n",
        "exp_array = np.exp(a)\n",
        "\n",
        "# 平均值\n",
        "mean_value = np.mean(a)\n",
        "\n",
        "print(\"Sum:\", sum_array)\n",
        "print(\"Difference:\", diff_array)\n",
        "print(\"Product:\", prod_array)\n",
        "print(\"Quotient:\", quot_array)\n",
        "print(\"Exponential:\", exp_array)\n",
        "print(\"Mean:\", mean_value)"
      ],
      "metadata": {
        "id": "1mUCwmAfbd-m"
      },
      "execution_count": null,
      "outputs": []
    },
    {
      "cell_type": "markdown",
      "source": [
        "### 4. 數組的索引與切片"
      ],
      "metadata": {
        "id": "w4YEnYfhbji_"
      }
    },
    {
      "cell_type": "code",
      "source": [
        "# 創建一個二維數組\n",
        "array = np.array([[1, 2, 3], [4, 5, 6], [7, 8, 9]])\n",
        "\n",
        "# 取得特定元素（第 1 行，第 2 列）\n",
        "element = array[0, 1]\n",
        "\n",
        "# 取得某行（第 2 行）\n",
        "row = array[1, :]\n",
        "\n",
        "# 取得某列（第 3 列）\n",
        "column = array[:, 2]\n",
        "\n",
        "# 取得子數組（前兩行，前兩列）\n",
        "sub_array = array[:2, :2]\n",
        "\n",
        "print(\"Element:\", element)\n",
        "print(\"Row:\", row)\n",
        "print(\"Column:\", column)\n",
        "print(\"Sub-array:\\n\", sub_array)"
      ],
      "metadata": {
        "id": "r2fvB78bbndJ"
      },
      "execution_count": null,
      "outputs": []
    },
    {
      "cell_type": "markdown",
      "source": [
        "### 5. 數組的形狀變換"
      ],
      "metadata": {
        "id": "V_4nCtqHbqLZ"
      }
    },
    {
      "cell_type": "code",
      "source": [
        "# 創建一個數組\n",
        "array = np.array([[1, 2, 3], [4, 5, 6], [7, 8, 9]])\n",
        "\n",
        "# 改變數組的形狀\n",
        "reshaped_array = array.reshape(1, 9)\n",
        "\n",
        "# 扁平化數組\n",
        "flattened_array = array.flatten()\n",
        "\n",
        "print(\"Reshaped array:\\n\", reshaped_array)\n",
        "print(\"Flattened array:\", flattened_array)"
      ],
      "metadata": {
        "id": "JhxA84ABbtZx"
      },
      "execution_count": null,
      "outputs": []
    },
    {
      "cell_type": "markdown",
      "source": [
        "###6. 數學和統計運算"
      ],
      "metadata": {
        "id": "1uDrWAPGbwoe"
      }
    },
    {
      "cell_type": "code",
      "source": [
        "# 創建一個隨機數組\n",
        "array = np.random.random((3, 3))\n",
        "\n",
        "# 計算最大值和最小值\n",
        "max_value = np.max(array)\n",
        "min_value = np.min(array)\n",
        "\n",
        "# 計算數組的和\n",
        "sum_value = np.sum(array)\n",
        "\n",
        "# 計算標準差\n",
        "std_value = np.std(array)\n",
        "\n",
        "print(\"Max:\", max_value)\n",
        "print(\"Min:\", min_value)\n",
        "print(\"Sum:\", sum_value)\n",
        "print(\"Standard Deviation:\", std_value)"
      ],
      "metadata": {
        "id": "BQh2avcWbzjN"
      },
      "execution_count": null,
      "outputs": []
    },
    {
      "cell_type": "markdown",
      "source": [
        "### 7. 矩陣運算"
      ],
      "metadata": {
        "id": "Et9fEqXwb2b4"
      }
    },
    {
      "cell_type": "code",
      "source": [
        "# 創建兩個矩陣\n",
        "matrix_a = np.array([[1, 2], [3, 4]])\n",
        "matrix_b = np.array([[5, 6], [7, 8]])\n",
        "\n",
        "# 矩陣加法\n",
        "matrix_sum = matrix_a + matrix_b\n",
        "\n",
        "# 矩陣乘法（點積）\n",
        "matrix_product = np.dot(matrix_a, matrix_b)\n",
        "\n",
        "# 矩陣的轉置\n",
        "matrix_transpose = np.transpose(matrix_a)\n",
        "\n",
        "print(\"Matrix Sum:\\n\", matrix_sum)\n",
        "print(\"Matrix Product:\\n\", matrix_product)\n",
        "print(\"Matrix Transpose:\\n\", matrix_transpose)"
      ],
      "metadata": {
        "id": "GZMf9fcSb6b2"
      },
      "execution_count": null,
      "outputs": []
    },
    {
      "cell_type": "markdown",
      "source": [
        "### 8. 廣播機制 (Broadcasting)"
      ],
      "metadata": {
        "id": "Anzgk8l9b9mp"
      }
    },
    {
      "cell_type": "code",
      "source": [
        "# 創建一個 2x3 的數組\n",
        "array_a = np.array([[1, 2, 3], [4, 5, 6]])\n",
        "\n",
        "# 創建一個一維數組\n",
        "array_b = np.array([1, 0, 1])\n",
        "\n",
        "# 廣播機制的加法運算\n",
        "broadcast_sum = array_a + array_b\n",
        "\n",
        "print(\"Broadcast Sum:\\n\", broadcast_sum)"
      ],
      "metadata": {
        "id": "U6UqMKy1cBQl"
      },
      "execution_count": null,
      "outputs": []
    },
    {
      "cell_type": "markdown",
      "source": [
        "### 9. 隨機數生成與排序"
      ],
      "metadata": {
        "id": "KnnuqGSEcDzD"
      }
    },
    {
      "cell_type": "code",
      "source": [
        "# 創建一個隨機數組\n",
        "random_array = np.random.rand(5)\n",
        "\n",
        "# 將數組進行升序排序\n",
        "sorted_array = np.sort(random_array)\n",
        "\n",
        "# 創建一個隨機整數數組\n",
        "random_int_array = np.random.randint(1, 100, 10)\n",
        "\n",
        "# 查找最大值和最小值的索引\n",
        "max_index = np.argmax(random_int_array)\n",
        "min_index = np.argmin(random_int_array)\n",
        "\n",
        "print(\"Random array:\", random_array)\n",
        "print(\"Sorted array:\", sorted_array)\n",
        "print(\"Random integer array:\", random_int_array)\n",
        "print(\"Index of max value:\", max_index)\n",
        "print(\"Index of min value:\", min_index)"
      ],
      "metadata": {
        "id": "J-7DvqQLcK98"
      },
      "execution_count": null,
      "outputs": []
    },
    {
      "cell_type": "markdown",
      "source": [],
      "metadata": {
        "id": "futamltycOkf"
      }
    }
  ]
}