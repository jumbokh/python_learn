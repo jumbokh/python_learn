{
  "nbformat": 4,
  "nbformat_minor": 0,
  "metadata": {
    "colab": {
      "provenance": [],
      "authorship_tag": "ABX9TyPzwW02j9OSbwWe8D1yze5g",
      "include_colab_link": true
    },
    "kernelspec": {
      "name": "python3",
      "display_name": "Python 3"
    },
    "language_info": {
      "name": "python"
    }
  },
  "cells": [
    {
      "cell_type": "markdown",
      "metadata": {
        "id": "view-in-github",
        "colab_type": "text"
      },
      "source": [
        "<a href=\"https://colab.research.google.com/github/jumbokh/python_learn/blob/master/notebooks/Numpy_%E5%AF%A6%E9%A9%97.ipynb\" target=\"_parent\"><img src=\"https://colab.research.google.com/assets/colab-badge.svg\" alt=\"Open In Colab\"/></a>"
      ]
    },
    {
      "cell_type": "markdown",
      "source": [
        "## 1. Numpy 基础:"
      ],
      "metadata": {
        "id": "5LHh_XDhQKWM"
      }
    },
    {
      "cell_type": "code",
      "execution_count": 2,
      "metadata": {
        "colab": {
          "base_uri": "https://localhost:8080/"
        },
        "id": "dy55sVytP_g6",
        "outputId": "9ee7d5aa-aa89-4dd6-af07-3e6ad46c46ef"
      },
      "outputs": [
        {
          "output_type": "stream",
          "name": "stdout",
          "text": [
            "The shape: (5,)\n",
            "The dimensionality: 1\n",
            "The type: float64\n",
            "The shape: (2, 5)\n",
            "The dimensionality: 2\n",
            "The type: float64\n"
          ]
        }
      ],
      "source": [
        "import numpy as np\n",
        "import math\n",
        "\n",
        "mysqrt = [math.sqrt(x) for x in range(0,5)]\n",
        "mycrt = [x**(1/3) for x in range(0,5)]\n",
        "\n",
        "npData = np.array(mysqrt)\n",
        "print(\"The shape:\", npData.shape)\n",
        "print(\"The dimensionality:\", npData.ndim)\n",
        "print(\"The type:\", npData.dtype)\n",
        "\n",
        "twoDarray = np.array([mysqrt, mycrt])\n",
        "print(\"The shape:\", twoDarray.shape)\n",
        "print(\"The dimensionality:\", twoDarray.ndim)\n",
        "print(\"The type:\", twoDarray.dtype)"
      ]
    },
    {
      "cell_type": "code",
      "source": [
        "zeros = np.zeros(3)\n",
        "zMat = np.zeros((4,3))\n",
        "ones = np.ones(3)\n",
        "oMat = np.ones((3,2))\n",
        "diag = np.eye(4)\n",
        "rng = np.arange(5)\n",
        "dm = np.diag(rng)\n",
        "print(dm.shape)\n",
        "zMat_re = zMat.reshape(6,2)"
      ],
      "metadata": {
        "colab": {
          "base_uri": "https://localhost:8080/"
        },
        "id": "XOhTW7G2Qc40",
        "outputId": "4e5db11e-e355-4f69-dcce-2171d6802e0b"
      },
      "execution_count": 3,
      "outputs": [
        {
          "output_type": "stream",
          "name": "stdout",
          "text": [
            "(5, 5)\n"
          ]
        }
      ]
    },
    {
      "cell_type": "code",
      "source": [
        "A = np.random.randint(0,10, size = (3,2))\n",
        "B = np.random.randint(0,10, size = (3,3,3))\n",
        "C = np.random.randint(0,10, size = (3,1))\n",
        "print(A**2)\n",
        "print(np.sqrt(A))\n",
        "print(A + C)\n",
        "print(B + C)\n",
        "B[:, 0:2 , 0:2 ] -= 20\n",
        "print(B)"
      ],
      "metadata": {
        "colab": {
          "base_uri": "https://localhost:8080/"
        },
        "id": "MB-mMPb2RMyW",
        "outputId": "057c6020-0342-4d6f-df45-ba0aad02d485"
      },
      "execution_count": 4,
      "outputs": [
        {
          "output_type": "stream",
          "name": "stdout",
          "text": [
            "[[ 1  4]\n",
            " [36 81]\n",
            " [16 25]]\n",
            "[[1.         1.41421356]\n",
            " [2.44948974 3.        ]\n",
            " [2.         2.23606798]]\n",
            "[[10 11]\n",
            " [ 6  9]\n",
            " [13 14]]\n",
            "[[[17 16  9]\n",
            "  [ 4  4  7]\n",
            "  [18 11 10]]\n",
            "\n",
            " [[18 11 18]\n",
            "  [ 4  7  8]\n",
            "  [12  9 17]]\n",
            "\n",
            " [[ 9 17 14]\n",
            "  [ 1  6  9]\n",
            "  [17 15 10]]]\n",
            "[[[-12 -13   0]\n",
            "  [-16 -16   7]\n",
            "  [  9   2   1]]\n",
            "\n",
            " [[-11 -18   9]\n",
            "  [-16 -13   8]\n",
            "  [  3   0   8]]\n",
            "\n",
            " [[-20 -12   5]\n",
            "  [-19 -14   9]\n",
            "  [  8   6   1]]]\n"
          ]
        }
      ]
    },
    {
      "cell_type": "markdown",
      "source": [
        "## 2. Numpy 应用 1："
      ],
      "metadata": {
        "id": "kr5mFuaZRbhn"
      }
    },
    {
      "cell_type": "markdown",
      "source": [
        "#### 给定一个矩阵 2nx2n，将该矩阵分成四个象限(参见示例)，然后返回一个新的 2x2 矩阵，包含每个象限的平均值。\n",
        "#原矩陣:\n",
        "$$\n",
        "  \\begin{matrix}\n",
        "   1 & 2 & 5 & 7 \\\\\n",
        "   4 & 1 & 8 & 0 \\\\\n",
        "   2 & 0 & 5 & 1 \\\\\n",
        "   0 & 2 & 1 & 1\n",
        "  \\end{matrix} \\tag{1}\n",
        "$$\n",
        "$$\n",
        "  \\begin{matrix}\n",
        "   1 & 2 | 5 & 7 \\\\\n",
        "   4 & 1 | 8 & 0\n",
        "  \\end{matrix} \\tag{1}\n",
        "$$\n",
        "=============================\n",
        "$$\n",
        "  \\begin{matrix}\n",
        "   2 & 0 | 5 & 1 \\\\\n",
        "   0 & 2 | 1 & 1\n",
        "  \\end{matrix} \\tag{1}\n",
        "$$"
      ],
      "metadata": {
        "id": "4D3Bc3tpUReJ"
      }
    },
    {
      "cell_type": "code",
      "source": [
        "import numpy\n",
        "\n",
        "# 获取初始矩阵\n",
        "matrix1 = numpy.array(\n",
        "    [[1, 2, 5, 7], [4, 1, 8, 0], [2, 0, 5, 1], [0, 2, 1, 1]])\n",
        "\n",
        "# 获得矩阵维度\n",
        "n = (int)(matrix1.shape[0]/2)\n",
        "\n",
        "# 进行切片分割\n",
        "res = numpy.array(\n",
        "    [[matrix1[:n, :n].sum()/(n**2), matrix1[:n, n:].sum()/(n**2)], [matrix1[n:, :n].sum()/(n**2), matrix1[n:, n:].sum()/(n**2)]])\n",
        "print(res)"
      ],
      "metadata": {
        "colab": {
          "base_uri": "https://localhost:8080/"
        },
        "id": "OLY3NX_DRVXS",
        "outputId": "7dc1755e-6096-47a4-9772-f4aa102e1179"
      },
      "execution_count": 5,
      "outputs": [
        {
          "output_type": "stream",
          "name": "stdout",
          "text": [
            "[[2. 5.]\n",
            " [1. 2.]]\n"
          ]
        }
      ]
    },
    {
      "cell_type": "markdown",
      "source": [
        "## 3. Python 标准库 itertools："
      ],
      "metadata": {
        "id": "g3EAdhoRXeAF"
      }
    },
    {
      "cell_type": "markdown",
      "source": [
        " 编写函数 sum0(lst)，接受一个包含 8 个整数的列表lst。如果列表中的某些非空子集的总和返回 0，则返回 True。例如，lst=[-3, 11, 21, 5, 10, 11, 2, 1]返回 True，因为非空子集[-3, 2, 1]中数字加起来总和为 0；又如 lst=[2, 3, 4, 5, 6, 7, 8, 9]时，函数返回 False。"
      ],
      "metadata": {
        "id": "CZUTQ3KgXfqC"
      }
    },
    {
      "cell_type": "code",
      "source": [
        "import itertools\n",
        "\n",
        "\n",
        "# 定义判定是否存在组合为0函数\n",
        "def sum0(lst):\n",
        "    # 获取不同长度的组合\n",
        "    for num in range(1, 9):\n",
        "        # 获取相同长度下的不同组合迭代器\n",
        "        it = itertools.combinations(lst, num)\n",
        "        # 遍历判断是否和为0\n",
        "        for i in it:\n",
        "            if sum(i) == 0:\n",
        "                return True\n",
        "    return False\n",
        "\n",
        "\n",
        "lst = [1, 2, 3, 4, 5, 6, 7, -28]\n",
        "\n",
        "print(sum0(lst))"
      ],
      "metadata": {
        "colab": {
          "base_uri": "https://localhost:8080/"
        },
        "id": "AhiHPbXUXYAa",
        "outputId": "76043f11-3b99-4689-f212-705e21744f62"
      },
      "execution_count": 6,
      "outputs": [
        {
          "output_type": "stream",
          "name": "stdout",
          "text": [
            "True\n"
          ]
        }
      ]
    },
    {
      "cell_type": "code",
      "source": [],
      "metadata": {
        "id": "NHY9lWd-YMJX"
      },
      "execution_count": null,
      "outputs": []
    },
    {
      "cell_type": "markdown",
      "source": [
        "## Python 标准库 datetime:"
      ],
      "metadata": {
        "id": "1O31k0H0YLOm"
      }
    },
    {
      "cell_type": "markdown",
      "source": [
        "####   编写函数 calculate_age，计算自出生以来到目前为止，生活的总天数，总月数，总年数，返回元组（days，months，years）；"
      ],
      "metadata": {
        "id": "-zIg5BEHYPPy"
      }
    },
    {
      "cell_type": "code",
      "source": [
        "import datetime\n",
        "\n",
        "\n",
        "# 定义计算年龄函数\n",
        "def calculate_age():\n",
        "\n",
        "    # 将生日转为datetime\n",
        "    birthday = datetime.datetime(1995, 12, 19)\n",
        "    # 获取datetime当前时间\n",
        "    cur = datetime.datetime.now()\n",
        "    # 获得日期差\n",
        "    during_days = (cur-birthday).days\n",
        "    # 获得对应年月日\n",
        "    return(during_days, (int)(during_days/30), (int)(during_days/365))\n",
        "\n",
        "\n",
        "print(calculate_age())"
      ],
      "metadata": {
        "colab": {
          "base_uri": "https://localhost:8080/"
        },
        "id": "c4rIvb2YX6sY",
        "outputId": "47bac6f0-a195-4d7e-9606-d489f78968ab"
      },
      "execution_count": 8,
      "outputs": [
        {
          "output_type": "stream",
          "name": "stdout",
          "text": [
            "(10517, 350, 28)\n"
          ]
        }
      ]
    },
    {
      "cell_type": "markdown",
      "source": [
        "#### (1) 把实验、作业、小测的代码文件整理好，分开放在“作业”文件夹、“实验”文件夹、“小测”文件夹，三个文件夹放到同一个文件夹“代码”中。\n",
        "#### (2) 编写函数，统计“代码”文件夹中 python 文件的个数（file_num）,写过的代码行数（ code_line ），代码中空行的行数 （ space_lines ），注释的行数 （comments_lines，只统计以#开头的），返回元组记录上述信息。"
      ],
      "metadata": {
        "id": "px6Q5JWwY-TY"
      }
    },
    {
      "cell_type": "code",
      "source": [
        "import collections\n",
        "import sys\n",
        "import os\n",
        "\n",
        "\n",
        "def getInfo(path):\n",
        "    # path = './code'\n",
        "    file_num = 0\n",
        "    code_line = 0\n",
        "    space_lines = 0\n",
        "    comments_lines = 0\n",
        "    if not os.path.exists(path):\n",
        "        print('Invalid Path!')\n",
        "        return\n",
        "    # 如果是路径\n",
        "    if os.path.isdir(path):\n",
        "        for j in os.listdir(path):\n",
        "            if j.endswith('.py'):\n",
        "                file_num += 1\n",
        "                for line in open(path+'/'+j, encoding='utf-8'):\n",
        "                    code_line += 1\n",
        "                    if line == \"\\n\":\n",
        "                        space_lines += 1\n",
        "                    if line.startswith('#'):\n",
        "                        comments_lines += 1\n",
        "    # 如果是Python文件\n",
        "    elif os.path.isfile(path) and path.endswith('.py'):\n",
        "        file_num += 1\n",
        "        for line in open(path, encoding='utf-8'):\n",
        "            code_line += 1\n",
        "            if line == \"\\n\":\n",
        "                space_lines += 1\n",
        "            if line.startswith('#'):\n",
        "                comments_lines += 1\n",
        "    return(file_num, code_line, space_lines, comments_lines)\n",
        "\n",
        "\n",
        "print(getInfo('./code/Homework'))"
      ],
      "metadata": {
        "id": "kMuOVK4rYgi0"
      },
      "execution_count": null,
      "outputs": []
    }
  ]
}