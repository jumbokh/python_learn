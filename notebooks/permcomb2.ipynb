{
  "nbformat": 4,
  "nbformat_minor": 0,
  "metadata": {
    "colab": {
      "name": "permcomb.ipynb",
      "provenance": [],
      "authorship_tag": "ABX9TyO4hepgWPEJc3FmrWCJi+Dc",
      "include_colab_link": true
    },
    "kernelspec": {
      "name": "python3",
      "display_name": "Python 3"
    },
    "language_info": {
      "name": "python"
    }
  },
  "cells": [
    {
      "cell_type": "markdown",
      "metadata": {
        "id": "view-in-github",
        "colab_type": "text"
      },
      "source": [
        "<a href=\"https://colab.research.google.com/github/jumbokh/python_learn/blob/master/notebooks/permcomb2.ipynb\" target=\"_parent\"><img src=\"https://colab.research.google.com/assets/colab-badge.svg\" alt=\"Open In Colab\"/></a>"
      ]
    },
    {
      "cell_type": "code",
      "source": [
        "n=5\n",
        "k=2"
      ],
      "metadata": {
        "id": "i-cCK8orMqKd"
      },
      "execution_count": 1,
      "outputs": []
    },
    {
      "cell_type": "code",
      "source": [
        "from itertools import permutations"
      ],
      "metadata": {
        "id": "jX5PhEn3NrIJ"
      },
      "execution_count": 2,
      "outputs": []
    },
    {
      "cell_type": "code",
      "source": [
        "print(list(permutations(\"ABCD\",2)))"
      ],
      "metadata": {
        "colab": {
          "base_uri": "https://localhost:8080/"
        },
        "id": "PdCMMFabOD1Z",
        "outputId": "6dd69cff-8763-44d9-9614-2647f4c41485"
      },
      "execution_count": 3,
      "outputs": [
        {
          "output_type": "stream",
          "name": "stdout",
          "text": [
            "[('A', 'B'), ('A', 'C'), ('A', 'D'), ('B', 'A'), ('B', 'C'), ('B', 'D'), ('C', 'A'), ('C', 'B'), ('C', 'D'), ('D', 'A'), ('D', 'B'), ('D', 'C')]\n"
          ]
        }
      ]
    },
    {
      "cell_type": "code",
      "source": [
        "from scipy.special import comb, perm"
      ],
      "metadata": {
        "id": "QqpwJXtQOJkZ"
      },
      "execution_count": 4,
      "outputs": []
    },
    {
      "cell_type": "code",
      "source": [
        "perm(3, 2) # 有序"
      ],
      "metadata": {
        "colab": {
          "base_uri": "https://localhost:8080/"
        },
        "id": "5fWE9eUeOlQA",
        "outputId": "ba610cb3-2a0e-4f93-830d-749aa39cc77a"
      },
      "execution_count": 5,
      "outputs": [
        {
          "output_type": "execute_result",
          "data": {
            "text/plain": [
              "6.0"
            ]
          },
          "metadata": {},
          "execution_count": 5
        }
      ]
    },
    {
      "cell_type": "code",
      "source": [
        "comb(3, 2) # 无序"
      ],
      "metadata": {
        "colab": {
          "base_uri": "https://localhost:8080/"
        },
        "id": "YIyDm-BuOujY",
        "outputId": "800acc51-0e80-4e07-b538-239b118327ad"
      },
      "execution_count": 6,
      "outputs": [
        {
          "output_type": "execute_result",
          "data": {
            "text/plain": [
              "3.0"
            ]
          },
          "metadata": {},
          "execution_count": 6
        }
      ]
    },
    {
      "cell_type": "code",
      "source": [
        "comb(n,k)"
      ],
      "metadata": {
        "colab": {
          "base_uri": "https://localhost:8080/"
        },
        "id": "jh9IxzX5O2O4",
        "outputId": "d53b1a80-365e-4338-da66-55435b4ff7de"
      },
      "execution_count": 7,
      "outputs": [
        {
          "output_type": "execute_result",
          "data": {
            "text/plain": [
              "10.0"
            ]
          },
          "metadata": {},
          "execution_count": 7
        }
      ]
    },
    {
      "cell_type": "code",
      "source": [
        "n = [5,6,7]"
      ],
      "metadata": {
        "id": "A-sbor37O504"
      },
      "execution_count": 8,
      "outputs": []
    },
    {
      "cell_type": "code",
      "source": [
        "for i in n:\n",
        "  print(comb(i,3))"
      ],
      "metadata": {
        "colab": {
          "base_uri": "https://localhost:8080/"
        },
        "id": "m3irYdjQPRXf",
        "outputId": "ef87258a-b4de-45cd-dd39-6cf82e92dc72"
      },
      "execution_count": 9,
      "outputs": [
        {
          "output_type": "stream",
          "name": "stdout",
          "text": [
            "10.0\n",
            "20.0\n",
            "35.0\n"
          ]
        }
      ]
    },
    {
      "cell_type": "code",
      "source": [
        "# 12台 3台故障, 買5台5台至少2台故障"
      ],
      "metadata": {
        "id": "t4aItyKSPYXW"
      },
      "execution_count": 10,
      "outputs": []
    },
    {
      "cell_type": "code",
      "source": [
        "print(comb(3,2)*comb(9,3)+comb(3,3)*comb(9,2))"
      ],
      "metadata": {
        "colab": {
          "base_uri": "https://localhost:8080/"
        },
        "id": "HsNE7-RiR-GU",
        "outputId": "4bf101ed-4136-4310-b462-a0f43581f819"
      },
      "execution_count": 11,
      "outputs": [
        {
          "output_type": "stream",
          "name": "stdout",
          "text": [
            "288.0\n"
          ]
        }
      ]
    },
    {
      "cell_type": "code",
      "source": [
        "print(comb(3,1)*comb(4,1)*comb(3,1))"
      ],
      "metadata": {
        "colab": {
          "base_uri": "https://localhost:8080/"
        },
        "id": "w3bojlsYSS4r",
        "outputId": "e2c916d0-2c2e-40fe-cb6e-3106ccd2854a"
      },
      "execution_count": 12,
      "outputs": [
        {
          "output_type": "stream",
          "name": "stdout",
          "text": [
            "36.0\n"
          ]
        }
      ]
    },
    {
      "cell_type": "code",
      "source": [
        "Ts = list([x for x in range(1,6)])\n",
        "print(Ts)"
      ],
      "metadata": {
        "id": "-cagvF59UA5Y",
        "colab": {
          "base_uri": "https://localhost:8080/"
        },
        "outputId": "16e7b427-4256-45be-cebe-dd9f969b6d20"
      },
      "execution_count": 13,
      "outputs": [
        {
          "output_type": "stream",
          "name": "stdout",
          "text": [
            "[1, 2, 3, 4, 5]\n"
          ]
        }
      ]
    },
    {
      "cell_type": "code",
      "source": [
        "tt = []\n",
        "for i in Ts:\n",
        "  n = 'TT'+str(i)\n",
        "  tt.append(n)\n",
        "print(tt)"
      ],
      "metadata": {
        "colab": {
          "base_uri": "https://localhost:8080/"
        },
        "id": "Pe1LiPVZpbxh",
        "outputId": "4f9c0f6c-21c8-4193-ffb1-a676c8c1cbfc"
      },
      "execution_count": 14,
      "outputs": [
        {
          "output_type": "stream",
          "name": "stdout",
          "text": [
            "['TT1', 'TT2', 'TT3', 'TT4', 'TT5']\n"
          ]
        }
      ]
    },
    {
      "cell_type": "code",
      "source": [
        "Ps = list([x for x in range(1,4)])\n",
        "print(Ps)"
      ],
      "metadata": {
        "colab": {
          "base_uri": "https://localhost:8080/"
        },
        "id": "ikJfSNH3qByI",
        "outputId": "c7c41f94-79a5-4249-d861-e5963fa768b0"
      },
      "execution_count": 15,
      "outputs": [
        {
          "output_type": "stream",
          "name": "stdout",
          "text": [
            "[1, 2, 3]\n"
          ]
        }
      ]
    },
    {
      "cell_type": "code",
      "source": [
        "PP = []\n",
        "for i in Ps:\n",
        "  n = 'PP'+str(i)\n",
        "  PP.append(n)\n",
        "print(PP)"
      ],
      "metadata": {
        "colab": {
          "base_uri": "https://localhost:8080/"
        },
        "id": "dG0bMELdrITG",
        "outputId": "0f23d32d-a153-4c6e-b423-c959869ac644"
      },
      "execution_count": 16,
      "outputs": [
        {
          "output_type": "stream",
          "name": "stdout",
          "text": [
            "['PP1', 'PP2', 'PP3']\n"
          ]
        }
      ]
    },
    {
      "cell_type": "code",
      "source": [
        "print(list(permutations(tt,1)))"
      ],
      "metadata": {
        "colab": {
          "base_uri": "https://localhost:8080/"
        },
        "id": "sgXrHu4jrU8H",
        "outputId": "cdcc660d-1729-43eb-99b1-4cf22268d0c7"
      },
      "execution_count": 17,
      "outputs": [
        {
          "output_type": "stream",
          "name": "stdout",
          "text": [
            "[('TT1',), ('TT2',), ('TT3',), ('TT4',), ('TT5',)]\n"
          ]
        }
      ]
    },
    {
      "cell_type": "code",
      "source": [
        "def product(*args, repeat=1):\n",
        "    # product('ABCD', 'xy') --> Ax Ay Bx By Cx Cy Dx Dy\n",
        "    # product(range(2), repeat=3) --> 000 001 010 011 100 101 110 111\n",
        "    pools = [tuple(pool) for pool in args] * repeat\n",
        "    result = [[]]\n",
        "    for pool in pools:\n",
        "        result = [x+[y] for x in result for y in pool]\n",
        "    for prod in result:\n",
        "        yield tuple(prod)"
      ],
      "metadata": {
        "id": "0pJcQojoris2"
      },
      "execution_count": 18,
      "outputs": []
    },
    {
      "cell_type": "code",
      "source": [
        "xx = product(PP,tt)"
      ],
      "metadata": {
        "id": "HTyPeY2fMqkU"
      },
      "execution_count": 19,
      "outputs": []
    },
    {
      "cell_type": "code",
      "source": [
        "print(xx)"
      ],
      "metadata": {
        "colab": {
          "base_uri": "https://localhost:8080/"
        },
        "id": "usnNUejBM1-a",
        "outputId": "c29b7eed-6cd6-4bae-ec76-a6b2e033ec15"
      },
      "execution_count": 20,
      "outputs": [
        {
          "output_type": "stream",
          "name": "stdout",
          "text": [
            "<generator object product at 0x7f7a1586ff50>\n"
          ]
        }
      ]
    },
    {
      "cell_type": "code",
      "source": [
        "xs = []\n",
        "for x1,x2 in xx:\n",
        "   xs.append([x1,x2])\n",
        "   print(x1,x2)"
      ],
      "metadata": {
        "colab": {
          "base_uri": "https://localhost:8080/"
        },
        "id": "6mAjQTRdNlDx",
        "outputId": "c2bfef7e-7fb9-41ca-9558-dd641fac8dd4"
      },
      "execution_count": 21,
      "outputs": [
        {
          "output_type": "stream",
          "name": "stdout",
          "text": [
            "PP1 TT1\n",
            "PP1 TT2\n",
            "PP1 TT3\n",
            "PP1 TT4\n",
            "PP1 TT5\n",
            "PP2 TT1\n",
            "PP2 TT2\n",
            "PP2 TT3\n",
            "PP2 TT4\n",
            "PP2 TT5\n",
            "PP3 TT1\n",
            "PP3 TT2\n",
            "PP3 TT3\n",
            "PP3 TT4\n",
            "PP3 TT5\n"
          ]
        }
      ]
    },
    {
      "cell_type": "code",
      "source": [
        "print(xs)"
      ],
      "metadata": {
        "colab": {
          "base_uri": "https://localhost:8080/"
        },
        "id": "xSY2OSstNqzC",
        "outputId": "007e8b36-1178-419b-ea7f-4dab56f8d5ee"
      },
      "execution_count": 22,
      "outputs": [
        {
          "output_type": "stream",
          "name": "stdout",
          "text": [
            "[['PP1', 'TT1'], ['PP1', 'TT2'], ['PP1', 'TT3'], ['PP1', 'TT4'], ['PP1', 'TT5'], ['PP2', 'TT1'], ['PP2', 'TT2'], ['PP2', 'TT3'], ['PP2', 'TT4'], ['PP2', 'TT5'], ['PP3', 'TT1'], ['PP3', 'TT2'], ['PP3', 'TT3'], ['PP3', 'TT4'], ['PP3', 'TT5']]\n"
          ]
        }
      ]
    },
    {
      "cell_type": "code",
      "source": [
        "print(list(permutations(\"135\",2)))"
      ],
      "metadata": {
        "id": "rzc9U85FO9h3",
        "outputId": "1aeafc33-d45a-4edf-99c5-b16852152514",
        "colab": {
          "base_uri": "https://localhost:8080/"
        }
      },
      "execution_count": 23,
      "outputs": [
        {
          "output_type": "stream",
          "name": "stdout",
          "text": [
            "[('1', '3'), ('1', '5'), ('3', '1'), ('3', '5'), ('5', '1'), ('5', '3')]\n"
          ]
        }
      ]
    },
    {
      "cell_type": "code",
      "source": [
        "n = [1,2,3,4,5,6]\n",
        "for i in n:\n",
        "  print(comb(i,2))"
      ],
      "metadata": {
        "id": "kcvog2yZ_bp3",
        "outputId": "7b63dd40-c5ef-4b32-e1a4-fb0667db1401",
        "colab": {
          "base_uri": "https://localhost:8080/"
        }
      },
      "execution_count": 24,
      "outputs": [
        {
          "output_type": "stream",
          "name": "stdout",
          "text": [
            "0.0\n",
            "1.0\n",
            "3.0\n",
            "6.0\n",
            "10.0\n",
            "15.0\n"
          ]
        }
      ]
    },
    {
      "cell_type": "code",
      "source": [
        "s1 = []\n",
        "for i in range(1,7):\n",
        "  n = str(i)\n",
        "  s1.append(n)\n",
        "print(s1)\n",
        "s2 = s1.copy()\n",
        "print(s2)"
      ],
      "metadata": {
        "id": "3xrpAUu4AL9Q",
        "outputId": "332e23db-ce95-49f4-b218-558cf1787acd",
        "colab": {
          "base_uri": "https://localhost:8080/"
        }
      },
      "execution_count": 26,
      "outputs": [
        {
          "output_type": "stream",
          "name": "stdout",
          "text": [
            "['1', '2', '3', '4', '5', '6']\n",
            "['1', '2', '3', '4', '5', '6']\n"
          ]
        }
      ]
    },
    {
      "cell_type": "code",
      "source": [
        "yy = product(s1,s2)\n",
        "print(yy)"
      ],
      "metadata": {
        "id": "k9lFdmCoA08-",
        "outputId": "d523c95b-dde5-49f6-bb3a-13afb721ff00",
        "colab": {
          "base_uri": "https://localhost:8080/"
        }
      },
      "execution_count": 33,
      "outputs": [
        {
          "output_type": "stream",
          "name": "stdout",
          "text": [
            "<generator object product at 0x7f7a0ec793d0>\n"
          ]
        }
      ]
    },
    {
      "cell_type": "code",
      "source": [
        "result=[]\n",
        "for g,h in yy:\n",
        "  result.append([g,h])\n",
        "for ndx,val in enumerate(result):\n",
        "  print(ndx,val)"
      ],
      "metadata": {
        "id": "jV3Xgx8VBAFU",
        "outputId": "c91e78f4-bca4-42c9-db8e-a471969b86bd",
        "colab": {
          "base_uri": "https://localhost:8080/"
        }
      },
      "execution_count": 34,
      "outputs": [
        {
          "output_type": "stream",
          "name": "stdout",
          "text": [
            "0 ['1', '1']\n",
            "1 ['1', '2']\n",
            "2 ['1', '3']\n",
            "3 ['1', '4']\n",
            "4 ['1', '5']\n",
            "5 ['1', '6']\n",
            "6 ['2', '1']\n",
            "7 ['2', '2']\n",
            "8 ['2', '3']\n",
            "9 ['2', '4']\n",
            "10 ['2', '5']\n",
            "11 ['2', '6']\n",
            "12 ['3', '1']\n",
            "13 ['3', '2']\n",
            "14 ['3', '3']\n",
            "15 ['3', '4']\n",
            "16 ['3', '5']\n",
            "17 ['3', '6']\n",
            "18 ['4', '1']\n",
            "19 ['4', '2']\n",
            "20 ['4', '3']\n",
            "21 ['4', '4']\n",
            "22 ['4', '5']\n",
            "23 ['4', '6']\n",
            "24 ['5', '1']\n",
            "25 ['5', '2']\n",
            "26 ['5', '3']\n",
            "27 ['5', '4']\n",
            "28 ['5', '5']\n",
            "29 ['5', '6']\n",
            "30 ['6', '1']\n",
            "31 ['6', '2']\n",
            "32 ['6', '3']\n",
            "33 ['6', '4']\n",
            "34 ['6', '5']\n",
            "35 ['6', '6']\n"
          ]
        }
      ]
    },
    {
      "cell_type": "code",
      "source": [
        ""
      ],
      "metadata": {
        "id": "ktSM8DrQBEzl"
      },
      "execution_count": null,
      "outputs": []
    }
  ]
}