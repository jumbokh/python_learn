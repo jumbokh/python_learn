{
  "nbformat": 4,
  "nbformat_minor": 0,
  "metadata": {
    "colab": {
      "name": "scoreAna.ipynb",
      "provenance": [],
      "authorship_tag": "ABX9TyMRU6RnmA03Paadz+MtXKrx",
      "include_colab_link": true
    },
    "kernelspec": {
      "name": "python3",
      "display_name": "Python 3"
    },
    "language_info": {
      "name": "python"
    }
  },
  "cells": [
    {
      "cell_type": "markdown",
      "metadata": {
        "id": "view-in-github",
        "colab_type": "text"
      },
      "source": [
        "<a href=\"https://colab.research.google.com/github/jumbokh/python_learn/blob/master/notebooks/scoreAna.ipynb\" target=\"_parent\"><img src=\"https://colab.research.google.com/assets/colab-badge.svg\" alt=\"Open In Colab\"/></a>"
      ]
    },
    {
      "cell_type": "code",
      "execution_count": 1,
      "metadata": {
        "colab": {
          "base_uri": "https://localhost:8080/"
        },
        "id": "SzlrvPohAXdJ",
        "outputId": "a0d2c8ea-31fd-4197-b9c1-2664cfd534f0"
      },
      "outputs": [
        {
          "output_type": "stream",
          "name": "stdout",
          "text": [
            "[0, 0, 0, 0, 0, 2, 2, 2, 3, 3, 3, 3, 3, 4, 4, 4, 4, 5, 5, 5, 5, 6, 6, 7, 7, 7, 8, 9]\n"
          ]
        }
      ],
      "source": [
        "x = [3,9,4,5,6,0,7,8,5,3,2,3,4,7,2,0,2,6,7,4,0,0,5,5,3,0,3,4]\n",
        "y= sorted(x)\n",
        "print(y)"
      ]
    },
    {
      "cell_type": "code",
      "source": [
        "import numpy as np"
      ],
      "metadata": {
        "id": "GbqZOsYuAqD-"
      },
      "execution_count": 2,
      "outputs": []
    },
    {
      "cell_type": "code",
      "source": [
        "filen = \"st.txt\""
      ],
      "metadata": {
        "id": "DXM5uXOc5h_G"
      },
      "execution_count": 3,
      "outputs": []
    },
    {
      "cell_type": "code",
      "source": [
        "dt = np.loadtxt(filen,dtype=int)"
      ],
      "metadata": {
        "id": "D_uEvCf26ZWt"
      },
      "execution_count": 4,
      "outputs": []
    },
    {
      "cell_type": "code",
      "source": [
        "print(dt)"
      ],
      "metadata": {
        "id": "ydtdZMjN6nTz",
        "outputId": "d1f12721-83c6-4876-8fea-7c65f8d3ab2b",
        "colab": {
          "base_uri": "https://localhost:8080/"
        }
      },
      "execution_count": 5,
      "outputs": [
        {
          "output_type": "stream",
          "name": "stdout",
          "text": [
            "[46 61 37 37 38 70 56 36 45 30 69 56 64 70 70 70 36 56 19 56 26 70 70 23\n",
            " 70 39 70 67 65 67 65 64 70 53 62 60 16 57 70 38 30 59 56 56 64 70 59 66\n",
            " 49 54 67 42 20]\n"
          ]
        }
      ]
    },
    {
      "cell_type": "code",
      "source": [
        "mean = np.mean(dt)\n",
        "median = np.median(dt)\n"
      ],
      "metadata": {
        "id": "3ixpZ0mZ6uYi"
      },
      "execution_count": 6,
      "outputs": []
    },
    {
      "cell_type": "code",
      "source": [
        "\n",
        "import numpy as np \n",
        " \n",
        " \n",
        "arr = np.array(dt) \n",
        " \n",
        "# measures of central tendency\n",
        "aamean = np.mean(arr)\n",
        "aamedian = np.median(arr)\n",
        " \n",
        "# measures of dispersion\n",
        "aamin = np.amin(arr)\n",
        "aamax = np.amax(arr)\n",
        "range = np.ptp(arr)\n",
        "variance = np.var(arr)\n",
        "sd = np.std(arr)\n",
        " \n",
        "print(\"Descriptive analysis\")\n",
        "print(\"Array =\", arr)\n",
        "print(\"Measures of Central Tendency\")\n",
        "print(\"Mean =\", aamean)\n",
        "print(\"Median =\", aamedian)\n",
        "print(\"Measures of Dispersion\")\n",
        "print(\"Minimum =\", aamin)\n",
        "print(\"Maximum =\", aamax)\n",
        "print(\"Range =\", range)\n",
        "print(\"Variance =\", variance)\n",
        "print(\"Standard Deviation =\", sd)"
      ],
      "metadata": {
        "id": "43DcHXnO6wQq",
        "outputId": "2a800db6-9a29-4e6f-8f61-3427c2f7a5eb",
        "colab": {
          "base_uri": "https://localhost:8080/"
        }
      },
      "execution_count": 7,
      "outputs": [
        {
          "output_type": "stream",
          "name": "stdout",
          "text": [
            "Descriptive analysis\n",
            "Array = [46 61 37 37 38 70 56 36 45 30 69 56 64 70 70 70 36 56 19 56 26 70 70 23\n",
            " 70 39 70 67 65 67 65 64 70 53 62 60 16 57 70 38 30 59 56 56 64 70 59 66\n",
            " 49 54 67 42 20]\n",
            "Measures of Central Tendency\n",
            "Mean = 53.509433962264154\n",
            "Median = 57.0\n",
            "Measures of Dispersion\n",
            "Minimum = 16\n",
            "Maximum = 70\n",
            "Range = 54\n",
            "Variance = 253.8348166607333\n",
            "Standard Deviation = 15.9321943454357\n"
          ]
        }
      ]
    },
    {
      "cell_type": "code",
      "source": [
        "smax = aamean + sd*2\n",
        "smin = aamean - sd*2\n",
        "s = [d for d in arr if d > smin and d<smax]"
      ],
      "metadata": {
        "id": "W9HsQ_xJ7V70"
      },
      "execution_count": 8,
      "outputs": []
    },
    {
      "cell_type": "code",
      "source": [
        "print(np.sort(s))"
      ],
      "metadata": {
        "id": "cVzldyHb8dWq",
        "outputId": "cc5ebf71-b7bf-463b-9257-6e7d3628caa7",
        "colab": {
          "base_uri": "https://localhost:8080/"
        }
      },
      "execution_count": 9,
      "outputs": [
        {
          "output_type": "stream",
          "name": "stdout",
          "text": [
            "[23 26 30 30 36 36 37 37 38 38 39 42 45 46 49 53 54 56 56 56 56 56 56 57\n",
            " 59 59 60 61 62 64 64 64 65 65 66 67 67 67 69 70 70 70 70 70 70 70 70 70\n",
            " 70 70]\n"
          ]
        }
      ]
    },
    {
      "cell_type": "code",
      "source": [
        "print(len(s))"
      ],
      "metadata": {
        "id": "SAefOR258ecX",
        "outputId": "46b527e5-37b1-4bcd-8c57-f443854a7f7e",
        "colab": {
          "base_uri": "https://localhost:8080/"
        }
      },
      "execution_count": 10,
      "outputs": [
        {
          "output_type": "stream",
          "name": "stdout",
          "text": [
            "50\n"
          ]
        }
      ]
    },
    {
      "cell_type": "code",
      "source": [
        "print(len(arr))"
      ],
      "metadata": {
        "id": "g3Tq_ivt8hWm",
        "outputId": "c3912e64-531d-4f0f-8a83-0b6b64776dc9",
        "colab": {
          "base_uri": "https://localhost:8080/"
        }
      },
      "execution_count": 11,
      "outputs": [
        {
          "output_type": "stream",
          "name": "stdout",
          "text": [
            "53\n"
          ]
        }
      ]
    },
    {
      "cell_type": "code",
      "source": [
        "print(len(s)/len(arr))"
      ],
      "metadata": {
        "id": "Fzy_29h48kgm",
        "outputId": "7a792793-63ab-44af-9fb7-1a10804679c3",
        "colab": {
          "base_uri": "https://localhost:8080/"
        }
      },
      "execution_count": 12,
      "outputs": [
        {
          "output_type": "stream",
          "name": "stdout",
          "text": [
            "0.9433962264150944\n"
          ]
        }
      ]
    },
    {
      "cell_type": "code",
      "source": [
        "from matplotlib import pyplot as plt"
      ],
      "metadata": {
        "id": "5ys-0b5O88AI"
      },
      "execution_count": 13,
      "outputs": []
    },
    {
      "cell_type": "code",
      "source": [
        "x = np.arange(len(arr))"
      ],
      "metadata": {
        "id": "pixcsW2q9bKl"
      },
      "execution_count": 14,
      "outputs": []
    },
    {
      "cell_type": "code",
      "source": [
        "print(x)"
      ],
      "metadata": {
        "id": "NhMupWCy9j4d",
        "outputId": "9124db6e-e880-40c7-840a-c78afc871649",
        "colab": {
          "base_uri": "https://localhost:8080/"
        }
      },
      "execution_count": 15,
      "outputs": [
        {
          "output_type": "stream",
          "name": "stdout",
          "text": [
            "[ 0  1  2  3  4  5  6  7  8  9 10 11 12 13 14 15 16 17 18 19 20 21 22 23\n",
            " 24 25 26 27 28 29 30 31 32 33 34 35 36 37 38 39 40 41 42 43 44 45 46 47\n",
            " 48 49 50 51 52]\n"
          ]
        }
      ]
    },
    {
      "cell_type": "code",
      "source": [
        "y = np.sort(arr)\n",
        "print(y)"
      ],
      "metadata": {
        "id": "vig8SesE9xZE",
        "outputId": "bcccb583-dc29-4e1d-e947-9ea624ff74a4",
        "colab": {
          "base_uri": "https://localhost:8080/"
        }
      },
      "execution_count": 16,
      "outputs": [
        {
          "output_type": "stream",
          "name": "stdout",
          "text": [
            "[16 19 20 23 26 30 30 36 36 37 37 38 38 39 42 45 46 49 53 54 56 56 56 56\n",
            " 56 56 57 59 59 60 61 62 64 64 64 65 65 66 67 67 67 69 70 70 70 70 70 70\n",
            " 70 70 70 70 70]\n"
          ]
        }
      ]
    },
    {
      "cell_type": "code",
      "source": [
        "plt.plot(x,y)"
      ],
      "metadata": {
        "id": "flAxze1i934G",
        "outputId": "fa19898d-c3d8-41d4-dcdd-39212f140b7a",
        "colab": {
          "base_uri": "https://localhost:8080/",
          "height": 282
        }
      },
      "execution_count": 17,
      "outputs": [
        {
          "output_type": "execute_result",
          "data": {
            "text/plain": [
              "[<matplotlib.lines.Line2D at 0x7f1b50b982d0>]"
            ]
          },
          "metadata": {},
          "execution_count": 17
        },
        {
          "output_type": "display_data",
          "data": {
            "text/plain": [
              "<Figure size 432x288 with 1 Axes>"
            ],
            "image/png": "[encoded data removed]"
          },
          "metadata": {
            "needs_background": "light"
          }
        }
      ]
    },
    {
      "cell_type": "code",
      "source": [
        "print(type(y))"
      ],
      "metadata": {
        "id": "BH1OtfUkF7WW",
        "outputId": "240a562d-889c-4aea-f74c-73dc1ddef579",
        "colab": {
          "base_uri": "https://localhost:8080/"
        }
      },
      "execution_count": 18,
      "outputs": [
        {
          "output_type": "stream",
          "name": "stdout",
          "text": [
            "<class 'numpy.ndarray'>\n"
          ]
        }
      ]
    },
    {
      "cell_type": "code",
      "source": [
        "y1 = []\n",
        "for i in y:\n",
        "  yy = abs(i-mean)/sd\n",
        "  y1.append(yy)\n",
        "print(y1)\n",
        "y1 = np.sort(y1)"
      ],
      "metadata": {
        "id": "mb88ztFgEzOm",
        "outputId": "6b13e682-0881-433a-d21a-f1b1957be43e",
        "colab": {
          "base_uri": "https://localhost:8080/"
        }
      },
      "execution_count": 19,
      "outputs": [
        {
          "output_type": "stream",
          "name": "stdout",
          "text": [
            "[2.3543168724281824, 2.1660188931947415, 2.1032529001169276, 1.9149549208834866, 1.7266569416500455, 1.4755929693387906, 1.4755929693387906, 1.0989970108719083, 1.0989970108719083, 1.0362310177940945, 1.0362310177940945, 0.9734650247162808, 0.9734650247162808, 0.9106990316384671, 0.722401052405026, 0.5341030731715848, 0.4713370800937711, 0.28303910086032996, 0.03197512854907512, 0.030790864528738603, 0.15632285068436602, 0.15632285068436602, 0.15632285068436602, 0.15632285068436602, 0.15632285068436602, 0.15632285068436602, 0.21908884376217974, 0.3446208299178072, 0.3446208299178072, 0.4073868229956209, 0.4701528160734346, 0.5329188091512483, 0.6584507953068758, 0.6584507953068758, 0.6584507953068758, 0.7212167883846895, 0.7212167883846895, 0.7839827814625032, 0.8467487745403169, 0.8467487745403169, 0.8467487745403169, 0.9722807606959444, 1.035046753773758, 1.035046753773758, 1.035046753773758, 1.035046753773758, 1.035046753773758, 1.035046753773758, 1.035046753773758, 1.035046753773758, 1.035046753773758, 1.035046753773758, 1.035046753773758]\n"
          ]
        }
      ]
    },
    {
      "cell_type": "code",
      "source": [
        "plt.plot(x,y1)"
      ],
      "metadata": {
        "id": "2VCkt87jFkXF",
        "outputId": "5d0bca2e-ad8d-48ce-d710-bcf42232f01a",
        "colab": {
          "base_uri": "https://localhost:8080/",
          "height": 282
        }
      },
      "execution_count": 20,
      "outputs": [
        {
          "output_type": "execute_result",
          "data": {
            "text/plain": [
              "[<matplotlib.lines.Line2D at 0x7f1b50624e50>]"
            ]
          },
          "metadata": {},
          "execution_count": 20
        },
        {
          "output_type": "display_data",
          "data": {
            "text/plain": [
              "<Figure size 432x288 with 1 Axes>"
            ],
            "image/png": "[encoded data removed]"
          },
          "metadata": {
            "needs_background": "light"
          }
        }
      ]
    },
    {
      "cell_type": "code",
      "source": [
        "filen1 = 'adj.txt'\n",
        "dt1 = np.loadtxt(filen1,dtype=int)"
      ],
      "metadata": {
        "id": "RjfRL0LMGN5r"
      },
      "execution_count": 21,
      "outputs": []
    },
    {
      "cell_type": "code",
      "source": [
        "print(np.sort(dt1))"
      ],
      "metadata": {
        "id": "ZNxpMR1eHO3R",
        "outputId": "8702981c-cb3f-48af-abc7-c1137b698e54",
        "colab": {
          "base_uri": "https://localhost:8080/"
        }
      },
      "execution_count": 22,
      "outputs": [
        {
          "output_type": "stream",
          "name": "stdout",
          "text": [
            "[ 46  49  50  53  56  60  60  66  66  67  67  68  68  69  72  75  76  79\n",
            "  83  84  86  86  86  86  86  86  87  89  89  90  91  92  94  94  94  95\n",
            "  95  96  97  97  97  99 100 100 100 100 100 100 100 100 100 100 100]\n"
          ]
        }
      ]
    },
    {
      "cell_type": "code",
      "source": [
        "filen2 = 'final.txt'\n",
        "dt2 = np.loadtxt(filen2,dtype=int)\n",
        "dt2 = np.sort(dt2)"
      ],
      "metadata": {
        "id": "7uYd_8QnHaBR"
      },
      "execution_count": 23,
      "outputs": []
    },
    {
      "cell_type": "code",
      "source": [
        "print(dt2)"
      ],
      "metadata": {
        "id": "4vYQnSd7H9R6",
        "outputId": "ddd29816-4ddd-435f-feda-fe1b4fe11b67",
        "colab": {
          "base_uri": "https://localhost:8080/"
        }
      },
      "execution_count": 24,
      "outputs": [
        {
          "output_type": "stream",
          "name": "stdout",
          "text": [
            "[40 44 45 47 51 55 55 60 60 61 61 62 62 63 65 67 68 70 73 74 75 75 75 75\n",
            " 75 75 75 77 77 78 78 79 80 80 80 81 81 81 82 82 82 83 83 84 84 84 84 84\n",
            " 84 84 84 84 84]\n"
          ]
        }
      ]
    },
    {
      "cell_type": "code",
      "source": [
        "plt.plot(x,dt2)"
      ],
      "metadata": {
        "id": "8mKWw1B1H-sH",
        "outputId": "4451832c-1e32-46da-823e-c7ac4677a7d2",
        "colab": {
          "base_uri": "https://localhost:8080/",
          "height": 282
        }
      },
      "execution_count": 25,
      "outputs": [
        {
          "output_type": "execute_result",
          "data": {
            "text/plain": [
              "[<matplotlib.lines.Line2D at 0x7f1b505f3690>]"
            ]
          },
          "metadata": {},
          "execution_count": 25
        },
        {
          "output_type": "display_data",
          "data": {
            "text/plain": [
              "<Figure size 432x288 with 1 Axes>"
            ],
            "image/png": "[encoded data removed]"
          },
          "metadata": {
            "needs_background": "light"
          }
        }
      ]
    },
    {
      "cell_type": "code",
      "source": [
        "x1= np.max(dt2)\n",
        "x2= np.min(dt2)\n",
        "r = x1-x2\n",
        "print(x1,x2,r)"
      ],
      "metadata": {
        "id": "HQRpJIRYILSv",
        "outputId": "37d3b2de-e6bf-491e-836c-53d091207ded",
        "colab": {
          "base_uri": "https://localhost:8080/"
        }
      },
      "execution_count": 26,
      "outputs": [
        {
          "output_type": "stream",
          "name": "stdout",
          "text": [
            "84 40 44\n"
          ]
        }
      ]
    },
    {
      "cell_type": "code",
      "source": [
        "import math\n",
        "N = np.size(dt2)\n",
        "k = 1 + math.log(N)/math.log(2)\n",
        "k = int(math.floor(k))\n",
        "klong = r/k\n",
        "klong = math.ceil(klong)\n",
        "print(klong)"
      ],
      "metadata": {
        "id": "19V3XXLhIgMO",
        "outputId": "83e6e341-6d7f-4fc0-dfce-0679ae53f208",
        "colab": {
          "base_uri": "https://localhost:8080/"
        }
      },
      "execution_count": 27,
      "outputs": [
        {
          "output_type": "stream",
          "name": "stdout",
          "text": [
            "8\n"
          ]
        }
      ]
    },
    {
      "cell_type": "code",
      "source": [
        "print(k)"
      ],
      "metadata": {
        "id": "KWXeyWYqJsn6",
        "outputId": "2b431734-59fe-4897-a465-d9ce35ca8f17",
        "colab": {
          "base_uri": "https://localhost:8080/"
        }
      },
      "execution_count": 28,
      "outputs": [
        {
          "output_type": "stream",
          "name": "stdout",
          "text": [
            "6\n"
          ]
        }
      ]
    },
    {
      "cell_type": "code",
      "source": [
        "start = x2 - 0.5\n",
        "dt2 = np.sort(dt2)\n",
        "n=0\n",
        "#print(dat)\n",
        "grp=[]\n",
        "while n<k:\n",
        "  #print(start,start+klong)\n",
        "  grp.append((start,start+klong))\n",
        "  start = start+klong\n",
        "  n = n+1\n",
        "print(grp)"
      ],
      "metadata": {
        "id": "hjMFDnh6JLlA",
        "outputId": "c9a2b6cb-5f21-4b46-ab23-9ccdbd90caa7",
        "colab": {
          "base_uri": "https://localhost:8080/"
        }
      },
      "execution_count": 29,
      "outputs": [
        {
          "output_type": "stream",
          "name": "stdout",
          "text": [
            "[(39.5, 47.5), (47.5, 55.5), (55.5, 63.5), (63.5, 71.5), (71.5, 79.5), (79.5, 87.5)]\n"
          ]
        }
      ]
    },
    {
      "cell_type": "code",
      "source": [
        "def count_number(n1,n2,nlist):\n",
        "  count = 0\n",
        "  r1 = int(v1)\n",
        "  r2 = int(v2)\n",
        "  for v in nlist:\n",
        "    if v >= r1 and v <= r2:\n",
        "      count = count+1\n",
        "  return count"
      ],
      "metadata": {
        "id": "R6n_YoLZIyU2"
      },
      "execution_count": 30,
      "outputs": []
    },
    {
      "cell_type": "code",
      "source": [
        "xx=[]\n",
        "yy=[]\n",
        "for v1,v2 in grp:\n",
        "  c = count_number(v1,v2,dt2)\n",
        "  yy.append(c)\n",
        "  yy.append(c)\n",
        "  xx.append(v1)\n",
        "  xx.append(v2)\n",
        "  print(\"{0:}\\t{1:}\\t{2:}\\t{3:.0%}\".format(v1,v2,c,c/N))"
      ],
      "metadata": {
        "id": "Nk2NNgt5I63l",
        "outputId": "0051312f-47da-4cd5-9dc0-0dff0bf69b68",
        "colab": {
          "base_uri": "https://localhost:8080/"
        }
      },
      "execution_count": 31,
      "outputs": [
        {
          "output_type": "stream",
          "name": "stdout",
          "text": [
            "39.5\t47.5\t4\t8%\n",
            "47.5\t55.5\t4\t8%\n",
            "55.5\t63.5\t9\t17%\n",
            "63.5\t71.5\t5\t9%\n",
            "71.5\t79.5\t14\t26%\n",
            "79.5\t87.5\t22\t42%\n"
          ]
        }
      ]
    },
    {
      "cell_type": "code",
      "source": [
        "print(xx)\n",
        "print(yy)"
      ],
      "metadata": {
        "id": "WIkfHJmPMPtv",
        "outputId": "c451cc0c-bfb8-4f09-b0da-05967c2421da",
        "colab": {
          "base_uri": "https://localhost:8080/"
        }
      },
      "execution_count": 32,
      "outputs": [
        {
          "output_type": "stream",
          "name": "stdout",
          "text": [
            "[39.5, 47.5, 47.5, 55.5, 55.5, 63.5, 63.5, 71.5, 71.5, 79.5, 79.5, 87.5]\n",
            "[4, 4, 4, 4, 9, 9, 5, 5, 14, 14, 22, 22]\n"
          ]
        }
      ]
    },
    {
      "cell_type": "code",
      "source": [
        "plt.hist(dt2, bins = 6)\n",
        "plt.show()"
      ],
      "metadata": {
        "id": "wHEcOOAEMgdP",
        "outputId": "ea788c3e-5e92-4a1e-9108-4777b43cc644",
        "colab": {
          "base_uri": "https://localhost:8080/",
          "height": 265
        }
      },
      "execution_count": 33,
      "outputs": [
        {
          "output_type": "display_data",
          "data": {
            "text/plain": [
              "<Figure size 432x288 with 1 Axes>"
            ],
            "image/png": "[encoded data removed]"
          },
          "metadata": {
            "needs_background": "light"
          }
        }
      ]
    },
    {
      "cell_type": "code",
      "source": [
        "plt.hist(dt2, bins = [39.5,47.5,55.5,63.5,71.5,79.5,87.5])\n",
        "plt.show()"
      ],
      "metadata": {
        "id": "lNUC4jeaNHAu",
        "outputId": "fa5c9008-ba87-4336-8bc7-140f63cea781",
        "colab": {
          "base_uri": "https://localhost:8080/",
          "height": 265
        }
      },
      "execution_count": 34,
      "outputs": [
        {
          "output_type": "display_data",
          "data": {
            "text/plain": [
              "<Figure size 432x288 with 1 Axes>"
            ],
            "image/png": "[encoded data removed]"
          },
          "metadata": {
            "needs_background": "light"
          }
        }
      ]
    },
    {
      "cell_type": "code",
      "source": [
        "print(dt2)"
      ],
      "metadata": {
        "id": "rOo-EzfDN5Ch",
        "outputId": "545bc30f-2d2b-49e4-a2fd-59d609e9d7fb",
        "colab": {
          "base_uri": "https://localhost:8080/"
        }
      },
      "execution_count": 35,
      "outputs": [
        {
          "output_type": "stream",
          "name": "stdout",
          "text": [
            "[40 44 45 47 51 55 55 60 60 61 61 62 62 63 65 67 68 70 73 74 75 75 75 75\n",
            " 75 75 75 77 77 78 78 79 80 80 80 81 81 81 82 82 82 83 83 84 84 84 84 84\n",
            " 84 84 84 84 84]\n"
          ]
        }
      ]
    },
    {
      "cell_type": "code",
      "source": [
        "x1= np.max(dt)\n",
        "x2= np.min(dt)\n",
        "r = x1-x2\n",
        "print(x1,x2,r)"
      ],
      "metadata": {
        "id": "8nA4iMyoQ4mr",
        "outputId": "fec5e36d-a1d3-4864-8515-5a02713c41fa",
        "colab": {
          "base_uri": "https://localhost:8080/"
        }
      },
      "execution_count": 36,
      "outputs": [
        {
          "output_type": "stream",
          "name": "stdout",
          "text": [
            "70 16 54\n"
          ]
        }
      ]
    },
    {
      "cell_type": "code",
      "source": [
        "start = x2 - 0.5\n",
        "dt = np.sort(dt)\n",
        "n=0\n",
        "#print(dat)\n",
        "grp=[]\n",
        "while n<k+1:\n",
        "  #print(start,start+klong)\n",
        "  grp.append((start,start+klong))\n",
        "  start = start+klong\n",
        "  n = n+1\n",
        "print(grp)"
      ],
      "metadata": {
        "id": "_o_QOHs3Qdtu",
        "outputId": "df9b86db-9c13-4f8f-fa2f-397dcd80fb7d",
        "colab": {
          "base_uri": "https://localhost:8080/"
        }
      },
      "execution_count": 37,
      "outputs": [
        {
          "output_type": "stream",
          "name": "stdout",
          "text": [
            "[(15.5, 23.5), (23.5, 31.5), (31.5, 39.5), (39.5, 47.5), (47.5, 55.5), (55.5, 63.5), (63.5, 71.5)]\n"
          ]
        }
      ]
    },
    {
      "cell_type": "code",
      "source": [
        "xx=[]\n",
        "yy=[]\n",
        "total=0\n",
        "for v1,v2 in grp:\n",
        "  c = count_number(v1,v2,dt)\n",
        "  yy.append(c)\n",
        "  yy.append(c)\n",
        "  xx.append(v1)\n",
        "  xx.append(v2)\n",
        "  total = total+c\n",
        "  print(\"{0:}\\t{1:}\\t{2:}\\t{3:.0%}\".format(v1,v2,c,c/N))\n",
        "print(total)"
      ],
      "metadata": {
        "id": "xx116AT3RhHe",
        "outputId": "4a93f36a-cd26-4b98-dfc0-724911a72c9b",
        "colab": {
          "base_uri": "https://localhost:8080/"
        }
      },
      "execution_count": 38,
      "outputs": [
        {
          "output_type": "stream",
          "name": "stdout",
          "text": [
            "15.5\t23.5\t4\t8%\n",
            "23.5\t31.5\t4\t8%\n",
            "31.5\t39.5\t7\t13%\n",
            "39.5\t47.5\t4\t8%\n",
            "47.5\t55.5\t3\t6%\n",
            "55.5\t63.5\t12\t23%\n",
            "63.5\t71.5\t21\t40%\n",
            "55\n"
          ]
        }
      ]
    },
    {
      "cell_type": "code",
      "source": [
        "plt.hist(dt, bins = [15.5,23.5,31.5,39.5,47.5,55.5,63.5,71.5])\n",
        "plt.show()"
      ],
      "metadata": {
        "id": "YpDb57PJRDu-",
        "outputId": "91cefa2e-2c62-4e82-9b96-ee1c82be54c6",
        "colab": {
          "base_uri": "https://localhost:8080/",
          "height": 265
        }
      },
      "execution_count": 39,
      "outputs": [
        {
          "output_type": "display_data",
          "data": {
            "text/plain": [
              "<Figure size 432x288 with 1 Axes>"
            ],
            "image/png": "[encoded data removed]"
          },
          "metadata": {
            "needs_background": "light"
          }
        }
      ]
    },
    {
      "cell_type": "code",
      "source": [
        "#!pip install stemgraphic"
      ],
      "metadata": {
        "id": "UdUaT3P6SJ0L"
      },
      "execution_count": 40,
      "outputs": []
    },
    {
      "cell_type": "code",
      "source": [
        "import stemgraphic"
      ],
      "metadata": {
        "id": "LXaMEEgQVRWN"
      },
      "execution_count": 41,
      "outputs": []
    },
    {
      "cell_type": "code",
      "source": [
        "stemgraphic.stem_graphic(dt, scale = 10)"
      ],
      "metadata": {
        "colab": {
          "base_uri": "https://localhost:8080/",
          "height": 228
        },
        "id": "c0EnPxCsVXGE",
        "outputId": "3af2b1ad-a1f1-41ee-e93d-3aed78ebd556"
      },
      "execution_count": 44,
      "outputs": [
        {
          "output_type": "execute_result",
          "data": {
            "text/plain": [
              "(<Figure size 540x180 with 1 Axes>,\n",
              " <matplotlib.axes._axes.Axes at 0x7f1b3ba7b410>)"
            ]
          },
          "metadata": {},
          "execution_count": 44
        },
        {
          "output_type": "display_data",
          "data": {
            "text/plain": [
              "<Figure size 540x180 with 1 Axes>"
            ],
            "image/png": "[encoded data removed]"
          },
          "metadata": {
            "needs_background": "light"
          }
        }
      ]
    },
    {
      "cell_type": "code",
      "source": [
        "stemgraphic.stem_graphic(dt2, scale = 10)"
      ],
      "metadata": {
        "colab": {
          "base_uri": "https://localhost:8080/",
          "height": 202
        },
        "id": "RcwvUAL_Vd9r",
        "outputId": "8f3644ec-dc1b-4dda-d698-6b1ce2b05475"
      },
      "execution_count": 45,
      "outputs": [
        {
          "output_type": "execute_result",
          "data": {
            "text/plain": [
              "(<Figure size 540x144 with 1 Axes>,\n",
              " <matplotlib.axes._axes.Axes at 0x7f1b3b8d31d0>)"
            ]
          },
          "metadata": {},
          "execution_count": 45
        },
        {
          "output_type": "display_data",
          "data": {
            "text/plain": [
              "<Figure size 540x144 with 1 Axes>"
            ],
            "image/png": "[encoded data removed]"
          },
          "metadata": {
            "needs_background": "light"
          }
        }
      ]
    },
    {
      "cell_type": "code",
      "source": [
        ""
      ],
      "metadata": {
        "id": "ef0WlfJbXiZI"
      },
      "execution_count": null,
      "outputs": []
    }
  ]
}