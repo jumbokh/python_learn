{
  "nbformat": 4,
  "nbformat_minor": 0,
  "metadata": {
    "colab": {
      "name": "scoreAna.ipynb",
      "provenance": [],
      "authorship_tag": "ABX9TyO6hPWJ39s2pSWXb01V7YZJ",
      "include_colab_link": true
    },
    "kernelspec": {
      "name": "python3",
      "display_name": "Python 3"
    },
    "language_info": {
      "name": "python"
    }
  },
  "cells": [
    {
      "cell_type": "markdown",
      "metadata": {
        "id": "view-in-github",
        "colab_type": "text"
      },
      "source": [
        "<a href=\"https://colab.research.google.com/github/jumbokh/python_learn/blob/master/notebooks/scoreAna.ipynb\" target=\"_parent\"><img src=\"https://colab.research.google.com/assets/colab-badge.svg\" alt=\"Open In Colab\"/></a>"
      ]
    },
    {
      "cell_type": "code",
      "execution_count": null,
      "metadata": {
        "colab": {
          "base_uri": "https://localhost:8080/"
        },
        "id": "SzlrvPohAXdJ",
        "outputId": "e81eea56-84e1-461e-c65e-9f18bb7996c1"
      },
      "outputs": [
        {
          "output_type": "stream",
          "name": "stdout",
          "text": [
            "[0, 0, 0, 0, 0, 2, 2, 2, 3, 3, 3, 3, 3, 4, 4, 4, 4, 5, 5, 5, 5, 6, 6, 7, 7, 7, 8, 9]\n"
          ]
        }
      ],
      "source": [
        "x = [3,9,4,5,6,0,7,8,5,3,2,3,4,7,2,0,2,6,7,4,0,0,5,5,3,0,3,4]\n",
        "y= sorted(x)\n",
        "print(y)"
      ]
    },
    {
      "cell_type": "code",
      "source": [
        "import numpy as np"
      ],
      "metadata": {
        "id": "GbqZOsYuAqD-"
      },
      "execution_count": null,
      "outputs": []
    },
    {
      "cell_type": "code",
      "source": [
        "filen = \"st.txt\""
      ],
      "metadata": {
        "id": "DXM5uXOc5h_G"
      },
      "execution_count": null,
      "outputs": []
    },
    {
      "cell_type": "code",
      "source": [
        "dt = np.loadtxt(filen,dtype=int)"
      ],
      "metadata": {
        "id": "D_uEvCf26ZWt"
      },
      "execution_count": null,
      "outputs": []
    },
    {
      "cell_type": "code",
      "source": [
        "print(dt)"
      ],
      "metadata": {
        "id": "ydtdZMjN6nTz",
        "outputId": "5886c852-129b-44e1-f3d3-2afda4e1747b",
        "colab": {
          "base_uri": "https://localhost:8080/"
        }
      },
      "execution_count": null,
      "outputs": [
        {
          "output_type": "stream",
          "name": "stdout",
          "text": [
            "[46 61 37 37 38 70 56 36 45 30 69 56 64 70 70 70 36 56 19 56 26 70 70 23\n",
            " 70 39 70 67 65 67 65 64 70 53 62 60 16 57 70 38 30 59 56 56 64 70 59 66\n",
            " 49 54 67 42 20]\n"
          ]
        }
      ]
    },
    {
      "cell_type": "code",
      "source": [
        "mean = np.mean(dt)\n",
        "median = np.median(dt)\n"
      ],
      "metadata": {
        "id": "3ixpZ0mZ6uYi"
      },
      "execution_count": null,
      "outputs": []
    },
    {
      "cell_type": "code",
      "source": [
        "\n",
        "import numpy as np \n",
        " \n",
        " \n",
        "arr = np.array(dt) \n",
        " \n",
        "# measures of central tendency\n",
        "aamean = np.mean(arr)\n",
        "aamedian = np.median(arr)\n",
        " \n",
        "# measures of dispersion\n",
        "aamin = np.amin(arr)\n",
        "aamax = np.amax(arr)\n",
        "range = np.ptp(arr)\n",
        "variance = np.var(arr)\n",
        "sd = np.std(arr)\n",
        " \n",
        "print(\"Descriptive analysis\")\n",
        "print(\"Array =\", arr)\n",
        "print(\"Measures of Central Tendency\")\n",
        "print(\"Mean =\", aamean)\n",
        "print(\"Median =\", aamedian)\n",
        "print(\"Measures of Dispersion\")\n",
        "print(\"Minimum =\", aamin)\n",
        "print(\"Maximum =\", aamax)\n",
        "print(\"Range =\", range)\n",
        "print(\"Variance =\", variance)\n",
        "print(\"Standard Deviation =\", sd)"
      ],
      "metadata": {
        "id": "43DcHXnO6wQq",
        "outputId": "14ae8c16-5016-41dc-d294-0648a4193440",
        "colab": {
          "base_uri": "https://localhost:8080/"
        }
      },
      "execution_count": null,
      "outputs": [
        {
          "output_type": "stream",
          "name": "stdout",
          "text": [
            "Descriptive analysis\n",
            "Array = [46 61 37 37 38 70 56 36 45 30 69 56 64 70 70 70 36 56 19 56 26 70 70 23\n",
            " 70 39 70 67 65 67 65 64 70 53 62 60 16 57 70 38 30 59 56 56 64 70 59 66\n",
            " 49 54 67 42 20]\n",
            "Measures of Central Tendency\n",
            "Mean = 53.509433962264154\n",
            "Median = 57.0\n",
            "Measures of Dispersion\n",
            "Minimum = 16\n",
            "Maximum = 70\n",
            "Range = 54\n",
            "Variance = 253.8348166607333\n",
            "Standard Deviation = 15.9321943454357\n"
          ]
        }
      ]
    },
    {
      "cell_type": "code",
      "source": [
        "smax = aamean + sd*2\n",
        "smin = aamean - sd*2\n",
        "s = [d for d in arr if d > smin and d<smax]"
      ],
      "metadata": {
        "id": "W9HsQ_xJ7V70"
      },
      "execution_count": null,
      "outputs": []
    },
    {
      "cell_type": "code",
      "source": [
        "print(np.sort(s))"
      ],
      "metadata": {
        "id": "cVzldyHb8dWq",
        "outputId": "c9663159-e45a-445d-e310-cdd2fec9815d",
        "colab": {
          "base_uri": "https://localhost:8080/"
        }
      },
      "execution_count": null,
      "outputs": [
        {
          "output_type": "stream",
          "name": "stdout",
          "text": [
            "[23 26 30 30 36 36 37 37 38 38 39 42 45 46 49 53 54 56 56 56 56 56 56 57\n",
            " 59 59 60 61 62 64 64 64 65 65 66 67 67 67 69 70 70 70 70 70 70 70 70 70\n",
            " 70 70]\n"
          ]
        }
      ]
    },
    {
      "cell_type": "code",
      "source": [
        "print(len(s))"
      ],
      "metadata": {
        "id": "SAefOR258ecX",
        "outputId": "bbc5a710-a3ee-4411-82e8-7cd745010661",
        "colab": {
          "base_uri": "https://localhost:8080/"
        }
      },
      "execution_count": null,
      "outputs": [
        {
          "output_type": "stream",
          "name": "stdout",
          "text": [
            "50\n"
          ]
        }
      ]
    },
    {
      "cell_type": "code",
      "source": [
        "print(len(arr))"
      ],
      "metadata": {
        "id": "g3Tq_ivt8hWm",
        "outputId": "61fb28ff-c740-4957-cc8e-f186d14af0bf",
        "colab": {
          "base_uri": "https://localhost:8080/"
        }
      },
      "execution_count": null,
      "outputs": [
        {
          "output_type": "stream",
          "name": "stdout",
          "text": [
            "53\n"
          ]
        }
      ]
    },
    {
      "cell_type": "code",
      "source": [
        "print(len(s)/len(arr))"
      ],
      "metadata": {
        "id": "Fzy_29h48kgm",
        "outputId": "17bfd781-3b44-4ed4-f74c-05c819df4004",
        "colab": {
          "base_uri": "https://localhost:8080/"
        }
      },
      "execution_count": null,
      "outputs": [
        {
          "output_type": "stream",
          "name": "stdout",
          "text": [
            "0.9433962264150944\n"
          ]
        }
      ]
    },
    {
      "cell_type": "code",
      "source": [
        "from matplotlib import pyplot as plt"
      ],
      "metadata": {
        "id": "5ys-0b5O88AI"
      },
      "execution_count": null,
      "outputs": []
    },
    {
      "cell_type": "code",
      "source": [
        "x = np.arange(len(arr))"
      ],
      "metadata": {
        "id": "pixcsW2q9bKl"
      },
      "execution_count": null,
      "outputs": []
    },
    {
      "cell_type": "code",
      "source": [
        "print(x)"
      ],
      "metadata": {
        "id": "NhMupWCy9j4d",
        "outputId": "8f2f3429-311b-433b-8cee-ee9945b9b8d3",
        "colab": {
          "base_uri": "https://localhost:8080/"
        }
      },
      "execution_count": null,
      "outputs": [
        {
          "output_type": "stream",
          "name": "stdout",
          "text": [
            "[ 0  1  2  3  4  5  6  7  8  9 10 11 12 13 14 15 16 17 18 19 20 21 22 23\n",
            " 24 25 26 27 28 29 30 31 32 33 34 35 36 37 38 39 40 41 42 43 44 45 46 47\n",
            " 48 49 50 51 52]\n"
          ]
        }
      ]
    },
    {
      "cell_type": "code",
      "source": [
        "y = np.sort(arr)\n",
        "print(y)"
      ],
      "metadata": {
        "id": "vig8SesE9xZE",
        "outputId": "510a8f96-e2a2-4f1c-edb1-482c26c5c852",
        "colab": {
          "base_uri": "https://localhost:8080/"
        }
      },
      "execution_count": null,
      "outputs": [
        {
          "output_type": "stream",
          "name": "stdout",
          "text": [
            "[16 19 20 23 26 30 30 36 36 37 37 38 38 39 42 45 46 49 53 54 56 56 56 56\n",
            " 56 56 57 59 59 60 61 62 64 64 64 65 65 66 67 67 67 69 70 70 70 70 70 70\n",
            " 70 70 70 70 70]\n"
          ]
        }
      ]
    },
    {
      "cell_type": "code",
      "source": [
        "plt.plot(x,y)"
      ],
      "metadata": {
        "id": "flAxze1i934G",
        "outputId": "c587fb70-829f-4e97-e98a-fc0cb5a29a1e",
        "colab": {
          "base_uri": "https://localhost:8080/",
          "height": 282
        }
      },
      "execution_count": null,
      "outputs": [
        {
          "output_type": "execute_result",
          "data": {
            "text/plain": [
              "[<matplotlib.lines.Line2D at 0x7f69a5aa7310>]"
            ]
          },
          "metadata": {},
          "execution_count": 17
        },
        {
          "output_type": "display_data",
          "data": {
            "text/plain": [
              "<Figure size 432x288 with 1 Axes>"
            ],
            "image/png": "[encoded data removed]"
          },
          "metadata": {
            "needs_background": "light"
          }
        }
      ]
    },
    {
      "cell_type": "code",
      "source": [
        "print(type(y))"
      ],
      "metadata": {
        "id": "BH1OtfUkF7WW",
        "outputId": "79cd1055-98f6-4e7b-e2e5-18c2c1d6c498",
        "colab": {
          "base_uri": "https://localhost:8080/"
        }
      },
      "execution_count": null,
      "outputs": [
        {
          "output_type": "stream",
          "name": "stdout",
          "text": [
            "<class 'numpy.ndarray'>\n"
          ]
        }
      ]
    },
    {
      "cell_type": "code",
      "source": [
        "y1 = []\n",
        "for i in y:\n",
        "  yy = abs(i-mean)/sd\n",
        "  y1.append(yy)\n",
        "print(y1)\n",
        "y1 = np.sort(y1)"
      ],
      "metadata": {
        "id": "mb88ztFgEzOm",
        "outputId": "3c9d791c-8983-4f41-da44-582b424be761",
        "colab": {
          "base_uri": "https://localhost:8080/"
        }
      },
      "execution_count": null,
      "outputs": [
        {
          "output_type": "stream",
          "name": "stdout",
          "text": [
            "[2.3543168724281824, 2.1660188931947415, 2.1032529001169276, 1.9149549208834866, 1.7266569416500455, 1.4755929693387906, 1.4755929693387906, 1.0989970108719083, 1.0989970108719083, 1.0362310177940945, 1.0362310177940945, 0.9734650247162808, 0.9734650247162808, 0.9106990316384671, 0.722401052405026, 0.5341030731715848, 0.4713370800937711, 0.28303910086032996, 0.03197512854907512, 0.030790864528738603, 0.15632285068436602, 0.15632285068436602, 0.15632285068436602, 0.15632285068436602, 0.15632285068436602, 0.15632285068436602, 0.21908884376217974, 0.3446208299178072, 0.3446208299178072, 0.4073868229956209, 0.4701528160734346, 0.5329188091512483, 0.6584507953068758, 0.6584507953068758, 0.6584507953068758, 0.7212167883846895, 0.7212167883846895, 0.7839827814625032, 0.8467487745403169, 0.8467487745403169, 0.8467487745403169, 0.9722807606959444, 1.035046753773758, 1.035046753773758, 1.035046753773758, 1.035046753773758, 1.035046753773758, 1.035046753773758, 1.035046753773758, 1.035046753773758, 1.035046753773758, 1.035046753773758, 1.035046753773758]\n"
          ]
        }
      ]
    },
    {
      "cell_type": "code",
      "source": [
        "plt.plot(x,y1)"
      ],
      "metadata": {
        "id": "2VCkt87jFkXF",
        "outputId": "10521cb9-461a-4a4f-e7d3-f1db62ea3290",
        "colab": {
          "base_uri": "https://localhost:8080/",
          "height": 282
        }
      },
      "execution_count": null,
      "outputs": [
        {
          "output_type": "execute_result",
          "data": {
            "text/plain": [
              "[<matplotlib.lines.Line2D at 0x7f69a5a20dd0>]"
            ]
          },
          "metadata": {},
          "execution_count": 20
        },
        {
          "output_type": "display_data",
          "data": {
            "text/plain": [
              "<Figure size 432x288 with 1 Axes>"
            ],
            "image/png": "[encoded data removed]"
          },
          "metadata": {
            "needs_background": "light"
          }
        }
      ]
    },
    {
      "cell_type": "code",
      "source": [
        "filen1 = 'adj.txt'\n",
        "dt1 = np.loadtxt(filen1,dtype=int)"
      ],
      "metadata": {
        "id": "RjfRL0LMGN5r"
      },
      "execution_count": null,
      "outputs": []
    },
    {
      "cell_type": "code",
      "source": [
        "print(np.sort(dt1))"
      ],
      "metadata": {
        "id": "ZNxpMR1eHO3R",
        "outputId": "0282605f-c8b9-428f-9d15-374b5bbb4dca",
        "colab": {
          "base_uri": "https://localhost:8080/"
        }
      },
      "execution_count": null,
      "outputs": [
        {
          "output_type": "stream",
          "name": "stdout",
          "text": [
            "[ 46  49  50  53  56  60  60  66  66  67  67  68  68  69  72  75  76  79\n",
            "  83  84  86  86  86  86  86  86  87  89  89  90  91  92  94  94  94  95\n",
            "  95  96  97  97  97  99 100 100 100 100 100 100 100 100 100 100 100]\n"
          ]
        }
      ]
    },
    {
      "cell_type": "code",
      "source": [
        "filen2 = 'final.txt'\n",
        "dt2 = np.loadtxt(filen2,dtype=int)\n",
        "dt2 = np.sort(dt2)"
      ],
      "metadata": {
        "id": "7uYd_8QnHaBR"
      },
      "execution_count": null,
      "outputs": []
    },
    {
      "cell_type": "code",
      "source": [
        "print(dt2)"
      ],
      "metadata": {
        "id": "4vYQnSd7H9R6",
        "outputId": "720734c4-5379-4f6f-ee01-033c02bc93bb",
        "colab": {
          "base_uri": "https://localhost:8080/"
        }
      },
      "execution_count": null,
      "outputs": [
        {
          "output_type": "stream",
          "name": "stdout",
          "text": [
            "[40 44 45 47 51 55 55 60 60 61 61 62 62 63 65 67 68 70 73 74 75 75 75 75\n",
            " 75 75 75 77 77 78 78 79 80 80 80 81 81 81 82 82 82 83 83 84 84 84 84 84\n",
            " 84 84 84 84 84]\n"
          ]
        }
      ]
    },
    {
      "cell_type": "code",
      "source": [
        "plt.plot(x,dt2)"
      ],
      "metadata": {
        "id": "8mKWw1B1H-sH",
        "outputId": "ad0178ee-7a4b-4430-e921-8352969863ca",
        "colab": {
          "base_uri": "https://localhost:8080/",
          "height": 282
        }
      },
      "execution_count": null,
      "outputs": [
        {
          "output_type": "execute_result",
          "data": {
            "text/plain": [
              "[<matplotlib.lines.Line2D at 0x7f69a5547650>]"
            ]
          },
          "metadata": {},
          "execution_count": 25
        },
        {
          "output_type": "display_data",
          "data": {
            "text/plain": [
              "<Figure size 432x288 with 1 Axes>"
            ],
            "image/png": "[encoded data removed]"
          },
          "metadata": {
            "needs_background": "light"
          }
        }
      ]
    },
    {
      "cell_type": "code",
      "source": [
        "x1= np.max(dt2)\n",
        "x2= np.min(dt2)\n",
        "r = x1-x2\n",
        "print(x1,x2,r)"
      ],
      "metadata": {
        "id": "HQRpJIRYILSv",
        "outputId": "77366f85-c922-47d9-9969-5bb6932f39f0",
        "colab": {
          "base_uri": "https://localhost:8080/"
        }
      },
      "execution_count": null,
      "outputs": [
        {
          "output_type": "stream",
          "name": "stdout",
          "text": [
            "84 40 44\n"
          ]
        }
      ]
    },
    {
      "cell_type": "code",
      "source": [
        "import math\n",
        "N = np.size(dt2)\n",
        "k = 1 + math.log(N)/math.log(2)\n",
        "k = int(math.floor(k))\n",
        "klong = r/k\n",
        "klong = math.ceil(klong)\n",
        "print(klong)"
      ],
      "metadata": {
        "id": "19V3XXLhIgMO",
        "outputId": "f5709ab5-5544-4405-b69c-74c895fc76d2",
        "colab": {
          "base_uri": "https://localhost:8080/"
        }
      },
      "execution_count": null,
      "outputs": [
        {
          "output_type": "stream",
          "name": "stdout",
          "text": [
            "8\n"
          ]
        }
      ]
    },
    {
      "cell_type": "code",
      "source": [
        "print(k)"
      ],
      "metadata": {
        "id": "KWXeyWYqJsn6",
        "outputId": "50b6016a-773b-43bf-c4a9-276d365c578f",
        "colab": {
          "base_uri": "https://localhost:8080/"
        }
      },
      "execution_count": null,
      "outputs": [
        {
          "output_type": "stream",
          "name": "stdout",
          "text": [
            "6\n"
          ]
        }
      ]
    },
    {
      "cell_type": "code",
      "source": [
        "start = x2 - 0.5\n",
        "dt2 = np.sort(dt2)\n",
        "n=0\n",
        "#print(dat)\n",
        "grp=[]\n",
        "while n<k:\n",
        "  #print(start,start+klong)\n",
        "  grp.append((start,start+klong))\n",
        "  start = start+klong\n",
        "  n = n+1\n",
        "print(grp)"
      ],
      "metadata": {
        "id": "hjMFDnh6JLlA",
        "outputId": "3107ac02-0b25-46ee-9eb8-8ffb3d617e26",
        "colab": {
          "base_uri": "https://localhost:8080/"
        }
      },
      "execution_count": null,
      "outputs": [
        {
          "output_type": "stream",
          "name": "stdout",
          "text": [
            "[(39.5, 47.5), (47.5, 55.5), (55.5, 63.5), (63.5, 71.5), (71.5, 79.5), (79.5, 87.5)]\n"
          ]
        }
      ]
    },
    {
      "cell_type": "code",
      "source": [
        "def count_number(n1,n2,nlist):\n",
        "  count = 0\n",
        "  r1 = int(v1)\n",
        "  r2 = int(v2)\n",
        "  for v in nlist:\n",
        "    if v >= r1 and v <= r2:\n",
        "      count = count+1\n",
        "  return count"
      ],
      "metadata": {
        "id": "R6n_YoLZIyU2"
      },
      "execution_count": null,
      "outputs": []
    },
    {
      "cell_type": "code",
      "source": [
        "xx=[]\n",
        "yy=[]\n",
        "for v1,v2 in grp:\n",
        "  c = count_number(v1,v2,dt2)\n",
        "  yy.append(c)\n",
        "  yy.append(c)\n",
        "  xx.append(v1)\n",
        "  xx.append(v2)\n",
        "  print(\"{0:}\\t{1:}\\t{2:}\\t{3:.0%}\".format(v1,v2,c,c/N))"
      ],
      "metadata": {
        "id": "Nk2NNgt5I63l",
        "outputId": "041958b9-8383-4bb1-85f3-67d1473b3d6e",
        "colab": {
          "base_uri": "https://localhost:8080/"
        }
      },
      "execution_count": null,
      "outputs": [
        {
          "output_type": "stream",
          "name": "stdout",
          "text": [
            "39.5\t47.5\t4\t8%\n",
            "47.5\t55.5\t4\t8%\n",
            "55.5\t63.5\t9\t17%\n",
            "63.5\t71.5\t5\t9%\n",
            "71.5\t79.5\t14\t26%\n",
            "79.5\t87.5\t22\t42%\n"
          ]
        }
      ]
    },
    {
      "cell_type": "code",
      "source": [
        "print(xx)\n",
        "print(yy)"
      ],
      "metadata": {
        "id": "WIkfHJmPMPtv",
        "outputId": "1e596b71-4a63-4381-df83-becaba561c1f",
        "colab": {
          "base_uri": "https://localhost:8080/"
        }
      },
      "execution_count": null,
      "outputs": [
        {
          "output_type": "stream",
          "name": "stdout",
          "text": [
            "[39.5, 47.5, 47.5, 55.5, 55.5, 63.5, 63.5, 71.5, 71.5, 79.5, 79.5, 87.5]\n",
            "[4, 4, 4, 4, 9, 9, 5, 5, 14, 14, 22, 22]\n"
          ]
        }
      ]
    },
    {
      "cell_type": "code",
      "source": [
        "plt.hist(dt2, bins = 6)\n",
        "plt.show()"
      ],
      "metadata": {
        "id": "wHEcOOAEMgdP",
        "outputId": "1d7de5e0-2240-4eb5-a6bc-13b2370864d0",
        "colab": {
          "base_uri": "https://localhost:8080/",
          "height": 265
        }
      },
      "execution_count": null,
      "outputs": [
        {
          "output_type": "display_data",
          "data": {
            "text/plain": [
              "<Figure size 432x288 with 1 Axes>"
            ],
            "image/png": "[encoded data removed]"
          },
          "metadata": {
            "needs_background": "light"
          }
        }
      ]
    },
    {
      "cell_type": "code",
      "source": [
        "plt.hist(dt2, bins = [39.5,47.5,55.5,63.5,71.5,79.5,87.5])\n",
        "plt.show()"
      ],
      "metadata": {
        "id": "lNUC4jeaNHAu",
        "outputId": "7da8618c-6336-4eb6-c1f5-262aca25bdbe",
        "colab": {
          "base_uri": "https://localhost:8080/",
          "height": 265
        }
      },
      "execution_count": null,
      "outputs": [
        {
          "output_type": "display_data",
          "data": {
            "text/plain": [
              "<Figure size 432x288 with 1 Axes>"
            ],
            "image/png": "[encoded data removed]"
          },
          "metadata": {
            "needs_background": "light"
          }
        }
      ]
    },
    {
      "cell_type": "code",
      "source": [
        "print(dt2)"
      ],
      "metadata": {
        "id": "rOo-EzfDN5Ch",
        "outputId": "4ec2e0db-85c0-4722-b9f7-333b4ee31e07",
        "colab": {
          "base_uri": "https://localhost:8080/"
        }
      },
      "execution_count": null,
      "outputs": [
        {
          "output_type": "stream",
          "name": "stdout",
          "text": [
            "[40 44 45 47 51 55 55 60 60 61 61 62 62 63 65 67 68 70 73 74 75 75 75 75\n",
            " 75 75 75 77 77 78 78 79 80 80 80 81 81 81 82 82 82 83 83 84 84 84 84 84\n",
            " 84 84 84 84 84]\n"
          ]
        }
      ]
    },
    {
      "cell_type": "code",
      "source": [
        "x1= np.max(dt)\n",
        "x2= np.min(dt)\n",
        "r = x1-x2\n",
        "print(x1,x2,r)"
      ],
      "metadata": {
        "id": "8nA4iMyoQ4mr",
        "outputId": "f463180d-9f7b-4161-97fa-1ca73604b1bb",
        "colab": {
          "base_uri": "https://localhost:8080/"
        }
      },
      "execution_count": null,
      "outputs": [
        {
          "output_type": "stream",
          "name": "stdout",
          "text": [
            "70 16 54\n"
          ]
        }
      ]
    },
    {
      "cell_type": "code",
      "source": [
        "start = x2 - 0.5\n",
        "dt = np.sort(dt)\n",
        "n=0\n",
        "#print(dat)\n",
        "grp=[]\n",
        "while n<k+1:\n",
        "  #print(start,start+klong)\n",
        "  grp.append((start,start+klong))\n",
        "  start = start+klong\n",
        "  n = n+1\n",
        "print(grp)"
      ],
      "metadata": {
        "id": "_o_QOHs3Qdtu",
        "outputId": "7855dc37-dc49-498a-d8a6-9ef2a32c054c",
        "colab": {
          "base_uri": "https://localhost:8080/"
        }
      },
      "execution_count": null,
      "outputs": [
        {
          "output_type": "stream",
          "name": "stdout",
          "text": [
            "[(15.5, 23.5), (23.5, 31.5), (31.5, 39.5), (39.5, 47.5), (47.5, 55.5), (55.5, 63.5), (63.5, 71.5)]\n"
          ]
        }
      ]
    },
    {
      "cell_type": "code",
      "source": [
        "xx=[]\n",
        "yy=[]\n",
        "total=0\n",
        "for v1,v2 in grp:\n",
        "  c = count_number(v1,v2,dt)\n",
        "  yy.append(c)\n",
        "  yy.append(c)\n",
        "  xx.append(v1)\n",
        "  xx.append(v2)\n",
        "  total = total+c\n",
        "  print(\"{0:}\\t{1:}\\t{2:}\\t{3:.0%}\".format(v1,v2,c,c/N))\n",
        "print(total)"
      ],
      "metadata": {
        "id": "xx116AT3RhHe",
        "outputId": "018805e8-fa76-4447-eb30-49dd26a5c7ed",
        "colab": {
          "base_uri": "https://localhost:8080/"
        }
      },
      "execution_count": null,
      "outputs": [
        {
          "output_type": "stream",
          "name": "stdout",
          "text": [
            "15.5\t23.5\t4\t8%\n",
            "23.5\t31.5\t4\t8%\n",
            "31.5\t39.5\t7\t13%\n",
            "39.5\t47.5\t4\t8%\n",
            "47.5\t55.5\t3\t6%\n",
            "55.5\t63.5\t12\t23%\n",
            "63.5\t71.5\t21\t40%\n",
            "55\n"
          ]
        }
      ]
    },
    {
      "cell_type": "code",
      "source": [
        "plt.hist(dt, bins = [15.5,23.5,31.5,39.5,47.5,55.5,63.5,71.5])\n",
        "plt.show()"
      ],
      "metadata": {
        "id": "YpDb57PJRDu-",
        "outputId": "0085d0b3-fed6-4d36-a8fd-32de13b97637",
        "colab": {
          "base_uri": "https://localhost:8080/",
          "height": 265
        }
      },
      "execution_count": null,
      "outputs": [
        {
          "output_type": "display_data",
          "data": {
            "text/plain": [
              "<Figure size 432x288 with 1 Axes>"
            ],
            "image/png": "[encoded data removed]"
          },
          "metadata": {
            "needs_background": "light"
          }
        }
      ]
    },
    {
      "cell_type": "code",
      "source": [
        ""
      ],
      "metadata": {
        "id": "UdUaT3P6SJ0L"
      },
      "execution_count": null,
      "outputs": []
    }
  ]
}