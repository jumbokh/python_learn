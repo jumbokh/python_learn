{
  "cells": [
    {
      "cell_type": "markdown",
      "metadata": {
        "id": "view-in-github",
        "colab_type": "text"
      },
      "source": [
        "<a href=\"https://colab.research.google.com/github/jumbokh/python_learn/blob/master/notebooks/%E5%9C%96%E7%89%87%E5%88%86%E9%A1%9E%E8%88%87%E5%9C%96%E7%89%87%E6%8A%93%E5%8F%96%E7%88%AC%E8%9F%B2.ipynb\" target=\"_parent\"><img src=\"https://colab.research.google.com/assets/colab-badge.svg\" alt=\"Open In Colab\"/></a>"
      ]
    },
    {
      "cell_type": "markdown",
      "metadata": {
        "id": "GZg9-L60xbJg"
      },
      "source": [
        "##圖片分類篩選與圖片爬蟲抓取程式"
      ]
    },
    {
      "cell_type": "markdown",
      "metadata": {
        "id": "KkeAzRF0FAuu"
      },
      "source": [
        "prompt：\n",
        "\n",
        "創建一個Python程式，專門在Google Colab環境中執行，功能用於圖片處理和下載。程式具有以下特點和功能：\n",
        "\n",
        "1.設計為在Google Colab notebook中執行，充分利用Colab的特性。\n",
        "\n",
        "2.自動安裝和導入所有必要的套件庫，如果需要特殊版本的套件庫，請說明安裝命令。\n",
        "\n",
        "3.使用Google Colab的文件系統接口來操作Google Drive，包括掛載Drive和訪問/創建文件夾。\n",
        "\n",
        "4.提供兩個主要功能：\n",
        "a) 圖片分類：根據圖片像素大小將Google Drive中的圖片分類到不同資料夾。\n",
        "\n",
        "b) 圖片抓取：從DuckDuckGo搜索並下載指定數量的圖片到Google Drive。\n",
        "\n",
        "5.使用Selenium WebDriver或其他相容於Google Colab的套件進行網頁資料爬蟲，包含Colab環境中設置Chrome WebDriver的代碼。\n",
        "\n",
        "6.需要架構一個主選單循環，允許用戶多次選擇執行不同功能或退出程式。\n",
        "\n",
        "7.圖片分類功能應接受Google Drive中的輸入和輸出資料夾路徑。\n",
        "\n",
        "8.圖片抓取功能應接受搜索關鍵字和下載數量，並將圖片保存到指定的Google Drive資料夾。\n",
        "\n",
        "9.包含錯誤處理和用戶友好的提示訊息。\n",
        "\n",
        "10.每行代碼都應有繁體中文註解，並且解釋其功能。\n",
        "\n",
        "11.考慮到Colab的執行環境可能會重置，請確保代碼可以多次執行而不會出錯。\n",
        "\n",
        "12.如果有任何需要用戶手動設置的步驟（例如允許訪問Google Drive），請在代碼中提供清晰的指示。\n",
        "\n",
        "請提供完整的、可以直接在Google Colab環境中運行的Python程式，包括所有必要的設置步驟和函數定義。確保程式遵循Python的最佳實踐效能，並針對Colab環境進行優化。"
      ]
    },
    {
      "cell_type": "markdown",
      "metadata": {
        "id": "GEkMJpdnU3Hk"
      },
      "source": [
        "###精簡、摘要文字後可以貼入Colab AI Prompt\n",
        "\n",
        "撰寫一個Python程式，專為在Google Colab環境中執行，該程式會自動安裝所有所需的套件，並說明安裝命令，支援掛載Google Drive並操作檔案。該程式具備兩個主要功能：圖片分類與圖片抓取。圖片分類功能根據Google Drive中圖片大小，將其分類到不同資料夾，並接受輸入與輸出路徑。圖片抓取功能從DuckDuckGo抓取指定數量圖片，並保存到Google Drive指定資料夾。程式使用Selenium設置Chrome WebDriver進行爬蟲，並使用相容Colab的套件。此外，程式包含主選單循環，允許用戶多次選擇功能或退出，並附友好提示與錯誤處理。所有代碼行需加繁體中文註解，確保程式在Colab環境中可多次執行而不會出錯。若有手動設置步驟，如掛載Google Drive，程式中應提供清晰指示。整個程式需遵循Python最佳實踐並優化以適應Colab環境。"
      ]
    },
    {
      "cell_type": "code",
      "execution_count": null,
      "metadata": {
        "colab": {
          "base_uri": "https://localhost:8080/"
        },
        "collapsed": true,
        "id": "O8kv9lGVOJeU",
        "outputId": "b0a8dbd4-e079-4735-8f57-7648a23f54de"
      },
      "outputs": [
        {
          "name": "stdout",
          "output_type": "stream",
          "text": [
            "Requirement already satisfied: selenium in /usr/local/lib/python3.10/dist-packages (4.25.0)\n",
            "Requirement already satisfied: urllib3<3,>=1.26 in /usr/local/lib/python3.10/dist-packages (from urllib3[socks]<3,>=1.26->selenium) (2.0.7)\n",
            "Requirement already satisfied: trio~=0.17 in /usr/local/lib/python3.10/dist-packages (from selenium) (0.26.2)\n",
            "Requirement already satisfied: trio-websocket~=0.9 in /usr/local/lib/python3.10/dist-packages (from selenium) (0.11.1)\n",
            "Requirement already satisfied: certifi>=2021.10.8 in /usr/local/lib/python3.10/dist-packages (from selenium) (2024.8.30)\n",
            "Requirement already satisfied: typing_extensions~=4.9 in /usr/local/lib/python3.10/dist-packages (from selenium) (4.12.2)\n",
            "Requirement already satisfied: websocket-client~=1.8 in /usr/local/lib/python3.10/dist-packages (from selenium) (1.8.0)\n",
            "Requirement already satisfied: attrs>=23.2.0 in /usr/local/lib/python3.10/dist-packages (from trio~=0.17->selenium) (24.2.0)\n",
            "Requirement already satisfied: sortedcontainers in /usr/local/lib/python3.10/dist-packages (from trio~=0.17->selenium) (2.4.0)\n",
            "Requirement already satisfied: idna in /usr/local/lib/python3.10/dist-packages (from trio~=0.17->selenium) (3.10)\n",
            "Requirement already satisfied: outcome in /usr/local/lib/python3.10/dist-packages (from trio~=0.17->selenium) (1.3.0.post0)\n",
            "Requirement already satisfied: sniffio>=1.3.0 in /usr/local/lib/python3.10/dist-packages (from trio~=0.17->selenium) (1.3.1)\n",
            "Requirement already satisfied: exceptiongroup in /usr/local/lib/python3.10/dist-packages (from trio~=0.17->selenium) (1.2.2)\n",
            "Requirement already satisfied: wsproto>=0.14 in /usr/local/lib/python3.10/dist-packages (from trio-websocket~=0.9->selenium) (1.2.0)\n",
            "Requirement already satisfied: pysocks!=1.5.7,<2.0,>=1.5.6 in /usr/local/lib/python3.10/dist-packages (from urllib3[socks]<3,>=1.26->selenium) (1.7.1)\n",
            "Requirement already satisfied: h11<1,>=0.9.0 in /usr/local/lib/python3.10/dist-packages (from wsproto>=0.14->trio-websocket~=0.9->selenium) (0.14.0)\n"
          ]
        }
      ],
      "source": [
        "!pip install selenium"
      ]
    },
    {
      "cell_type": "code",
      "execution_count": null,
      "metadata": {
        "colab": {
          "base_uri": "https://localhost:8080/"
        },
        "collapsed": true,
        "id": "cqqe7jrQOuqB",
        "outputId": "8457f887-7e54-4b3d-903a-5b283d1f5f35"
      },
      "outputs": [
        {
          "name": "stdout",
          "output_type": "stream",
          "text": [
            "Requirement already satisfied: pillow in /usr/local/lib/python3.10/dist-packages (10.4.0)\n",
            "Requirement already satisfied: requests in /usr/local/lib/python3.10/dist-packages (2.32.3)\n",
            "Requirement already satisfied: google-auth-oauthlib in /usr/local/lib/python3.10/dist-packages (1.2.1)\n",
            "Requirement already satisfied: charset-normalizer<4,>=2 in /usr/local/lib/python3.10/dist-packages (from requests) (3.3.2)\n",
            "Requirement already satisfied: idna<4,>=2.5 in /usr/local/lib/python3.10/dist-packages (from requests) (3.10)\n",
            "Requirement already satisfied: urllib3<3,>=1.21.1 in /usr/local/lib/python3.10/dist-packages (from requests) (2.0.7)\n",
            "Requirement already satisfied: certifi>=2017.4.17 in /usr/local/lib/python3.10/dist-packages (from requests) (2024.8.30)\n",
            "Requirement already satisfied: google-auth>=2.15.0 in /usr/local/lib/python3.10/dist-packages (from google-auth-oauthlib) (2.27.0)\n",
            "Requirement already satisfied: requests-oauthlib>=0.7.0 in /usr/local/lib/python3.10/dist-packages (from google-auth-oauthlib) (1.3.1)\n",
            "Requirement already satisfied: cachetools<6.0,>=2.0.0 in /usr/local/lib/python3.10/dist-packages (from google-auth>=2.15.0->google-auth-oauthlib) (5.5.0)\n",
            "Requirement already satisfied: pyasn1-modules>=0.2.1 in /usr/local/lib/python3.10/dist-packages (from google-auth>=2.15.0->google-auth-oauthlib) (0.4.1)\n",
            "Requirement already satisfied: rsa<5,>=3.1.4 in /usr/local/lib/python3.10/dist-packages (from google-auth>=2.15.0->google-auth-oauthlib) (4.9)\n",
            "Requirement already satisfied: oauthlib>=3.0.0 in /usr/local/lib/python3.10/dist-packages (from requests-oauthlib>=0.7.0->google-auth-oauthlib) (3.2.2)\n",
            "Requirement already satisfied: pyasn1<0.7.0,>=0.4.6 in /usr/local/lib/python3.10/dist-packages (from pyasn1-modules>=0.2.1->google-auth>=2.15.0->google-auth-oauthlib) (0.6.1)\n"
          ]
        }
      ],
      "source": [
        "!pip install pillow requests google-auth-oauthlib"
      ]
    },
    {
      "cell_type": "code",
      "execution_count": null,
      "metadata": {
        "colab": {
          "background_save": true,
          "base_uri": "https://localhost:8080/"
        },
        "id": "ngzkeNEEDIy4",
        "outputId": "7386e028-71f7-4299-d78b-5675c87e8e29"
      },
      "outputs": [
        {
          "name": "stdout",
          "output_type": "stream",
          "text": [
            "Drive already mounted at /content/drive; to attempt to forcibly remount, call drive.mount(\"/content/drive\", force_remount=True).\n",
            "\n",
            "請選擇要執行的功能：\n",
            "1. 圖片分類\n",
            "2. 圖片抓取\n",
            "3. 結束程式\n",
            "圖片已下載並保存到 /content/drive/My Drive/抓取的圖片/image_46.jpg\n",
            "已下載 1 張圖片\n",
            "圖片已下載並保存到 /content/drive/My Drive/抓取的圖片/image_47.jpg\n",
            "已下載 2 張圖片\n",
            "圖片已下載並保存到 /content/drive/My Drive/抓取的圖片/image_48.jpg\n",
            "已下載 3 張圖片\n",
            "圖片已下載並保存到 /content/drive/My Drive/抓取的圖片/image_49.jpg\n",
            "已下載 4 張圖片\n",
            "圖片已下載並保存到 /content/drive/My Drive/抓取的圖片/image_50.jpg\n",
            "已下載 5 張圖片\n",
            "圖片已下載並保存到 /content/drive/My Drive/抓取的圖片/image_51.jpg\n",
            "已下載 6 張圖片\n",
            "圖片已下載並保存到 /content/drive/My Drive/抓取的圖片/image_52.jpg\n",
            "已下載 7 張圖片\n",
            "圖片已下載並保存到 /content/drive/My Drive/抓取的圖片/image_53.jpg\n",
            "已下載 8 張圖片\n",
            "圖片已下載並保存到 /content/drive/My Drive/抓取的圖片/image_54.jpg\n",
            "已下載 9 張圖片\n",
            "圖片已下載並保存到 /content/drive/My Drive/抓取的圖片/image_55.jpg\n",
            "已下載 10 張圖片\n",
            "圖片抓取完成，共抓取了 10 張圖片。\n",
            "\n",
            "請選擇要執行的功能：\n",
            "1. 圖片分類\n",
            "2. 圖片抓取\n",
            "3. 結束程式\n"
          ]
        }
      ],
      "source": [
        "import os  # 引入操作系統模組，用於檔案和目錄操作\n",
        "from PIL import Image  # 引入PIL模組，用於處理圖片\n",
        "import shutil  # 引入shutil模組，用於檔案移動\n",
        "from selenium import webdriver  # 引入Selenium模組，用於自動化瀏覽器操作\n",
        "from selenium.webdriver.common.by import By  # 引入By模組，用於定位網頁元素\n",
        "from selenium.webdriver.chrome.options import Options  # 引入Chrome選項模組，用於設定無頭模式\n",
        "import time  # 引入時間模組，用於控制延遲\n",
        "import requests  # 引入requests模組，用於發送HTTP請求\n",
        "import sys  # 引入系統模組，用於處理系統相關操作\n",
        "from google.colab import drive  # 引入Google雲端硬碟模組，用於掛載Google Drive\n",
        "\n",
        "# 設定ChromeDriver路徑\n",
        "sys.path.insert(0, '/usr/lib/chromium-browser/chromedriver')  # 將chromedriver路徑加入系統環境變數\n",
        "\n",
        "# 創建資料夾如果不存在\n",
        "def create_folder_if_not_exists(folder):\n",
        "    if not os.path.exists(folder):  # 如果資料夾不存在\n",
        "        os.makedirs(folder)  # 則創建該資料夾\n",
        "\n",
        "# 圖片分類函數，根據像素大小分類\n",
        "def classify_images(input_folder, output_folder_A, output_folder_B, max_pixels=1024*1024):\n",
        "    create_folder_if_not_exists(output_folder_A)  # 確保低像素分類資料夾存在\n",
        "    create_folder_if_not_exists(output_folder_B)  # 確保高像素分類資料夾存在\n",
        "    for filename in os.listdir(input_folder):  # 遍歷輸入資料夾中的每個檔案\n",
        "        filepath = os.path.join(input_folder, filename)  # 獲取完整檔案路徑\n",
        "        if os.path.isfile(filepath):  # 如果是檔案\n",
        "            try:\n",
        "                with Image.open(filepath) as img:  # 使用PIL打開圖片\n",
        "                    width, height = img.size  # 獲取圖片寬度和高度\n",
        "                    if width * height < max_pixels:  # 檢查圖片像素是否小於閾值\n",
        "                        shutil.copy(filepath, os.path.join(output_folder_A, filename))  # 小於閾值則移動到低像素資料夾\n",
        "                    else:\n",
        "                        shutil.copy(filepath, os.path.join(output_folder_B, filename))  # 大於或等於閾值則移動到高像素資料夾\n",
        "            except Exception as e:  # 如果出現錯誤\n",
        "                print(f\"處理 {filename} 時發生錯誤: {e}\")  # 輸出錯誤訊息\n",
        "    print(\"圖片分類完成。\")  # 輸出完成訊息\n",
        "\n",
        "# 初始化WebDriver\n",
        "def setup_driver():\n",
        "    options = Options()  # 建立Chrome選項物件\n",
        "    options.add_argument('--headless')  # 無頭模式，不顯示瀏覽器\n",
        "    options.add_argument('--no-sandbox')  # 禁用沙盒模式\n",
        "    options.add_argument('--disable-dev-shm-usage')  # 禁用共享記憶體\n",
        "    driver = webdriver.Chrome(options=options)  # 初始化ChromeDriver\n",
        "    return driver  # 返回Driver物件\n",
        "\n",
        "# 下載圖片函數，將圖片保存到指定的資料夾中\n",
        "processed_urls = set()  # 使用集合儲存已處理過的圖片URL，避免重複下載\n",
        "\n",
        "def download_image(image_url, folder_path):\n",
        "    if image_url in processed_urls:  # 如果URL已經處理過\n",
        "        print(\"URL已處理過，跳過。\")  # 輸出訊息並跳過\n",
        "        return  # 不再處理該URL\n",
        "\n",
        "    response = requests.get(image_url)  # 發送HTTP請求下載圖片\n",
        "    if response.status_code == 200:  # 如果響應成功\n",
        "        image_content = response.content  # 獲取圖片內容\n",
        "\n",
        "        # 生成唯一的檔名\n",
        "        counter = 1  # 初始化計數器\n",
        "        while True:  # 開始循環\n",
        "            image_name = f\"image_{counter}.jpg\"  # 生成檔名\n",
        "            image_path = os.path.join(folder_path, image_name)  # 組合完整的圖片儲存路徑\n",
        "            if not os.path.exists(image_path):  # 如果檔案不存在\n",
        "                break  # 跳出循環\n",
        "            counter += 1  # 增加計數器\n",
        "\n",
        "        with open(image_path, 'wb') as f:  # 以二進制模式打開檔案，準備寫入圖片\n",
        "            f.write(image_content)  # 寫入圖片內容到檔案\n",
        "        processed_urls.add(image_url)  # 將URL加入已處理集合\n",
        "        print(f\"圖片已下載並保存到 {image_path}\")  # 輸出成功訊息\n",
        "        return True  # 返回成功標誌\n",
        "    else:\n",
        "        print(f\"下載圖片失敗，狀態碼：{response.status_code}\")  # 如果下載失敗，輸出錯誤狀態碼\n",
        "        return False  # 返回失敗標誌\n",
        "\n",
        "# 抓取圖片函數，根據使用者指定的數量抓取圖片\n",
        "def fetch_images(query, folder_path, max_images):\n",
        "    driver = setup_driver()  # 初始化ChromeDriver\n",
        "    driver.get(f'https://duckduckgo.com/?q={query}&iax=images&ia=images')  # 打開DuckDuckGo圖片搜索頁面\n",
        "    time.sleep(5)  # 等待頁面加載\n",
        "\n",
        "    create_folder_if_not_exists(folder_path)  # 確保圖片存儲資料夾存在\n",
        "\n",
        "    num_images_fetched = 0  # 計算抓取的圖片數量\n",
        "    last_height = driver.execute_script(\"return document.body.scrollHeight\")  # 獲取初始頁面高度\n",
        "\n",
        "    while num_images_fetched < max_images:  # 當抓取的圖片數量小於目標時\n",
        "        # 滾動到頁面底部\n",
        "        driver.execute_script(\"window.scrollTo(0, document.body.scrollHeight);\")\n",
        "        time.sleep(2)  # 等待新內容加載\n",
        "\n",
        "        # 獲取新的頁面高度並與上一次的進行比較\n",
        "        new_height = driver.execute_script(\"return document.body.scrollHeight\")\n",
        "        if new_height == last_height:  # 如果頁面高度沒有變化，表示已經到達底部\n",
        "            break  # 跳出循環\n",
        "        last_height = new_height  # 更新頁面高度\n",
        "\n",
        "        # 找到所有圖片元素\n",
        "        image_elements = driver.find_elements(By.CSS_SELECTOR, \"img.tile--img__img\")\n",
        "\n",
        "        for image in image_elements:  # 遍歷找到的圖片元素\n",
        "            if num_images_fetched >= max_images:  # 如果已經達到要抓取的圖片數量\n",
        "                break  # 停止抓取\n",
        "\n",
        "            try:\n",
        "                image_src = image.get_attribute('src')  # 獲取圖片URL\n",
        "                if image_src and image_src not in processed_urls:  # 如果URL存在且未處理過\n",
        "                    if download_image(image_src, folder_path):  # 下載圖片\n",
        "                        num_images_fetched += 1  # 增加已抓取圖片數量\n",
        "                        print(f\"已下載 {num_images_fetched} 張圖片\")  # 輸出進度\n",
        "            except Exception as e:  # 如果出現錯誤\n",
        "                print(f\"處理圖片時發生錯誤: {e}\")  # 輸出錯誤訊息\n",
        "                continue  # 跳過該圖片，繼續處理下一張圖片\n",
        "\n",
        "    driver.quit()  # 抓取完成後關閉瀏覽器\n",
        "    print(f\"圖片抓取完成，共抓取了 {num_images_fetched} 張圖片。\")  # 輸出完成訊息\n",
        "\n",
        "# 主程式，用於執行圖片分類和抓取功能\n",
        "def main():\n",
        "    drive.mount('/content/drive')  # 掛載Google雲端硬碟\n",
        "\n",
        "    while True:  # 無限循環，直到使用者選擇退出\n",
        "        print(\"\\n請選擇要執行的功能：\")  # 提示使用者選擇功能\n",
        "        print(\"1. 圖片分類\")  # 選項1：分類圖片\n",
        "        print(\"2. 圖片抓取\")  # 選項2：抓取圖片\n",
        "        print(\"3. 結束程式\")  # 選項3：結束程式\n",
        "        choice = input(\"輸入選項 (1, 2 或 3): \")  # 接收使用者選擇\n",
        "\n",
        "        if choice == \"1\":  # 如果選擇1\n",
        "            input_folder = input(\"請輸入圖片來源資料夾路徑 (在Google Drive中): \")  # 提示輸入來源資料夾\n",
        "            output_folder_A = input(\"請輸入像素不足圖片存放資料夾路徑 (在Google Drive中): \")  # 輸入低像素圖片資料夾\n",
        "            output_folder_B = input(\"請輸入像素足夠圖片存放資料夾路徑 (在Google Drive中): \")  # 輸入高像素圖片資料夾\n",
        "            classify_images(input_folder, output_folder_A, output_folder_B)  # 執行圖片分類\n",
        "        elif choice == \"2\":  # 如果選擇2\n",
        "            query = input(\"請輸入要抓取圖片的關鍵字: \")  # 提示輸入圖片抓取的關鍵字\n",
        "            folder_path = '/content/drive/My Drive/抓取的圖片'  # 設定雲端硬碟的存儲路徑\n",
        "            try:\n",
        "                max_images = int(input(\"請輸入要抓取的圖片數量: \"))  # 提示輸入要抓取的圖片數量\n",
        "            except ValueError:\n",
        "                print(\"請輸入有效的數字，請重新選擇。\")  # 如果輸入無效數字，提示重新選擇\n",
        "                continue  # 繼續下一次循環\n",
        "\n",
        "            fetch_images(query, folder_path, max_images)  # 執行圖片抓取\n",
        "        elif choice == \"3\":  # 如果選擇3\n",
        "            print(\"程式結束，謝謝使用。\")  # 輸出結束訊息\n",
        "            break  # 跳出循環，結束程式\n",
        "        else:\n",
        "            print(\"無效的選項，請重新選擇。\")  # 如果輸入無效，提示重新選擇\n",
        "\n",
        "# 呼叫主程式\n",
        "if __name__ == \"__main__\":\n",
        "    main()  # 執行主程式"
      ]
    }
  ],
  "metadata": {
    "colab": {
      "provenance": [],
      "include_colab_link": true
    },
    "kernelspec": {
      "display_name": "Python 3",
      "name": "python3"
    },
    "language_info": {
      "name": "python"
    }
  },
  "nbformat": 4,
  "nbformat_minor": 0
}