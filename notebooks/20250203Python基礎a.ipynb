{
  "nbformat": 4,
  "nbformat_minor": 0,
  "metadata": {
    "colab": {
      "provenance": [],
      "toc_visible": true,
      "include_colab_link": true
    },
    "kernelspec": {
      "name": "python3",
      "display_name": "Python 3"
    },
    "language_info": {
      "name": "python"
    }
  },
  "cells": [
    {
      "cell_type": "markdown",
      "metadata": {
        "id": "view-in-github",
        "colab_type": "text"
      },
      "source": [
        "<a href=\"https://colab.research.google.com/github/jumbokh/python_learn/blob/master/notebooks/20250203Python%E5%9F%BA%E7%A4%8Ea.ipynb\" target=\"_parent\"><img src=\"https://colab.research.google.com/assets/colab-badge.svg\" alt=\"Open In Colab\"/></a>"
      ]
    },
    {
      "cell_type": "markdown",
      "source": [
        "# 01.變數、資料型態"
      ],
      "metadata": {
        "id": "JTvJ0uWyhHEn"
      }
    },
    {
      "cell_type": "code",
      "source": [
        "x = 5\n",
        "y = \"Hello\"\n",
        "print(x)  # 輸出 5\n",
        "print(y)  # 輸出 Hello"
      ],
      "metadata": {
        "id": "T7Ir2EZmhR9H"
      },
      "execution_count": null,
      "outputs": []
    },
    {
      "cell_type": "code",
      "source": [
        "x = 10  # x 是整數\n",
        "x = \"Python\"  # x 現在是字串\n",
        "print(x)  # 輸出 Python"
      ],
      "metadata": {
        "id": "HMfIfwpFhRqx"
      },
      "execution_count": null,
      "outputs": []
    },
    {
      "cell_type": "code",
      "source": [
        "a, b, c = 1, 2, 3\n",
        "print(a, b, c)  # 輸出 1 2 3"
      ],
      "metadata": {
        "id": "lrq7nil5ev89"
      },
      "execution_count": null,
      "outputs": []
    },
    {
      "cell_type": "code",
      "source": [
        "a = 5\n",
        "b = 10\n",
        "print(a > b)  # 輸出 False"
      ],
      "metadata": {
        "id": "qqLkFscnexp-"
      },
      "execution_count": null,
      "outputs": []
    },
    {
      "cell_type": "code",
      "source": [
        "text = \"Hello, World!\"\n",
        "print(text)"
      ],
      "metadata": {
        "id": "OeO5DFulezUm"
      },
      "execution_count": null,
      "outputs": []
    },
    {
      "cell_type": "code",
      "source": [
        "my_list = [1, 2, 3, \"Python\"]\n",
        "print(my_list[0])  # 輸出 1"
      ],
      "metadata": {
        "id": "UL_V-scje043"
      },
      "execution_count": null,
      "outputs": []
    },
    {
      "cell_type": "code",
      "source": [
        "my_tuple = (1, 2, 3)\n",
        "print(my_tuple[1])  # 輸出 2"
      ],
      "metadata": {
        "id": "GTe6pRbke2bU"
      },
      "execution_count": null,
      "outputs": []
    },
    {
      "cell_type": "code",
      "source": [
        "my_dict = {\"name\": \"Alice\", \"age\": 25}\n",
        "print(my_dict[\"name\"])  # 輸出 Alice"
      ],
      "metadata": {
        "id": "RbF8px8le37G"
      },
      "execution_count": null,
      "outputs": []
    },
    {
      "cell_type": "code",
      "source": [
        "my_set = {1, 2, 3, 3}\n",
        "print(my_set)  # 輸出 {1, 2, 3}"
      ],
      "metadata": {
        "id": "acUqosYne5Z2"
      },
      "execution_count": null,
      "outputs": []
    },
    {
      "cell_type": "code",
      "source": [
        "x = \"123\"\n",
        "y = int(x)  # 將字串轉換為整數\n",
        "print(type(y))  # 輸出 <class 'int'>"
      ],
      "metadata": {
        "id": "0s57rwxOe8MF"
      },
      "execution_count": null,
      "outputs": []
    },
    {
      "cell_type": "code",
      "source": [],
      "metadata": {
        "id": "_PGdjpRme8o2"
      },
      "execution_count": null,
      "outputs": []
    },
    {
      "cell_type": "markdown",
      "source": [
        "# 02.輸出與輸入"
      ],
      "metadata": {
        "id": "Gm3tl01ThPG2"
      }
    },
    {
      "cell_type": "code",
      "source": [
        "name = input(\"請輸入您的姓名：\")\n",
        "print(\"您好，\" + name + \"!\")"
      ],
      "metadata": {
        "id": "yzBVTDhPhSxA"
      },
      "execution_count": null,
      "outputs": []
    },
    {
      "cell_type": "code",
      "source": [
        "age = int(input(\"請輸入您的年齡：\"))\n",
        "print(\"您的年齡是：\", age)"
      ],
      "metadata": {
        "id": "y2NzynJHhSmo"
      },
      "execution_count": null,
      "outputs": []
    },
    {
      "cell_type": "code",
      "source": [
        "a, b, c = input(\"請輸入三個數字，用空格分隔：\").split()\n",
        "print(\"輸入的數字分別是：\", a, b, c)"
      ],
      "metadata": {
        "id": "ammI4HXmfMiP"
      },
      "execution_count": null,
      "outputs": []
    },
    {
      "cell_type": "code",
      "source": [
        "numbers = list(map(int, input(\"請輸入多個整數，用空格分隔：\").split()))\n",
        "print(\"輸入的整數列表為：\", numbers)"
      ],
      "metadata": {
        "id": "6MjWHDuQfPZM"
      },
      "execution_count": null,
      "outputs": []
    },
    {
      "cell_type": "code",
      "source": [
        "print(*objects, sep=' ', end='\\n', file=sys.stdout, flush=False)"
      ],
      "metadata": {
        "id": "ojOJogdHfRn2"
      },
      "execution_count": null,
      "outputs": []
    },
    {
      "cell_type": "code",
      "source": [
        "print(\"Hello, World!\")\n",
        "name = \"Python\"\n",
        "print(\"歡迎使用\", name)"
      ],
      "metadata": {
        "id": "iBPCUbRVfTiO"
      },
      "execution_count": null,
      "outputs": []
    },
    {
      "cell_type": "code",
      "source": [
        "print(\"www\", \"example\", \"com\", sep=\".\")"
      ],
      "metadata": {
        "id": "WembB1PNfU82"
      },
      "execution_count": null,
      "outputs": []
    },
    {
      "cell_type": "code",
      "source": [
        "print(\"這是第一行\", end=\" | \")\n",
        "print(\"這是第二行\")"
      ],
      "metadata": {
        "id": "YNnxQ9ccfW1U"
      },
      "execution_count": null,
      "outputs": []
    },
    {
      "cell_type": "code",
      "source": [
        "name = \"Python\"\n",
        "version = 3.10\n",
        "print(\"歡迎使用 %s 版本 %.1f\" % (name, version))"
      ],
      "metadata": {
        "id": "3mg4Abq1fYk-"
      },
      "execution_count": null,
      "outputs": []
    },
    {
      "cell_type": "code",
      "source": [
        "print(\"歡迎使用 {} 版本 {:.1f}\".format(\"Python\", 3.10))"
      ],
      "metadata": {
        "id": "BmhPbfxefae9"
      },
      "execution_count": null,
      "outputs": []
    },
    {
      "cell_type": "code",
      "source": [
        "name = \"Python\"\n",
        "version = 3.10\n",
        "print(f\"歡迎使用 {name} 版本 {version:.1f}\")"
      ],
      "metadata": {
        "id": "785SC_W6fb0W"
      },
      "execution_count": null,
      "outputs": []
    },
    {
      "cell_type": "code",
      "source": [
        "for x in range(1, 6):\n",
        "    print(f\"{x:2d} {x*x:3d} {x*x*x:4d}\")"
      ],
      "metadata": {
        "id": "pz5jxC4cfdON"
      },
      "execution_count": null,
      "outputs": []
    },
    {
      "cell_type": "code",
      "source": [
        "# 獲取使用者輸入\n",
        "name = input(\"請輸入您的姓名：\")\n",
        "age = int(input(\"請輸入您的年齡：\"))\n",
        "\n",
        "# 格式化輸出\n",
        "print(f\"您好，{name}！您今年 {age} 歲。\")"
      ],
      "metadata": {
        "id": "F-GDPjIufeq2"
      },
      "execution_count": null,
      "outputs": []
    },
    {
      "cell_type": "code",
      "source": [],
      "metadata": {
        "id": "PkpzOYvTfgce"
      },
      "execution_count": null,
      "outputs": []
    },
    {
      "cell_type": "markdown",
      "source": [
        "# 03.運算子"
      ],
      "metadata": {
        "id": "2MKxxG1VhThX"
      }
    },
    {
      "cell_type": "code",
      "source": [
        "a = 7\n",
        "b = 2\n",
        "print('加法:', a + b)  # 9\n",
        "print('減法:', a - b)  # 5\n",
        "print('乘法:', a * b)  # 14\n",
        "print('除法:', a / b)  # 3.5\n",
        "print('整數除法:', a // b)  # 3\n",
        "print('取餘數:', a % b)  # 1\n",
        "print('次方:', a ** b)  # 49"
      ],
      "metadata": {
        "id": "Gp8LB8SthZ5n"
      },
      "execution_count": null,
      "outputs": []
    },
    {
      "cell_type": "code",
      "source": [
        "x = 10\n",
        "x += 5  # 等同於 x = x + 5\n",
        "print(x)  # 15\n",
        "x *= 2  # 等同於 x = x * 2\n",
        "print(x)  # 30"
      ],
      "metadata": {
        "id": "_hV59VorhZiW"
      },
      "execution_count": null,
      "outputs": []
    },
    {
      "cell_type": "code",
      "source": [
        "a = 10\n",
        "b = 20\n",
        "print(a == b)  # False\n",
        "print(a != b)  # True\n",
        "print(a > b)   # False"
      ],
      "metadata": {
        "id": "vsuvffKugIRM"
      },
      "execution_count": null,
      "outputs": []
    },
    {
      "cell_type": "code",
      "source": [
        "a = True\n",
        "b = False\n",
        "print(a and b)  # False\n",
        "print(a or b)   # True\n",
        "print(not a)    # False"
      ],
      "metadata": {
        "id": "B1v6NAirgJwE"
      },
      "execution_count": null,
      "outputs": []
    },
    {
      "cell_type": "code",
      "source": [
        "a = 4  # 二進位：0100\n",
        "b = 5  # 二進位：0101\n",
        "print(a & b)  # 4\n",
        "print(a | b)  # 5\n",
        "print(a ^ b)  # 1"
      ],
      "metadata": {
        "id": "ZATZeOSYgLvc"
      },
      "execution_count": null,
      "outputs": []
    },
    {
      "cell_type": "code",
      "source": [
        "a = [1, 2, 3]\n",
        "print(2 in a)  # True\n",
        "print(4 not in a)  # True"
      ],
      "metadata": {
        "id": "9OK35rsVgNJ8"
      },
      "execution_count": null,
      "outputs": []
    },
    {
      "cell_type": "code",
      "source": [],
      "metadata": {
        "id": "fQUaevmfgO8V"
      },
      "execution_count": null,
      "outputs": []
    },
    {
      "cell_type": "markdown",
      "source": [
        "# 04.判斷式"
      ],
      "metadata": {
        "id": "p6w_4OybhaYH"
      }
    },
    {
      "cell_type": "code",
      "source": [
        "num = 10\n",
        "if num > 0:\n",
        "    print(\"正數\")\n",
        "elif num == 0:\n",
        "    print(\"零\")\n",
        "else:\n",
        "    print(\"負數\")"
      ],
      "metadata": {
        "id": "BdlScwp9gH8N"
      },
      "execution_count": null,
      "outputs": []
    },
    {
      "cell_type": "code",
      "source": [
        "age = 25\n",
        "if age < 18:\n",
        "    print(\"未成年\")\n",
        "elif 18 <= age < 60:\n",
        "    print(\"成年人\")\n",
        "else:\n",
        "    print(\"老年人\")"
      ],
      "metadata": {
        "id": "8BdLEJsHheUh"
      },
      "execution_count": null,
      "outputs": []
    },
    {
      "cell_type": "code",
      "source": [
        "score = 85\n",
        "if score >= 60 and score < 90:\n",
        "    print(\"及格\")\n",
        "elif score >= 90:\n",
        "    print(\"優秀\")\n",
        "else:\n",
        "    print(\"不及格\")"
      ],
      "metadata": {
        "id": "Z7QdxMjv-BbS"
      },
      "execution_count": null,
      "outputs": []
    },
    {
      "cell_type": "code",
      "source": [
        "num = -5\n",
        "print(\"正數\") if num > 0 else print(\"非正數\")"
      ],
      "metadata": {
        "id": "MwIln6Ob-Flm"
      },
      "execution_count": null,
      "outputs": []
    },
    {
      "cell_type": "code",
      "source": [
        "num = 15\n",
        "if num > 0:\n",
        "    if num % 2 == 0:\n",
        "        print(\"正偶數\")\n",
        "    else:\n",
        "        print(\"正奇數\")\n",
        "else:\n",
        "    print(\"非正數\")"
      ],
      "metadata": {
        "id": "KCF-wczRhelI"
      },
      "execution_count": null,
      "outputs": []
    },
    {
      "cell_type": "code",
      "source": [
        "a, b = 5, 10\n",
        "max_value = a if a > b else b\n",
        "print(max_value)  # 輸出：10"
      ],
      "metadata": {
        "id": "jlU1sPnK-KWQ"
      },
      "execution_count": null,
      "outputs": []
    },
    {
      "cell_type": "code",
      "source": [
        "x = None\n",
        "if x and x.isupper():\n",
        "    print(\"大寫字母\")\n",
        "else:\n",
        "    print(\"非大寫字母或空值\")"
      ],
      "metadata": {
        "id": "iNZAizTf-H6h"
      },
      "execution_count": null,
      "outputs": []
    },
    {
      "cell_type": "code",
      "source": [],
      "metadata": {
        "id": "skSLozSt-Mxh"
      },
      "execution_count": null,
      "outputs": []
    },
    {
      "cell_type": "code",
      "source": [],
      "metadata": {
        "id": "ee3abH1v-Og3"
      },
      "execution_count": null,
      "outputs": []
    },
    {
      "cell_type": "markdown",
      "source": [
        "# 05.函式"
      ],
      "metadata": {
        "id": "0Nvumm0NhfUv"
      }
    },
    {
      "cell_type": "code",
      "source": [
        "def check_leap_year(year):\n",
        "    if (year % 400 == 0) or (year % 100 != 0 and year % 4 == 0):\n",
        "        return True\n",
        "    else:\n",
        "        return False\n",
        "\n",
        "year = int(input(\"請輸入年份：\"))\n",
        "is_leap = check_leap_year(year)\n",
        "print(\"閏年\" if is_leap else \"平年\")"
      ],
      "metadata": {
        "id": "19zqM3Kmhi-G"
      },
      "execution_count": null,
      "outputs": []
    },
    {
      "cell_type": "code",
      "source": [
        "def greet(name, message=\"你好\"):\n",
        "    print(f\"{message}, {name}!\")\n",
        "greet(\"小明\")  # 輸出：你好, 小明!"
      ],
      "metadata": {
        "id": "cIXg_yqLa2lb"
      },
      "execution_count": null,
      "outputs": []
    },
    {
      "cell_type": "code",
      "source": [
        "def sum_numbers(*args):\n",
        "    return sum(args)\n",
        "print(sum_numbers(1, 2, 3))  # 輸出：6"
      ],
      "metadata": {
        "id": "XvHnH87mbLg_"
      },
      "execution_count": null,
      "outputs": []
    },
    {
      "cell_type": "code",
      "source": [
        "def print_info(**kwargs):\n",
        "    for key, value in kwargs.items():\n",
        "        print(f\"{key}: {value}\")\n",
        "print_info(name=\"小明\", age=25)  # 輸出：name: 小明, age: 25"
      ],
      "metadata": {
        "id": "r9UT63csbNKN"
      },
      "execution_count": null,
      "outputs": []
    },
    {
      "cell_type": "code",
      "source": [
        "def get_coordinates():\n",
        "    return 10, 20\n",
        "x, y = get_coordinates()\n",
        "print(x, y)  # 輸出：10 20"
      ],
      "metadata": {
        "id": "uu4rZOpEbPT_"
      },
      "execution_count": null,
      "outputs": []
    },
    {
      "cell_type": "code",
      "source": [],
      "metadata": {
        "id": "MsS87KbKhjL3"
      },
      "execution_count": null,
      "outputs": []
    },
    {
      "cell_type": "markdown",
      "source": [
        "# 06.串列、元組與字典"
      ],
      "metadata": {
        "id": "iKfWgclxhjcv"
      }
    },
    {
      "cell_type": "code",
      "source": [
        "my_list = [1, 2, 3, \"Python\", True]"
      ],
      "metadata": {
        "id": "MVuMy_RqhmoX"
      },
      "execution_count": null,
      "outputs": []
    },
    {
      "cell_type": "code",
      "source": [
        "# 建立一個串列\n",
        "fruits = [\"apple\", \"banana\", \"cherry\"]\n",
        "\n",
        "# 取得元素\n",
        "print(fruits[0])  # 輸出 \"apple\"\n",
        "\n",
        "# 修改元素\n",
        "fruits[1] = \"orange\"  # 將 \"banana\" 改成 \"orange\"\n",
        "print(fruits)\n",
        "# 新增元素\n",
        "fruits.append(\"melon\")  # 在尾端新增 \"melon\"\n",
        "print(fruits)\n",
        "# 刪除元素\n",
        "fruits.remove(\"cherry\")  # 移除 \"cherry\"\n",
        "print(fruits)\n",
        "# 串列長度\n",
        "print(len(fruits))  # 輸出 3"
      ],
      "metadata": {
        "id": "2gtwx5uhbyFQ"
      },
      "execution_count": null,
      "outputs": []
    },
    {
      "cell_type": "code",
      "source": [
        "fruits + [\"grape\", \"pear\"]  # 輸出新的串列"
      ],
      "metadata": {
        "id": "tI9le_nabyyl"
      },
      "execution_count": null,
      "outputs": []
    },
    {
      "cell_type": "code",
      "source": [
        "fruits * 2  # 將整個串列重複串接 2 次"
      ],
      "metadata": {
        "id": "MTOOXkNib0kN"
      },
      "execution_count": null,
      "outputs": []
    },
    {
      "cell_type": "code",
      "source": [
        "fruits[1:3]  # 從索引 1 到索引 2 的元素（不包含索引 3）"
      ],
      "metadata": {
        "id": "PBXHxqUOb2FO"
      },
      "execution_count": null,
      "outputs": []
    },
    {
      "cell_type": "code",
      "source": [
        "fruits[:]"
      ],
      "metadata": {
        "id": "6ezXXZPDb3-N"
      },
      "execution_count": null,
      "outputs": []
    },
    {
      "cell_type": "code",
      "source": [],
      "metadata": {
        "id": "aBA_rOcdb548"
      },
      "execution_count": null,
      "outputs": []
    },
    {
      "cell_type": "code",
      "source": [
        "my_tuple = (1, 2, 3, \"Python\", True)"
      ],
      "metadata": {
        "id": "R5I75OuZhm4X"
      },
      "execution_count": null,
      "outputs": []
    },
    {
      "cell_type": "code",
      "source": [
        "# 建立一個元組\n",
        "coordinates = (10, 20)\n",
        "\n",
        "# 取得元素\n",
        "print(coordinates[0])  # 輸出 10\n",
        "\n",
        "# 嘗試修改元素會導致錯誤\n",
        "# coordinates[0] = 15  # TypeError: 'tuple' object does not support item assignment"
      ],
      "metadata": {
        "id": "UAyFiupXcAYU"
      },
      "execution_count": null,
      "outputs": []
    },
    {
      "cell_type": "code",
      "source": [
        "x, y = coordinates\n",
        "print(x)  # 輸出 10\n",
        "print(y)  # 輸出 20"
      ],
      "metadata": {
        "id": "ZKXcDLrfcBDU"
      },
      "execution_count": null,
      "outputs": []
    },
    {
      "cell_type": "code",
      "source": [
        "print(len(coordinates))  # 輸出 2"
      ],
      "metadata": {
        "id": "8o8PTOIAcDi3"
      },
      "execution_count": null,
      "outputs": []
    },
    {
      "cell_type": "code",
      "source": [],
      "metadata": {
        "id": "bDE8KD31cFUF"
      },
      "execution_count": null,
      "outputs": []
    },
    {
      "cell_type": "code",
      "source": [
        "my_dict = {\"name\": \"Alice\", \"age\": 25, \"is_student\": True}\n",
        "my_dict[\"city\"] = \"New York\"  # 新增\n",
        "my_dict[\"age\"] = 26          # 修改"
      ],
      "metadata": {
        "id": "j1WWoqSzbgMY"
      },
      "execution_count": null,
      "outputs": []
    },
    {
      "cell_type": "code",
      "source": [
        "# 建立一個字典\n",
        "student = {\n",
        "    \"name\": \"Alice\",\n",
        "    \"age\": 25,\n",
        "    \"courses\": [\"Math\", \"Physics\"]\n",
        "}\n",
        "print(student.items())\n",
        "print()\n",
        "# 取得值\n",
        "print(student[\"name\"])  # 輸出 \"Alice\"\n",
        "print()\n",
        "# 新增或更新鍵值對\n",
        "student[\"age\"] = 26     # 修改現有鍵 \"age\"\n",
        "print(student.items())\n",
        "print()\n",
        "student[\"gender\"] = \"F\" # 新增新鍵 \"gender\"\n",
        "print(student.items())\n",
        "print()\n",
        "# 刪除鍵值對\n",
        "del student[\"courses\"]  # 刪除鍵 \"courses\"\n",
        "print(student.items())\n",
        "print()\n",
        "# 取得字典所有鍵、值或鍵值對\n",
        "print(student.keys())    # dict_keys(['name', 'age', 'gender'])\n",
        "print(student.values())  # dict_values(['Alice', 26, 'F'])\n",
        "print(student.items())   # dict_items([('name', 'Alice'), ('age', 26), ('gender', 'F')])"
      ],
      "metadata": {
        "id": "wMmtGjxVcJhl"
      },
      "execution_count": null,
      "outputs": []
    },
    {
      "cell_type": "code",
      "source": [
        "print(student.get(\"address\", \"Not found\"))  # 若無 \"address\" 這個鍵，回傳 \"Not found\""
      ],
      "metadata": {
        "id": "fKjPGTS3bgAA"
      },
      "execution_count": null,
      "outputs": []
    },
    {
      "cell_type": "code",
      "source": [
        "print(\"name\" in student)  # True"
      ],
      "metadata": {
        "id": "Z5ouzBTQcNFg"
      },
      "execution_count": null,
      "outputs": []
    },
    {
      "cell_type": "code",
      "source": [
        "for key, value in student.items():\n",
        "    print(key, \":\", value)"
      ],
      "metadata": {
        "id": "jE-VU9XhcOYk"
      },
      "execution_count": null,
      "outputs": []
    },
    {
      "cell_type": "markdown",
      "source": [
        "# 07.迴圈"
      ],
      "metadata": {
        "id": "1t9_tocyhnJQ"
      }
    },
    {
      "cell_type": "code",
      "source": [
        "fruits = [\"apple\", \"banana\", \"cherry\"]\n",
        "for fruit in fruits:\n",
        "    print(fruit)"
      ],
      "metadata": {
        "id": "pz5wHIsyhqen"
      },
      "execution_count": null,
      "outputs": []
    },
    {
      "cell_type": "code",
      "source": [
        "message = \"Hello\"\n",
        "for char in message:\n",
        "    print(char)"
      ],
      "metadata": {
        "id": "rCW6-z0VhqtX"
      },
      "execution_count": null,
      "outputs": []
    },
    {
      "cell_type": "code",
      "source": [
        "for i in range(1, 6):  # 產生 1 到 5 的數字\n",
        "    print(i)"
      ],
      "metadata": {
        "id": "xHc9Bwx0cbDP"
      },
      "execution_count": null,
      "outputs": []
    },
    {
      "cell_type": "code",
      "source": [
        "student_scores = {\"Alice\": 85, \"Bob\": 92, \"Carol\": 78}\n",
        "for name, score in student_scores.items():\n",
        "    print(f\"{name}: {score}\")"
      ],
      "metadata": {
        "id": "lRnV_-eqcf6s"
      },
      "execution_count": null,
      "outputs": []
    },
    {
      "cell_type": "code",
      "source": [
        "for i in range(1, 4):\n",
        "    for j in range(1, 4):\n",
        "        print(f\"i={i}, j={j}\")"
      ],
      "metadata": {
        "id": "a3ANz1hZchf_"
      },
      "execution_count": null,
      "outputs": []
    },
    {
      "cell_type": "code",
      "source": [
        "# 1. 使用 range() 搭配 for 迴圈\n",
        "for i in range(5):\n",
        "    print(\"數字是：\", i)\n",
        "# 輸出結果：0, 1, 2, 3, 4\n",
        "\n",
        "# 2. 遍歷字串中的每一個字元\n",
        "word = \"Python\"\n",
        "for char in word:\n",
        "    print(char,end=\" \")\n",
        "print()\n",
        "# 輸出結果：P, y, t, h, o, n\n",
        "\n",
        "# 3. 遍歷清單中的每一個元素\n",
        "fruits = [\"apple\", \"banana\", \"cherry\"]\n",
        "for fruit in fruits:\n",
        "    print(\"水果：\", fruit)\n",
        "# 輸出結果：apple, banana, cherry"
      ],
      "metadata": {
        "id": "C8IzPGc-cjVI"
      },
      "execution_count": null,
      "outputs": []
    },
    {
      "cell_type": "code",
      "source": [
        "for i in range(5):\n",
        "    if i == 2:\n",
        "        break     # 當 i==2 時結束迴圈\n",
        "    print(i)\n",
        "# 輸出結果：0, 1\n",
        "print()\n",
        "for i in range(5):\n",
        "    if i == 2:\n",
        "        continue  # 當 i==2 時跳過當前次迴圈，其餘繼續執行\n",
        "    print(i)\n",
        "# 輸出結果：0, 1, 3, 4"
      ],
      "metadata": {
        "id": "T8oGycIjcmXp"
      },
      "execution_count": null,
      "outputs": []
    },
    {
      "cell_type": "code",
      "source": [],
      "metadata": {
        "id": "pGpo48BBcxP_"
      },
      "execution_count": null,
      "outputs": []
    },
    {
      "cell_type": "code",
      "source": [
        "count = 1\n",
        "while count <= 5:\n",
        "    print(count)\n",
        "    count += 1"
      ],
      "metadata": {
        "id": "gTlf9QaUcwry"
      },
      "execution_count": null,
      "outputs": []
    },
    {
      "cell_type": "code",
      "source": [
        "while True:\n",
        "    user_input = input(\"輸入 'q' 結束：\")\n",
        "    if user_input == \"q\":\n",
        "        break"
      ],
      "metadata": {
        "id": "53AgYomjczmO"
      },
      "execution_count": null,
      "outputs": []
    },
    {
      "cell_type": "code",
      "source": [
        "principal = 10000\n",
        "year = 0\n",
        "interest_rate = 0.01\n",
        "while principal < 20000:\n",
        "    principal *= (1 + interest_rate)\n",
        "    year += 1\n",
        "print(year)"
      ],
      "metadata": {
        "id": "CV-ffzJ6c1Nd"
      },
      "execution_count": null,
      "outputs": []
    },
    {
      "cell_type": "code",
      "source": [
        "for i in range(10):\n",
        "    if i == 5:\n",
        "        break\n",
        "    print(i)"
      ],
      "metadata": {
        "id": "7c6OoT_4c2_d"
      },
      "execution_count": null,
      "outputs": []
    },
    {
      "cell_type": "code",
      "source": [
        "for i in range(10):\n",
        "    if i % 2 == 0:\n",
        "        continue\n",
        "    print(i)"
      ],
      "metadata": {
        "id": "TH3Mukzac4tX"
      },
      "execution_count": null,
      "outputs": []
    },
    {
      "cell_type": "code",
      "source": [
        "for i in range(5):\n",
        "    print(i)\n",
        "else:\n",
        "    print(\"迴圈結束\")"
      ],
      "metadata": {
        "id": "ycdfaHcoc6zl"
      },
      "execution_count": null,
      "outputs": []
    },
    {
      "cell_type": "code",
      "source": [
        "for i in range(1, 11):\n",
        "    print(i)"
      ],
      "metadata": {
        "id": "g4lxiV92c8QY"
      },
      "execution_count": null,
      "outputs": []
    },
    {
      "cell_type": "code",
      "source": [
        "i = 1\n",
        "while i <= 10:\n",
        "    print(i)\n",
        "    i += 1"
      ],
      "metadata": {
        "id": "IJvrLMbzc-dw"
      },
      "execution_count": null,
      "outputs": []
    },
    {
      "cell_type": "code",
      "source": [],
      "metadata": {
        "id": "j2oRyr1Kc_3Q"
      },
      "execution_count": null,
      "outputs": []
    },
    {
      "cell_type": "code",
      "source": [
        "count = 0\n",
        "while count < 3:\n",
        "    print(\"目前 count =\", count)\n",
        "    count += 1\n",
        "# 輸出結果：\n",
        "# 目前 count = 0\n",
        "# 目前 count = 1\n",
        "# 目前 count = 2"
      ],
      "metadata": {
        "id": "fS4xRC5fcpDH"
      },
      "execution_count": null,
      "outputs": []
    },
    {
      "cell_type": "code",
      "source": [
        "mport random\n",
        "\n",
        "target = random.randint(1, 10)  # 隨機產生 1~10 之間的整數\n",
        "guess = None\n",
        "\n",
        "while guess != target:\n",
        "    guess = int(input(\"請猜一個 1~10 的整數：\"))\n",
        "\n",
        "    if guess < target:\n",
        "        print(\"再大一點～\")\n",
        "    elif guess > target:\n",
        "        print(\"再小一點～\")\n",
        "    else:\n",
        "        print(\"恭喜猜對了！\")"
      ],
      "metadata": {
        "id": "g91DtleVcrMY"
      },
      "execution_count": null,
      "outputs": []
    },
    {
      "cell_type": "code",
      "source": [],
      "metadata": {
        "id": "xrUN4G9aco14"
      },
      "execution_count": null,
      "outputs": []
    },
    {
      "cell_type": "code",
      "source": [],
      "metadata": {
        "id": "jIYLYyb-ca1t"
      },
      "execution_count": null,
      "outputs": []
    },
    {
      "cell_type": "markdown",
      "source": [
        "# 08.模組"
      ],
      "metadata": {
        "id": "2-KgQmu8hq7_"
      }
    },
    {
      "cell_type": "code",
      "source": [
        "import math\n",
        "print(math.sqrt(16))  # 輸出: 4.0"
      ],
      "metadata": {
        "id": "tvtDIlkmdKNN"
      },
      "execution_count": null,
      "outputs": []
    },
    {
      "cell_type": "code",
      "source": [
        "from math import sqrt, pi\n",
        "print(sqrt(16))  # 輸出: 4.0\n",
        "print(pi)        # 輸出: 3.141592653589793"
      ],
      "metadata": {
        "id": "2ap129OUdXYQ"
      },
      "execution_count": null,
      "outputs": []
    },
    {
      "cell_type": "code",
      "source": [
        "import math as m\n",
        "print(m.sqrt(16))  # 輸出: 4.0"
      ],
      "metadata": {
        "id": "MxDLXVHLdXMX"
      },
      "execution_count": null,
      "outputs": []
    },
    {
      "cell_type": "code",
      "source": [
        "import my_module2\n",
        "\n",
        "print(my_module2.greet(\"Alice\"))  # 輸出: Hello, Alice!\n",
        "print(my_module2.add(5, 3))       # 輸出: 8\n",
        "print(my_module2.pi)              # 輸出: 3.14159"
      ],
      "metadata": {
        "id": "EvgStu_MdXB8"
      },
      "execution_count": null,
      "outputs": []
    },
    {
      "cell_type": "code",
      "source": [],
      "metadata": {
        "id": "FLHe2fYldMTQ"
      },
      "execution_count": null,
      "outputs": []
    },
    {
      "cell_type": "markdown",
      "source": [
        "# 09.檔案管理與例外處理\n"
      ],
      "metadata": {
        "id": "UbCxnLSndMlH"
      }
    },
    {
      "cell_type": "code",
      "source": [
        "# 寫入檔案\n",
        "with open('example.txt', 'w', encoding='utf-8') as f:\n",
        "    f.write(\"Hello, Python!\\n\")\n",
        "\n",
        "# 讀取檔案\n",
        "with open('example.txt', 'r', encoding='utf-8') as f:\n",
        "    content = f.read()\n",
        "    print(content)\n",
        "\n",
        "# 追加內容\n",
        "with open('example.txt', 'a', encoding='utf-8') as f:\n",
        "    f.write(\"Welcome to file handling.\\n\")"
      ],
      "metadata": {
        "id": "pMjQK30CdO7d"
      },
      "execution_count": null,
      "outputs": []
    },
    {
      "cell_type": "code",
      "source": [],
      "metadata": {
        "id": "L5ZJCPNqdPMt"
      },
      "execution_count": null,
      "outputs": []
    },
    {
      "cell_type": "code",
      "source": [
        "with open('example.txt', 'r+', encoding='utf-8') as f:\n",
        "    f.seek(0, 2)  # 移動到檔案末尾\n",
        "    f.write(\"\\nThis is a new line.\")\n",
        "    f.seek(0)  # 移動到檔案開頭\n",
        "    print(f.read(10))  # 讀取前10個字元"
      ],
      "metadata": {
        "id": "ZJt7p-0AeiH_"
      },
      "execution_count": null,
      "outputs": []
    },
    {
      "cell_type": "code",
      "source": [],
      "metadata": {
        "id": "KrLsovi1elmo"
      },
      "execution_count": null,
      "outputs": []
    },
    {
      "cell_type": "code",
      "source": [
        "try:\n",
        "    # 可能引發例外的程式碼\n",
        "    result = 10 / 0\n",
        "except ZeroDivisionError:\n",
        "    print(\"無法除以零！\")"
      ],
      "metadata": {
        "id": "2I1F2o-0elbJ"
      },
      "execution_count": null,
      "outputs": []
    },
    {
      "cell_type": "code",
      "source": [
        "try:\n",
        "    with open('nonexistent.txt', 'r') as f:\n",
        "        content = f.read()\n",
        "except FileNotFoundError:\n",
        "    print(\"檔案不存在！\")\n",
        "except Exception as e:\n",
        "    print(f\"發生未知錯誤：{e}\")"
      ],
      "metadata": {
        "id": "sk9rH1SEepwf"
      },
      "execution_count": null,
      "outputs": []
    },
    {
      "cell_type": "code",
      "source": [
        "try:\n",
        "    with open('example.txt', 'r') as f:\n",
        "        content = f.read()\n",
        "except FileNotFoundError:\n",
        "    print(\"檔案不存在！\")\n",
        "else:\n",
        "    print(\"檔案內容：\", content)\n",
        "finally:\n",
        "    print(\"檔案操作完成。\")"
      ],
      "metadata": {
        "id": "xZR25eq4eptW"
      },
      "execution_count": null,
      "outputs": []
    },
    {
      "cell_type": "code",
      "source": [
        "def check_positive(value):\n",
        "    if value < 0:\n",
        "        raise ValueError(\"值不能為負數！\")\n",
        "    return value\n",
        "\n",
        "try:\n",
        "    check_positive(-1)\n",
        "except ValueError as e:\n",
        "    print(e)"
      ],
      "metadata": {
        "id": "xeisA4UCepqO"
      },
      "execution_count": null,
      "outputs": []
    },
    {
      "cell_type": "code",
      "source": [
        "try:\n",
        "    with open('example.txt', 'r') as f:\n",
        "        content = f.read()\n",
        "        print(content)\n",
        "except FileNotFoundError:\n",
        "    print(\"檔案不存在，請確認路徑！\")\n",
        "except Exception as e:\n",
        "    print(f\"發生錯誤：{e}\")\n",
        "finally:\n",
        "    print(\"檔案操作結束。\")"
      ],
      "metadata": {
        "id": "GKAtGRVEepjv"
      },
      "execution_count": null,
      "outputs": []
    }
  ]
}