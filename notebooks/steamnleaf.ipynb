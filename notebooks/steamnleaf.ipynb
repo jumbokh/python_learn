{
  "nbformat": 4,
  "nbformat_minor": 0,
  "metadata": {
    "colab": {
      "name": "steamnleaf.ipynb",
      "provenance": [],
      "authorship_tag": "ABX9TyNblQ1awpMJv5NY5jKHx14N",
      "include_colab_link": true
    },
    "kernelspec": {
      "name": "python3",
      "display_name": "Python 3"
    },
    "language_info": {
      "name": "python"
    }
  },
  "cells": [
    {
      "cell_type": "markdown",
      "metadata": {
        "id": "view-in-github",
        "colab_type": "text"
      },
      "source": [
        "<a href=\"https://colab.research.google.com/github/jumbokh/python_learn/blob/master/notebooks/steamnleaf.ipynb\" target=\"_parent\"><img src=\"https://colab.research.google.com/assets/colab-badge.svg\" alt=\"Open In Colab\"/></a>"
      ]
    },
    {
      "cell_type": "code",
      "execution_count": 2,
      "metadata": {
        "colab": {
          "base_uri": "https://localhost:8080/"
        },
        "id": "SzlrvPohAXdJ",
        "outputId": "30e25505-4a96-4843-f3cf-ab3c029c2530"
      },
      "outputs": [
        {
          "output_type": "stream",
          "name": "stdout",
          "text": [
            "[0, 0, 0, 0, 0, 2, 2, 2, 3, 3, 3, 3, 3, 4, 4, 4, 4, 5, 5, 5, 5, 6, 6, 7, 7, 7, 8, 9]\n"
          ]
        }
      ],
      "source": [
        "x = [3,9,4,5,6,0,7,8,5,3,2,3,4,7,2,0,2,6,7,4,0,0,5,5,3,0,3,4]\n",
        "y= sorted(x)\n",
        "print(y)"
      ]
    },
    {
      "cell_type": "code",
      "source": [
        ""
      ],
      "metadata": {
        "id": "GbqZOsYuAqD-"
      },
      "execution_count": null,
      "outputs": []
    }
  ]
}