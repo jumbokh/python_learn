{
  "nbformat": 4,
  "nbformat_minor": 0,
  "metadata": {
    "colab": {
      "name": "permcomb.ipynb",
      "provenance": [],
      "authorship_tag": "ABX9TyMgt7KkaJIUYUiFYR5C7Stq",
      "include_colab_link": true
    },
    "kernelspec": {
      "name": "python3",
      "display_name": "Python 3"
    },
    "language_info": {
      "name": "python"
    }
  },
  "cells": [
    {
      "cell_type": "markdown",
      "metadata": {
        "id": "view-in-github",
        "colab_type": "text"
      },
      "source": [
        "<a href=\"https://colab.research.google.com/github/jumbokh/python_learn/blob/master/notebooks/permcomb.ipynb\" target=\"_parent\"><img src=\"https://colab.research.google.com/assets/colab-badge.svg\" alt=\"Open In Colab\"/></a>"
      ]
    },
    {
      "cell_type": "code",
      "source": [
        "n=5\n",
        "k=2"
      ],
      "metadata": {
        "id": "i-cCK8orMqKd"
      },
      "execution_count": 2,
      "outputs": []
    },
    {
      "cell_type": "code",
      "source": [
        "from itertools import permutations"
      ],
      "metadata": {
        "id": "jX5PhEn3NrIJ"
      },
      "execution_count": 3,
      "outputs": []
    },
    {
      "cell_type": "code",
      "source": [
        "print(list(permutations(\"ABCD\",2)))"
      ],
      "metadata": {
        "colab": {
          "base_uri": "https://localhost:8080/"
        },
        "id": "PdCMMFabOD1Z",
        "outputId": "8818dae2-fa7c-4e77-abce-67a528c71bfd"
      },
      "execution_count": 4,
      "outputs": [
        {
          "output_type": "stream",
          "name": "stdout",
          "text": [
            "[('A', 'B'), ('A', 'C'), ('A', 'D'), ('B', 'A'), ('B', 'C'), ('B', 'D'), ('C', 'A'), ('C', 'B'), ('C', 'D'), ('D', 'A'), ('D', 'B'), ('D', 'C')]\n"
          ]
        }
      ]
    },
    {
      "cell_type": "code",
      "source": [
        "from scipy.special import comb, perm"
      ],
      "metadata": {
        "id": "QqpwJXtQOJkZ"
      },
      "execution_count": 5,
      "outputs": []
    },
    {
      "cell_type": "code",
      "source": [
        "perm(3, 2) # 有序"
      ],
      "metadata": {
        "colab": {
          "base_uri": "https://localhost:8080/"
        },
        "id": "5fWE9eUeOlQA",
        "outputId": "a05299a3-98ba-4ffc-8f5b-c95c76811b72"
      },
      "execution_count": 6,
      "outputs": [
        {
          "output_type": "execute_result",
          "data": {
            "text/plain": [
              "6.0"
            ]
          },
          "metadata": {},
          "execution_count": 6
        }
      ]
    },
    {
      "cell_type": "code",
      "source": [
        "comb(3, 2) # 无序"
      ],
      "metadata": {
        "colab": {
          "base_uri": "https://localhost:8080/"
        },
        "id": "YIyDm-BuOujY",
        "outputId": "21ebd0d7-17fd-476b-93bf-8c41218b9e0f"
      },
      "execution_count": 7,
      "outputs": [
        {
          "output_type": "execute_result",
          "data": {
            "text/plain": [
              "3.0"
            ]
          },
          "metadata": {},
          "execution_count": 7
        }
      ]
    },
    {
      "cell_type": "code",
      "source": [
        "comb(n,k)"
      ],
      "metadata": {
        "colab": {
          "base_uri": "https://localhost:8080/"
        },
        "id": "jh9IxzX5O2O4",
        "outputId": "3c636584-fd00-421f-dd7c-fc94437e8cd6"
      },
      "execution_count": 8,
      "outputs": [
        {
          "output_type": "execute_result",
          "data": {
            "text/plain": [
              "10.0"
            ]
          },
          "metadata": {},
          "execution_count": 8
        }
      ]
    },
    {
      "cell_type": "code",
      "source": [
        "n = [5,6,7]"
      ],
      "metadata": {
        "id": "A-sbor37O504"
      },
      "execution_count": 9,
      "outputs": []
    },
    {
      "cell_type": "code",
      "source": [
        "for i in n:\n",
        "  print(comb(i,3))"
      ],
      "metadata": {
        "colab": {
          "base_uri": "https://localhost:8080/"
        },
        "id": "m3irYdjQPRXf",
        "outputId": "1f953427-2325-48b8-d149-c7ece5d13b51"
      },
      "execution_count": 10,
      "outputs": [
        {
          "output_type": "stream",
          "name": "stdout",
          "text": [
            "10.0\n",
            "20.0\n",
            "35.0\n"
          ]
        }
      ]
    },
    {
      "cell_type": "code",
      "source": [
        "# 12台 3台故障, 買5台5台至少2台故障"
      ],
      "metadata": {
        "id": "t4aItyKSPYXW"
      },
      "execution_count": 11,
      "outputs": []
    },
    {
      "cell_type": "code",
      "source": [
        "print(comb(3,2)*comb(9,3)+comb(3,3)*comb(9,2))"
      ],
      "metadata": {
        "colab": {
          "base_uri": "https://localhost:8080/"
        },
        "id": "HsNE7-RiR-GU",
        "outputId": "ee55ed08-497a-494e-f294-227aa18bc199"
      },
      "execution_count": 12,
      "outputs": [
        {
          "output_type": "stream",
          "name": "stdout",
          "text": [
            "288.0\n"
          ]
        }
      ]
    },
    {
      "cell_type": "code",
      "source": [
        "print(comb(3,1)*comb(4,1)*comb(3,1))"
      ],
      "metadata": {
        "colab": {
          "base_uri": "https://localhost:8080/"
        },
        "id": "w3bojlsYSS4r",
        "outputId": "369bad30-87ca-42b3-fcc5-a8024f0227d9"
      },
      "execution_count": 13,
      "outputs": [
        {
          "output_type": "stream",
          "name": "stdout",
          "text": [
            "36.0\n"
          ]
        }
      ]
    },
    {
      "cell_type": "code",
      "source": [
        "Ts = list([x for x in range(1,6)])\n",
        "print(Ts)"
      ],
      "metadata": {
        "id": "-cagvF59UA5Y",
        "colab": {
          "base_uri": "https://localhost:8080/"
        },
        "outputId": "48bf3eed-de10-4838-eb00-128310947bf5"
      },
      "execution_count": 14,
      "outputs": [
        {
          "output_type": "stream",
          "name": "stdout",
          "text": [
            "[1, 2, 3, 4, 5]\n"
          ]
        }
      ]
    },
    {
      "cell_type": "code",
      "source": [
        "tt = []\n",
        "for i in Ts:\n",
        "  n = 'TT'+str(i)\n",
        "  tt.append(n)\n",
        "print(tt)"
      ],
      "metadata": {
        "colab": {
          "base_uri": "https://localhost:8080/"
        },
        "id": "Pe1LiPVZpbxh",
        "outputId": "d7565bba-3f9d-4a3a-dba6-94c45d6e73bc"
      },
      "execution_count": 15,
      "outputs": [
        {
          "output_type": "stream",
          "name": "stdout",
          "text": [
            "['TT1', 'TT2', 'TT3', 'TT4', 'TT5']\n"
          ]
        }
      ]
    },
    {
      "cell_type": "code",
      "source": [
        "Ps = list([x for x in range(1,4)])\n",
        "print(Ps)"
      ],
      "metadata": {
        "colab": {
          "base_uri": "https://localhost:8080/"
        },
        "id": "ikJfSNH3qByI",
        "outputId": "801186eb-83b9-412a-a88d-60191af40a7e"
      },
      "execution_count": 16,
      "outputs": [
        {
          "output_type": "stream",
          "name": "stdout",
          "text": [
            "[1, 2, 3]\n"
          ]
        }
      ]
    },
    {
      "cell_type": "code",
      "source": [
        "PP = []\n",
        "for i in Ps:\n",
        "  n = 'PP'+str(i)\n",
        "  PP.append(n)\n",
        "print(PP)"
      ],
      "metadata": {
        "colab": {
          "base_uri": "https://localhost:8080/"
        },
        "id": "dG0bMELdrITG",
        "outputId": "7900da80-e2a9-4861-c86d-43039d0148d3"
      },
      "execution_count": 17,
      "outputs": [
        {
          "output_type": "stream",
          "name": "stdout",
          "text": [
            "['PP1', 'PP2', 'PP3']\n"
          ]
        }
      ]
    },
    {
      "cell_type": "code",
      "source": [
        "print(list(permutations(tt,1)))"
      ],
      "metadata": {
        "colab": {
          "base_uri": "https://localhost:8080/"
        },
        "id": "sgXrHu4jrU8H",
        "outputId": "352cc5e9-bc91-428a-a997-9d8ec4648d57"
      },
      "execution_count": 18,
      "outputs": [
        {
          "output_type": "stream",
          "name": "stdout",
          "text": [
            "[('TT1',), ('TT2',), ('TT3',), ('TT4',), ('TT5',)]\n"
          ]
        }
      ]
    },
    {
      "cell_type": "code",
      "source": [
        "def product(*args, repeat=1):\n",
        "    # product('ABCD', 'xy') --> Ax Ay Bx By Cx Cy Dx Dy\n",
        "    # product(range(2), repeat=3) --> 000 001 010 011 100 101 110 111\n",
        "    pools = [tuple(pool) for pool in args] * repeat\n",
        "    result = [[]]\n",
        "    for pool in pools:\n",
        "        result = [x+[y] for x in result for y in pool]\n",
        "    for prod in result:\n",
        "        yield tuple(prod)"
      ],
      "metadata": {
        "id": "0pJcQojoris2"
      },
      "execution_count": 19,
      "outputs": []
    },
    {
      "cell_type": "code",
      "source": [
        "xx = product(PP,tt)"
      ],
      "metadata": {
        "id": "HTyPeY2fMqkU"
      },
      "execution_count": 20,
      "outputs": []
    },
    {
      "cell_type": "code",
      "source": [
        "print(xx)"
      ],
      "metadata": {
        "colab": {
          "base_uri": "https://localhost:8080/"
        },
        "id": "usnNUejBM1-a",
        "outputId": "f40f194f-9691-4bb1-8133-c6bd4bcb75b2"
      },
      "execution_count": 21,
      "outputs": [
        {
          "output_type": "stream",
          "name": "stdout",
          "text": [
            "<generator object product at 0x7f85a59e48d0>\n"
          ]
        }
      ]
    },
    {
      "cell_type": "code",
      "source": [
        "xs = []\n",
        "for x1,x2 in xx:\n",
        "   xs.append([x1,x2])\n",
        "   print(x1,x2)"
      ],
      "metadata": {
        "colab": {
          "base_uri": "https://localhost:8080/"
        },
        "id": "6mAjQTRdNlDx",
        "outputId": "b16273cf-3b85-4419-cb23-5eb47a4915e4"
      },
      "execution_count": 22,
      "outputs": [
        {
          "output_type": "stream",
          "name": "stdout",
          "text": [
            "PP1 TT1\n",
            "PP1 TT2\n",
            "PP1 TT3\n",
            "PP1 TT4\n",
            "PP1 TT5\n",
            "PP2 TT1\n",
            "PP2 TT2\n",
            "PP2 TT3\n",
            "PP2 TT4\n",
            "PP2 TT5\n",
            "PP3 TT1\n",
            "PP3 TT2\n",
            "PP3 TT3\n",
            "PP3 TT4\n",
            "PP3 TT5\n"
          ]
        }
      ]
    },
    {
      "cell_type": "code",
      "source": [
        "print(xs)"
      ],
      "metadata": {
        "colab": {
          "base_uri": "https://localhost:8080/"
        },
        "id": "xSY2OSstNqzC",
        "outputId": "6860d31f-092a-476b-a9e1-62421d2414d6"
      },
      "execution_count": 23,
      "outputs": [
        {
          "output_type": "stream",
          "name": "stdout",
          "text": [
            "[['PP1', 'TT1'], ['PP1', 'TT2'], ['PP1', 'TT3'], ['PP1', 'TT4'], ['PP1', 'TT5'], ['PP2', 'TT1'], ['PP2', 'TT2'], ['PP2', 'TT3'], ['PP2', 'TT4'], ['PP2', 'TT5'], ['PP3', 'TT1'], ['PP3', 'TT2'], ['PP3', 'TT3'], ['PP3', 'TT4'], ['PP3', 'TT5']]\n"
          ]
        }
      ]
    },
    {
      "cell_type": "code",
      "source": [
        "import itertools\n",
        "print(list(itertools.combinations_with_replacement('HT',4)))"
      ],
      "metadata": {
        "id": "rzc9U85FO9h3",
        "colab": {
          "base_uri": "https://localhost:8080/"
        },
        "outputId": "fc71b3be-f8f6-4143-cdad-77b311aab843"
      },
      "execution_count": 31,
      "outputs": [
        {
          "output_type": "stream",
          "name": "stdout",
          "text": [
            "[('H', 'H', 'H', 'H'), ('H', 'H', 'H', 'T'), ('H', 'H', 'T', 'T'), ('H', 'T', 'T', 'T'), ('T', 'T', 'T', 'T')]\n"
          ]
        }
      ]
    },
    {
      "cell_type": "code",
      "source": [
        "items = ['H','T']\n",
        "for i in itertools.combinations_with_replacement(items,4):\n",
        "    print(i) #排列組合"
      ],
      "metadata": {
        "colab": {
          "base_uri": "https://localhost:8080/"
        },
        "id": "dCvP0jcDvobh",
        "outputId": "b47f69b4-ae6e-480b-9191-e8fbd0509e50"
      },
      "execution_count": 35,
      "outputs": [
        {
          "output_type": "stream",
          "name": "stdout",
          "text": [
            "('H', 'H', 'H', 'H')\n",
            "('H', 'H', 'H', 'T')\n",
            "('H', 'H', 'T', 'T')\n",
            "('H', 'T', 'T', 'T')\n",
            "('T', 'T', 'T', 'T')\n"
          ]
        }
      ]
    },
    {
      "cell_type": "code",
      "source": [
        "from itertools import permutations\n",
        "items = ['H','T']\n",
        "for n in range(3,4):\n",
        "   for i in range(n+1):\n",
        "     print()"
      ],
      "metadata": {
        "id": "pVh8FkMKyAKR"
      },
      "execution_count": 37,
      "outputs": []
    },
    {
      "cell_type": "code",
      "source": [
        "items = ['0','1']\n",
        "from itertools import permutations\n",
        "for i in permutations(items):\n",
        "    print(i) #排列組合\n",
        "\n",
        "print(list(itertools.combinations_with_replacement(items,4))) "
      ],
      "metadata": {
        "colab": {
          "base_uri": "https://localhost:8080/"
        },
        "id": "bTn3dR1oz8nf",
        "outputId": "0662ab45-b0e3-428d-d0b2-5922571719d6"
      },
      "execution_count": 41,
      "outputs": [
        {
          "output_type": "stream",
          "name": "stdout",
          "text": [
            "('0', '1')\n",
            "('1', '0')\n",
            "[('0', '0', '0', '0'), ('0', '0', '0', '1'), ('0', '0', '1', '1'), ('0', '1', '1', '1'), ('1', '1', '1', '1')]\n"
          ]
        }
      ]
    },
    {
      "cell_type": "code",
      "source": [
        "from itertools import product\n",
        "x = list(product('TH','TH','TH'))\n",
        "for i,d in enumerate(x):\n",
        "  print('{:2d}: {}'.format(i,d))"
      ],
      "metadata": {
        "colab": {
          "base_uri": "https://localhost:8080/"
        },
        "id": "VPv9cCT66Ip8",
        "outputId": "05c2f30f-912d-4af3-cce6-a76e7a1c70e8"
      },
      "execution_count": 51,
      "outputs": [
        {
          "output_type": "stream",
          "name": "stdout",
          "text": [
            " 0: ('T', 'T', 'T')\n",
            " 1: ('T', 'T', 'H')\n",
            " 2: ('T', 'H', 'T')\n",
            " 3: ('T', 'H', 'H')\n",
            " 4: ('H', 'T', 'T')\n",
            " 5: ('H', 'T', 'H')\n",
            " 6: ('H', 'H', 'T')\n",
            " 7: ('H', 'H', 'H')\n"
          ]
        }
      ]
    },
    {
      "cell_type": "code",
      "source": [
        "from itertools import product\n",
        "x = list(product('TH', 'TH','TH','TH'))\n",
        "for i,d in enumerate(x):\n",
        "  print('{:2d}: {}'.format(i,d))"
      ],
      "metadata": {
        "colab": {
          "base_uri": "https://localhost:8080/"
        },
        "id": "Zy7wnqFP1ibC",
        "outputId": "53ba1bf0-59de-4e47-e5b9-ac27ef247303"
      },
      "execution_count": 50,
      "outputs": [
        {
          "output_type": "stream",
          "name": "stdout",
          "text": [
            " 0: ('T', 'T', 'T', 'T')\n",
            " 1: ('T', 'T', 'T', 'H')\n",
            " 2: ('T', 'T', 'H', 'T')\n",
            " 3: ('T', 'T', 'H', 'H')\n",
            " 4: ('T', 'H', 'T', 'T')\n",
            " 5: ('T', 'H', 'T', 'H')\n",
            " 6: ('T', 'H', 'H', 'T')\n",
            " 7: ('T', 'H', 'H', 'H')\n",
            " 8: ('H', 'T', 'T', 'T')\n",
            " 9: ('H', 'T', 'T', 'H')\n",
            "10: ('H', 'T', 'H', 'T')\n",
            "11: ('H', 'T', 'H', 'H')\n",
            "12: ('H', 'H', 'T', 'T')\n",
            "13: ('H', 'H', 'T', 'H')\n",
            "14: ('H', 'H', 'H', 'T')\n",
            "15: ('H', 'H', 'H', 'H')\n"
          ]
        }
      ]
    },
    {
      "cell_type": "code",
      "source": [
        "from itertools import product\n",
        "x = list(product('10','10','10','10'))\n",
        "for i,d in enumerate(x):\n",
        "  print('{:2d}: {}'.format(i,d))"
      ],
      "metadata": {
        "colab": {
          "base_uri": "https://localhost:8080/"
        },
        "id": "iaZ25n875KYl",
        "outputId": "688745ea-0d3e-4b11-dace-01087e2400a7"
      },
      "execution_count": 52,
      "outputs": [
        {
          "output_type": "stream",
          "name": "stdout",
          "text": [
            " 0: ('1', '1', '1', '1')\n",
            " 1: ('1', '1', '1', '0')\n",
            " 2: ('1', '1', '0', '1')\n",
            " 3: ('1', '1', '0', '0')\n",
            " 4: ('1', '0', '1', '1')\n",
            " 5: ('1', '0', '1', '0')\n",
            " 6: ('1', '0', '0', '1')\n",
            " 7: ('1', '0', '0', '0')\n",
            " 8: ('0', '1', '1', '1')\n",
            " 9: ('0', '1', '1', '0')\n",
            "10: ('0', '1', '0', '1')\n",
            "11: ('0', '1', '0', '0')\n",
            "12: ('0', '0', '1', '1')\n",
            "13: ('0', '0', '1', '0')\n",
            "14: ('0', '0', '0', '1')\n",
            "15: ('0', '0', '0', '0')\n"
          ]
        }
      ]
    },
    {
      "cell_type": "code",
      "source": [
        ""
      ],
      "metadata": {
        "id": "YCjx08ED63bq"
      },
      "execution_count": null,
      "outputs": []
    }
  ]
}