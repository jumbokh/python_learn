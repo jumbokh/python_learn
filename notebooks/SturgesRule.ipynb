{
  "nbformat": 4,
  "nbformat_minor": 0,
  "metadata": {
    "colab": {
      "name": "SturgesRule.ipynb",
      "provenance": [],
      "collapsed_sections": [],
      "authorship_tag": "ABX9TyMft52O65eumvdheu+2ZpvS",
      "include_colab_link": true
    },
    "kernelspec": {
      "name": "python3",
      "display_name": "Python 3"
    },
    "language_info": {
      "name": "python"
    }
  },
  "cells": [
    {
      "cell_type": "markdown",
      "metadata": {
        "id": "view-in-github",
        "colab_type": "text"
      },
      "source": [
        "<a href=\"https://colab.research.google.com/github/jumbokh/python_learn/blob/master/notebooks/SturgesRule.ipynb\" target=\"_parent\"><img src=\"https://colab.research.google.com/assets/colab-badge.svg\" alt=\"Open In Colab\"/></a>"
      ]
    },
    {
      "cell_type": "code",
      "execution_count": 1,
      "metadata": {
        "colab": {
          "base_uri": "https://localhost:8080/"
        },
        "id": "hEbgBRDWTJ-h",
        "outputId": "bc181fc4-c746-49db-d0c7-d6851d70d74a"
      },
      "outputs": [
        {
          "output_type": "stream",
          "name": "stdout",
          "text": [
            "<_io.TextIOWrapper name='battery.data' mode='r' encoding='UTF-8'>\n"
          ]
        }
      ],
      "source": [
        "import csv\n",
        "f = open('battery.data')\n",
        "print(f)"
      ]
    },
    {
      "cell_type": "code",
      "source": [
        "csvreader = csv.reader(f)"
      ],
      "metadata": {
        "id": "bwlr0uI8TqSt"
      },
      "execution_count": 2,
      "outputs": []
    },
    {
      "cell_type": "code",
      "source": [
        "rows = []\n",
        "for row in csvreader:\n",
        "  rows.append(row)"
      ],
      "metadata": {
        "id": "3Xr92imqTx5j"
      },
      "execution_count": 3,
      "outputs": []
    },
    {
      "cell_type": "code",
      "source": [
        "dat=[]\n",
        "for x in rows[0]:\n",
        "  #print(int(x))\n",
        "  dat.append(int(x))"
      ],
      "metadata": {
        "id": "dYZ4053EVK1r"
      },
      "execution_count": 4,
      "outputs": []
    },
    {
      "cell_type": "code",
      "source": [
        "x1= max(dat)\n",
        "x2= min(dat)\n",
        "r = x1-x2\n",
        "print(x1,x2,r)"
      ],
      "metadata": {
        "colab": {
          "base_uri": "https://localhost:8080/"
        },
        "id": "dFCqWqR_YKvO",
        "outputId": "0b107405-f63e-45c6-f4bd-1409b913eaa7"
      },
      "execution_count": 5,
      "outputs": [
        {
          "output_type": "stream",
          "name": "stdout",
          "text": [
            "4285 14 4271\n"
          ]
        }
      ]
    },
    {
      "cell_type": "code",
      "source": [
        "print(r)"
      ],
      "metadata": {
        "colab": {
          "base_uri": "https://localhost:8080/"
        },
        "id": "OiacLGuEsCAF",
        "outputId": "08ab0e74-3d4e-430f-8a89-d10987640b29"
      },
      "execution_count": 6,
      "outputs": [
        {
          "output_type": "stream",
          "name": "stdout",
          "text": [
            "4271\n"
          ]
        }
      ]
    },
    {
      "cell_type": "code",
      "source": [
        "f.close()"
      ],
      "metadata": {
        "id": "L79587RWVLfZ"
      },
      "execution_count": 7,
      "outputs": []
    },
    {
      "cell_type": "code",
      "source": [
        "import math\n",
        "N = len(dat)\n",
        "k = 1 + math.log(N)/math.log(2)\n",
        "k = math.floor(k)\n",
        "klong = r/k\n",
        "klong = math.ceil(klong)\n",
        "print(klong)"
      ],
      "metadata": {
        "colab": {
          "base_uri": "https://localhost:8080/"
        },
        "id": "b5I4O3HnnZts",
        "outputId": "27beeb10-bc8e-48ec-8aae-3db730036da5"
      },
      "execution_count": 8,
      "outputs": [
        {
          "output_type": "stream",
          "name": "stdout",
          "text": [
            "712\n"
          ]
        }
      ]
    },
    {
      "cell_type": "code",
      "source": [
        "start = x2 - 0.5\n",
        "dat.sort()\n",
        "#print(dat)\n",
        "grp=[]\n",
        "for i in range(int(k)):\n",
        "  #print(start,start+klong)\n",
        "  grp.append((start,start+klong))\n",
        "  start = start+klong\n",
        "print(grp)"
      ],
      "metadata": {
        "colab": {
          "base_uri": "https://localhost:8080/"
        },
        "id": "5yRNBc8koUgk",
        "outputId": "bcda82a8-0511-417f-aab1-b01137edb854"
      },
      "execution_count": 9,
      "outputs": [
        {
          "output_type": "stream",
          "name": "stdout",
          "text": [
            "[(13.5, 725.5), (725.5, 1437.5), (1437.5, 2149.5), (2149.5, 2861.5), (2861.5, 3573.5), (3573.5, 4285.5)]\n"
          ]
        }
      ]
    },
    {
      "cell_type": "code",
      "source": [
        "def count_number(n1,n2,nlist):\n",
        "  count = 0\n",
        "  r1 = int(v1)\n",
        "  r2 = int(v2)\n",
        "  for v in nlist:\n",
        "    if v >= r1 and v <= r2:\n",
        "      count = count+1\n",
        "  return count"
      ],
      "metadata": {
        "id": "DAAg0m-muS0K"
      },
      "execution_count": 17,
      "outputs": []
    },
    {
      "cell_type": "code",
      "source": [
        "y=[]\n",
        "for v1,v2 in grp:\n",
        "  c = count_number(v1,v2,dat)\n",
        "  y.append(c)\n",
        "  print(\"{0:}\\t{1:}\\t{2:}\\t{3:.0%}\".format(v1,v2,c,c/N))"
      ],
      "metadata": {
        "colab": {
          "base_uri": "https://localhost:8080/"
        },
        "id": "tSsknDyQtsau",
        "outputId": "ca930855-5666-4ead-d57a-9afa6a15b1c5"
      },
      "execution_count": 27,
      "outputs": [
        {
          "output_type": "stream",
          "name": "stdout",
          "text": [
            "13.5\t725.5\t24\t48%\n",
            "725.5\t1437.5\t12\t24%\n",
            "1437.5\t2149.5\t4\t8%\n",
            "2149.5\t2861.5\t3\t6%\n",
            "2861.5\t3573.5\t2\t4%\n",
            "3573.5\t4285.5\t5\t10%\n"
          ]
        }
      ]
    },
    {
      "cell_type": "code",
      "source": [
        ""
      ],
      "metadata": {
        "id": "CTKX4ac_WkIO"
      },
      "execution_count": 14,
      "outputs": []
    }
  ]
}