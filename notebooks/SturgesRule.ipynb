{
  "nbformat": 4,
  "nbformat_minor": 0,
  "metadata": {
    "colab": {
      "name": "SturgesRule.ipynb",
      "provenance": [],
      "collapsed_sections": [],
      "authorship_tag": "ABX9TyMX8G59u10OFTTF+az708i4",
      "include_colab_link": true
    },
    "kernelspec": {
      "name": "python3",
      "display_name": "Python 3"
    },
    "language_info": {
      "name": "python"
    }
  },
  "cells": [
    {
      "cell_type": "markdown",
      "metadata": {
        "id": "view-in-github",
        "colab_type": "text"
      },
      "source": [
        "<a href=\"https://colab.research.google.com/github/jumbokh/python_learn/blob/master/notebooks/SturgesRule.ipynb\" target=\"_parent\"><img src=\"https://colab.research.google.com/assets/colab-badge.svg\" alt=\"Open In Colab\"/></a>"
      ]
    },
    {
      "cell_type": "code",
      "execution_count": 28,
      "metadata": {
        "colab": {
          "base_uri": "https://localhost:8080/"
        },
        "id": "hEbgBRDWTJ-h",
        "outputId": "dd2c31ed-c080-479f-d7fd-10b719308851"
      },
      "outputs": [
        {
          "output_type": "stream",
          "name": "stdout",
          "text": [
            "<_io.TextIOWrapper name='battery.data' mode='r' encoding='UTF-8'>\n"
          ]
        }
      ],
      "source": [
        "import csv\n",
        "f = open('battery.data')\n",
        "print(f)"
      ]
    },
    {
      "cell_type": "code",
      "source": [
        "csvreader = csv.reader(f)"
      ],
      "metadata": {
        "id": "bwlr0uI8TqSt"
      },
      "execution_count": 29,
      "outputs": []
    },
    {
      "cell_type": "code",
      "source": [
        "rows = []\n",
        "for row in csvreader:\n",
        "  rows.append(row)"
      ],
      "metadata": {
        "id": "3Xr92imqTx5j"
      },
      "execution_count": 30,
      "outputs": []
    },
    {
      "cell_type": "code",
      "source": [
        "dat=[]\n",
        "for x in rows[0]:\n",
        "  #print(int(x))\n",
        "  dat.append(int(x))"
      ],
      "metadata": {
        "id": "dYZ4053EVK1r"
      },
      "execution_count": 31,
      "outputs": []
    },
    {
      "cell_type": "code",
      "source": [
        "x1= max(dat)\n",
        "x2= min(dat)\n",
        "r = x1-x2\n",
        "print(x1,x2,r)"
      ],
      "metadata": {
        "colab": {
          "base_uri": "https://localhost:8080/"
        },
        "id": "dFCqWqR_YKvO",
        "outputId": "ed45e329-7a3b-421c-d202-750a1670d344"
      },
      "execution_count": 32,
      "outputs": [
        {
          "output_type": "stream",
          "name": "stdout",
          "text": [
            "4285 14 4271\n"
          ]
        }
      ]
    },
    {
      "cell_type": "code",
      "source": [
        "print(r)"
      ],
      "metadata": {
        "colab": {
          "base_uri": "https://localhost:8080/"
        },
        "id": "OiacLGuEsCAF",
        "outputId": "9579dfa9-b686-48e2-ad8f-cb120d4c2798"
      },
      "execution_count": 33,
      "outputs": [
        {
          "output_type": "stream",
          "name": "stdout",
          "text": [
            "4271\n"
          ]
        }
      ]
    },
    {
      "cell_type": "code",
      "source": [
        "f.close()"
      ],
      "metadata": {
        "id": "L79587RWVLfZ"
      },
      "execution_count": 34,
      "outputs": []
    },
    {
      "cell_type": "code",
      "source": [
        "import math\n",
        "N = len(dat)\n",
        "k = 1 + math.log(N)/math.log(2)\n",
        "k = math.floor(k)\n",
        "klong = r/k\n",
        "klong = math.ceil(klong)\n",
        "print(klong)"
      ],
      "metadata": {
        "colab": {
          "base_uri": "https://localhost:8080/"
        },
        "id": "b5I4O3HnnZts",
        "outputId": "9ae7edd0-9afe-418c-feff-cb65a7045669"
      },
      "execution_count": 35,
      "outputs": [
        {
          "output_type": "stream",
          "name": "stdout",
          "text": [
            "712\n"
          ]
        }
      ]
    },
    {
      "cell_type": "code",
      "source": [
        "start = x2 - 0.5\n",
        "dat.sort()\n",
        "#print(dat)\n",
        "grp=[]\n",
        "for i in range(int(k)):\n",
        "  #print(start,start+klong)\n",
        "  grp.append((start,start+klong))\n",
        "  start = start+klong\n",
        "print(grp)"
      ],
      "metadata": {
        "colab": {
          "base_uri": "https://localhost:8080/"
        },
        "id": "5yRNBc8koUgk",
        "outputId": "c793cb13-6e87-4919-afd0-f19409d2db6b"
      },
      "execution_count": 36,
      "outputs": [
        {
          "output_type": "stream",
          "name": "stdout",
          "text": [
            "[(13.5, 725.5), (725.5, 1437.5), (1437.5, 2149.5), (2149.5, 2861.5), (2861.5, 3573.5), (3573.5, 4285.5)]\n"
          ]
        }
      ]
    },
    {
      "cell_type": "code",
      "source": [
        "def count_number(n1,n2,nlist):\n",
        "  count = 0\n",
        "  r1 = int(v1)\n",
        "  r2 = int(v2)\n",
        "  for v in nlist:\n",
        "    if v >= r1 and v <= r2:\n",
        "      count = count+1\n",
        "  return count"
      ],
      "metadata": {
        "id": "DAAg0m-muS0K"
      },
      "execution_count": 37,
      "outputs": []
    },
    {
      "cell_type": "code",
      "source": [
        "x=[]\n",
        "y=[]\n",
        "for v1,v2 in grp:\n",
        "  c = count_number(v1,v2,dat)\n",
        "  y.append(c)\n",
        "  y.append(c)\n",
        "  x.append(v1)\n",
        "  x.append(v2)\n",
        "  print(\"{0:}\\t{1:}\\t{2:}\\t{3:.0%}\".format(v1,v2,c,c/N))"
      ],
      "metadata": {
        "colab": {
          "base_uri": "https://localhost:8080/"
        },
        "id": "tSsknDyQtsau",
        "outputId": "9181004c-1c9e-4ccb-d57c-b7b5541cfd2a"
      },
      "execution_count": 40,
      "outputs": [
        {
          "output_type": "stream",
          "name": "stdout",
          "text": [
            "13.5\t725.5\t24\t48%\n",
            "725.5\t1437.5\t12\t24%\n",
            "1437.5\t2149.5\t4\t8%\n",
            "2149.5\t2861.5\t3\t6%\n",
            "2861.5\t3573.5\t2\t4%\n",
            "3573.5\t4285.5\t5\t10%\n"
          ]
        }
      ]
    },
    {
      "cell_type": "code",
      "source": [
        "for i in range(len(x)):\n",
        "  print(x[i],y[i])"
      ],
      "metadata": {
        "colab": {
          "base_uri": "https://localhost:8080/"
        },
        "id": "ePgdwhLsEEOW",
        "outputId": "fda90a5b-7224-4b5a-f158-44ae98566be1"
      },
      "execution_count": 44,
      "outputs": [
        {
          "output_type": "stream",
          "name": "stdout",
          "text": [
            "13.5 24\n",
            "725.5 24\n",
            "725.5 12\n",
            "1437.5 12\n",
            "1437.5 4\n",
            "2149.5 4\n",
            "2149.5 3\n",
            "2861.5 3\n",
            "2861.5 2\n",
            "3573.5 2\n",
            "3573.5 5\n",
            "4285.5 5\n"
          ]
        }
      ]
    },
    {
      "cell_type": "code",
      "source": [
        "import matplotlib.pyplot as plt\n",
        "\n",
        "plt.scatter(x,y)\n",
        "plt.show()"
      ],
      "metadata": {
        "colab": {
          "base_uri": "https://localhost:8080/",
          "height": 268
        },
        "id": "CTKX4ac_WkIO",
        "outputId": "9deb1299-e9af-4891-e39d-b91ec274c8cb"
      },
      "execution_count": 51,
      "outputs": [
        {
          "output_type": "display_data",
          "data": {
            "text/plain": [
              "<Figure size 432x288 with 1 Axes>"
            ],
            "image/png": "[encoded data removed]"
          },
          "metadata": {
            "needs_background": "light"
          }
        }
      ]
    },
    {
      "cell_type": "code",
      "source": [
        "import matplotlib.pyplot as plt\n",
        "\n",
        "plt.bar(x,y,align='center') # A bar chart\n",
        "plt.xlabel('Bins')\n",
        "plt.ylabel('Frequency')\n",
        "for i in range(len(y)):\n",
        "    plt.hlines(y[i],0,x[i]) # Here you are drawing the horizontal lines\n",
        "plt.show()"
      ],
      "metadata": {
        "colab": {
          "base_uri": "https://localhost:8080/",
          "height": 282
        },
        "id": "-vmxM7NWHghW",
        "outputId": "0a7cbcd5-3802-4df9-ffe5-a35146d5e8ea"
      },
      "execution_count": 52,
      "outputs": [
        {
          "output_type": "display_data",
          "data": {
            "text/plain": [
              "<Figure size 432x288 with 1 Axes>"
            ],
            "image/png": "[encoded data removed]"
          },
          "metadata": {
            "needs_background": "light"
          }
        }
      ]
    }
  ]
}