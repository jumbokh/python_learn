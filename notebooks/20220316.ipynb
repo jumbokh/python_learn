{
  "nbformat": 4,
  "nbformat_minor": 0,
  "metadata": {
    "colab": {
      "name": "20220316.ipynb",
      "provenance": [],
      "collapsed_sections": [],
      "include_colab_link": true
    },
    "kernelspec": {
      "name": "python3",
      "display_name": "Python 3"
    },
    "language_info": {
      "name": "python"
    }
  },
  "cells": [
    {
      "cell_type": "markdown",
      "metadata": {
        "id": "view-in-github",
        "colab_type": "text"
      },
      "source": [
        "<a href=\"https://colab.research.google.com/github/jumbokh/python_learn/blob/master/notebooks/20220316.ipynb\" target=\"_parent\"><img src=\"https://colab.research.google.com/assets/colab-badge.svg\" alt=\"Open In Colab\"/></a>"
      ]
    },
    {
      "cell_type": "markdown",
      "source": [
        "# 一、萌典-線上字典開發"
      ],
      "metadata": {
        "id": "Ke1G7DySqlCs"
      }
    },
    {
      "cell_type": "markdown",
      "source": [
        "## 萌典API的測試\n",
        "\n",
        "* 萌典網址：https://www.moedict.tw/\n",
        "* 開源資料：https://github.com/g0v/moedict-webkit/\n",
        "* API說明：https://github.com/g0v/moedict-webkit/#api-%E8%AA%AA%E6%98%8E\n"
      ],
      "metadata": {
        "id": "aDzLMm36q8Ag"
      }
    },
    {
      "cell_type": "markdown",
      "source": [
        "## 萌典API查詢-使用Python"
      ],
      "metadata": {
        "id": "uoOAu38-r6KA"
      }
    },
    {
      "cell_type": "markdown",
      "source": [
        "### 載入資料並顯示"
      ],
      "metadata": {
        "id": "m_-ZUHI-slD8"
      }
    },
    {
      "cell_type": "code",
      "execution_count": null,
      "metadata": {
        "id": "lMXvknybSlwp"
      },
      "outputs": [],
      "source": [
        "# 載入API資料\n",
        "import requests\n",
        "url = \"https://www.moedict.tw/uni/%E8%90%8C\"\n",
        "r = requests.get(url)\n",
        "print(r.text)"
      ]
    },
    {
      "cell_type": "code",
      "source": [
        "# 轉為dict\n",
        "datas = r.json()"
      ],
      "metadata": {
        "id": "QcqnBZylS_Pb"
      },
      "execution_count": null,
      "outputs": []
    },
    {
      "cell_type": "code",
      "source": [
        "# 顯示dict的key, value\n",
        "datas.keys()"
      ],
      "metadata": {
        "id": "6vyAyl2-TF6_",
        "colab": {
          "base_uri": "https://localhost:8080/"
        },
        "outputId": "99633c6d-0681-4974-e642-adc3e0b11815"
      },
      "execution_count": null,
      "outputs": [
        {
          "output_type": "execute_result",
          "data": {
            "text/plain": [
              "dict_keys(['heteronyms', 'non_radical_stroke_count', 'radical', 'stroke_count', 'title'])"
            ]
          },
          "metadata": {},
          "execution_count": 77
        }
      ]
    },
    {
      "cell_type": "code",
      "source": [
        "# 測試顯示資料\n",
        "datas['stroke_count']"
      ],
      "metadata": {
        "id": "kqF_7XCz8zqf",
        "colab": {
          "base_uri": "https://localhost:8080/"
        },
        "outputId": "fdba14be-8611-4eef-ffda-07baf46676f9"
      },
      "execution_count": null,
      "outputs": [
        {
          "output_type": "execute_result",
          "data": {
            "text/plain": [
              "12"
            ]
          },
          "metadata": {},
          "execution_count": 80
        }
      ]
    },
    {
      "cell_type": "markdown",
      "source": [
        "### json資料解析測試"
      ],
      "metadata": {
        "id": "G68jFOumstj8"
      }
    },
    {
      "cell_type": "code",
      "source": [
        "# 顯示單字、部首、筆畫\n",
        "print(datas['title'])\n",
        "print(\"部首：{}，筆劃：{}\".format(datas['radical'], datas['stroke_count']))"
      ],
      "metadata": {
        "id": "vug-ZAyQT8Os",
        "colab": {
          "base_uri": "https://localhost:8080/"
        },
        "outputId": "ef2017a4-fcb8-4616-dfd5-f3599b3ea2e3"
      },
      "execution_count": null,
      "outputs": [
        {
          "output_type": "stream",
          "name": "stdout",
          "text": [
            "萌\n",
            "部首：艸，筆劃：12\n"
          ]
        }
      ]
    },
    {
      "cell_type": "code",
      "source": [
        "# 顯示多音字\n",
        "datas['heteronyms']"
      ],
      "metadata": {
        "id": "LZwul0CkU86c",
        "colab": {
          "base_uri": "https://localhost:8080/"
        },
        "outputId": "820aecdb-a0bd-4f4c-8050-1d58f70272ac"
      },
      "execution_count": null,
      "outputs": [
        {
          "output_type": "execute_result",
          "data": {
            "text/plain": [
              "[{'bopomofo': 'ㄇㄥˊ',\n",
              "  'bopomofo2': 'méng',\n",
              "  'definitions': [{'def': '草木初生的芽。',\n",
              "    'quote': ['說文解字：「萌，艸芽也。」', '唐．韓愈、劉師服、侯喜、軒轅彌明．石鼎聯句：「秋瓜未落蒂，凍芋強抽萌。」'],\n",
              "    'type': '名'},\n",
              "   {'def': '事物發生的開端或徵兆。',\n",
              "    'quote': ['韓非子．說林上：「聖人見微以知萌，見端以知末。」', '漢．蔡邕．對詔問灾異八事：「以杜漸防萌，則其救也。」'],\n",
              "    'type': '名'},\n",
              "   {'def': '人民。', 'example': ['如：「萌黎」、「萌隸」。'], 'link': ['通「氓」。'], 'type': '名'},\n",
              "   {'def': '姓。如五代時蜀有萌慮。', 'type': '名'},\n",
              "   {'def': '發芽。',\n",
              "    'example': ['如：「萌芽」。'],\n",
              "    'quote': ['楚辭．王逸．九思．傷時：「明風習習兮龢暖，百草萌兮華榮。」'],\n",
              "    'type': '動'},\n",
              "   {'def': '發生。',\n",
              "    'example': ['如：「故態復萌」。'],\n",
              "    'quote': ['管子．牧民：「惟有道者，能備患於未形也，故禍不萌。」', '三國演義．第一回：「若萌異心，必獲惡報。」'],\n",
              "    'type': '動'}],\n",
              "  'pinyin': 'méng'}]"
            ]
          },
          "metadata": {},
          "execution_count": 83
        }
      ]
    },
    {
      "cell_type": "code",
      "source": [
        "# 顯示注音、羅馬拼音、漢語拼音\n",
        "print(datas['heteronyms'][0]['bopomofo'])\n",
        "print(datas['heteronyms'][0]['bopomofo2'])\n",
        "print(datas['heteronyms'][0]['pinyin'])"
      ],
      "metadata": {
        "id": "Rmr1zE6rV6eb",
        "colab": {
          "base_uri": "https://localhost:8080/"
        },
        "outputId": "34909dc0-4c42-4dda-d735-477efd48e3d6"
      },
      "execution_count": null,
      "outputs": [
        {
          "output_type": "stream",
          "name": "stdout",
          "text": [
            "ㄇㄥˊ\n",
            "méng\n",
            "méng\n"
          ]
        }
      ]
    },
    {
      "cell_type": "code",
      "source": [
        "# 顯示單字說明\n",
        "datas['heteronyms'][0]['definitions'][0]"
      ],
      "metadata": {
        "id": "OEmcQC5WWQM1",
        "colab": {
          "base_uri": "https://localhost:8080/"
        },
        "outputId": "6ae7d17b-176f-4d53-b4e7-d49b0e297dba"
      },
      "execution_count": null,
      "outputs": [
        {
          "output_type": "execute_result",
          "data": {
            "text/plain": [
              "{'def': '草木初生的芽。',\n",
              " 'quote': ['說文解字：「萌，艸芽也。」', '唐．韓愈、劉師服、侯喜、軒轅彌明．石鼎聯句：「秋瓜未落蒂，凍芋強抽萌。」'],\n",
              " 'type': '名'}"
            ]
          },
          "metadata": {},
          "execution_count": 91
        }
      ]
    },
    {
      "cell_type": "code",
      "source": [
        "# 顯示單字說明-顯示各欄位\n",
        "print(datas['heteronyms'][0]['definitions'][0]['type'])\n",
        "print(datas['heteronyms'][0]['definitions'][0]['def'])\n",
        "print('\\n'.join(datas['heteronyms'][0]['definitions'][0]['quote']))"
      ],
      "metadata": {
        "id": "z3RcHPEDWlvD",
        "colab": {
          "base_uri": "https://localhost:8080/"
        },
        "outputId": "711b998c-d167-4ef9-af14-93dfff117caa"
      },
      "execution_count": null,
      "outputs": [
        {
          "output_type": "stream",
          "name": "stdout",
          "text": [
            "名\n",
            "草木初生的芽。\n",
            "說文解字：「萌，艸芽也。」\n",
            "唐．韓愈、劉師服、侯喜、軒轅彌明．石鼎聯句：「秋瓜未落蒂，凍芋強抽萌。」\n"
          ]
        }
      ]
    },
    {
      "cell_type": "code",
      "source": [
        "# 合併資料\n",
        "# 載入API資料\n",
        "import requests\n",
        "url = \"https://www.moedict.tw/uni/%E8%90%8C\"\n",
        "r = requests.get(url)\n",
        "# 轉為dict\n",
        "datas = r.json()\n",
        "# 顯示單字、部首、筆畫\n",
        "print(datas['title'])\n",
        "print(\"部首：{}，筆劃：{}\".format(datas['radical'], datas['stroke_count']))\n",
        "\n",
        "# 顯示多音字\n",
        "for i in range(len(datas['heteronyms'])):\n",
        "  print(\"注音:{}，羅馬拼音:{}，漢語拼音：{}\".format(\n",
        "      datas['heteronyms'][i]['bopomofo'],\n",
        "      datas['heteronyms'][i]['bopomofo2'],\n",
        "      datas['heteronyms'][i]['pinyin']))\n",
        "  for j in range(len(datas['heteronyms'][i]['definitions'])):\n",
        "    print(\"【\" + datas['heteronyms'][i]['definitions'][j]['type'] + \"】\", end=\"\")\n",
        "    print(datas['heteronyms'][i]['definitions'][j]['def'])\n",
        "    if 'quote' in (datas['heteronyms'][i]['definitions'][j]):\n",
        "      print('\\n'.join(datas['heteronyms'][i]['definitions'][j]['quote']))\n",
        "    if 'example' in (datas['heteronyms'][i]['definitions'][j]):\n",
        "      print('\\n'.join(datas['heteronyms'][i]['definitions'][j]['example']))      "
      ],
      "metadata": {
        "id": "Z5tuZ4lv_gnI",
        "colab": {
          "base_uri": "https://localhost:8080/"
        },
        "outputId": "4bfdb5ae-8c94-4a7e-adc3-6e68157db8f2"
      },
      "execution_count": null,
      "outputs": [
        {
          "output_type": "stream",
          "name": "stdout",
          "text": [
            "萌\n",
            "部首：艸，筆劃：12\n",
            "注音:ㄇㄥˊ，羅馬拼音:méng，漢語拼音：méng\n",
            "【名】草木初生的芽。\n",
            "說文解字：「萌，艸芽也。」\n",
            "唐．韓愈、劉師服、侯喜、軒轅彌明．石鼎聯句：「秋瓜未落蒂，凍芋強抽萌。」\n",
            "【名】事物發生的開端或徵兆。\n",
            "韓非子．說林上：「聖人見微以知萌，見端以知末。」\n",
            "漢．蔡邕．對詔問灾異八事：「以杜漸防萌，則其救也。」\n",
            "【名】人民。\n",
            "如：「萌黎」、「萌隸」。\n",
            "【名】姓。如五代時蜀有萌慮。\n",
            "【動】發芽。\n",
            "楚辭．王逸．九思．傷時：「明風習習兮龢暖，百草萌兮華榮。」\n",
            "如：「萌芽」。\n",
            "【動】發生。\n",
            "管子．牧民：「惟有道者，能備患於未形也，故禍不萌。」\n",
            "三國演義．第一回：「若萌異心，必獲惡報。」\n",
            "如：「故態復萌」。\n"
          ]
        }
      ]
    },
    {
      "cell_type": "code",
      "source": [
        "# 互動輸入\n",
        "\n",
        "# 載入API資料\n",
        "import requests\n",
        "url = \"https://www.moedict.tw/uni/\"\n",
        "word = input(\"請輸入要查詢的國字：\")\n",
        "r = requests.get(url+word)\n",
        "# 轉為dict\n",
        "datas = r.json()\n",
        "# 顯示單字、部首、筆畫\n",
        "print(datas['title'])\n",
        "print(\"部首：{}，筆劃：{}\".format(datas['radical'], datas['stroke_count']))\n",
        "\n",
        "# 顯示多音字\n",
        "for i in range(len(datas['heteronyms'])):\n",
        "  print(\"注音:{}，羅馬拼音:{}，漢語拼音：{}\".format(\n",
        "      datas['heteronyms'][i]['bopomofo'],\n",
        "      datas['heteronyms'][i]['bopomofo2'],\n",
        "      datas['heteronyms'][i]['pinyin']))\n",
        "  for j in range(len(datas['heteronyms'][i]['definitions'])):\n",
        "    print(\"【\" + datas['heteronyms'][i]['definitions'][j]['type'] + \"】\", end=\"\")\n",
        "    print(datas['heteronyms'][i]['definitions'][j]['def'])\n",
        "    if 'quote' in (datas['heteronyms'][i]['definitions'][j]):\n",
        "      print('\\n'.join(datas['heteronyms'][i]['definitions'][j]['quote']))\n",
        "    if 'example' in (datas['heteronyms'][i]['definitions'][j]):\n",
        "      print('\\n'.join(datas['heteronyms'][i]['definitions'][j]['example']))      "
      ],
      "metadata": {
        "colab": {
          "base_uri": "https://localhost:8080/"
        },
        "id": "GS2l3kbitUqu",
        "outputId": "d919092b-0ec8-4e86-df02-d11d09f253fd"
      },
      "execution_count": null,
      "outputs": [
        {
          "output_type": "stream",
          "name": "stdout",
          "text": [
            "請輸入要查詢的國字：黃\n",
            "黃\n",
            "部首：黃，筆劃：12\n",
            "注音:ㄏㄨㄤˊ，羅馬拼音:huáng，漢語拼音：huáng\n",
            "【名】一種似土地的顏色，為三原色之一。\n",
            "說文解字：「黃，地之色也。」\n",
            "【名】黃帝的簡稱。\n",
            "如：「炎黃子孫」、「黃老之術」。\n",
            "【名】姓。如宋代有黃庭堅。\n",
            "【名】二一四部首之一。\n",
            "【動】變黃而枯萎。\n",
            "詩經．小雅．何草不黃：「何草不黃，何日不行。」\n",
            "南朝宋．鮑照．代白紵曲二首之一：「窮秋九月荷葉黃，北風驅雁天雨霜。」\n",
            "【動】北平方言。指事情、計畫不能成功或諾言不能實現。\n",
            "如：「這一筆生意八成要黃了。」、「他答應的事大概會黃。」\n",
            "【形】象徵庸俗腐化，或含有色情意味的。\n",
            "如：「黃色小說」、「黃色笑話」。\n"
          ]
        }
      ]
    },
    {
      "cell_type": "code",
      "source": [
        "# 製作成互動查詢\n",
        "import requests\n",
        "url = 'https://www.moedict.tw/uni/'\n",
        "word = input('請輸入查詢的國字：')\n",
        "r = requests.get(url + word)\n",
        "datas = r.json()\n",
        "\n",
        "# 【單字資料顯示】\n",
        "# 顯示單字、部首、筆畫\n",
        "print(datas['title'])\n",
        "print('部首：{}，筆畫：{}'.format(datas['radical'], datas['stroke_count']))\n",
        "# 顯示多音字\n",
        "for i in range(len(datas['heteronyms'])):\n",
        "  # 顯示注音、羅馬拼音、漢語拼音\n",
        "  print('-'*10)\n",
        "  print('注音：{}，羅馬拼音：{}，漢語拼音：{}'.format(\n",
        "      datas['heteronyms'][i]['bopomofo'],\n",
        "      datas['heteronyms'][i]['bopomofo2'],\n",
        "      datas['heteronyms'][i]['pinyin']\n",
        "      ))\n",
        "  # 顯示單字說明\n",
        "  for j in range(len(datas['heteronyms'][i]['definitions'])):\n",
        "    print(datas['heteronyms'][i]['definitions'][j]['type']+\"詞\")\n",
        "    print(datas['heteronyms'][i]['definitions'][j]['def'])\n",
        "    if 'quote' in (datas['heteronyms'][i]['definitions'][j]):\n",
        "      print('\\n'.join(datas['heteronyms'][i]['definitions'][j]['quote']))\n",
        "    if 'example' in (datas['heteronyms'][i]['definitions'][j]):\n",
        "      print('\\n'.join(datas['heteronyms'][i]['definitions'][j]['example']))\n",
        "    if 'link' in (datas['heteronyms'][i]['definitions'][j]):\n",
        "      print('\\n'.join(datas['heteronyms'][i]['definitions'][j]['link']))  \n",
        "    print()     "
      ],
      "metadata": {
        "id": "Pm59PgGZXLFM"
      },
      "execution_count": null,
      "outputs": []
    },
    {
      "cell_type": "code",
      "source": [
        "# 製作成自訂函數\n",
        "import requests\n",
        "\n",
        "def moedict(word):\n",
        "  reStr = ''\n",
        "  url = 'https://www.moedict.tw/uni/' + word\n",
        "  r = requests.get(url)\n",
        "  datas = r.json()\n",
        "\n",
        "  reStr += '【'+ datas['title'] + '】\\n'\n",
        "  reStr += '部首：{}，筆畫：{}'.format(datas['radical'], datas['stroke_count']) + '\\n'\n",
        "  for i in range(len(datas['heteronyms'])):\n",
        "    reStr += '\\n●注音：{}，羅馬拼音：{}，漢語拼音：{}'.format(\n",
        "        datas['heteronyms'][i]['bopomofo'],\n",
        "        datas['heteronyms'][i]['bopomofo2'],\n",
        "        datas['heteronyms'][i]['pinyin']) + '\\n'\n",
        "    for j in range(len(datas['heteronyms'][i]['definitions'])):\n",
        "      reStr += '《{}詞》'.format(datas['heteronyms'][i]['definitions'][j]['type']) \n",
        "      reStr += datas['heteronyms'][i]['definitions'][j]['def'] + '\\n'\n",
        "    if 'quote' in (datas['heteronyms'][i]['definitions'][j]):\n",
        "      reStr += '\\n'.join(datas['heteronyms'][i]['definitions'][j]['quote'])\n",
        "    if 'example' in (datas['heteronyms'][i]['definitions'][j]):\n",
        "      reStr += '\\n'.join(datas['heteronyms'][i]['definitions'][j]['example'])\n",
        "    if 'link' in (datas['heteronyms'][i]['definitions'][j]):\n",
        "      reStr += '\\n'.join(datas['heteronyms'][i]['definitions'][j]['link'])  \n",
        "  return reStr\n",
        "\n",
        "print(moedict('國'))"
      ],
      "metadata": {
        "id": "yPXREjlxg0GL",
        "colab": {
          "base_uri": "https://localhost:8080/"
        },
        "outputId": "2cecf0ff-90ec-4896-9d44-518338230953"
      },
      "execution_count": null,
      "outputs": [
        {
          "output_type": "stream",
          "name": "stdout",
          "text": [
            "【國】\n",
            "部首：囗，筆畫：11\n",
            "\n",
            "●注音：ㄍㄨㄛˊ，羅馬拼音：guó，漢語拼音：guó\n",
            "《名詞》古代稱諸侯或君王的封地為「國」。\n",
            "《名詞》有土地、人民、主權的團體。\n",
            "《名詞》城市。\n",
            "《名詞》地方。\n",
            "《名詞》姓。如春秋時齊國有國佐。\n",
            "《形詞》代表國家的。\n",
            "《形詞》本國的。\n",
            "如：「國人」、「國土」、「愛用國貨」。\n"
          ]
        }
      ]
    },
    {
      "cell_type": "code",
      "source": [
        "print(moedict('愛'))"
      ],
      "metadata": {
        "id": "1uPnk5ZAu6q0",
        "outputId": "04b05532-51d5-4cc1-990d-1bac2d66f180",
        "colab": {
          "base_uri": "https://localhost:8080/"
        }
      },
      "execution_count": null,
      "outputs": [
        {
          "output_type": "stream",
          "name": "stdout",
          "text": [
            "【愛】\n",
            "部首：心，筆畫：13\n",
            "\n",
            "●注音：ㄞˋ，羅馬拼音：ài，漢語拼音：ài\n",
            "《名詞》親慕的情緒或親密的感情。\n",
            "《名詞》恩惠、仁德。\n",
            "《名詞》所喜歡的人或物。\n",
            "《名詞》對別人女兒的敬稱。\n",
            "《名詞》姓。如宋代有愛申。\n",
            "《動詞》喜好、親慕。\n",
            "《動詞》吝惜、捨不得。\n",
            "《形詞》兩情相悅的。\n",
            "《形詞》被寵愛的。\n",
            "如：「愛妻」、「愛妾」、「愛女」。\n"
          ]
        }
      ]
    },
    {
      "cell_type": "markdown",
      "source": [
        "## 製作成 WebAPP\n",
        "\n",
        "* Gradio https://gradio.app/\n",
        "* 說明文件 https://gradio.app/docs/\n",
        "\n",
        "基本語法：\n",
        "```\n",
        "import gradio as gr\n",
        "\n",
        "gr.Interface(\n",
        "  fn=函式,\n",
        "  inputs=輸入欄位,\n",
        "  outputs=輸出欄位).launch()\n",
        "```    "
      ],
      "metadata": {
        "id": "6PeR51JdqwKU"
      }
    },
    {
      "cell_type": "code",
      "source": [
        "# 安裝Gradio\n",
        "!pip install gradio"
      ],
      "metadata": {
        "id": "65kCVQ7Gkd4x"
      },
      "execution_count": null,
      "outputs": []
    },
    {
      "cell_type": "code",
      "source": [
        "# 文字輸入/文字輸出\n"
      ],
      "metadata": {
        "id": "Cu1IjfgBHbkM"
      },
      "execution_count": null,
      "outputs": []
    },
    {
      "cell_type": "code",
      "source": [
        "# 萌典 - 線上國語字典\n",
        "import requests\n",
        "import gradio as gr\n",
        "\n",
        "def moedict(word):\n",
        "  reStr = ''\n",
        "  url = 'https://www.moedict.tw/uni/' + word\n",
        "  r = requests.get(url)\n",
        "  datas = r.json()\n",
        "\n",
        "  reStr += '【'+ datas['title'] + '】\\n'\n",
        "  reStr += '部首：{}，筆畫：{}'.format(datas['radical'], datas['stroke_count']) + '\\n'\n",
        "  for i in range(len(datas['heteronyms'])):\n",
        "    reStr += '\\n●注音：{}，羅馬拼音：{}，漢語拼音：{}'.format(\n",
        "        datas['heteronyms'][i]['bopomofo'],\n",
        "        datas['heteronyms'][i]['bopomofo2'],\n",
        "        datas['heteronyms'][i]['pinyin']) + '\\n'\n",
        "    for j in range(len(datas['heteronyms'][i]['definitions'])):\n",
        "      reStr += '《{}詞》'.format(datas['heteronyms'][i]['definitions'][j]['type']) \n",
        "      reStr += datas['heteronyms'][i]['definitions'][j]['def'] + '\\n'\n",
        "    if 'quote' in (datas['heteronyms'][i]['definitions'][j]):\n",
        "      reStr += '\\n'.join(datas['heteronyms'][i]['definitions'][j]['quote'])\n",
        "    if 'example' in (datas['heteronyms'][i]['definitions'][j]):\n",
        "      reStr += '\\n'.join(datas['heteronyms'][i]['definitions'][j]['example'])\n",
        "    if 'link' in (datas['heteronyms'][i]['definitions'][j]):\n",
        "      reStr += '\\n'.join(datas['heteronyms'][i]['definitions'][j]['link'])  \n",
        "  return reStr\n",
        "\n",
        "grobj = gr.Interface(\n",
        "    fn=moedict,\n",
        "    inputs=gr.inputs.Textbox(label='請輸入國字'),\n",
        "    outputs=gr.outputs.Textbox(label='查詢結果'),\n",
        "    title='萌典',\n",
        "    layout='horizontal',\n",
        "    description='線上國語字典',\n",
        "    allow_flagging='never')\n",
        "grobj.launch()"
      ],
      "metadata": {
        "id": "WoZAqTYgknMy",
        "colab": {
          "base_uri": "https://localhost:8080/",
          "height": 989
        },
        "outputId": "93dfddc6-543b-45e8-aba6-93400e9018f9"
      },
      "execution_count": null,
      "outputs": [
        {
          "output_type": "stream",
          "name": "stderr",
          "text": [
            "Traceback (most recent call last):\n",
            "  File \"/usr/local/lib/python3.7/dist-packages/gradio/routes.py\", line 265, in predict\n",
            "    output = await run_in_threadpool(app.launchable.process_api, body, username)\n",
            "  File \"/usr/local/lib/python3.7/dist-packages/starlette/concurrency.py\", line 39, in run_in_threadpool\n",
            "    return await anyio.to_thread.run_sync(func, *args)\n",
            "  File \"/usr/local/lib/python3.7/dist-packages/anyio/to_thread.py\", line 29, in run_sync\n",
            "    limiter=limiter)\n",
            "  File \"/usr/local/lib/python3.7/dist-packages/anyio/_backends/_asyncio.py\", line 818, in run_sync_in_worker_thread\n",
            "    return await future\n",
            "  File \"/usr/local/lib/python3.7/dist-packages/anyio/_backends/_asyncio.py\", line 754, in run\n",
            "    result = context.run(func, *args)\n",
            "  File \"/usr/local/lib/python3.7/dist-packages/gradio/interface.py\", line 574, in process_api\n",
            "    prediction, durations = self.process(raw_input)\n",
            "  File \"/usr/local/lib/python3.7/dist-packages/gradio/interface.py\", line 612, in process\n",
            "    processed_input, return_duration=True\n",
            "  File \"/usr/local/lib/python3.7/dist-packages/gradio/interface.py\", line 532, in run_prediction\n",
            "    prediction = predict_fn(*processed_input)\n",
            "  File \"<ipython-input-66-fbf95b77b5e1>\", line 19, in moedict\n",
            "    reStr += '《{}詞》'.format(datas['heteronyms'][i]['definitions'][j]['type'])\n",
            "KeyError: 'type'\n"
          ]
        },
        {
          "output_type": "stream",
          "name": "stdout",
          "text": [
            "Colab notebook detected. To show errors in colab notebook, set `debug=True` in `launch()`\n",
            "Running on public URL: https://26617.gradio.app\n",
            "\n",
            "This share link expires in 72 hours. For free permanent hosting, check out Spaces (https://huggingface.co/spaces)\n"
          ]
        },
        {
          "output_type": "display_data",
          "data": {
            "text/plain": [
              "<IPython.lib.display.IFrame at 0x7f3d530a90d0>"
            ],
            "text/html": [
              "\n",
              "        <iframe\n",
              "            width=\"900\"\n",
              "            height=\"500\"\n",
              "            src=\"https://26617.gradio.app\"\n",
              "            frameborder=\"0\"\n",
              "            allowfullscreen\n",
              "        ></iframe>\n",
              "        "
            ]
          },
          "metadata": {}
        },
        {
          "output_type": "execute_result",
          "data": {
            "text/plain": [
              "(<fastapi.applications.FastAPI at 0x7f3d5e110ed0>,\n",
              " 'http://127.0.0.1:7870/',\n",
              " 'https://26617.gradio.app')"
            ]
          },
          "metadata": {},
          "execution_count": 67
        }
      ]
    },
    {
      "cell_type": "markdown",
      "source": [
        "# 二、圖片辨識 WebAPP 開發"
      ],
      "metadata": {
        "id": "ea2hi42GvTst"
      }
    },
    {
      "cell_type": "code",
      "source": [
        "# 下載圖片\n",
        "imgurl = 'https://media.4-paws.org/5/4/4/c/544c2b2fd37541596134734c42bf77186f0df0ae/VIER%20PFOTEN_2017-10-20_164-3854x2667-1920x1329.jpg'\n",
        "# imgurl = 'https://s.abcnews.com/images/International/MChanga_1624536553868_hpMain_4x5_608.jpg'\n",
        "r = requests.get(imgurl)\n",
        "with open('tiger.jpg', 'wb') as f:\n",
        "  f.write(r.content)"
      ],
      "metadata": {
        "id": "qrOMB6K8qYFy"
      },
      "execution_count": null,
      "outputs": []
    },
    {
      "cell_type": "code",
      "source": [
        "# 圖片輸入/圖片輸出\n",
        "import gradio as gr\n",
        "\n",
        "def testgr(img):\n",
        "  return img.shape\n",
        "  # return img\n",
        "\n",
        "gr.Interface(fn=testgr, inputs=gr.inputs.Image(shape=(224,224)), outputs=gr.outputs.Textbox()).launch()\n",
        "# gr.Interface(fn=testgr, inputs=gr.inputs.Image(type=\"pil\"), outputs=gr.outputs.Image(type='pil')).launch()\n",
        "# gr.Interface(fn=testgr, inputs=gr.inputs.Image(source=\"webcam\", tool=None), outputs=gr.outputs.Image()).launch()"
      ],
      "metadata": {
        "id": "oSgA_aMVJZEe"
      },
      "execution_count": null,
      "outputs": []
    },
    {
      "cell_type": "markdown",
      "source": [
        "## 一般圖片辦識\n",
        "\n",
        "Keras的圖片分類pre-trained模型\n",
        "\n",
        "![](data:image/png;base64,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)"
      ],
      "metadata": {
        "id": "uwNAdKOCzXMB"
      }
    },
    {
      "cell_type": "code",
      "source": [
        "# 載入pretrained model - Mobile Net model\n",
        "import tensorflow as tf\n",
        "import numpy as np\n",
        "import requests\n",
        "\n",
        "inception_net = tf.keras.applications.MobileNetV2()\n",
        "\n",
        "# Download human-readable labels for ImageNet.\n",
        "response = requests.get(\"https://git.io/JJkYN\")\n",
        "labels = response.text.split(\"\\n\")"
      ],
      "metadata": {
        "id": "A19bk2kJvg2D"
      },
      "execution_count": null,
      "outputs": []
    },
    {
      "cell_type": "code",
      "source": [
        "len(labels)"
      ],
      "metadata": {
        "id": "7rIvRmSywuo-"
      },
      "execution_count": null,
      "outputs": []
    },
    {
      "cell_type": "code",
      "source": [
        "from keras.preprocessing import image\n",
        "\n",
        "# Input：要辨識的影像\n",
        "img_path = 'tiger.jpg'\n",
        "# img_path = 'elephant.jpg'\n",
        "img = image.load_img(img_path, target_size=(224, 224))\n",
        "img = np.expand_dims(img, 0)\n",
        "img = tf.keras.applications.mobilenet_v2.preprocess_input(img)\n",
        "prediction = inception_net.predict(img).flatten()"
      ],
      "metadata": {
        "id": "rhUoyPHTw1mg"
      },
      "execution_count": null,
      "outputs": []
    },
    {
      "cell_type": "code",
      "source": [
        "# 取得辨識率機率最高選項的索引\n",
        "i = np.argmax(prediction, axis=0)"
      ],
      "metadata": {
        "id": "nucSeY7j3eO-"
      },
      "execution_count": null,
      "outputs": []
    },
    {
      "cell_type": "code",
      "source": [
        "# 取得辨識率機率最高選項的值\n",
        "prediction[i]"
      ],
      "metadata": {
        "id": "Pdxhasdg1GUG"
      },
      "execution_count": null,
      "outputs": []
    },
    {
      "cell_type": "code",
      "source": [
        "# 取得辨識率機率最高選項的標籤\n",
        "labels[i]"
      ],
      "metadata": {
        "id": "WxhtCskE3pUN"
      },
      "execution_count": null,
      "outputs": []
    },
    {
      "cell_type": "code",
      "source": [
        "from keras.preprocessing import image\n",
        "\n",
        "# Input：要辨識的影像\n",
        "img_path = 'tiger.jpg'\n",
        "# img_path = 'elephant.jpg'\n",
        "img = image.load_img(img_path, target_size=(224, 224))\n",
        "img = np.expand_dims(img, 0)\n",
        "img = tf.keras.applications.mobilenet_v2.preprocess_input(img)\n",
        "prediction = inception_net.predict(img).flatten()\n",
        "\n",
        "i = np.argmax(prediction, axis=0)\n",
        "\n",
        "print('圖片中的物體是{},機率是{}'.format(labels[i], prediction[i]))"
      ],
      "metadata": {
        "id": "rYux7eAC475k"
      },
      "execution_count": null,
      "outputs": []
    },
    {
      "cell_type": "markdown",
      "source": [
        "## 製作成 WebAPP"
      ],
      "metadata": {
        "id": "gxplhIGV7CiA"
      }
    },
    {
      "cell_type": "code",
      "source": [
        "import tensorflow as tf\n",
        "import numpy as np\n",
        "import requests\n",
        "import gradio as gr\n",
        "\n",
        "inception_net = tf.keras.applications.MobileNetV2()\n",
        "\n",
        "# Download human-readable labels for ImageNet.\n",
        "response = requests.get(\"https://git.io/JJkYN\")\n",
        "labels = response.text.split(\"\\n\")\n",
        "\n",
        "def classify(img):\n",
        "  img = np.expand_dims(img, 0)\n",
        "  img = tf.keras.applications.mobilenet_v2.preprocess_input(img)\n",
        "  prediction = inception_net.predict(img).flatten()\n",
        "  return {labels[i]:float(prediction[i]) for i in range(len(prediction))}\n",
        "\n",
        "image = gr.inputs.Image(shape=(224, 224))\n",
        "label = gr.outputs.Label(num_top_classes=3, label='預測結果')\n",
        "grobj = gr.Interface(fn=classify, inputs=image, outputs=label, title='影像辨識')\n",
        "grobj.launch()"
      ],
      "metadata": {
        "id": "lxujzl0p7IJQ"
      },
      "execution_count": null,
      "outputs": []
    }
  ]
}