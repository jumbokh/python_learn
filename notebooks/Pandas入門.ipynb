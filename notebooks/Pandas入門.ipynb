{
  "nbformat": 4,
  "nbformat_minor": 0,
  "metadata": {
    "colab": {
      "provenance": [],
      "authorship_tag": "ABX9TyO9C/8dLW6IQhIMjdbXv9Jz",
      "include_colab_link": true
    },
    "kernelspec": {
      "name": "python3",
      "display_name": "Python 3"
    },
    "language_info": {
      "name": "python"
    }
  },
  "cells": [
    {
      "cell_type": "markdown",
      "metadata": {
        "id": "view-in-github",
        "colab_type": "text"
      },
      "source": [
        "<a href=\"https://colab.research.google.com/github/jumbokh/python_learn/blob/master/notebooks/Pandas%E5%85%A5%E9%96%80.ipynb\" target=\"_parent\"><img src=\"https://colab.research.google.com/assets/colab-badge.svg\" alt=\"Open In Colab\"/></a>"
      ]
    },
    {
      "cell_type": "markdown",
      "source": [
        "### 1. 導入 Pandas 並讀取數據"
      ],
      "metadata": {
        "id": "EIgOYCIzZC03"
      }
    },
    {
      "cell_type": "code",
      "source": [
        "import pandas as pd\n",
        "\n",
        "# 從 CSV 文件讀取數據\n",
        "df = pd.read_csv('your_data.csv')\n",
        "\n",
        "# 查看前5行\n",
        "print(df.head())\n",
        "\n",
        "# 查看數據框的基本信息\n",
        "print(df.info())"
      ],
      "metadata": {
        "id": "zOijC6xpZKhZ"
      },
      "execution_count": null,
      "outputs": []
    },
    {
      "cell_type": "markdown",
      "source": [
        "### 2. 選擇列與篩選行"
      ],
      "metadata": {
        "id": "-lVm3VuaZQdP"
      }
    },
    {
      "cell_type": "code",
      "source": [
        "# 選擇特定的列\n",
        "selected_columns = df[['Column1', 'Column2']]\n",
        "\n",
        "# 篩選符合條件的行（篩選 'Age' 大於 30 的數據）\n",
        "filtered_data = df[df['Age'] > 30]\n",
        "\n",
        "# 同時篩選多個條件（篩選 'Age' 大於 30 且 'Gender' 為 'Male' 的數據）\n",
        "filtered_data_multi = df[(df['Age'] > 30) & (df['Gender'] == 'Male')]\n",
        "\n",
        "print(filtered_data_multi.head())"
      ],
      "metadata": {
        "id": "5zdrtQVGZUkI"
      },
      "execution_count": null,
      "outputs": []
    },
    {
      "cell_type": "markdown",
      "source": [
        "### 3. 處理缺失值"
      ],
      "metadata": {
        "id": "sqX9Q1odZYiC"
      }
    },
    {
      "cell_type": "code",
      "source": [
        "# 查看每列缺失值的數量\n",
        "print(df.isnull().sum())\n",
        "\n",
        "# 刪除包含缺失值的行\n",
        "df_cleaned = df.dropna()\n",
        "\n",
        "# 用特定值填補缺失值（用平均值填補 'Age' 欄位的缺失值）\n",
        "df['Age'].fillna(df['Age'].mean(), inplace=True)\n",
        "\n",
        "print(df_cleaned.head())\n"
      ],
      "metadata": {
        "id": "AZBP6LAIZiJy"
      },
      "execution_count": null,
      "outputs": []
    },
    {
      "cell_type": "markdown",
      "source": [
        "###4. 數據的基本統計分析"
      ],
      "metadata": {
        "id": "tkKbjbeeZmb_"
      }
    },
    {
      "cell_type": "code",
      "source": [
        "# 查看所有數值型數據的統計摘要\n",
        "print(df.describe())\n",
        "\n",
        "# 查看某列的統計數據\n",
        "print(df['Age'].describe())\n",
        "\n",
        "# 計算數據的相關性\n",
        "print(df.corr())"
      ],
      "metadata": {
        "id": "39CPgbjXZuOF"
      },
      "execution_count": null,
      "outputs": []
    },
    {
      "cell_type": "markdown",
      "source": [
        "### 5. 分組與聚合操作"
      ],
      "metadata": {
        "id": "1Ft8moW3Zzf2"
      }
    },
    {
      "cell_type": "code",
      "source": [
        "# 按性別分組，並計算每組的平均年齡\n",
        "grouped_data = df.groupby('Gender')['Age'].mean()\n",
        "\n",
        "# 按性別和地區分組，並計算銷售額總和\n",
        "grouped_sales = df.groupby(['Gender', 'Region'])['Sales'].sum()\n",
        "\n",
        "print(grouped_data)\n",
        "print(grouped_sales)\n"
      ],
      "metadata": {
        "id": "lyvKUp-5Z3MD"
      },
      "execution_count": null,
      "outputs": []
    },
    {
      "cell_type": "markdown",
      "source": [
        "### 6. 數據可視化"
      ],
      "metadata": {
        "id": "Ck6Hvqg9Z7jK"
      }
    },
    {
      "cell_type": "code",
      "source": [
        "import matplotlib.pyplot as plt\n",
        "\n",
        "# 簡單的直方圖\n",
        "df['Age'].hist(bins=10)\n",
        "plt.xlabel('Age')\n",
        "plt.ylabel('Frequency')\n",
        "plt.title('Age Distribution')\n",
        "plt.show()\n",
        "\n",
        "# 繪製折線圖\n",
        "df.groupby('Date')['Sales'].sum().plot()\n",
        "plt.xlabel('Date')\n",
        "plt.ylabel('Total Sales')\n",
        "plt.title('Sales Over Time')\n",
        "plt.show()"
      ],
      "metadata": {
        "id": "3jraXm-5Z-8V"
      },
      "execution_count": null,
      "outputs": []
    },
    {
      "cell_type": "markdown",
      "source": [
        "### 7. 寫入數據到新文件"
      ],
      "metadata": {
        "id": "AerTwiJEaCOX"
      }
    },
    {
      "cell_type": "code",
      "source": [
        "# 將處理後的數據寫入新的 CSV 文件\n",
        "df.to_csv('cleaned_data.csv', index=False)"
      ],
      "metadata": {
        "id": "1MRkgzdBaIYB"
      },
      "execution_count": null,
      "outputs": []
    },
    {
      "cell_type": "markdown",
      "source": [
        "### 8. 合併數據集"
      ],
      "metadata": {
        "id": "kdqYSED7aO6A"
      }
    },
    {
      "cell_type": "code",
      "source": [
        "# 假設有兩個數據框 df1 和 df2\n",
        "df1 = pd.DataFrame({'ID': [1, 2, 3], 'Name': ['Alice', 'Bob', 'Charlie']})\n",
        "df2 = pd.DataFrame({'ID': [1, 2, 3], 'Score': [90, 80, 85]})\n",
        "\n",
        "# 使用 'ID' 列合併兩個數據框\n",
        "merged_df = pd.merge(df1, df2, on='ID')\n",
        "\n",
        "print(merged_df)"
      ],
      "metadata": {
        "id": "EGkF0TqZaQFF"
      },
      "execution_count": null,
      "outputs": []
    },
    {
      "cell_type": "markdown",
      "source": [
        "### 9. 時間序列操作"
      ],
      "metadata": {
        "id": "JZdGkkYiaVd2"
      }
    },
    {
      "cell_type": "code",
      "source": [
        "# 將 'Date' 列轉換為 datetime 格式\n",
        "df['Date'] = pd.to_datetime(df['Date'])\n",
        "\n",
        "# 設置日期為索引\n",
        "df.set_index('Date', inplace=True)\n",
        "\n",
        "# 按月進行重採樣並計算銷售額的總和\n",
        "monthly_sales = df['Sales'].resample('M').sum()\n",
        "\n",
        "print(monthly_sales)"
      ],
      "metadata": {
        "id": "d273bsQiaZHP"
      },
      "execution_count": null,
      "outputs": []
    }
  ]
}