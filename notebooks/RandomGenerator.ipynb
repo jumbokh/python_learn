{
  "nbformat": 4,
  "nbformat_minor": 0,
  "metadata": {
    "colab": {
      "name": "RandomGenerator.ipynb",
      "provenance": [],
      "authorship_tag": "ABX9TyPrqSKG62X1EoHOrXH6mM9G",
      "include_colab_link": true
    },
    "kernelspec": {
      "name": "python3",
      "display_name": "Python 3"
    },
    "language_info": {
      "name": "python"
    }
  },
  "cells": [
    {
      "cell_type": "markdown",
      "metadata": {
        "id": "view-in-github",
        "colab_type": "text"
      },
      "source": [
        "<a href=\"https://colab.research.google.com/github/jumbokh/python_learn/blob/master/notebooks/RandomGenerator.ipynb\" target=\"_parent\"><img src=\"https://colab.research.google.com/assets/colab-badge.svg\" alt=\"Open In Colab\"/></a>"
      ]
    },
    {
      "cell_type": "code",
      "execution_count": 1,
      "metadata": {
        "id": "XAW4BU9qNw9R"
      },
      "outputs": [],
      "source": [
        "import csv\n",
        "import random as rn\n",
        "import time"
      ]
    },
    {
      "cell_type": "code",
      "source": [
        "start = time.time()\n",
        "\n",
        "_ = [str(i/10000000) for i in range(10000000)]\n",
        "rn.shuffle(_)\n",
        "\n",
        "with open(\"./test.csv\", \"w\", encoding=\"utf8\") as csvfile:\n",
        "    writer = csv.writer(csvfile)\n",
        "\n",
        "    for i in range(1000000):\n",
        "        writer.writerow(_[i*10:(i+1)*10])\n",
        "\n",
        "end = time.time()\n",
        "print(\"花費時間：\", end-start, \"秒\")"
      ],
      "metadata": {
        "colab": {
          "base_uri": "https://localhost:8080/"
        },
        "id": "T3E7uqBINz7Z",
        "outputId": "625f337b-86bc-41bb-b55d-27f7800cb75b"
      },
      "execution_count": 2,
      "outputs": [
        {
          "output_type": "stream",
          "name": "stdout",
          "text": [
            "花費時間： 23.227306842803955 秒\n"
          ]
        }
      ]
    },
    {
      "cell_type": "code",
      "source": [
        ""
      ],
      "metadata": {
        "id": "wYyxcRdxN4p3"
      },
      "execution_count": null,
      "outputs": []
    }
  ]
}