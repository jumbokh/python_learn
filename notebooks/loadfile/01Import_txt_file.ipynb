{
  "cells": [
    {
      "cell_type": "markdown",
      "metadata": {
        "id": "tn97PGc5KSY8"
      },
      "source": [
        "# Method01"
      ]
    },
    {
      "cell_type": "code",
      "execution_count": 1,
      "metadata": {
        "id": "jci0zXfkKSZA",
        "outputId": "68d840fc-b66b-4ba3-ef8f-f3e3687395c1",
        "colab": {
          "base_uri": "https://localhost:8080/"
        }
      },
      "outputs": [
        {
          "output_type": "stream",
          "name": "stdout",
          "text": [
            "1,181,68\n",
            "2,175,60\n",
            "3,172,70\n",
            "4,173,66\n",
            "5,177,75\n"
          ]
        }
      ],
      "source": [
        "file = open(\"01data.txt\",\"r\").read()\n",
        "print(file)"
      ]
    },
    {
      "cell_type": "markdown",
      "metadata": {
        "id": "hvrrXZUbKSZD"
      },
      "source": [
        "# Method02"
      ]
    },
    {
      "cell_type": "code",
      "execution_count": 2,
      "metadata": {
        "id": "jQgqq5a5KSZD",
        "outputId": "2de39ab8-264b-47c3-c953-148b2a385f07",
        "colab": {
          "base_uri": "https://localhost:8080/"
        }
      },
      "outputs": [
        {
          "name": "stdout",
          "output_type": "stream",
          "text": [
            "./01data.txt\n"
          ]
        }
      ],
      "source": [
        "import os\n",
        "filename = input('./')\n",
        "filename = os.path.join(filename)\n",
        "data = open(filename)"
      ]
    },
    {
      "cell_type": "code",
      "execution_count": null,
      "metadata": {
        "id": "olCg8zlTKSZE",
        "outputId": "d70fcd8b-a30a-40a1-eff9-666067039afa"
      },
      "outputs": [
        {
          "name": "stdout",
          "output_type": "stream",
          "text": [
            "1,181,68\n",
            "2,175,60\n",
            "3,172,70\n",
            "4,173,66\n",
            "5,177,75\n"
          ]
        }
      ],
      "source": [
        "print(data.read())"
      ]
    }
  ],
  "metadata": {
    "kernelspec": {
      "display_name": "Python 3",
      "language": "python",
      "name": "python3"
    },
    "language_info": {
      "codemirror_mode": {
        "name": "ipython",
        "version": 3
      },
      "file_extension": ".py",
      "mimetype": "text/x-python",
      "name": "python",
      "nbconvert_exporter": "python",
      "pygments_lexer": "ipython3",
      "version": "3.5.5"
    },
    "colab": {
      "name": "01Import_txt_file.ipynb",
      "provenance": []
    }
  },
  "nbformat": 4,
  "nbformat_minor": 0
}