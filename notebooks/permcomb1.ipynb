{
  "nbformat": 4,
  "nbformat_minor": 0,
  "metadata": {
    "colab": {
      "name": "permcomb.ipynb",
      "provenance": [],
      "authorship_tag": "ABX9TyOhwCQ5iiW7VdfKbDGXA7A2",
      "include_colab_link": true
    },
    "kernelspec": {
      "name": "python3",
      "display_name": "Python 3"
    },
    "language_info": {
      "name": "python"
    }
  },
  "cells": [
    {
      "cell_type": "markdown",
      "metadata": {
        "id": "view-in-github",
        "colab_type": "text"
      },
      "source": [
        "<a href=\"https://colab.research.google.com/github/jumbokh/python_learn/blob/master/notebooks/permcomb1.ipynb\" target=\"_parent\"><img src=\"https://colab.research.google.com/assets/colab-badge.svg\" alt=\"Open In Colab\"/></a>"
      ]
    },
    {
      "cell_type": "code",
      "source": [
        "n=5\n",
        "k=2"
      ],
      "metadata": {
        "id": "i-cCK8orMqKd"
      },
      "execution_count": 1,
      "outputs": []
    },
    {
      "cell_type": "code",
      "source": [
        "from itertools import permutations"
      ],
      "metadata": {
        "id": "jX5PhEn3NrIJ"
      },
      "execution_count": 2,
      "outputs": []
    },
    {
      "cell_type": "code",
      "source": [
        "print(list(permutations(\"ABCD\",2)))"
      ],
      "metadata": {
        "colab": {
          "base_uri": "https://localhost:8080/"
        },
        "id": "PdCMMFabOD1Z",
        "outputId": "17ccd983-481b-4c86-c4ba-37540a9b8069"
      },
      "execution_count": 3,
      "outputs": [
        {
          "output_type": "stream",
          "name": "stdout",
          "text": [
            "[('A', 'B'), ('A', 'C'), ('A', 'D'), ('B', 'A'), ('B', 'C'), ('B', 'D'), ('C', 'A'), ('C', 'B'), ('C', 'D'), ('D', 'A'), ('D', 'B'), ('D', 'C')]\n"
          ]
        }
      ]
    },
    {
      "cell_type": "code",
      "source": [
        "from scipy.special import comb, perm"
      ],
      "metadata": {
        "id": "QqpwJXtQOJkZ"
      },
      "execution_count": 4,
      "outputs": []
    },
    {
      "cell_type": "code",
      "source": [
        "perm(3, 2) # 有序"
      ],
      "metadata": {
        "colab": {
          "base_uri": "https://localhost:8080/"
        },
        "id": "5fWE9eUeOlQA",
        "outputId": "83417e94-e202-4813-81a4-037c75082526"
      },
      "execution_count": 5,
      "outputs": [
        {
          "output_type": "execute_result",
          "data": {
            "text/plain": [
              "6.0"
            ]
          },
          "metadata": {},
          "execution_count": 5
        }
      ]
    },
    {
      "cell_type": "code",
      "source": [
        "comb(3, 2) # 无序"
      ],
      "metadata": {
        "colab": {
          "base_uri": "https://localhost:8080/"
        },
        "id": "YIyDm-BuOujY",
        "outputId": "9c7170ba-6d1b-4f1c-99ed-c6413181ed6e"
      },
      "execution_count": 6,
      "outputs": [
        {
          "output_type": "execute_result",
          "data": {
            "text/plain": [
              "3.0"
            ]
          },
          "metadata": {},
          "execution_count": 6
        }
      ]
    },
    {
      "cell_type": "code",
      "source": [
        "comb(n,k)"
      ],
      "metadata": {
        "colab": {
          "base_uri": "https://localhost:8080/"
        },
        "id": "jh9IxzX5O2O4",
        "outputId": "d4b90600-945f-408b-b3e9-15f4fdeefd0e"
      },
      "execution_count": 7,
      "outputs": [
        {
          "output_type": "execute_result",
          "data": {
            "text/plain": [
              "10.0"
            ]
          },
          "metadata": {},
          "execution_count": 7
        }
      ]
    },
    {
      "cell_type": "code",
      "source": [
        "n = [5,6,7]"
      ],
      "metadata": {
        "id": "A-sbor37O504"
      },
      "execution_count": 8,
      "outputs": []
    },
    {
      "cell_type": "code",
      "source": [
        "for i in n:\n",
        "  print(comb(i,3))"
      ],
      "metadata": {
        "colab": {
          "base_uri": "https://localhost:8080/"
        },
        "id": "m3irYdjQPRXf",
        "outputId": "a328bc43-15a4-41f6-dff7-a510b2851786"
      },
      "execution_count": 9,
      "outputs": [
        {
          "output_type": "stream",
          "name": "stdout",
          "text": [
            "10.0\n",
            "20.0\n",
            "35.0\n"
          ]
        }
      ]
    },
    {
      "cell_type": "code",
      "source": [
        "# 12台 3台故障, 買5台5台至少2台故障"
      ],
      "metadata": {
        "id": "t4aItyKSPYXW"
      },
      "execution_count": 10,
      "outputs": []
    },
    {
      "cell_type": "code",
      "source": [
        "print(comb(3,2)*comb(9,3)+comb(3,3)*comb(9,2))"
      ],
      "metadata": {
        "colab": {
          "base_uri": "https://localhost:8080/"
        },
        "id": "HsNE7-RiR-GU",
        "outputId": "27792e37-d1ce-4bdd-e6e0-e9455c1d3709"
      },
      "execution_count": 11,
      "outputs": [
        {
          "output_type": "stream",
          "name": "stdout",
          "text": [
            "288.0\n"
          ]
        }
      ]
    },
    {
      "cell_type": "code",
      "source": [
        "print(comb(3,1)*comb(4,1)*comb(3,1))"
      ],
      "metadata": {
        "colab": {
          "base_uri": "https://localhost:8080/"
        },
        "id": "w3bojlsYSS4r",
        "outputId": "10583492-ba9b-47fb-85b7-1d62f0e7c68a"
      },
      "execution_count": 12,
      "outputs": [
        {
          "output_type": "stream",
          "name": "stdout",
          "text": [
            "36.0\n"
          ]
        }
      ]
    },
    {
      "cell_type": "code",
      "source": [
        "Ts = list([x for x in range(1,6)])\n",
        "print(Ts)"
      ],
      "metadata": {
        "id": "-cagvF59UA5Y",
        "colab": {
          "base_uri": "https://localhost:8080/"
        },
        "outputId": "8df6ff3c-2fbb-4357-9225-6b9dfdcabadc"
      },
      "execution_count": 13,
      "outputs": [
        {
          "output_type": "stream",
          "name": "stdout",
          "text": [
            "[1, 2, 3, 4, 5]\n"
          ]
        }
      ]
    },
    {
      "cell_type": "code",
      "source": [
        "tt = []\n",
        "for i in Ts:\n",
        "  n = 'TT'+str(i)\n",
        "  tt.append(n)\n",
        "print(tt)"
      ],
      "metadata": {
        "colab": {
          "base_uri": "https://localhost:8080/"
        },
        "id": "Pe1LiPVZpbxh",
        "outputId": "0316cad0-c512-4f95-d3e5-4d552a6d2fa8"
      },
      "execution_count": 14,
      "outputs": [
        {
          "output_type": "stream",
          "name": "stdout",
          "text": [
            "['TT1', 'TT2', 'TT3', 'TT4', 'TT5']\n"
          ]
        }
      ]
    },
    {
      "cell_type": "code",
      "source": [
        "Ps = list([x for x in range(1,4)])\n",
        "print(Ps)"
      ],
      "metadata": {
        "colab": {
          "base_uri": "https://localhost:8080/"
        },
        "id": "ikJfSNH3qByI",
        "outputId": "509905e4-eb5f-4a37-c68d-f97c7af64deb"
      },
      "execution_count": 15,
      "outputs": [
        {
          "output_type": "stream",
          "name": "stdout",
          "text": [
            "[1, 2, 3]\n"
          ]
        }
      ]
    },
    {
      "cell_type": "code",
      "source": [
        "PP = []\n",
        "for i in Ps:\n",
        "  n = 'PP'+str(i)\n",
        "  PP.append(n)\n",
        "print(PP)"
      ],
      "metadata": {
        "colab": {
          "base_uri": "https://localhost:8080/"
        },
        "id": "dG0bMELdrITG",
        "outputId": "cfa8fdc1-d485-4d8e-be9e-dbe8678c868b"
      },
      "execution_count": 16,
      "outputs": [
        {
          "output_type": "stream",
          "name": "stdout",
          "text": [
            "['PP1', 'PP2', 'PP3']\n"
          ]
        }
      ]
    },
    {
      "cell_type": "code",
      "source": [
        "print(list(permutations(tt,1)))"
      ],
      "metadata": {
        "colab": {
          "base_uri": "https://localhost:8080/"
        },
        "id": "sgXrHu4jrU8H",
        "outputId": "56e40aba-9326-416d-d7e3-46f071edfa46"
      },
      "execution_count": 17,
      "outputs": [
        {
          "output_type": "stream",
          "name": "stdout",
          "text": [
            "[('TT1',), ('TT2',), ('TT3',), ('TT4',), ('TT5',)]\n"
          ]
        }
      ]
    },
    {
      "cell_type": "code",
      "source": [
        "def product(*args, repeat=1):\n",
        "    # product('ABCD', 'xy') --> Ax Ay Bx By Cx Cy Dx Dy\n",
        "    # product(range(2), repeat=3) --> 000 001 010 011 100 101 110 111\n",
        "    pools = [tuple(pool) for pool in args] * repeat\n",
        "    result = [[]]\n",
        "    for pool in pools:\n",
        "        result = [x+[y] for x in result for y in pool]\n",
        "    for prod in result:\n",
        "        yield tuple(prod)"
      ],
      "metadata": {
        "id": "0pJcQojoris2"
      },
      "execution_count": 18,
      "outputs": []
    },
    {
      "cell_type": "code",
      "source": [
        "xx = product(PP,tt)"
      ],
      "metadata": {
        "id": "HTyPeY2fMqkU"
      },
      "execution_count": 41,
      "outputs": []
    },
    {
      "cell_type": "code",
      "source": [
        "print(xx)"
      ],
      "metadata": {
        "colab": {
          "base_uri": "https://localhost:8080/"
        },
        "id": "usnNUejBM1-a",
        "outputId": "35f91513-911d-4ebb-ae19-bea044ca202f"
      },
      "execution_count": 42,
      "outputs": [
        {
          "output_type": "stream",
          "name": "stdout",
          "text": [
            "<generator object product at 0x7f677dab5bd0>\n"
          ]
        }
      ]
    },
    {
      "cell_type": "code",
      "source": [
        "xs = []\n",
        "for x1,x2 in xx:\n",
        "   xs.append([x1,x2])\n",
        "   print(x1,x2)"
      ],
      "metadata": {
        "colab": {
          "base_uri": "https://localhost:8080/"
        },
        "id": "6mAjQTRdNlDx",
        "outputId": "8c35b1ea-bfd9-4da5-d7ec-f465a0920850"
      },
      "execution_count": 43,
      "outputs": [
        {
          "output_type": "stream",
          "name": "stdout",
          "text": [
            "PP1 TT1\n",
            "PP1 TT2\n",
            "PP1 TT3\n",
            "PP1 TT4\n",
            "PP1 TT5\n",
            "PP2 TT1\n",
            "PP2 TT2\n",
            "PP2 TT3\n",
            "PP2 TT4\n",
            "PP2 TT5\n",
            "PP3 TT1\n",
            "PP3 TT2\n",
            "PP3 TT3\n",
            "PP3 TT4\n",
            "PP3 TT5\n"
          ]
        }
      ]
    },
    {
      "cell_type": "code",
      "source": [
        "print(xs)"
      ],
      "metadata": {
        "colab": {
          "base_uri": "https://localhost:8080/"
        },
        "id": "xSY2OSstNqzC",
        "outputId": "130c53ce-d67e-4300-d4f7-06a75f7756ec"
      },
      "execution_count": 44,
      "outputs": [
        {
          "output_type": "stream",
          "name": "stdout",
          "text": [
            "[['PP1', 'TT1'], ['PP1', 'TT2'], ['PP1', 'TT3'], ['PP1', 'TT4'], ['PP1', 'TT5'], ['PP2', 'TT1'], ['PP2', 'TT2'], ['PP2', 'TT3'], ['PP2', 'TT4'], ['PP2', 'TT5'], ['PP3', 'TT1'], ['PP3', 'TT2'], ['PP3', 'TT3'], ['PP3', 'TT4'], ['PP3', 'TT5']]\n"
          ]
        }
      ]
    },
    {
      "cell_type": "code",
      "source": [
        ""
      ],
      "metadata": {
        "id": "rzc9U85FO9h3"
      },
      "execution_count": null,
      "outputs": []
    }
  ]
}