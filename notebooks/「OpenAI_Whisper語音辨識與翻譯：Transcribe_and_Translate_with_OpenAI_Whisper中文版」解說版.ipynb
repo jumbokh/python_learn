{
  "nbformat": 4,
  "nbformat_minor": 0,
  "metadata": {
    "colab": {
      "provenance": [],
      "private_outputs": true,
      "gpuType": "T4",
      "include_colab_link": true
    },
    "kernelspec": {
      "name": "python3",
      "display_name": "Python 3"
    },
    "language_info": {
      "name": "python"
    },
    "accelerator": "GPU"
  },
  "cells": [
    {
      "cell_type": "markdown",
      "metadata": {
        "id": "view-in-github",
        "colab_type": "text"
      },
      "source": [
        "<a href=\"https://colab.research.google.com/github/jumbokh/python_learn/blob/master/notebooks/%E3%80%8COpenAI_Whisper%E8%AA%9E%E9%9F%B3%E8%BE%A8%E8%AD%98%E8%88%87%E7%BF%BB%E8%AD%AF%EF%BC%9ATranscribe_and_Translate_with_OpenAI_Whisper%E4%B8%AD%E6%96%87%E7%89%88%E3%80%8D%E8%A7%A3%E8%AA%AA%E7%89%88.ipynb\" target=\"_parent\"><img src=\"https://colab.research.google.com/assets/colab-badge.svg\" alt=\"Open In Colab\"/></a>"
      ]
    },
    {
      "cell_type": "code",
      "source": [],
      "metadata": {
        "id": "2PMG52ujcH0z"
      },
      "execution_count": null,
      "outputs": []
    },
    {
      "cell_type": "markdown",
      "source": [
        "說明影片："
      ],
      "metadata": {
        "id": "fpxASL6Thha-"
      }
    },
    {
      "cell_type": "markdown",
      "source": [
        "此內容由 [傑森布格](https://medium.com/@jasonboog) 撰寫，[某個Kevin](https://www.youtube.com/@OneOfKevin\n",
        "/) 翻譯與增加部分註記\n",
        "\n",
        "OpenAI 的 Whisper 是一種通用語音識別模型，可用於辨識或翻譯語音檔案。 您可以使用此 Google Colab 筆記本在 GPU 上免費使用 Whisper。\n",
        "\n",
        "感謝 ByteXD 提供此[影片](https://www.youtube.com/watch?v=-KyqrwdTsN0)介紹。\n",
        "\n",
        "有關 Whisper 的更多信息，您可以訪問[此 GitHub 存儲庫](https://github.com/openai/whisper)。\n",
        "\n",
        "在開始之前，請將此 Google Colab 筆記本的副本保存到您的 Google Drive。 只需打開“檔案”選單並選擇“在雲端硬碟中儲存副本”。\n",
        "\n",
        "在 Google Chrome 上打開您的 Colab 筆記本副本，然後按照以下步驟進行辨識和翻譯。\n",
        "\n",
        "原始連結：https://colab.research.google.com/drive/1WLYoBvA3YNKQ0X2lC9udUOmjK7rZgAwr?usp=sharing#scrollTo=-1pP466t8kpv"
      ],
      "metadata": {
        "id": "1SOAz1w823ZO"
      }
    },
    {
      "cell_type": "markdown",
      "source": [
        "By [Jason Boog](https://medium.com/@jasonboog)\n",
        "\n",
        "OpenAI's Whisper is a general-purpose speech recognition model that you can use to transcribe or translate audio files. You can use Whisper for free on a GPU using this Google Colab notebook.\n",
        "\n",
        "Thanks to ByteXD for [this video introduction](https://youtu.be/-KyqrwdTsN0).\n",
        "\n",
        "For more information about Whisper, you can visit [this GitHub repository](https://github.com/openai/whisper).\n",
        "\n",
        "Before we get started, save a copy of this Google Colab notebook to your Google Drive. Just open the File menu and choose \"Save a Copy in Drive.\"\n",
        "\n",
        "Open your copy of the Colab notebook on Google Chrome, and follow these steps to transcribe and translate."
      ],
      "metadata": {
        "id": "sICPfKnZCTVZ"
      }
    },
    {
      "cell_type": "markdown",
      "source": [
        "# 步驟一：安裝 Whisper Step One: Install Whisper\n",
        "\n",
        "此步驟將從 Github 上的 OpenAI 存儲庫安裝最新的提交。 只需運行下面的單元即可安裝。\n",
        "\n",
        "This step will install the latest commit from the OpenAI repository on Github. Just run the cell below to install."
      ],
      "metadata": {
        "id": "DEZezug-DzPB"
      }
    },
    {
      "cell_type": "code",
      "execution_count": null,
      "metadata": {
        "id": "XRRPAS8t1DXJ"
      },
      "outputs": [],
      "source": [
        "!pip install git+https://github.com/openai/whisper.git"
      ]
    },
    {
      "cell_type": "code",
      "source": [
        "!pip install -U openai-whisper"
      ],
      "metadata": {
        "id": "_bNLx6WKFZ1g"
      },
      "execution_count": null,
      "outputs": []
    },
    {
      "cell_type": "code",
      "source": [
        "!pip install --upgrade --no-deps --force-reinstall git+https://github.com/openai/whisper.git"
      ],
      "metadata": {
        "id": "klKCgjJYnw_f"
      },
      "execution_count": null,
      "outputs": []
    },
    {
      "cell_type": "markdown",
      "source": [
        "# 步驟二：安裝ffmpeg Step Two: Install ffmpeg\n",
        "\n",
        "您需要安裝 [ffmpeg](https://ffmpeg.org)，這是一種用於錄製、轉換和流式傳輸音頻和影片的跨平台解決方案。 只需運行單元即可安裝。\n",
        "\n",
        "You need to install [ffmpeg](https://ffmpeg.org), a cross-platform solution to record, convert and stream audio and video. Just run the cell to install."
      ],
      "metadata": {
        "id": "2E86sIkRE96A"
      }
    },
    {
      "cell_type": "code",
      "source": [
        "!sudo apt update && sudo apt install ffmpeg"
      ],
      "metadata": {
        "id": "-YsDcsci1xRE"
      },
      "execution_count": null,
      "outputs": []
    },
    {
      "cell_type": "markdown",
      "source": [
        "下載台北思源黑體並命名taipei_sans_tc_beta.ttf，移至指定路徑"
      ],
      "metadata": {
        "id": "IpwD6gcA9wX5"
      }
    },
    {
      "cell_type": "code",
      "source": [
        "!wget -O TaipeiSansTCBeta-Regular.ttf https://drive.google.com/uc?id=1eGAsTN1HBpJAkeVM57_C7ccp7hbgSz3_&export=download"
      ],
      "metadata": {
        "id": "_9MaWOHoOjgB"
      },
      "execution_count": null,
      "outputs": []
    },
    {
      "cell_type": "markdown",
      "source": [
        "更新字體快取，其他程式方能使用"
      ],
      "metadata": {
        "id": "Z32Y4BU19urr"
      }
    },
    {
      "cell_type": "code",
      "source": [
        "!fc-cache -fv\n"
      ],
      "metadata": {
        "id": "WHG6U0s9O-ru"
      },
      "execution_count": null,
      "outputs": []
    },
    {
      "cell_type": "markdown",
      "source": [
        "變更字幕檔權限"
      ],
      "metadata": {
        "id": "IydYJLuZjkLd"
      }
    },
    {
      "cell_type": "code",
      "source": [
        "!chmod 777 TaipeiSansTCBeta-Regular.ttf"
      ],
      "metadata": {
        "id": "b2_UOPTijjqM"
      },
      "execution_count": null,
      "outputs": []
    },
    {
      "cell_type": "markdown",
      "source": [
        "下載完成後將字型移至font資料夾"
      ],
      "metadata": {
        "id": "prHKHupB9jcH"
      }
    },
    {
      "cell_type": "code",
      "source": [
        "!cp *.ttf /usr/local/share/fonts"
      ],
      "metadata": {
        "id": "_Vk6s7dqzxw7"
      },
      "execution_count": null,
      "outputs": []
    },
    {
      "cell_type": "markdown",
      "source": [
        "# 步驟三：上傳你的檔案 Step Three: Upload Your File\n",
        "\n",
        "打開 Colab 筆記本左邊的資料夾圖案。將您要的 辨識.mp3 拖到“檔案”部分。\n",
        "\n",
        "這會將語音檔上傳到您的 Google 雲端硬碟。 這是您上傳檔案後的樣子：\n",
        "\n",
        "![iShot_2023-04-10_16.47.35.jpg](data:image/jpeg;base64,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)\n",
        "\n",
        "by 某個Kevin備註：**請確認你的檔案儲存在其他位置。系統會在這個執行階段終止時刪除其檔案。**\n",
        "\n",
        "Open the file folder on the left-hand corner of your Colab notebook. Drag the .mp3 you would like to transcribe into the \"Files\" section.\n",
        "\n",
        "This will upload the audio to your your Google Drive. Here's what it looks like once you've uploaded a file:\n",
        "\n",
        "\n",
        "![Colab Files 23.png](data:image/png;base64,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)\n",
        "\n",
        "\n"
      ],
      "metadata": {
        "id": "FHH08HaDFQEs"
      }
    },
    {
      "cell_type": "markdown",
      "source": [
        "步驟三plus：透過Google drive 上傳你的檔案 如果檔案太大可透過google drive 上傳檔案需輸入file id"
      ],
      "metadata": {
        "id": "qHJdb4llfWZe"
      }
    },
    {
      "cell_type": "code",
      "source": [
        "# Import PyDrive and associated libraries.\n",
        "# This only needs to be done once per notebook.\n",
        "from pydrive.auth import GoogleAuth\n",
        "from pydrive.drive import GoogleDrive\n",
        "from google.colab import auth\n",
        "from oauth2client.client import GoogleCredentials\n",
        "import re\n",
        "\n",
        "# Authenticate and create the PyDrive client.\n",
        "# This only needs to be done once per notebook.\n",
        "auth.authenticate_user()\n",
        "gauth = GoogleAuth()\n",
        "gauth.credentials = GoogleCredentials.get_application_default()\n",
        "drive = GoogleDrive(gauth)\n",
        "\n",
        "# Download a file based on its file ID.\n",
        "# A file ID looks like: laggVyWshwcyP6kEI-y_W3P8D26sz\n",
        "full_url = input(\"請輸入完整的 Google Drive 網址: \")\n",
        "match = re.search(r'/file/d/([a-zA-Z0-9-_]+)', full_url)\n",
        "file_id = match.group(1)\n",
        "#file_id = input(\"請輸入file_id: \")\n",
        "#file_id = '1fZ8U1sn1BLOc4eIJaMIxHLZjAS7YSJgR'\n",
        "downloaded = drive.CreateFile({'id': file_id})\n",
        "# 從下載的文件中獲取原始文件名（包括副檔名）\n",
        "original_filename = downloaded['title']\n",
        "\n",
        "# 使用這個文件名保存文件到 Colab 環境\n",
        "downloaded.GetContentFile(original_filename)\n",
        "\n",
        "print(f\"檔案 '{original_filename}' 已保存到 Colab 環境中\")"
      ],
      "metadata": {
        "id": "nPi1kj46fIja"
      },
      "execution_count": null,
      "outputs": []
    },
    {
      "cell_type": "markdown",
      "source": [
        "步驟三plus：透過Google drive 上傳你的檔案 多檔案可透過輸入 folder ID 下載整個資料夾檔案"
      ],
      "metadata": {
        "id": "tCHC_VeQt7w_"
      }
    },
    {
      "cell_type": "code",
      "source": [
        "from pydrive.auth import GoogleAuth\n",
        "from pydrive.drive import GoogleDrive\n",
        "from google.colab import auth\n",
        "from oauth2client.client import GoogleCredentials\n",
        "import re\n",
        "\n",
        "# 認證並創建 PyDrive 客戶端\n",
        "auth.authenticate_user()\n",
        "gauth = GoogleAuth()\n",
        "gauth.credentials = GoogleCredentials.get_application_default()\n",
        "drive = GoogleDrive(gauth)\n",
        "\n",
        "# 輸入 Google Drive 文件夾的完整 URL\n",
        "full_url = input(\"請輸入完整的 Google Drive 文件夾網址: \")\n",
        "match = re.search(r'/folders/([a-zA-Z0-9-_]+)', full_url)\n",
        "if match:\n",
        "    folder_id = match.group(1)\n",
        "    print(f\"文件夾 ID: {folder_id}\")\n",
        "\n",
        "    # 創建一個查詢字符串，用來找到文件夾下的所有文件\n",
        "    query = f\"'{folder_id}' in parents and trashed=false\"\n",
        "\n",
        "    # 使用文件夾 ID 列出所有文件\n",
        "    try:\n",
        "        file_list = drive.ListFile({'q': query}).GetList()\n",
        "        # 下載文件夾中的每個文件\n",
        "        for file in file_list:\n",
        "            print(f'正在從 Google Drive 下載文件 {file[\"title\"]}')  # 顯示下載信息\n",
        "            file.GetContentFile(file['title'])  # 下載文件\n",
        "        print(\"所有文件已下載到 Colab 環境。\")\n",
        "    except Exception as e:\n",
        "        print(f\"訪問文件時出錯: {e}\")\n",
        "else:\n",
        "    print(\"未能解析文件夾 ID，請檢查網址格式是否正確。\")\n"
      ],
      "metadata": {
        "id": "vtbibh8yt5_G"
      },
      "execution_count": null,
      "outputs": []
    },
    {
      "cell_type": "markdown",
      "source": [
        "# 步驟四：辨識 Step Four: Transcribe\n",
        "\n",
        "要辨識 .mp3，只需將 .mp3 檔案名稱複製並貼上到下面的命令行中，然後運行該單元格。\n",
        "\n",
        "不要忘記引號！\n",
        "\n",
        "by 某個Kevin備註：\n",
        "1. 如果只辨識一到一半就結束，代表檔案可能沒有完整傳完，請重新傳一次。（上傳的時候下方會有檔案名稱，旁邊會有個小圓圈，轉完才算傳完）\n",
        "2. **推薦使用medium就好，辨識已經夠準確，大約花原本檔案一半甚至四分之一左右的時間即可辨識完畢**。當然你也可以使用large模型，但large模型速度花的時間是medium模型的兩倍，詳情可看OpenAI GitHub說明：https://github.com/openai/whisper\n",
        "3. 因不明原因，我測試large模型前30秒內容會消失。相同檔案medium模型執行正常，但large模型就異常\n",
        "4. 用medium模型有時候也是會異常，例如我有遇過前面內容都正常，但在某個時間點後就故障了，辨識出來的東西變成重複內容，後來我重新執行一次又正常了（沒有更換檔案）。所以如果有遇到異常不妨重新執行一次看看\n",
        "\n",
        "To transcribe an .mp3, simply copy and paste the title of your .mp3 file into the command line below and run the cell.\n",
        "\n",
        "Don't forget the quotation marks!\n",
        "\n"
      ],
      "metadata": {
        "id": "D7j3VhEsGc4G"
      }
    },
    {
      "cell_type": "code",
      "source": [
        "!whisper --model\n"
      ],
      "metadata": {
        "id": "WAUqpi-zloll"
      },
      "execution_count": null,
      "outputs": []
    },
    {
      "cell_type": "markdown",
      "source": [
        "by 某個Kevin備註：然後我發現用網址也是可以啦，像下面這樣\n",
        "\n",
        "---\n",
        "\n"
      ],
      "metadata": {
        "id": "eg2kfmhdGnkC"
      }
    },
    {
      "cell_type": "code",
      "source": [
        "!whisper \"WiNG Migration Partner Webinar APAC.mp4\" --model medium --language en"
      ],
      "metadata": {
        "id": "1QCwPKkNGThQ"
      },
      "execution_count": null,
      "outputs": []
    },
    {
      "cell_type": "code",
      "source": [
        "whisper_command = f'!whisper \"{original_filename}\" --model medium --language en'"
      ],
      "metadata": {
        "id": "jd6aFGA8RG1D"
      },
      "execution_count": null,
      "outputs": []
    },
    {
      "cell_type": "markdown",
      "source": [
        "# 步驟五：翻譯 Step Five: Translate\n",
        "\n",
        "要翻譯 .mp3，只需將 .mp3 的檔名複製並粘貼到下面的命令行中，然後運行該單元格。\n",
        "\n",
        "您可以根據需要在命令行中更改語言，英語是默認輸出。 不要忘記引號！\n",
        "\n",
        "注意：作者使用 Colab Pro 訂閱創建並成功運行了此筆記本的每一步。\n",
        "\n",
        "在基本的 Google Colab 計劃中，除了“第五步”之外的所有步驟都有效。 最後一步在基本計劃上不斷出現“運行時中斷”錯誤。\n",
        "\n",
        "To translate an .mp3, simply copy and paste the title of your .mp3 file into the command line below and run the cell.\n",
        "\n",
        "You can change the language as needed in the command line, and English is the default output. Don't forget the quotation marks!\n",
        "\n",
        "Note: I created and successfully ran every step of this notebook with my Colab Pro subscription.\n",
        "\n",
        "On the basic Google Colab plan, all the steps worked except \"Step Five.\" This final step kept getting a \"Runtime discontinued\" error on the basic plan."
      ],
      "metadata": {
        "id": "TbeClltmKIEZ"
      }
    },
    {
      "cell_type": "code",
      "source": [],
      "metadata": {
        "id": "2RXnqwUcmtB9"
      },
      "execution_count": null,
      "outputs": []
    },
    {
      "cell_type": "code",
      "source": [
        "!whisper \"Generative AI the Ansible way.mp4\" --language en --model large"
      ],
      "metadata": {
        "id": "8wPpSxTOFLAq"
      },
      "execution_count": null,
      "outputs": []
    },
    {
      "cell_type": "code",
      "source": [
        "!whisper \"Behind-the-Scenes at KICK Sauber F1® with Extreme Academy - Part 1 LinkedIn.mp4\" --language zh --model medium --initial_prompt=\"繁體中文\""
      ],
      "metadata": {
        "id": "DnZqS_5D2lhp"
      },
      "execution_count": null,
      "outputs": []
    },
    {
      "cell_type": "code",
      "source": [
        "!whisper --help"
      ],
      "metadata": {
        "id": "hANUfr5uCy-3"
      },
      "execution_count": null,
      "outputs": []
    },
    {
      "cell_type": "markdown",
      "source": [
        "用ffpmeg 將字幕檔燒入至影片裡"
      ],
      "metadata": {
        "id": "0Kh-1kNGOKDY"
      }
    },
    {
      "cell_type": "code",
      "source": [
        "!ls -al"
      ],
      "metadata": {
        "id": "_gsUmnuPjb9l"
      },
      "execution_count": null,
      "outputs": []
    },
    {
      "cell_type": "code",
      "source": [
        "!ffmpeg -i 'On-Demand - Mastering Wing Migration Enhance Your Network s Intelligence and Efficiency Extreme Networks.mp4' \\\n",
        "-vf \"subtitles='On-Demand - Mastering Wing Migration Enhance Your Network s Intelligence and Efficiency Extreme Networks_dual.srt:force_style=PrimaryColour=0xCCCCCC,BackColour=0x000000,OutlineColour=0x000000,BorderStyle=1,Outline=1,Shadow=0,MarginV=10,Fontsize=14'\" \\\n",
        "-c:a copy 'On-Demand - Mastering Wing Migration Enhance Your Network s Intelligence and Efficiency Extreme Networks_dual.mp4'\n"
      ],
      "metadata": {
        "id": "fLGz728vIDhw"
      },
      "execution_count": null,
      "outputs": []
    },
    {
      "cell_type": "code",
      "source": [
        "!ffmpeg --help\n",
        "#!ffmpeg -i 'Intro – Extreme Academy.mp4' -vf \"subtitles='Intro – Extreme Academy.zh-TW-translation.srt:force_style='PrimaryColour=0xCCCCCC,BackColour=0x000000,OutlineColour=0x000000,BorderStyle=1,Outline=1,Shadow=0,MarginV=10,Fontsize=14'\" -c:a copy 'Intro – Extreme Academy1.mp4'"
      ],
      "metadata": {
        "id": "Gve21rj1OJAh"
      },
      "execution_count": null,
      "outputs": []
    },
    {
      "cell_type": "code",
      "source": [
        "!fc-list\n",
        "!pwd\n",
        "!cat /etc/fonts/fonts.conf\n"
      ],
      "metadata": {
        "id": "87LRbafnJcON"
      },
      "execution_count": null,
      "outputs": []
    },
    {
      "cell_type": "code",
      "source": [
        "from google.colab import drive\n",
        "drive.mount('/content/drive')"
      ],
      "metadata": {
        "id": "IwSbxGi_TBE8"
      },
      "execution_count": null,
      "outputs": []
    },
    {
      "cell_type": "markdown",
      "source": [
        "# 授權條款 License\n",
        "\n",
        "麻省理工授權條款\n",
        "\n",
        "版權所有 (c) 2022 Jason Boog\n",
        "\n",
        "特此免費授予獲得本軟體和相關檔案（“軟體”）副本的任何人不受限制地處理本軟體的權限，包括但不限於使用、複製、修改、合併的權利 、發布、分發、再許可和/或出售軟體的副本，並允許獲得軟體的人這樣做，但須滿足以下條件：\n",
        "\n",
        "上述版權聲明和本許可聲明應包含在本軟體的所有副本或重要部分中。\n",
        "\n",
        "本軟體“按原樣”提供，不提供任何明示或暗示的保證，包括但不限於對適銷性、特定用途的適用性和非侵權的保證。 在任何情況下，作者或版權持有人均不對任何索賠、損害或其他責任負責，無論是在合同訴訟、侵權行為還是其他方面，由軟體或軟體的使用或其他交易引起、由軟體引起或與之相關軟體。\n",
        "\n",
        "MIT License\n",
        "\n",
        "Copyright (c) 2022 Jason Boog\n",
        "\n",
        "Permission is hereby granted, free of charge, to any person obtaining a copy of this software and associated documentation files (the \"Software\"), to deal in the Software without restriction, including without limitation the rights to use, copy, modify, merge, publish, distribute, sublicense, and/or sell copies of the Software, and to permit persons to whom the Software is furnished to do so, subject to the following conditions:\n",
        "\n",
        "The above copyright notice and this permission notice shall be included in all copies or substantial portions of the Software.\n",
        "\n",
        "THE SOFTWARE IS PROVIDED \"AS IS\", WITHOUT WARRANTY OF ANY KIND, EXPRESS OR IMPLIED, INCLUDING BUT NOT LIMITED TO THE WARRANTIES OF MERCHANTABILITY, FITNESS FOR A PARTICULAR PURPOSE AND NONINFRINGEMENT. IN NO EVENT SHALL THE AUTHORS OR COPYRIGHT HOLDERS BE LIABLE FOR ANY CLAIM, DAMAGES OR OTHER LIABILITY, WHETHER IN AN ACTION OF CONTRACT, TORT OR OTHERWISE, ARISING FROM, OUT OF OR IN CONNECTION WITH THE SOFTWARE OR THE USE OR OTHER DEALINGS IN THE SOFTWARE."
      ],
      "metadata": {
        "id": "L9jzU75GL1N3"
      }
    }
  ]
}