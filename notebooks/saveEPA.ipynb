{
  "nbformat": 4,
  "nbformat_minor": 0,
  "metadata": {
    "colab": {
      "name": "saveEPA.ipynb",
      "provenance": [],
      "collapsed_sections": [],
      "authorship_tag": "ABX9TyOigFcjKALBjEA1DjQo9Hr7",
      "include_colab_link": true
    },
    "kernelspec": {
      "name": "python3",
      "display_name": "Python 3"
    },
    "language_info": {
      "name": "python"
    }
  },
  "cells": [
    {
      "cell_type": "markdown",
      "metadata": {
        "id": "view-in-github",
        "colab_type": "text"
      },
      "source": [
        "<a href=\"https://colab.research.google.com/github/jumbokh/python_learn/blob/master/notebooks/saveEPA.ipynb\" target=\"_parent\"><img src=\"https://colab.research.google.com/assets/colab-badge.svg\" alt=\"Open In Colab\"/></a>"
      ]
    },
    {
      "cell_type": "code",
      "execution_count": 1,
      "metadata": {
        "id": "1X4aYdr1pYzf"
      },
      "outputs": [],
      "source": [
        "import json,requests\n",
        "import config"
      ]
    },
    {
      "cell_type": "code",
      "source": [
        "EPAKEY = config.EPAKEY"
      ],
      "metadata": {
        "id": "IPcM3JAhpcBL"
      },
      "execution_count": 2,
      "outputs": []
    },
    {
      "cell_type": "code",
      "source": [
        "WEBHOOK_URL=\"https://data.epa.gov.tw/api/v2/aqx_p_432?api_key=\"\n",
        "WEBHOOK_URL+=EPAKEY + \"&format=json\""
      ],
      "metadata": {
        "id": "oplh-nHWrGVR"
      },
      "execution_count": 3,
      "outputs": []
    },
    {
      "cell_type": "code",
      "source": [
        "epadata = requests.get(WEBHOOK_URL)\n",
        "text = epadata.text\n",
        "dat = json.loads(text)"
      ],
      "metadata": {
        "id": "1LcyDHp9rIzn"
      },
      "execution_count": 4,
      "outputs": []
    },
    {
      "cell_type": "code",
      "source": [
        "dt = []\n",
        "for record in dat['records']:\n",
        "  raw = [record['sitename'],record['county'],record['aqi'],record['status'],record['pm2.5']]\n",
        "  dt.append(raw)"
      ],
      "metadata": {
        "id": "4xPJRUQxrLkG"
      },
      "execution_count": 5,
      "outputs": []
    },
    {
      "cell_type": "code",
      "source": [
        "f = open('epafile.dat','w')\n",
        "f.write(str(dt))\n",
        "f.close()"
      ],
      "metadata": {
        "id": "P9-CGa_7t_18"
      },
      "execution_count": 7,
      "outputs": []
    },
    {
      "cell_type": "code",
      "source": [
        "#county = '高雄市'\n",
        "sitename = '左營'\n",
        "for x in dt:\n",
        "  if x[0] == sitename:\n",
        "    print(x)"
      ],
      "metadata": {
        "colab": {
          "base_uri": "https://localhost:8080/"
        },
        "id": "OZWeq7A2rUJ2",
        "outputId": "7aa790ed-ce55-4dee-ceac-365ad7774eea"
      },
      "execution_count": 8,
      "outputs": [
        {
          "output_type": "stream",
          "name": "stdout",
          "text": [
            "['左營', '高雄市', '19', '良好', '6']\n"
          ]
        }
      ]
    }
  ]
}