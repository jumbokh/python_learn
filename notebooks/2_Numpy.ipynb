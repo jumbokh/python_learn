{
  "cells": [
    {
      "cell_type": "markdown",
      "metadata": {
        "id": "view-in-github",
        "colab_type": "text"
      },
      "source": [
        "<a href=\"https://colab.research.google.com/github/jumbokh/python_learn/blob/master/notebooks/2_Numpy.ipynb\" target=\"_parent\"><img src=\"https://colab.research.google.com/assets/colab-badge.svg\" alt=\"Open In Colab\"/></a>"
      ]
    },
    {
      "cell_type": "markdown",
      "metadata": {
        "id": "GzC-227kabjr"
      },
      "source": [
        "## 2.1 认识NumPy数组对象"
      ]
    },
    {
      "cell_type": "code",
      "execution_count": null,
      "metadata": {
        "id": "o7lAjukmabjt"
      },
      "outputs": [],
      "source": [
        "import numpy as np                     # 导入NumPy工具包"
      ]
    },
    {
      "cell_type": "code",
      "execution_count": null,
      "metadata": {
        "id": "K-exxfprabjt"
      },
      "outputs": [],
      "source": [
        "data = np.arange(12).reshape(3, 4)  # 创建一个3行4列的数组"
      ]
    },
    {
      "cell_type": "code",
      "execution_count": null,
      "metadata": {
        "id": "x-ck9Tc5abju",
        "outputId": "85fc9972-b752-4a71-dbfc-472294766e90"
      },
      "outputs": [
        {
          "data": {
            "text/plain": [
              "array([[ 0,  1,  2,  3],\n",
              "       [ 4,  5,  6,  7],\n",
              "       [ 8,  9, 10, 11]])"
            ]
          },
          "execution_count": 4,
          "metadata": {},
          "output_type": "execute_result"
        }
      ],
      "source": [
        "data"
      ]
    },
    {
      "cell_type": "code",
      "execution_count": null,
      "metadata": {
        "id": "ZemODp-fabjv",
        "outputId": "087b5456-e3e4-4f8b-81b7-f4dc134a6020"
      },
      "outputs": [
        {
          "data": {
            "text/plain": [
              "numpy.ndarray"
            ]
          },
          "execution_count": 5,
          "metadata": {},
          "output_type": "execute_result"
        }
      ],
      "source": [
        "type(data)"
      ]
    },
    {
      "cell_type": "code",
      "execution_count": null,
      "metadata": {
        "id": "36q53FK0abjv",
        "outputId": "21d31638-a64c-47c8-f2a2-9048d22c01d5"
      },
      "outputs": [
        {
          "data": {
            "text/plain": [
              "2"
            ]
          },
          "execution_count": 6,
          "metadata": {},
          "output_type": "execute_result"
        }
      ],
      "source": [
        "data.ndim         # 数组维度的个数，输出结果2，表示二维数组"
      ]
    },
    {
      "cell_type": "code",
      "execution_count": null,
      "metadata": {
        "id": "y3CbH1HGabjv",
        "outputId": "45d2565a-4ab0-4aab-ca58-afa19d7ab6ed"
      },
      "outputs": [
        {
          "data": {
            "text/plain": [
              "(3, 4)"
            ]
          },
          "execution_count": 7,
          "metadata": {},
          "output_type": "execute_result"
        }
      ],
      "source": [
        "data.shape        # 数组的维度，输出结果（3，4），表示3行4列"
      ]
    },
    {
      "cell_type": "code",
      "execution_count": null,
      "metadata": {
        "id": "TvgfEy3oabjv",
        "outputId": "d14e56e5-7b5e-4ecb-b898-d82fc2b23651"
      },
      "outputs": [
        {
          "data": {
            "text/plain": [
              "12"
            ]
          },
          "execution_count": 8,
          "metadata": {},
          "output_type": "execute_result"
        }
      ],
      "source": [
        "data.size         # 数组元素的个数，输出结果12，表示总共有12个元素"
      ]
    },
    {
      "cell_type": "code",
      "execution_count": null,
      "metadata": {
        "id": "QDxp3aMLabjv",
        "outputId": "6631bc42-b863-45a5-f59d-742457d22b55"
      },
      "outputs": [
        {
          "data": {
            "text/plain": [
              "dtype('int32')"
            ]
          },
          "execution_count": 9,
          "metadata": {},
          "output_type": "execute_result"
        }
      ],
      "source": [
        "data.dtype # 数组元素的类型，输出结果dtype('int64'),表示元素类型都是int64"
      ]
    },
    {
      "cell_type": "markdown",
      "metadata": {
        "id": "hmDvodGwabjw"
      },
      "source": [
        "## 2.2 创建NumPy数组"
      ]
    },
    {
      "cell_type": "code",
      "execution_count": null,
      "metadata": {
        "id": "Z4s0SPlgabjw"
      },
      "outputs": [],
      "source": [
        "import numpy as np"
      ]
    },
    {
      "cell_type": "code",
      "execution_count": null,
      "metadata": {
        "id": "C8Dz8pl6abjw"
      },
      "outputs": [],
      "source": [
        "data1 = np.array([1, 2, 3])                   # 创建一个一维数组"
      ]
    },
    {
      "cell_type": "code",
      "execution_count": null,
      "metadata": {
        "id": "Nt6Jf4VFabjw",
        "outputId": "4e545b77-a7af-4234-b327-c551b0a82bf8"
      },
      "outputs": [
        {
          "data": {
            "text/plain": [
              "array([1, 2, 3])"
            ]
          },
          "execution_count": 12,
          "metadata": {},
          "output_type": "execute_result"
        }
      ],
      "source": [
        "data1"
      ]
    },
    {
      "cell_type": "code",
      "execution_count": null,
      "metadata": {
        "id": "0EKp7Ovwabjw"
      },
      "outputs": [],
      "source": [
        "data2 = np.array([[1, 2, 3], [4, 5, 6]])   # 创建一个二维数组"
      ]
    },
    {
      "cell_type": "code",
      "execution_count": null,
      "metadata": {
        "id": "Y5apE1Yyabjw",
        "outputId": "456debc7-3b41-45fa-ea87-63a49d5a41d9"
      },
      "outputs": [
        {
          "data": {
            "text/plain": [
              "array([[1, 2, 3],\n",
              "       [4, 5, 6]])"
            ]
          },
          "execution_count": 14,
          "metadata": {},
          "output_type": "execute_result"
        }
      ],
      "source": [
        "data2"
      ]
    },
    {
      "cell_type": "code",
      "execution_count": null,
      "metadata": {
        "id": "y9gQmeRWabjw",
        "outputId": "3d4ea525-63e8-47ea-eb0a-16ac93d8df7a"
      },
      "outputs": [
        {
          "data": {
            "text/plain": [
              "array([[0., 0., 0., 0.],\n",
              "       [0., 0., 0., 0.],\n",
              "       [0., 0., 0., 0.]])"
            ]
          },
          "execution_count": 15,
          "metadata": {},
          "output_type": "execute_result"
        }
      ],
      "source": [
        "np.zeros((3, 4))"
      ]
    },
    {
      "cell_type": "code",
      "execution_count": null,
      "metadata": {
        "id": "eywzfu8sabjw",
        "outputId": "b41cdcac-42c6-4455-9136-f52a69a06977"
      },
      "outputs": [
        {
          "data": {
            "text/plain": [
              "array([[1., 1., 1., 1.],\n",
              "       [1., 1., 1., 1.],\n",
              "       [1., 1., 1., 1.]])"
            ]
          },
          "execution_count": 16,
          "metadata": {},
          "output_type": "execute_result"
        }
      ],
      "source": [
        "np.ones((3, 4))"
      ]
    },
    {
      "cell_type": "code",
      "execution_count": null,
      "metadata": {
        "id": "VivFV2G7abjw",
        "outputId": "b0430a0b-6581-4200-b2e3-b2623ef2c163"
      },
      "outputs": [
        {
          "data": {
            "text/plain": [
              "array([[2.26658445e-317, 2.32210854e-322],\n",
              "       [0.00000000e+000, 0.00000000e+000],\n",
              "       [0.00000000e+000, 1.16095484e-028],\n",
              "       [7.49232601e+247, 2.09601532e-110],\n",
              "       [2.91237123e+257, 4.71294503e+257]])"
            ]
          },
          "execution_count": 17,
          "metadata": {},
          "output_type": "execute_result"
        }
      ],
      "source": [
        "np.empty((5, 2))"
      ]
    },
    {
      "cell_type": "code",
      "execution_count": null,
      "metadata": {
        "id": "ui2Dw-jMabjw",
        "outputId": "8ac492ba-6e9c-4354-c13a-f65c35cf5c25"
      },
      "outputs": [
        {
          "data": {
            "text/plain": [
              "array([ 1,  6, 11, 16])"
            ]
          },
          "execution_count": 18,
          "metadata": {},
          "output_type": "execute_result"
        }
      ],
      "source": [
        "np.arange(1, 20, 5)"
      ]
    },
    {
      "cell_type": "code",
      "execution_count": null,
      "metadata": {
        "id": "1z2Bar9Oabjx",
        "outputId": "59aee914-2bbc-4b12-f119-12897ae32a46"
      },
      "outputs": [
        {
          "data": {
            "text/plain": [
              "array([1., 2., 3., 4.])"
            ]
          },
          "execution_count": 19,
          "metadata": {},
          "output_type": "execute_result"
        }
      ],
      "source": [
        "np.array([1, 2, 3, 4], float)"
      ]
    },
    {
      "cell_type": "code",
      "execution_count": null,
      "metadata": {
        "id": "NL7raNi8abjx",
        "outputId": "685a338c-50e8-4467-e26b-4c500f8527c9"
      },
      "outputs": [
        {
          "data": {
            "text/plain": [
              "array([[1., 1., 1.],\n",
              "       [1., 1., 1.]])"
            ]
          },
          "execution_count": 20,
          "metadata": {},
          "output_type": "execute_result"
        }
      ],
      "source": [
        "np.ones((2, 3), dtype='float64')"
      ]
    },
    {
      "cell_type": "markdown",
      "metadata": {
        "id": "MUOAUFYPabjx"
      },
      "source": [
        "## 2.3 ndarry对象的数据类型"
      ]
    },
    {
      "cell_type": "markdown",
      "metadata": {
        "id": "VXtLDa_yabjx"
      },
      "source": [
        "### 2.3.1 查看数据类型"
      ]
    },
    {
      "cell_type": "code",
      "execution_count": null,
      "metadata": {
        "id": "gemQOEr5abjx"
      },
      "outputs": [],
      "source": [
        "data_one = np.array([[1, 2, 3], [4, 5, 6]])"
      ]
    },
    {
      "cell_type": "code",
      "execution_count": null,
      "metadata": {
        "id": "sq2nnzbEabjx",
        "outputId": "ad0f86bc-e332-4f0b-8561-e4ea51179ecd"
      },
      "outputs": [
        {
          "data": {
            "text/plain": [
              "'int32'"
            ]
          },
          "execution_count": 22,
          "metadata": {},
          "output_type": "execute_result"
        }
      ],
      "source": [
        "data_one.dtype.name"
      ]
    },
    {
      "cell_type": "markdown",
      "metadata": {
        "id": "3tYg5NE9abjx"
      },
      "source": [
        "### 2.3.2 转换数据类型"
      ]
    },
    {
      "cell_type": "code",
      "execution_count": null,
      "metadata": {
        "id": "xfBNgE_Cabjx"
      },
      "outputs": [],
      "source": [
        "data = np.array([[1, 2, 3], [4, 5, 6]])"
      ]
    },
    {
      "cell_type": "code",
      "execution_count": null,
      "metadata": {
        "id": "1hHOe1iCabjx",
        "outputId": "56918ec9-49a0-45bb-e135-67a678ec730c"
      },
      "outputs": [
        {
          "data": {
            "text/plain": [
              "dtype('int32')"
            ]
          },
          "execution_count": 24,
          "metadata": {},
          "output_type": "execute_result"
        }
      ],
      "source": [
        "data.dtype"
      ]
    },
    {
      "cell_type": "code",
      "execution_count": null,
      "metadata": {
        "id": "pDxxUOD0abjx"
      },
      "outputs": [],
      "source": [
        "float_data = data.astype(np.float64) # 数据类型转换为float64"
      ]
    },
    {
      "cell_type": "code",
      "execution_count": null,
      "metadata": {
        "id": "JZtErZgHabjx",
        "outputId": "87ada080-b0ea-4d79-d188-5b7f04e6e631"
      },
      "outputs": [
        {
          "data": {
            "text/plain": [
              "dtype('float64')"
            ]
          },
          "execution_count": 26,
          "metadata": {},
          "output_type": "execute_result"
        }
      ],
      "source": [
        "float_data.dtype"
      ]
    },
    {
      "cell_type": "code",
      "execution_count": null,
      "metadata": {
        "id": "-en7YVQNabjx"
      },
      "outputs": [],
      "source": [
        "float_data = np.array([1.2, 2.3, 3.5])"
      ]
    },
    {
      "cell_type": "code",
      "execution_count": null,
      "metadata": {
        "id": "rmcYACsMabjx",
        "outputId": "544a4296-c02d-4d95-9d56-3910d27b636d"
      },
      "outputs": [
        {
          "data": {
            "text/plain": [
              "array([1.2, 2.3, 3.5])"
            ]
          },
          "execution_count": 28,
          "metadata": {},
          "output_type": "execute_result"
        }
      ],
      "source": [
        "float_data"
      ]
    },
    {
      "cell_type": "code",
      "execution_count": null,
      "metadata": {
        "id": "Ezkj37EWabjx"
      },
      "outputs": [],
      "source": [
        "int_data = float_data.astype(np.int64) # 数据类型转换为int64"
      ]
    },
    {
      "cell_type": "code",
      "execution_count": null,
      "metadata": {
        "id": "yXSZx5J7abjx",
        "outputId": "9dea69f6-2de0-4ba6-af19-1e80801ad75f"
      },
      "outputs": [
        {
          "data": {
            "text/plain": [
              "array([1, 2, 3], dtype=int64)"
            ]
          },
          "execution_count": 30,
          "metadata": {},
          "output_type": "execute_result"
        }
      ],
      "source": [
        "int_data"
      ]
    },
    {
      "cell_type": "code",
      "execution_count": null,
      "metadata": {
        "id": "US9Ie9Uiabjx"
      },
      "outputs": [],
      "source": [
        "str_data = np.array(['1', '2', '3'])"
      ]
    },
    {
      "cell_type": "code",
      "execution_count": null,
      "metadata": {
        "id": "QaoKhQw7abjx"
      },
      "outputs": [],
      "source": [
        "int_data = str_data.astype(np.int64)"
      ]
    },
    {
      "cell_type": "code",
      "execution_count": null,
      "metadata": {
        "id": "Va7-5pz0abjy",
        "outputId": "462404b0-c1fe-48df-ee92-9dacf8e95e03"
      },
      "outputs": [
        {
          "data": {
            "text/plain": [
              "array([1, 2, 3], dtype=int64)"
            ]
          },
          "execution_count": 33,
          "metadata": {},
          "output_type": "execute_result"
        }
      ],
      "source": [
        "int_data"
      ]
    },
    {
      "cell_type": "markdown",
      "metadata": {
        "id": "IFtBht07abjy"
      },
      "source": [
        "## 2.4 数组运算"
      ]
    },
    {
      "cell_type": "markdown",
      "metadata": {
        "id": "eWFZyNolabjy"
      },
      "source": [
        "### 2.4.1 矢量化运算"
      ]
    },
    {
      "cell_type": "code",
      "execution_count": null,
      "metadata": {
        "id": "nI_zQhlTabj1"
      },
      "outputs": [],
      "source": [
        "import numpy as np"
      ]
    },
    {
      "cell_type": "code",
      "execution_count": null,
      "metadata": {
        "id": "0psrFgPBabj1"
      },
      "outputs": [],
      "source": [
        "data1 = np.array([[1, 2, 3], [4, 5, 6]])"
      ]
    },
    {
      "cell_type": "code",
      "execution_count": null,
      "metadata": {
        "id": "BpYh6ahtabj1"
      },
      "outputs": [],
      "source": [
        "data2 = np.array([[1, 2, 3], [4, 5, 6]])"
      ]
    },
    {
      "cell_type": "code",
      "execution_count": null,
      "metadata": {
        "id": "jrAgT6n9abj1",
        "outputId": "34871600-5800-4a02-b076-88475fe13c4d"
      },
      "outputs": [
        {
          "data": {
            "text/plain": [
              "array([[ 2,  4,  6],\n",
              "       [ 8, 10, 12]])"
            ]
          },
          "execution_count": 37,
          "metadata": {},
          "output_type": "execute_result"
        }
      ],
      "source": [
        "data1 + data2        # 数组相加"
      ]
    },
    {
      "cell_type": "code",
      "execution_count": null,
      "metadata": {
        "id": "0E72r0pMabj1",
        "outputId": "7ec9c2dc-44cb-48b0-af5e-d64d974c0f8c"
      },
      "outputs": [
        {
          "data": {
            "text/plain": [
              "array([[ 1,  4,  9],\n",
              "       [16, 25, 36]])"
            ]
          },
          "execution_count": 38,
          "metadata": {},
          "output_type": "execute_result"
        }
      ],
      "source": [
        "data1 * data2        # 数组相乘"
      ]
    },
    {
      "cell_type": "code",
      "execution_count": null,
      "metadata": {
        "id": "pv1eyf7Sabj1",
        "outputId": "bee77583-5acd-47f3-9b8e-beef7abdbd89"
      },
      "outputs": [
        {
          "data": {
            "text/plain": [
              "array([[0, 0, 0],\n",
              "       [0, 0, 0]])"
            ]
          },
          "execution_count": 39,
          "metadata": {},
          "output_type": "execute_result"
        }
      ],
      "source": [
        "data1 - data2        # 数组相减"
      ]
    },
    {
      "cell_type": "code",
      "execution_count": null,
      "metadata": {
        "id": "6a5-nYBVabj1",
        "outputId": "ee29cec0-2f5d-41e9-a525-e10e22e37a8c"
      },
      "outputs": [
        {
          "data": {
            "text/plain": [
              "array([[1., 1., 1.],\n",
              "       [1., 1., 1.]])"
            ]
          },
          "execution_count": 40,
          "metadata": {},
          "output_type": "execute_result"
        }
      ],
      "source": [
        "data1 / data2       # 数组相除"
      ]
    },
    {
      "cell_type": "markdown",
      "metadata": {
        "id": "xNS3vIzpabj1"
      },
      "source": [
        "### 2.4.2 数组广播"
      ]
    },
    {
      "cell_type": "code",
      "execution_count": null,
      "metadata": {
        "id": "SqVS-hHiabj1"
      },
      "outputs": [],
      "source": [
        "import numpy as np"
      ]
    },
    {
      "cell_type": "code",
      "execution_count": null,
      "metadata": {
        "id": "O-MX9BMCabj1"
      },
      "outputs": [],
      "source": [
        "arr1 = np.array([[0], [1], [2], [3]])"
      ]
    },
    {
      "cell_type": "code",
      "execution_count": null,
      "metadata": {
        "id": "Kxgq5oKhabj1",
        "outputId": "dc60d166-2a0c-4abe-cb89-6bbb8eda6fc7"
      },
      "outputs": [
        {
          "data": {
            "text/plain": [
              "(4, 1)"
            ]
          },
          "execution_count": 43,
          "metadata": {},
          "output_type": "execute_result"
        }
      ],
      "source": [
        "arr1.shape"
      ]
    },
    {
      "cell_type": "code",
      "execution_count": null,
      "metadata": {
        "id": "o9J8GK7habj1"
      },
      "outputs": [],
      "source": [
        "arr2 = np.array([1, 2, 3])"
      ]
    },
    {
      "cell_type": "code",
      "execution_count": null,
      "metadata": {
        "id": "MLrp4PBZabj1",
        "outputId": "664e2850-c067-4552-fdc7-811a8c0dc456"
      },
      "outputs": [
        {
          "data": {
            "text/plain": [
              "(3,)"
            ]
          },
          "execution_count": 45,
          "metadata": {},
          "output_type": "execute_result"
        }
      ],
      "source": [
        "arr2.shape"
      ]
    },
    {
      "cell_type": "code",
      "execution_count": null,
      "metadata": {
        "id": "Jmk5HB4Nabj2",
        "outputId": "c10b1b9d-d412-4720-aa85-af2a802d297c"
      },
      "outputs": [
        {
          "data": {
            "text/plain": [
              "array([[1, 2, 3],\n",
              "       [2, 3, 4],\n",
              "       [3, 4, 5],\n",
              "       [4, 5, 6]])"
            ]
          },
          "execution_count": 46,
          "metadata": {},
          "output_type": "execute_result"
        }
      ],
      "source": [
        "arr1 + arr2"
      ]
    },
    {
      "cell_type": "markdown",
      "metadata": {
        "id": "jxkQgLDDabj2"
      },
      "source": [
        "### 2.4.3 数组与标量间的运算"
      ]
    },
    {
      "cell_type": "code",
      "execution_count": null,
      "metadata": {
        "id": "qXb6JsJ2abj2"
      },
      "outputs": [],
      "source": [
        "import numpy as np"
      ]
    },
    {
      "cell_type": "code",
      "execution_count": null,
      "metadata": {
        "id": "VZyTw5UHabj2"
      },
      "outputs": [],
      "source": [
        "data1 = np.array([[1, 2, 3], [4, 5, 6]])"
      ]
    },
    {
      "cell_type": "code",
      "execution_count": null,
      "metadata": {
        "id": "YaaMzSF_abj2"
      },
      "outputs": [],
      "source": [
        "data2 = 10"
      ]
    },
    {
      "cell_type": "code",
      "execution_count": null,
      "metadata": {
        "id": "Qh4cSKseabj2",
        "outputId": "b50a691d-ceaf-464e-ba5f-1b96abf891f4"
      },
      "outputs": [
        {
          "data": {
            "text/plain": [
              "array([[11, 12, 13],\n",
              "       [14, 15, 16]])"
            ]
          },
          "execution_count": 50,
          "metadata": {},
          "output_type": "execute_result"
        }
      ],
      "source": [
        "data1 + data2      # 数组相加"
      ]
    },
    {
      "cell_type": "code",
      "execution_count": null,
      "metadata": {
        "id": "AmZIE-AOabj2",
        "outputId": "5cfc67cc-bdad-4b25-fb9d-e091d8e76f84"
      },
      "outputs": [
        {
          "data": {
            "text/plain": [
              "array([[10, 20, 30],\n",
              "       [40, 50, 60]])"
            ]
          },
          "execution_count": 51,
          "metadata": {},
          "output_type": "execute_result"
        }
      ],
      "source": [
        "data1 * data2       # 数组相乘"
      ]
    },
    {
      "cell_type": "code",
      "execution_count": null,
      "metadata": {
        "id": "rBOXAw6_abj2",
        "outputId": "fbe32ef8-d323-4c4a-b06e-9d0464ed45af"
      },
      "outputs": [
        {
          "data": {
            "text/plain": [
              "array([[-9, -8, -7],\n",
              "       [-6, -5, -4]])"
            ]
          },
          "execution_count": 52,
          "metadata": {},
          "output_type": "execute_result"
        }
      ],
      "source": [
        "data1 - data2        # 数组相减"
      ]
    },
    {
      "cell_type": "code",
      "execution_count": null,
      "metadata": {
        "id": "MpgfyPXNabj2",
        "outputId": "f06ec857-7293-4aad-e706-7b87de87f1f0"
      },
      "outputs": [
        {
          "data": {
            "text/plain": [
              "array([[0.1, 0.2, 0.3],\n",
              "       [0.4, 0.5, 0.6]])"
            ]
          },
          "execution_count": 53,
          "metadata": {},
          "output_type": "execute_result"
        }
      ],
      "source": [
        "data1 / data2       # 数组相除"
      ]
    },
    {
      "cell_type": "markdown",
      "metadata": {
        "id": "gBQHePlYabj2"
      },
      "source": [
        "## 2.5 ndarray的索引和切片"
      ]
    },
    {
      "cell_type": "markdown",
      "metadata": {
        "id": "IG99_XL1abj2"
      },
      "source": [
        "### 2.5.1 整数索引和切片的基本使用"
      ]
    },
    {
      "cell_type": "code",
      "execution_count": null,
      "metadata": {
        "id": "1HamWSnWabj2"
      },
      "outputs": [],
      "source": [
        "import numpy as np"
      ]
    },
    {
      "cell_type": "code",
      "execution_count": null,
      "metadata": {
        "id": "WX_xi4dcabj2"
      },
      "outputs": [],
      "source": [
        "arr = np.arange(8)    # 创建一个一维数组"
      ]
    },
    {
      "cell_type": "code",
      "execution_count": null,
      "metadata": {
        "id": "FQK_BvLwabj2",
        "outputId": "8b089dca-5b44-4dc5-9d11-3708fa20b24c"
      },
      "outputs": [
        {
          "data": {
            "text/plain": [
              "array([0, 1, 2, 3, 4, 5, 6, 7])"
            ]
          },
          "execution_count": 56,
          "metadata": {},
          "output_type": "execute_result"
        }
      ],
      "source": [
        "arr"
      ]
    },
    {
      "cell_type": "code",
      "execution_count": null,
      "metadata": {
        "id": "ap2zN559abj2",
        "outputId": "5479e064-105c-425f-dd91-240e2a1c11c3"
      },
      "outputs": [
        {
          "data": {
            "text/plain": [
              "5"
            ]
          },
          "execution_count": 57,
          "metadata": {},
          "output_type": "execute_result"
        }
      ],
      "source": [
        "arr[5]                  # 获取索引为5的元素"
      ]
    },
    {
      "cell_type": "code",
      "execution_count": null,
      "metadata": {
        "id": "FFImzn5vabj2",
        "outputId": "91c0bd73-e6f5-4194-9229-4c0734670ce6"
      },
      "outputs": [
        {
          "data": {
            "text/plain": [
              "array([3, 4])"
            ]
          },
          "execution_count": 58,
          "metadata": {},
          "output_type": "execute_result"
        }
      ],
      "source": [
        "arr[3:5]                # 获取索引为3~5的元素，但不包括5"
      ]
    },
    {
      "cell_type": "code",
      "execution_count": null,
      "metadata": {
        "id": "fYiw78Tyabj2",
        "outputId": "3114d740-57b8-48c3-c80b-856de195cdcd"
      },
      "outputs": [
        {
          "data": {
            "text/plain": [
              "array([1, 3, 5])"
            ]
          },
          "execution_count": 59,
          "metadata": {},
          "output_type": "execute_result"
        }
      ],
      "source": [
        "arr[1:6:2]              # 获取索引为1~6的元素，步长为2"
      ]
    },
    {
      "cell_type": "code",
      "execution_count": null,
      "metadata": {
        "id": "maioWwt_abj3"
      },
      "outputs": [],
      "source": [
        "import numpy as np"
      ]
    },
    {
      "cell_type": "code",
      "execution_count": null,
      "metadata": {
        "id": "mypfQoP-abj3"
      },
      "outputs": [],
      "source": [
        "arr2d = np.array([[1, 2, 3],[4, 5, 6],[7, 8, 9]]) # 创建二维数组"
      ]
    },
    {
      "cell_type": "code",
      "execution_count": null,
      "metadata": {
        "id": "3f_vXXs1abj3",
        "outputId": "0af553e7-9c31-46d2-81dd-12c00fc05e2e"
      },
      "outputs": [
        {
          "data": {
            "text/plain": [
              "array([[1, 2, 3],\n",
              "       [4, 5, 6],\n",
              "       [7, 8, 9]])"
            ]
          },
          "execution_count": 62,
          "metadata": {},
          "output_type": "execute_result"
        }
      ],
      "source": [
        "arr2d"
      ]
    },
    {
      "cell_type": "code",
      "execution_count": null,
      "metadata": {
        "id": "Xt50AU27abj3",
        "outputId": "6df3cf89-2c3e-40a4-9769-42e2b3c6db25"
      },
      "outputs": [
        {
          "data": {
            "text/plain": [
              "array([4, 5, 6])"
            ]
          },
          "execution_count": 63,
          "metadata": {},
          "output_type": "execute_result"
        }
      ],
      "source": [
        "arr2d[1]            # 获取索引为1的元素"
      ]
    },
    {
      "cell_type": "code",
      "execution_count": null,
      "metadata": {
        "id": "vC4PhFhiabj3",
        "outputId": "9d17b5ef-0528-483e-8e35-f1f79bec6713"
      },
      "outputs": [
        {
          "data": {
            "text/plain": [
              "2"
            ]
          },
          "execution_count": 64,
          "metadata": {},
          "output_type": "execute_result"
        }
      ],
      "source": [
        "arr2d[0, 1]        # 获取位于第0行第1列的元素"
      ]
    },
    {
      "cell_type": "code",
      "execution_count": null,
      "metadata": {
        "id": "w5gkzzYhabj3",
        "outputId": "e4a20a44-3d8d-4bde-d0de-676e62edf6f3"
      },
      "outputs": [
        {
          "data": {
            "text/plain": [
              "array([[1, 2, 3],\n",
              "       [4, 5, 6]])"
            ]
          },
          "execution_count": 65,
          "metadata": {},
          "output_type": "execute_result"
        }
      ],
      "source": [
        "arr2d[:2]"
      ]
    },
    {
      "cell_type": "code",
      "execution_count": null,
      "metadata": {
        "id": "zw3JSIrsabj3",
        "outputId": "6281db82-1ca1-40ad-f9a6-2bdb911e453b"
      },
      "outputs": [
        {
          "data": {
            "text/plain": [
              "array([[1, 2],\n",
              "       [4, 5]])"
            ]
          },
          "execution_count": 66,
          "metadata": {},
          "output_type": "execute_result"
        }
      ],
      "source": [
        "arr2d[0:2, 0:2]"
      ]
    },
    {
      "cell_type": "code",
      "execution_count": null,
      "metadata": {
        "id": "ZvFB7jrOabj3",
        "outputId": "c2b1dccb-95bf-4d4a-ae9c-81989f6ddc10"
      },
      "outputs": [
        {
          "data": {
            "text/plain": [
              "array([4, 5])"
            ]
          },
          "execution_count": 67,
          "metadata": {},
          "output_type": "execute_result"
        }
      ],
      "source": [
        "arr2d[1, :2]"
      ]
    },
    {
      "cell_type": "markdown",
      "metadata": {
        "id": "s3YDmZBiabj3"
      },
      "source": [
        "### 2.5.2 花式（数组）索引的基本使用"
      ]
    },
    {
      "cell_type": "code",
      "execution_count": null,
      "metadata": {
        "id": "36-F4ycQabj3"
      },
      "outputs": [],
      "source": [
        "import numpy as np"
      ]
    },
    {
      "cell_type": "code",
      "execution_count": null,
      "metadata": {
        "id": "sZyjelyWabj3"
      },
      "outputs": [],
      "source": [
        "demo_arr = np.empty((4, 4))               # 创建一个空数组\n",
        "for i in range(4):\n",
        "    demo_arr[i] = np.arange(i, i + 4)   # 动态地为数组添加元素"
      ]
    },
    {
      "cell_type": "code",
      "execution_count": null,
      "metadata": {
        "id": "5o86KfTtabj3",
        "outputId": "feacb78e-b859-4b19-c605-d6fdea284cac"
      },
      "outputs": [
        {
          "data": {
            "text/plain": [
              "array([[0., 1., 2., 3.],\n",
              "       [1., 2., 3., 4.],\n",
              "       [2., 3., 4., 5.],\n",
              "       [3., 4., 5., 6.]])"
            ]
          },
          "execution_count": 70,
          "metadata": {},
          "output_type": "execute_result"
        }
      ],
      "source": [
        "demo_arr"
      ]
    },
    {
      "cell_type": "code",
      "execution_count": null,
      "metadata": {
        "id": "plPepgG-abj3",
        "outputId": "79be770b-e2b7-4a53-ade8-6e02bc2f41ad"
      },
      "outputs": [
        {
          "data": {
            "text/plain": [
              "array([[0., 1., 2., 3.],\n",
              "       [2., 3., 4., 5.]])"
            ]
          },
          "execution_count": 71,
          "metadata": {},
          "output_type": "execute_result"
        }
      ],
      "source": [
        "demo_arr[[0, 2]]        # 获取索引为[0,2]的元素"
      ]
    },
    {
      "cell_type": "code",
      "execution_count": null,
      "metadata": {
        "id": "ULQVaI8sabj4",
        "outputId": "1b96a050-746a-4840-a4e6-83ecab5a53b3"
      },
      "outputs": [
        {
          "data": {
            "text/plain": [
              "array([2., 5.])"
            ]
          },
          "execution_count": 72,
          "metadata": {},
          "output_type": "execute_result"
        }
      ],
      "source": [
        "demo_arr[[1, 3], [1, 2]]     # 获取索引为(1,1)和(3,2)的元素"
      ]
    },
    {
      "cell_type": "markdown",
      "metadata": {
        "id": "hpY23cOlabj4"
      },
      "source": [
        "### 2.5.3 布尔型"
      ]
    },
    {
      "cell_type": "code",
      "execution_count": null,
      "metadata": {
        "id": "xQ3ZANoeabj4"
      },
      "outputs": [],
      "source": [
        "# 存储学生姓名的数组\n",
        "student_name = np.array(['Tom', 'Lily', 'Jack', 'Rose'])"
      ]
    },
    {
      "cell_type": "code",
      "execution_count": null,
      "metadata": {
        "id": "WRPHOUKMabj4",
        "outputId": "4130e902-842a-4e6d-8989-926ab084b401"
      },
      "outputs": [
        {
          "data": {
            "text/plain": [
              "array(['Tom', 'Lily', 'Jack', 'Rose'], dtype='<U4')"
            ]
          },
          "execution_count": 74,
          "metadata": {},
          "output_type": "execute_result"
        }
      ],
      "source": [
        "student_name"
      ]
    },
    {
      "cell_type": "code",
      "execution_count": null,
      "metadata": {
        "id": "UXOcfyNLabj4"
      },
      "outputs": [],
      "source": [
        "# 存储学生成绩的数组\n",
        "student_score = np.array([[79, 88, 80], [89, 90, 92], [83, 78, 85], [78, 76, 80]])"
      ]
    },
    {
      "cell_type": "code",
      "execution_count": null,
      "metadata": {
        "id": "wxi4bEdbabj4",
        "outputId": "6362c10c-dc52-4279-c0e2-8abd9525faab"
      },
      "outputs": [
        {
          "data": {
            "text/plain": [
              "array([[79, 88, 80],\n",
              "       [89, 90, 92],\n",
              "       [83, 78, 85],\n",
              "       [78, 76, 80]])"
            ]
          },
          "execution_count": 76,
          "metadata": {},
          "output_type": "execute_result"
        }
      ],
      "source": [
        "student_score"
      ]
    },
    {
      "cell_type": "code",
      "execution_count": null,
      "metadata": {
        "id": "2Gp-2TfHabj4",
        "outputId": "2687ccee-a01d-490d-ab3d-8b1e8ea308e5"
      },
      "outputs": [
        {
          "data": {
            "text/plain": [
              "array([False, False,  True, False])"
            ]
          },
          "execution_count": 77,
          "metadata": {},
          "output_type": "execute_result"
        }
      ],
      "source": [
        "# 对student_name和字符串“Jack”通过运算符产生一个布尔型数组\n",
        "student_name == 'Jack'"
      ]
    },
    {
      "cell_type": "code",
      "execution_count": null,
      "metadata": {
        "id": "XRVnXtv6abj4",
        "outputId": "4775be30-bc49-4367-f361-196fba954384"
      },
      "outputs": [
        {
          "data": {
            "text/plain": [
              "array([[83, 78, 85]])"
            ]
          },
          "execution_count": 78,
          "metadata": {},
          "output_type": "execute_result"
        }
      ],
      "source": [
        "# 将布尔数组作为索引应用于存储成绩的数组student_score，\n",
        "# 返回的数据是True值对应的行\n",
        "student_score[student_name=='Jack']"
      ]
    },
    {
      "cell_type": "code",
      "execution_count": null,
      "metadata": {
        "id": "9y-lhU2Fabj4",
        "outputId": "a4bb9c09-8e0e-419f-8cff-f3a155e9aa0e"
      },
      "outputs": [
        {
          "data": {
            "text/plain": [
              "array([[83]])"
            ]
          },
          "execution_count": 79,
          "metadata": {},
          "output_type": "execute_result"
        }
      ],
      "source": [
        "student_score[student_name=='Jack', :1]"
      ]
    },
    {
      "cell_type": "markdown",
      "metadata": {
        "id": "cKngR9sjabj4"
      },
      "source": [
        "## 2.6 数组的转置和轴对称"
      ]
    },
    {
      "cell_type": "code",
      "execution_count": null,
      "metadata": {
        "id": "wbXUSVuEabj4"
      },
      "outputs": [],
      "source": [
        "arr = np.arange(12).reshape(3, 4)"
      ]
    },
    {
      "cell_type": "code",
      "execution_count": null,
      "metadata": {
        "id": "eIY7vHtBabj4",
        "outputId": "c9beafd9-54aa-4a2f-ecc2-170114796f9f"
      },
      "outputs": [
        {
          "data": {
            "text/plain": [
              "array([[ 0,  1,  2,  3],\n",
              "       [ 4,  5,  6,  7],\n",
              "       [ 8,  9, 10, 11]])"
            ]
          },
          "execution_count": 81,
          "metadata": {},
          "output_type": "execute_result"
        }
      ],
      "source": [
        "arr"
      ]
    },
    {
      "cell_type": "code",
      "execution_count": null,
      "metadata": {
        "id": "gOB_Ajd-abj4",
        "outputId": "8dc133e7-6aac-4990-860c-08630c35dd79"
      },
      "outputs": [
        {
          "data": {
            "text/plain": [
              "array([[ 0,  4,  8],\n",
              "       [ 1,  5,  9],\n",
              "       [ 2,  6, 10],\n",
              "       [ 3,  7, 11]])"
            ]
          },
          "execution_count": 82,
          "metadata": {},
          "output_type": "execute_result"
        }
      ],
      "source": [
        "arr.T      # 使用T属性对数组进行转置"
      ]
    },
    {
      "cell_type": "code",
      "execution_count": null,
      "metadata": {
        "id": "UteJ44ILabj4"
      },
      "outputs": [],
      "source": [
        "arr = np.arange(16).reshape((2, 2, 4))"
      ]
    },
    {
      "cell_type": "code",
      "execution_count": null,
      "metadata": {
        "id": "ywNFPYxYabj5",
        "outputId": "3538b265-5033-4847-ef1f-d695148936ad"
      },
      "outputs": [
        {
          "data": {
            "text/plain": [
              "array([[[ 0,  1,  2,  3],\n",
              "        [ 4,  5,  6,  7]],\n",
              "\n",
              "       [[ 8,  9, 10, 11],\n",
              "        [12, 13, 14, 15]]])"
            ]
          },
          "execution_count": 84,
          "metadata": {},
          "output_type": "execute_result"
        }
      ],
      "source": [
        "arr"
      ]
    },
    {
      "cell_type": "code",
      "execution_count": null,
      "metadata": {
        "id": "8a0LwCUiabj5",
        "outputId": "1f576161-45fb-44da-e4eb-edd34e815046"
      },
      "outputs": [
        {
          "data": {
            "text/plain": [
              "array([[[ 0,  8],\n",
              "        [ 1,  9],\n",
              "        [ 2, 10],\n",
              "        [ 3, 11]],\n",
              "\n",
              "       [[ 4, 12],\n",
              "        [ 5, 13],\n",
              "        [ 6, 14],\n",
              "        [ 7, 15]]])"
            ]
          },
          "execution_count": 85,
          "metadata": {},
          "output_type": "execute_result"
        }
      ],
      "source": [
        "arr.transpose(1, 2, 0)   # 使用transpose()方法对数组进行转置"
      ]
    },
    {
      "cell_type": "code",
      "execution_count": null,
      "metadata": {
        "id": "3lcht8lAabj5",
        "outputId": "5a430da7-92bc-48e4-9235-8fb35f713990"
      },
      "outputs": [
        {
          "data": {
            "text/plain": [
              "array([[[ 0,  1,  2,  3],\n",
              "        [ 4,  5,  6,  7]],\n",
              "\n",
              "       [[ 8,  9, 10, 11],\n",
              "        [12, 13, 14, 15]]])"
            ]
          },
          "execution_count": 86,
          "metadata": {},
          "output_type": "execute_result"
        }
      ],
      "source": [
        "arr"
      ]
    },
    {
      "cell_type": "code",
      "execution_count": null,
      "metadata": {
        "id": "tbzAw6mDabj5",
        "outputId": "5c2d6d7f-c55d-42f1-8ea1-b3fd1ef7b1f8"
      },
      "outputs": [
        {
          "data": {
            "text/plain": [
              "array([[[ 0,  1,  2,  3],\n",
              "        [ 8,  9, 10, 11]],\n",
              "\n",
              "       [[ 4,  5,  6,  7],\n",
              "        [12, 13, 14, 15]]])"
            ]
          },
          "execution_count": 87,
          "metadata": {},
          "output_type": "execute_result"
        }
      ],
      "source": [
        "arr.swapaxes(1, 0)    # 使用swapaxes方法对数组进行转置"
      ]
    },
    {
      "cell_type": "markdown",
      "metadata": {
        "id": "4mzX1zKSabj5"
      },
      "source": [
        "## 2.7 NumPy通用函数"
      ]
    },
    {
      "cell_type": "code",
      "execution_count": null,
      "metadata": {
        "id": "Qb6Kfexyabj5"
      },
      "outputs": [],
      "source": [
        "arr = np.array([4, 9, 16])"
      ]
    },
    {
      "cell_type": "code",
      "execution_count": null,
      "metadata": {
        "id": "F1OdUqfiabj5",
        "outputId": "0309472b-9e4d-4c0d-f2f4-27c8649068f4"
      },
      "outputs": [
        {
          "data": {
            "text/plain": [
              "array([2., 3., 4.])"
            ]
          },
          "execution_count": 89,
          "metadata": {},
          "output_type": "execute_result"
        }
      ],
      "source": [
        "np.sqrt(arr)"
      ]
    },
    {
      "cell_type": "code",
      "execution_count": null,
      "metadata": {
        "id": "1992tnncabj5",
        "outputId": "974c6fa6-2c8b-4b59-f183-8694c04cc8d8"
      },
      "outputs": [
        {
          "data": {
            "text/plain": [
              "array([ 4,  9, 16])"
            ]
          },
          "execution_count": 90,
          "metadata": {},
          "output_type": "execute_result"
        }
      ],
      "source": [
        "np.abs(arr)"
      ]
    },
    {
      "cell_type": "code",
      "execution_count": null,
      "metadata": {
        "id": "eUTB_h8aabj5",
        "outputId": "156b5230-3c5e-4e27-a237-a84de299cc3b"
      },
      "outputs": [
        {
          "data": {
            "text/plain": [
              "array([ 16,  81, 256], dtype=int32)"
            ]
          },
          "execution_count": 91,
          "metadata": {},
          "output_type": "execute_result"
        }
      ],
      "source": [
        "np.square(arr)"
      ]
    },
    {
      "cell_type": "code",
      "execution_count": null,
      "metadata": {
        "id": "08GBRqknabj5"
      },
      "outputs": [],
      "source": [
        "x = np.array([12, 9, 13, 15])"
      ]
    },
    {
      "cell_type": "code",
      "execution_count": null,
      "metadata": {
        "id": "b41N9JqGabj5"
      },
      "outputs": [],
      "source": [
        "y = np.array([11, 10, 4, 8])"
      ]
    },
    {
      "cell_type": "code",
      "execution_count": null,
      "metadata": {
        "id": "Z8hgLl3sabj5",
        "outputId": "eea26320-f237-4f46-d0d9-3329f822e641"
      },
      "outputs": [
        {
          "data": {
            "text/plain": [
              "array([23, 19, 17, 23])"
            ]
          },
          "execution_count": 94,
          "metadata": {},
          "output_type": "execute_result"
        }
      ],
      "source": [
        "np.add(x, y)      # 计算两个数组的和"
      ]
    },
    {
      "cell_type": "code",
      "execution_count": null,
      "metadata": {
        "id": "2R3PPouVabj5",
        "outputId": "f20daec8-a4bd-4a25-888c-fa68bb3ae2bf"
      },
      "outputs": [
        {
          "data": {
            "text/plain": [
              "array([132,  90,  52, 120])"
            ]
          },
          "execution_count": 95,
          "metadata": {},
          "output_type": "execute_result"
        }
      ],
      "source": [
        "np.multiply(x, y) # 计算两个数组的乘积"
      ]
    },
    {
      "cell_type": "code",
      "execution_count": null,
      "metadata": {
        "id": "q3LyFq7qabj5",
        "outputId": "c9f40de2-dc8e-42a3-9a65-6da0b721a175"
      },
      "outputs": [
        {
          "data": {
            "text/plain": [
              "array([12, 10, 13, 15])"
            ]
          },
          "execution_count": 96,
          "metadata": {},
          "output_type": "execute_result"
        }
      ],
      "source": [
        "np.maximum(x, y)  # 两个数组元素级最大值的比较"
      ]
    },
    {
      "cell_type": "code",
      "execution_count": null,
      "metadata": {
        "id": "HgOaU-DZabj6",
        "outputId": "5042e9bb-e096-4d64-f89e-0f2449adfbc3"
      },
      "outputs": [
        {
          "data": {
            "text/plain": [
              "array([ True, False,  True,  True])"
            ]
          },
          "execution_count": 97,
          "metadata": {},
          "output_type": "execute_result"
        }
      ],
      "source": [
        "np.greater(x, y)  # 执行元素级的比较操作"
      ]
    },
    {
      "cell_type": "markdown",
      "metadata": {
        "id": "MngK3GQaabj6"
      },
      "source": [
        "## 2.8 利用NumPy数组进行数据处理"
      ]
    },
    {
      "cell_type": "markdown",
      "metadata": {
        "id": "qQ_xbsAsabj6"
      },
      "source": [
        "### 2.8.1 将条件逻辑转为数组运算"
      ]
    },
    {
      "cell_type": "code",
      "execution_count": null,
      "metadata": {
        "id": "wTF_Kqewabj6"
      },
      "outputs": [],
      "source": [
        "arr_x = np.array([1, 5, 7])"
      ]
    },
    {
      "cell_type": "code",
      "execution_count": null,
      "metadata": {
        "id": "fEaTEbO0abj6"
      },
      "outputs": [],
      "source": [
        "arr_y = np.array([2, 6, 8])"
      ]
    },
    {
      "cell_type": "code",
      "execution_count": null,
      "metadata": {
        "id": "qNZ3qebiabj6"
      },
      "outputs": [],
      "source": [
        "arr_con = np.array([True, False, True])"
      ]
    },
    {
      "cell_type": "code",
      "execution_count": null,
      "metadata": {
        "id": "0kzzMi-rabj6"
      },
      "outputs": [],
      "source": [
        "result = np.where(arr_con, arr_x, arr_y)"
      ]
    },
    {
      "cell_type": "code",
      "execution_count": null,
      "metadata": {
        "id": "wE0ZNlSMabj6",
        "outputId": "2a3e31d4-fdbb-4356-f84d-fd59b7076411"
      },
      "outputs": [
        {
          "data": {
            "text/plain": [
              "array([1, 6, 7])"
            ]
          },
          "execution_count": 102,
          "metadata": {},
          "output_type": "execute_result"
        }
      ],
      "source": [
        "result"
      ]
    },
    {
      "cell_type": "markdown",
      "metadata": {
        "id": "LjDQajskabj6"
      },
      "source": [
        "### 2.8.2 数组统计运算"
      ]
    },
    {
      "cell_type": "code",
      "execution_count": null,
      "metadata": {
        "id": "k5n33fg6abj6"
      },
      "outputs": [],
      "source": [
        "arr = np.arange(10)"
      ]
    },
    {
      "cell_type": "code",
      "execution_count": null,
      "metadata": {
        "id": "yqpDefaDabj7",
        "outputId": "49d90909-3e1d-4798-dfb6-79b8fa7b5fa2"
      },
      "outputs": [
        {
          "data": {
            "text/plain": [
              "45"
            ]
          },
          "execution_count": 104,
          "metadata": {},
          "output_type": "execute_result"
        }
      ],
      "source": [
        "arr.sum()      # 求和"
      ]
    },
    {
      "cell_type": "code",
      "execution_count": null,
      "metadata": {
        "id": "268FATvCabj7",
        "outputId": "f5369135-a575-4610-c8a7-cf757e218aca"
      },
      "outputs": [
        {
          "data": {
            "text/plain": [
              "4.5"
            ]
          },
          "execution_count": 105,
          "metadata": {},
          "output_type": "execute_result"
        }
      ],
      "source": [
        "arr.mean()     # 求平均值"
      ]
    },
    {
      "cell_type": "code",
      "execution_count": null,
      "metadata": {
        "id": "kF4-6J08abj7",
        "outputId": "8e450abe-e037-446c-f2b0-d84719184bbf"
      },
      "outputs": [
        {
          "data": {
            "text/plain": [
              "0"
            ]
          },
          "execution_count": 106,
          "metadata": {},
          "output_type": "execute_result"
        }
      ],
      "source": [
        "arr.min()      # 求最小值"
      ]
    },
    {
      "cell_type": "code",
      "execution_count": null,
      "metadata": {
        "id": "1GgQJLhKabj7",
        "outputId": "276f1a55-821b-4126-b066-91d5c7843247"
      },
      "outputs": [
        {
          "data": {
            "text/plain": [
              "9"
            ]
          },
          "execution_count": 107,
          "metadata": {},
          "output_type": "execute_result"
        }
      ],
      "source": [
        "arr.max()       # 求最大值"
      ]
    },
    {
      "cell_type": "code",
      "execution_count": null,
      "metadata": {
        "id": "aN4_iTbfabj7",
        "outputId": "f2954d4d-3a86-4b4e-cbce-9c74368a73e2"
      },
      "outputs": [
        {
          "data": {
            "text/plain": [
              "0"
            ]
          },
          "execution_count": 108,
          "metadata": {},
          "output_type": "execute_result"
        }
      ],
      "source": [
        "arr.argmin()   # 求最小值的索引"
      ]
    },
    {
      "cell_type": "code",
      "execution_count": null,
      "metadata": {
        "id": "n_jfufhrabj7",
        "outputId": "8743da3a-ee14-4425-c63b-ef19fcfacf91"
      },
      "outputs": [
        {
          "data": {
            "text/plain": [
              "9"
            ]
          },
          "execution_count": 109,
          "metadata": {},
          "output_type": "execute_result"
        }
      ],
      "source": [
        "arr.argmax()   # 求最大值的索引"
      ]
    },
    {
      "cell_type": "code",
      "execution_count": null,
      "metadata": {
        "id": "KwaPj7JZabj7",
        "outputId": "4cea64e9-84d6-4ede-90de-28fc6b5ca91c"
      },
      "outputs": [
        {
          "data": {
            "text/plain": [
              "array([ 0,  1,  3,  6, 10, 15, 21, 28, 36, 45], dtype=int32)"
            ]
          },
          "execution_count": 110,
          "metadata": {},
          "output_type": "execute_result"
        }
      ],
      "source": [
        "arr.cumsum()   # 计算元素的累计和"
      ]
    },
    {
      "cell_type": "code",
      "execution_count": null,
      "metadata": {
        "id": "byb7EswQabj8",
        "outputId": "99117c5c-adb2-49c1-d8a2-36a27bc733ee"
      },
      "outputs": [
        {
          "data": {
            "text/plain": [
              "array([0, 0, 0, 0, 0, 0, 0, 0, 0, 0], dtype=int32)"
            ]
          },
          "execution_count": 111,
          "metadata": {},
          "output_type": "execute_result"
        }
      ],
      "source": [
        "arr.cumprod()  # 计算元素的累计积"
      ]
    },
    {
      "cell_type": "markdown",
      "metadata": {
        "id": "_BZf0nzjabj8"
      },
      "source": [
        "### 2.8.3 数组排序"
      ]
    },
    {
      "cell_type": "code",
      "execution_count": null,
      "metadata": {
        "id": "1DSeJ6Q3abj8"
      },
      "outputs": [],
      "source": [
        "arr = np.array([[6, 2, 7], [3, 6, 2], [4, 3, 2]])"
      ]
    },
    {
      "cell_type": "code",
      "execution_count": null,
      "metadata": {
        "id": "xHC6UVGaabj8",
        "outputId": "0325f1b1-df01-463d-fca1-92fb10010c11"
      },
      "outputs": [
        {
          "data": {
            "text/plain": [
              "array([[6, 2, 7],\n",
              "       [3, 6, 2],\n",
              "       [4, 3, 2]])"
            ]
          },
          "execution_count": 113,
          "metadata": {},
          "output_type": "execute_result"
        }
      ],
      "source": [
        "arr"
      ]
    },
    {
      "cell_type": "code",
      "execution_count": null,
      "metadata": {
        "id": "-6BLGqXoabj8"
      },
      "outputs": [],
      "source": [
        "arr.sort()"
      ]
    },
    {
      "cell_type": "code",
      "execution_count": null,
      "metadata": {
        "id": "XO16Abedabj8",
        "outputId": "7c7d681a-6e7a-444e-e7aa-402df625bc85"
      },
      "outputs": [
        {
          "data": {
            "text/plain": [
              "array([[2, 6, 7],\n",
              "       [2, 3, 6],\n",
              "       [2, 3, 4]])"
            ]
          },
          "execution_count": 115,
          "metadata": {},
          "output_type": "execute_result"
        }
      ],
      "source": [
        "arr"
      ]
    },
    {
      "cell_type": "code",
      "execution_count": null,
      "metadata": {
        "id": "M5NlZDcuabj8"
      },
      "outputs": [],
      "source": [
        "arr = np.array([[6, 2, 7], [3, 6, 2], [4, 3, 2]])"
      ]
    },
    {
      "cell_type": "code",
      "execution_count": null,
      "metadata": {
        "id": "OvwOdmkzabj8",
        "outputId": "cda1d58f-7646-4d37-f7e7-cdfab6b83660"
      },
      "outputs": [
        {
          "data": {
            "text/plain": [
              "array([[6, 2, 7],\n",
              "       [3, 6, 2],\n",
              "       [4, 3, 2]])"
            ]
          },
          "execution_count": 117,
          "metadata": {},
          "output_type": "execute_result"
        }
      ],
      "source": [
        "arr"
      ]
    },
    {
      "cell_type": "code",
      "execution_count": null,
      "metadata": {
        "id": "Gesf78gmabj8"
      },
      "outputs": [],
      "source": [
        "arr.sort(0)       # 沿着编号为0的轴对元素排序"
      ]
    },
    {
      "cell_type": "code",
      "execution_count": null,
      "metadata": {
        "id": "fBLzmt3Qabj8",
        "outputId": "b66769d9-3762-4be1-ab88-4122648ec0d3"
      },
      "outputs": [
        {
          "data": {
            "text/plain": [
              "array([[3, 2, 2],\n",
              "       [4, 3, 2],\n",
              "       [6, 6, 7]])"
            ]
          },
          "execution_count": 119,
          "metadata": {},
          "output_type": "execute_result"
        }
      ],
      "source": [
        "arr"
      ]
    },
    {
      "cell_type": "markdown",
      "metadata": {
        "id": "2cgA_qw2abj8"
      },
      "source": [
        "### 2.8.4 检索数组元素"
      ]
    },
    {
      "cell_type": "code",
      "execution_count": null,
      "metadata": {
        "id": "9ZjqDCrjabj8"
      },
      "outputs": [],
      "source": [
        "arr = np.array([[1, -2, -7], [-3, 6, 2], [-4, 3, 2]])"
      ]
    },
    {
      "cell_type": "code",
      "execution_count": null,
      "metadata": {
        "id": "O5Orie5eabj8",
        "outputId": "d447386f-d81c-442c-e7c8-2285d47f9d1d"
      },
      "outputs": [
        {
          "data": {
            "text/plain": [
              "array([[ 1, -2, -7],\n",
              "       [-3,  6,  2],\n",
              "       [-4,  3,  2]])"
            ]
          },
          "execution_count": 121,
          "metadata": {},
          "output_type": "execute_result"
        }
      ],
      "source": [
        "arr"
      ]
    },
    {
      "cell_type": "code",
      "execution_count": null,
      "metadata": {
        "id": "Lud4mV0Pabj9",
        "outputId": "593dfa65-4652-4ecc-8529-fbfc4d3b5a46"
      },
      "outputs": [
        {
          "data": {
            "text/plain": [
              "True"
            ]
          },
          "execution_count": 122,
          "metadata": {},
          "output_type": "execute_result"
        }
      ],
      "source": [
        "np.any(arr > 0)      # arr的所有元素是否有一个大于0"
      ]
    },
    {
      "cell_type": "code",
      "execution_count": null,
      "metadata": {
        "id": "OZiU_2Nsabj9",
        "outputId": "a141c28c-2a19-4bb5-e504-0a2c7c8a71e5"
      },
      "outputs": [
        {
          "data": {
            "text/plain": [
              "False"
            ]
          },
          "execution_count": 123,
          "metadata": {},
          "output_type": "execute_result"
        }
      ],
      "source": [
        "np.all(arr > 0)      # arr的所有元素是否都大于0"
      ]
    },
    {
      "cell_type": "markdown",
      "metadata": {
        "id": "jxVVgP4Babj9"
      },
      "source": [
        "### 2.8.5 唯一化及其他集合逻辑"
      ]
    },
    {
      "cell_type": "code",
      "execution_count": null,
      "metadata": {
        "id": "6gwy1o7tabj9"
      },
      "outputs": [],
      "source": [
        "arr = np.array([12, 11, 34, 23, 12, 8, 11])"
      ]
    },
    {
      "cell_type": "code",
      "execution_count": null,
      "metadata": {
        "id": "I83HJhnaabj9",
        "outputId": "54df6b31-d2e9-4e42-db1b-f2da5e122585"
      },
      "outputs": [
        {
          "data": {
            "text/plain": [
              "array([ 8, 11, 12, 23, 34])"
            ]
          },
          "execution_count": 125,
          "metadata": {},
          "output_type": "execute_result"
        }
      ],
      "source": [
        "np.unique(arr)"
      ]
    },
    {
      "cell_type": "code",
      "execution_count": null,
      "metadata": {
        "id": "MQya-Ng7abj9",
        "outputId": "3278db0d-b0e7-4d10-cfe0-7794efbab359"
      },
      "outputs": [
        {
          "data": {
            "text/plain": [
              "array([ True,  True, False, False,  True, False,  True])"
            ]
          },
          "execution_count": 126,
          "metadata": {},
          "output_type": "execute_result"
        }
      ],
      "source": [
        "np.in1d(arr, [11, 12])"
      ]
    },
    {
      "cell_type": "markdown",
      "metadata": {
        "id": "fnuJN6dBabj9"
      },
      "source": [
        "## 2.9 线性代数模块"
      ]
    },
    {
      "cell_type": "code",
      "execution_count": null,
      "metadata": {
        "id": "X4_IeO1Tabj9"
      },
      "outputs": [],
      "source": [
        "arr_x = np.array([[1, 2, 3], [4, 5, 6]])"
      ]
    },
    {
      "cell_type": "code",
      "execution_count": null,
      "metadata": {
        "id": "M-r-Shd5abj9"
      },
      "outputs": [],
      "source": [
        "arr_y = np.array([[1, 2], [3, 4], [5, 6]])"
      ]
    },
    {
      "cell_type": "code",
      "execution_count": null,
      "metadata": {
        "id": "jAiZHex_abj9",
        "outputId": "46999ebf-ae07-4df1-e9c3-8667aecd0a9c"
      },
      "outputs": [
        {
          "data": {
            "text/plain": [
              "array([[22, 28],\n",
              "       [49, 64]])"
            ]
          },
          "execution_count": 129,
          "metadata": {},
          "output_type": "execute_result"
        }
      ],
      "source": [
        "arr_x.dot(arr_y)   # 等价于np.dot(arr_x, arr_y)"
      ]
    },
    {
      "cell_type": "markdown",
      "metadata": {
        "id": "IORsuWQ4abj9"
      },
      "source": [
        "## 2.10随机数模块"
      ]
    },
    {
      "cell_type": "code",
      "execution_count": null,
      "metadata": {
        "id": "dFZ6pWZxabj9"
      },
      "outputs": [],
      "source": [
        "import numpy as np"
      ]
    },
    {
      "cell_type": "code",
      "execution_count": null,
      "metadata": {
        "id": "2aChPNfaabj9",
        "outputId": "ef144dbc-a940-41af-9e97-f9a6866e1f93"
      },
      "outputs": [
        {
          "data": {
            "text/plain": [
              "array([[0.88271332, 0.89141968, 0.63803249],\n",
              "       [0.68241233, 0.61433215, 0.4493645 ],\n",
              "       [0.69786392, 0.07956108, 0.33203826]])"
            ]
          },
          "execution_count": 131,
          "metadata": {},
          "output_type": "execute_result"
        }
      ],
      "source": [
        "np.random.rand(3, 3)     # 随机生成一个二维数组"
      ]
    },
    {
      "cell_type": "code",
      "execution_count": null,
      "metadata": {
        "id": "jq5XXgRoabj-",
        "outputId": "ff761b08-3b83-4b87-86ba-7fea551148cf"
      },
      "outputs": [
        {
          "data": {
            "text/plain": [
              "array([[[0.22607381, 0.95736878, 0.47247963],\n",
              "        [0.08801577, 0.99162113, 0.57570546],\n",
              "        [0.8455419 , 0.40145295, 0.19392599]],\n",
              "\n",
              "       [[0.96464639, 0.10871251, 0.34226665],\n",
              "        [0.65920344, 0.74579427, 0.02163981],\n",
              "        [0.90476319, 0.62201272, 0.20389291]]])"
            ]
          },
          "execution_count": 132,
          "metadata": {},
          "output_type": "execute_result"
        }
      ],
      "source": [
        "np.random.rand(2, 3, 3) # 随机生成一个三维数组"
      ]
    },
    {
      "cell_type": "code",
      "execution_count": null,
      "metadata": {
        "id": "92Gq-M4tabj-"
      },
      "outputs": [],
      "source": [
        "import numpy as np"
      ]
    },
    {
      "cell_type": "code",
      "execution_count": null,
      "metadata": {
        "id": "zK74g81yabj-"
      },
      "outputs": [],
      "source": [
        "np.random.seed(0)   # 生成随机数的种子"
      ]
    },
    {
      "cell_type": "code",
      "execution_count": null,
      "metadata": {
        "id": "DAM4_fWPabj-",
        "outputId": "58a82f8a-71eb-4026-c801-fb766a0518fc"
      },
      "outputs": [
        {
          "data": {
            "text/plain": [
              "array([0.5488135 , 0.71518937, 0.60276338, 0.54488318, 0.4236548 ])"
            ]
          },
          "execution_count": 135,
          "metadata": {},
          "output_type": "execute_result"
        }
      ],
      "source": [
        "np.random.rand(5)   # 随机生成包含5个元素的浮点数组"
      ]
    },
    {
      "cell_type": "code",
      "execution_count": null,
      "metadata": {
        "id": "QCXPEuzcabj-"
      },
      "outputs": [],
      "source": [
        "np.random.seed(0)"
      ]
    },
    {
      "cell_type": "code",
      "execution_count": null,
      "metadata": {
        "id": "DyIFFw0Kabj-",
        "outputId": "b710e81f-1d33-4ef4-8daf-160fce3f866c"
      },
      "outputs": [
        {
          "data": {
            "text/plain": [
              "array([0.5488135 , 0.71518937, 0.60276338, 0.54488318, 0.4236548 ])"
            ]
          },
          "execution_count": 137,
          "metadata": {},
          "output_type": "execute_result"
        }
      ],
      "source": [
        "np.random.rand(5)"
      ]
    },
    {
      "cell_type": "code",
      "execution_count": null,
      "metadata": {
        "id": "TRANC0nJabj-"
      },
      "outputs": [],
      "source": [
        "np.random.seed()"
      ]
    },
    {
      "cell_type": "code",
      "execution_count": null,
      "metadata": {
        "id": "DYgJJDK6abj-",
        "outputId": "cb3e3ab2-0279-4cba-fd6f-f4dfdc69edb6"
      },
      "outputs": [
        {
          "data": {
            "text/plain": [
              "array([0.6531853 , 0.37799153, 0.30382486, 0.83366978, 0.58776806])"
            ]
          },
          "execution_count": 139,
          "metadata": {},
          "output_type": "execute_result"
        }
      ],
      "source": [
        "np.random.rand(5)"
      ]
    },
    {
      "cell_type": "markdown",
      "metadata": {
        "id": "I4jyzHTUabj-"
      },
      "source": [
        "## 2.11案例—酒鬼漫步"
      ]
    },
    {
      "cell_type": "code",
      "execution_count": null,
      "metadata": {
        "id": "K53qfWCcabj-"
      },
      "outputs": [],
      "source": [
        "# 导入numpy包\n",
        "import numpy as np\n",
        "steps = 2000\n",
        "draws = np.random.randint(0, 2, size=steps)\n",
        "# 当元素为1时，direction_steps为1，\n",
        "# 当元素为0时，direction_steps为-1\n",
        "direction_steps = np.where(draws > 0, 1, -1)\n",
        "# 使用cumsum()计算步数累计和\n",
        "distance = direction_steps.cumsum()"
      ]
    },
    {
      "cell_type": "code",
      "execution_count": null,
      "metadata": {
        "id": "oKNz8_97abj-",
        "outputId": "9fcc3232-20f3-4b5b-bb06-2a0e1e129e16"
      },
      "outputs": [
        {
          "data": {
            "text/plain": [
              "-1"
            ]
          },
          "execution_count": 141,
          "metadata": {},
          "output_type": "execute_result"
        }
      ],
      "source": [
        "# 使用max()计算向前走的最远距离\n",
        "distance.max()"
      ]
    },
    {
      "cell_type": "code",
      "execution_count": null,
      "metadata": {
        "id": "CSa1lGg-abj-",
        "outputId": "6955f2eb-0740-4fa4-e771-4731f936c055"
      },
      "outputs": [
        {
          "data": {
            "text/plain": [
              "-59"
            ]
          },
          "execution_count": 142,
          "metadata": {},
          "output_type": "execute_result"
        }
      ],
      "source": [
        "# 使用min()计算向后走的最远距离\n",
        "distance.min()"
      ]
    },
    {
      "cell_type": "code",
      "execution_count": null,
      "metadata": {
        "id": "TDPa4jTjabj-",
        "outputId": "c5ccdaad-0af9-4467-c8f3-93a6b5d302da"
      },
      "outputs": [
        {
          "data": {
            "text/plain": [
              "275"
            ]
          },
          "execution_count": 143,
          "metadata": {},
          "output_type": "execute_result"
        }
      ],
      "source": [
        "# 15米换算成步数\n",
        "steps = 15 / 0.5\n",
        "(np.abs(distance) >= steps).argmax()"
      ]
    }
  ],
  "metadata": {
    "kernelspec": {
      "display_name": "Python 3",
      "language": "python",
      "name": "python3"
    },
    "language_info": {
      "codemirror_mode": {
        "name": "ipython",
        "version": 3
      },
      "file_extension": ".py",
      "mimetype": "text/x-python",
      "name": "python",
      "nbconvert_exporter": "python",
      "pygments_lexer": "ipython3",
      "version": "3.6.5"
    },
    "colab": {
      "provenance": [],
      "include_colab_link": true
    }
  },
  "nbformat": 4,
  "nbformat_minor": 0
}