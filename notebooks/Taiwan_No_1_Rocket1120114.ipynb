{
  "cells": [
    {
      "cell_type": "markdown",
      "metadata": {
        "id": "view-in-github",
        "colab_type": "text"
      },
      "source": [
        "<a href=\"https://colab.research.google.com/github/jumbokh/python_learn/blob/master/notebooks/Taiwan_No_1_Rocket1120114.ipynb\" target=\"_parent\"><img src=\"https://colab.research.google.com/assets/colab-badge.svg\" alt=\"Open In Colab\"/></a>"
      ]
    },
    {
      "cell_type": "code",
      "execution_count": null,
      "metadata": {
        "id": "M9zpUvnMj8Qj"
      },
      "outputs": [],
      "source": [
        "SIZE = 3 #隨意 只要是int 即可\n",
        "EXIT=-1  #輸入-1 跳出程式"
      ]
    },
    {
      "cell_type": "code",
      "execution_count": null,
      "metadata": {
        "id": "_nA8EwZKnaIK",
        "colab": {
          "base_uri": "https://localhost:8080/",
          "height": 127
        },
        "outputId": "8d63429d-e2bc-498b-fbee-28f457c36a9c"
      },
      "outputs": [
        {
          "output_type": "execute_result",
          "data": {
            "text/plain": [
              "'\\nTODO:\\nWellcome to Taiwan No.1Taiwan No.1 Rocket!!!\\n#/\\\\ \\n+==+ \\n|/\\\\|\\n|\\\\/|\\n+==+ \\n#/\\\\ \\n1.print out \\'Wellcome to Taiwan No.1 Rocket!!!\\'\\n2.Enter a number and take an integer number;and the number points to SIZE\\n3.Call head() sub-function and pass by SIZE\\n4.Call belt() sub-function and pass by 2*SIZE\\n5.Call upper() sub-function and pass by SIZE\\n6.Call lower() sub-function and pass by SIZE\\n7.Call belt() sub-function and pass by 2*SIZE\\n8.Call head() sub-function and pass by SIZE\\n9.make head() sub-function which accept SIZE with variable head_n,do something as below\\n\\ta.The outer for loop sets the height of each split rocket, i starts 0 to end head_n-1 add 1\\n        (a)use for loop j 0 to head_n-1 to print \\' \\' and continue to print, not wrap\\n        (b)use for loop j 0 to i+1 to print \"/\"and continue to print, not wrap\\n        (c)use for loop j 0 to i+1 to print \"\\\\\" and continue to print, not wrap\\n        (d)Finally,wrap\\n10.make upper() sub-function which accept SIZE with variable upper_n,do something as below\\n\\ta.The outer for loop sets the height of each split rocket, i starts 0 to end upper_n-1 add 1\\n        (a)print \"|\"and continue to print, not wrap\\n        (b)use for loop j 0 to upper_n-1-i to print \\'.\\' and continue to print, not wrap\\n        (c)use for loop j 0 to i+1 to print \"/\\\\\" and continue to print, not wrap\\n        (d)use for loop j 0 to upper_n-1-i to print \\'.\\' and continue to print, not wrap\\n        (e)Finally,print \"|\"\\n11.make lower() sub-function which accept SIZE with variable lower_n,do something as below\\n\\ta.The outer for loop sets the height of each split rocket, i starts 0 to end lower_n-1 add 1\\n        (a)print \"|\"and continue to print, not wrap\\n        (b)use for loop j 0 to lower_n-1-i to print \\'.\\' and continue to print, not wrap\\n        (c)use for loop j 0 to i+1 to print \"\\\\/\" and continue to print, not wrap\\n        (d)use for loop j 0 to lower_n-1-i to print \\'.\\' and continue to print, not wrap\\n        (e)Finally,print \"|\"\\n12.make belt() sub-function which accept SIZE with variable belt_n,do something as below\\n\\ta.Use for loop i 0 to belt_n+2 to determine the width of belt()\\n        (a)print \"|\"and continue to print, not wrap\\n        (b)if i==0 or i==belt_n+1,then print out \\'+\\'and continue to print, not wrap\\n        (c)else print out \\'=\\'and continue to print, not wrap\\n        (d)Finally,wrap      \\n'"
            ],
            "application/vnd.google.colaboratory.intrinsic+json": {
              "type": "string"
            }
          },
          "metadata": {},
          "execution_count": 2
        }
      ],
      "source": [
        "\"\"\"\n",
        "File: Taiwan_No_1_Rocket1120114.py\n",
        "Name:Adams Chen\n",
        "-----------------------\n",
        "This program should implement a console program\n",
        "that draws ASCII art - a rocket.\n",
        "The size of rocket is determined by a constant\n",
        "defined as SIZE at top of the file.\n",
        "Output format should match what is shown in the sample\n",
        "run in the Assignment 2 Handout.\n",
        "\"\"\"\n",
        "\"\"\"\n",
        "TODO:\n",
        "Wellcome to Taiwan No.1Taiwan No.1 Rocket!!!\n",
        "#/\\ \n",
        "+==+ \n",
        "|/\\|\n",
        "|\\/|\n",
        "+==+ \n",
        "#/\\ \n",
        "1.print out 'Wellcome to Taiwan No.1 Rocket!!!'\n",
        "2.Enter a number and take an integer number;and the number points to SIZE\n",
        "3.Call head() sub-function and pass by SIZE\n",
        "4.Call belt() sub-function and pass by 2*SIZE\n",
        "5.Call upper() sub-function and pass by SIZE\n",
        "6.Call lower() sub-function and pass by SIZE\n",
        "7.Call belt() sub-function and pass by 2*SIZE\n",
        "8.Call head() sub-function and pass by SIZE\n",
        "9.make head() sub-function which accept SIZE with variable head_n,do something as below\n",
        "\ta.The outer for loop sets the height of each split rocket, i starts 0 to end head_n-1 add 1\n",
        "        (a)use for loop j 0 to head_n-1 to print ' ' and continue to print, not wrap\n",
        "        (b)use for loop j 0 to i+1 to print \"/\"and continue to print, not wrap\n",
        "        (c)use for loop j 0 to i+1 to print \"\\\\\" and continue to print, not wrap\n",
        "        (d)Finally,wrap\n",
        "10.make upper() sub-function which accept SIZE with variable upper_n,do something as below\n",
        "\ta.The outer for loop sets the height of each split rocket, i starts 0 to end upper_n-1 add 1\n",
        "        (a)print \"|\"and continue to print, not wrap\n",
        "        (b)use for loop j 0 to upper_n-1-i to print '.' and continue to print, not wrap\n",
        "        (c)use for loop j 0 to i+1 to print \"/\\\\\" and continue to print, not wrap\n",
        "        (d)use for loop j 0 to upper_n-1-i to print '.' and continue to print, not wrap\n",
        "        (e)Finally,print \"|\"\n",
        "11.make lower() sub-function which accept SIZE with variable lower_n,do something as below\n",
        "\ta.The outer for loop sets the height of each split rocket, i starts 0 to end lower_n-1 add 1\n",
        "        (a)print \"|\"and continue to print, not wrap\n",
        "        (b)use for loop j 0 to lower_n-1-i to print '.' and continue to print, not wrap\n",
        "        (c)use for loop j 0 to i+1 to print \"\\\\/\" and continue to print, not wrap\n",
        "        (d)use for loop j 0 to lower_n-1-i to print '.' and continue to print, not wrap\n",
        "        (e)Finally,print \"|\"\n",
        "12.make belt() sub-function which accept SIZE with variable belt_n,do something as below\n",
        "\ta.Use for loop i 0 to belt_n+2 to determine the width of belt()\n",
        "        (a)print \"|\"and continue to print, not wrap\n",
        "        (b)if i==0 or i==belt_n+1,then print out '+'and continue to print, not wrap\n",
        "        (c)else print out '='and continue to print, not wrap\n",
        "        (d)Finally,wrap      \n",
        "\"\"\""
      ]
    },
    {
      "cell_type": "markdown",
      "metadata": {
        "id": "oy84ageonfIa"
      },
      "source": [
        "## 畫火箭頭部\n",
        "/\\"
      ]
    },
    {
      "cell_type": "code",
      "execution_count": null,
      "metadata": {
        "id": "laMENSPMlmqH"
      },
      "outputs": [],
      "source": [
        "def head(head_n):#尺寸輸入n 其實印出的寬度是2*(n+1)\n",
        "\tfor i in range(head_n):\n",
        "\t\tfor j in range(head_n-i):\n",
        "\t\t\tprint(\" \",end='')  #end=''接續印不換行\n",
        "\t\tfor j in range(i+1):\n",
        "\t\t\tprint(\"/\",end='')\n",
        "\t\tfor j in range(i+1):\n",
        "\t\t\tprint(\"\\\\\",end='')  #只有一個\"\\\"代表特字元 \\n 印出\"\\\" 要用\"\\\\\"\n",
        "\n",
        "\t\tprint(\" \") #最後的空白"
      ]
    },
    {
      "cell_type": "markdown",
      "metadata": {
        "id": "iJjWd0Tzn4NK"
      },
      "source": [
        "\n",
        "\n",
        "\n",
        "\n",
        "\n",
        "\n",
        "\n",
        "## 畫出火箭上半部 \n",
        "## \"|/\\\\|\"  \n",
        "## 她的組成空格/\\空格\n"
      ]
    },
    {
      "cell_type": "code",
      "execution_count": null,
      "metadata": {
        "id": "aWu3v2OVm_Bs"
      },
      "outputs": [],
      "source": [
        "def upper(upper_n):\n",
        "\tfor i in range(upper_n):\n",
        "\t\tprint('|', end='') \n",
        "\t\tfor j in range(upper_n-1-i): #size >=2 才會出現\".\"\n",
        "\t\t\tprint(\".\", end='')         #上半部第2行先畫\".\"\n",
        "\t\tfor j in range(i+1):  #i從1開始因為range函數關係 起j~迄(i-1)+1 \n",
        "\t\t\tprint(\"/\\\\\", end='')       #接著畫接著畫\"/\\\\\"\n",
        "\t\tfor j in range(upper_n-1-i): #size >=2 才會出現\".\"\"\n",
        "\t\t\tprint(\".\", end='')\n",
        "\t\tprint('|')\n",
        "\n"
      ]
    },
    {
      "cell_type": "markdown",
      "metadata": {
        "id": "GwC_G5G4n9_P"
      },
      "source": [
        "## 畫出火箭下半部 \n",
        "## |\\\\/|\n",
        "## 她的組成空格\\/空格"
      ]
    },
    {
      "cell_type": "code",
      "execution_count": null,
      "metadata": {
        "id": "cKj0zYpTnDCW"
      },
      "outputs": [],
      "source": [
        "def lower(lower_n):\n",
        "\tfor i in range(lower_n):\n",
        "\t\tprint('|', end='')\n",
        "\t\tfor j in range(i):\n",
        "\t\t\tprint(\".\", end='')  #size >=2 才會出現\".\"\"\n",
        "\t\tfor j in range(lower_n - i):  #下半部 先畫\"\\\\/\",\n",
        "\t\t\tprint(\"\\\\/\", end='')\n",
        "\t\tfor j in range(i):    #size >=2 才會出現\".\"\n",
        "\t\t\tprint(\".\", end='')  \n",
        "\t\tprint('|')\n",
        "\n"
      ]
    },
    {
      "cell_type": "markdown",
      "metadata": {
        "id": "lDowdW5ZoFDo"
      },
      "source": [
        "## 畫出腰帶  \n",
        "## +==+\n",
        "## 她的組成+==+"
      ]
    },
    {
      "cell_type": "code",
      "execution_count": null,
      "metadata": {
        "id": "VMRM_7UxnF6v"
      },
      "outputs": [],
      "source": [
        "def belt(belt_n):\n",
        "\tfor i in range(belt_n+2): #若輸入2 要符合印出長度=4 所以range(belt_n+2)\n",
        "\t\tif i==0 or i==belt_n+1: #若是第一和位元 \n",
        "\t\t\tprint('+',end='')  #則印出'+'接續印\n",
        "\t\telse:\n",
        "\t\t\tprint('=',end='')\n",
        "\tprint(\" \")"
      ]
    },
    {
      "cell_type": "code",
      "execution_count": null,
      "metadata": {
        "colab": {
          "base_uri": "https://localhost:8080/"
        },
        "id": "3sSEAhgdkKM4",
        "outputId": "af956556-9f17-448e-f079-feb6561cfcd1"
      },
      "outputs": [
        {
          "output_type": "stream",
          "name": "stdout",
          "text": [
            "Wellcome to Taiwan No.1 Rocket!!!\n",
            "Enter rocket size(1,2,5,10 or -1 to quit )?: 5\n",
            "     /\\ \n",
            "    //\\\\ \n",
            "   ///\\\\\\ \n",
            "  ////\\\\\\\\ \n",
            " /////\\\\\\\\\\ \n",
            "+==========+ \n",
            "|..../\\....|\n",
            "|.../\\/\\...|\n",
            "|../\\/\\/\\..|\n",
            "|./\\/\\/\\/\\.|\n",
            "|/\\/\\/\\/\\/\\|\n",
            "|\\/\\/\\/\\/\\/|\n",
            "|.\\/\\/\\/\\/.|\n",
            "|..\\/\\/\\/..|\n",
            "|...\\/\\/...|\n",
            "|....\\/....|\n",
            "+==========+ \n",
            "     /\\ \n",
            "    //\\\\ \n",
            "   ///\\\\\\ \n",
            "  ////\\\\\\\\ \n",
            " /////\\\\\\\\\\ \n",
            "Enter rocket size(1,2,5,10 or -1 to quit )?: 5\n",
            "     /\\ \n",
            "    //\\\\ \n",
            "   ///\\\\\\ \n",
            "  ////\\\\\\\\ \n",
            " /////\\\\\\\\\\ \n",
            "+==========+ \n",
            "|..../\\....|\n",
            "|.../\\/\\...|\n",
            "|../\\/\\/\\..|\n",
            "|./\\/\\/\\/\\.|\n",
            "|/\\/\\/\\/\\/\\|\n",
            "|\\/\\/\\/\\/\\/|\n",
            "|.\\/\\/\\/\\/.|\n",
            "|..\\/\\/\\/..|\n",
            "|...\\/\\/...|\n",
            "|....\\/....|\n",
            "+==========+ \n",
            "     /\\ \n",
            "    //\\\\ \n",
            "   ///\\\\\\ \n",
            "  ////\\\\\\\\ \n",
            " /////\\\\\\\\\\ \n",
            "Enter rocket size(1,2,5,10 or -1 to quit )?: 5\n",
            "     /\\ \n",
            "    //\\\\ \n",
            "   ///\\\\\\ \n",
            "  ////\\\\\\\\ \n",
            " /////\\\\\\\\\\ \n",
            "+==========+ \n",
            "|..../\\....|\n",
            "|.../\\/\\...|\n",
            "|../\\/\\/\\..|\n",
            "|./\\/\\/\\/\\.|\n",
            "|/\\/\\/\\/\\/\\|\n",
            "|\\/\\/\\/\\/\\/|\n",
            "|.\\/\\/\\/\\/.|\n",
            "|..\\/\\/\\/..|\n",
            "|...\\/\\/...|\n",
            "|....\\/....|\n",
            "+==========+ \n",
            "     /\\ \n",
            "    //\\\\ \n",
            "   ///\\\\\\ \n",
            "  ////\\\\\\\\ \n",
            " /////\\\\\\\\\\ \n",
            "Enter rocket size(1,2,5,10 or -1 to quit )?: 5\n",
            "     /\\ \n",
            "    //\\\\ \n",
            "   ///\\\\\\ \n",
            "  ////\\\\\\\\ \n",
            " /////\\\\\\\\\\ \n",
            "+==========+ \n",
            "|..../\\....|\n",
            "|.../\\/\\...|\n",
            "|../\\/\\/\\..|\n",
            "|./\\/\\/\\/\\.|\n",
            "|/\\/\\/\\/\\/\\|\n",
            "|\\/\\/\\/\\/\\/|\n",
            "|.\\/\\/\\/\\/.|\n",
            "|..\\/\\/\\/..|\n",
            "|...\\/\\/...|\n",
            "|....\\/....|\n",
            "+==========+ \n",
            "     /\\ \n",
            "    //\\\\ \n",
            "   ///\\\\\\ \n",
            "  ////\\\\\\\\ \n",
            " /////\\\\\\\\\\ \n",
            "Enter rocket size(1,2,5,10 or -1 to quit )?: 5\n",
            "     /\\ \n",
            "    //\\\\ \n",
            "   ///\\\\\\ \n",
            "  ////\\\\\\\\ \n",
            " /////\\\\\\\\\\ \n",
            "+==========+ \n",
            "|..../\\....|\n",
            "|.../\\/\\...|\n",
            "|../\\/\\/\\..|\n",
            "|./\\/\\/\\/\\.|\n",
            "|/\\/\\/\\/\\/\\|\n",
            "|\\/\\/\\/\\/\\/|\n",
            "|.\\/\\/\\/\\/.|\n",
            "|..\\/\\/\\/..|\n",
            "|...\\/\\/...|\n",
            "|....\\/....|\n",
            "+==========+ \n",
            "     /\\ \n",
            "    //\\\\ \n",
            "   ///\\\\\\ \n",
            "  ////\\\\\\\\ \n",
            " /////\\\\\\\\\\ \n",
            "Enter rocket size(1,2,5,10 or -1 to quit )?: 5\n",
            "     /\\ \n",
            "    //\\\\ \n",
            "   ///\\\\\\ \n",
            "  ////\\\\\\\\ \n",
            " /////\\\\\\\\\\ \n",
            "+==========+ \n",
            "|..../\\....|\n",
            "|.../\\/\\...|\n",
            "|../\\/\\/\\..|\n",
            "|./\\/\\/\\/\\.|\n",
            "|/\\/\\/\\/\\/\\|\n",
            "|\\/\\/\\/\\/\\/|\n",
            "|.\\/\\/\\/\\/.|\n",
            "|..\\/\\/\\/..|\n",
            "|...\\/\\/...|\n",
            "|....\\/....|\n",
            "+==========+ \n",
            "     /\\ \n",
            "    //\\\\ \n",
            "   ///\\\\\\ \n",
            "  ////\\\\\\\\ \n",
            " /////\\\\\\\\\\ \n",
            "Enter rocket size(1,2,5,10 or -1 to quit )?: 5\n",
            "     /\\ \n",
            "    //\\\\ \n",
            "   ///\\\\\\ \n",
            "  ////\\\\\\\\ \n",
            " /////\\\\\\\\\\ \n",
            "+==========+ \n",
            "|..../\\....|\n",
            "|.../\\/\\...|\n",
            "|../\\/\\/\\..|\n",
            "|./\\/\\/\\/\\.|\n",
            "|/\\/\\/\\/\\/\\|\n",
            "|\\/\\/\\/\\/\\/|\n",
            "|.\\/\\/\\/\\/.|\n",
            "|..\\/\\/\\/..|\n",
            "|...\\/\\/...|\n",
            "|....\\/....|\n",
            "+==========+ \n",
            "     /\\ \n",
            "    //\\\\ \n",
            "   ///\\\\\\ \n",
            "  ////\\\\\\\\ \n",
            " /////\\\\\\\\\\ \n",
            "Enter rocket size(1,2,5,10 or -1 to quit )?: 5\n",
            "     /\\ \n",
            "    //\\\\ \n",
            "   ///\\\\\\ \n",
            "  ////\\\\\\\\ \n",
            " /////\\\\\\\\\\ \n",
            "+==========+ \n",
            "|..../\\....|\n",
            "|.../\\/\\...|\n",
            "|../\\/\\/\\..|\n",
            "|./\\/\\/\\/\\.|\n",
            "|/\\/\\/\\/\\/\\|\n",
            "|\\/\\/\\/\\/\\/|\n",
            "|.\\/\\/\\/\\/.|\n",
            "|..\\/\\/\\/..|\n",
            "|...\\/\\/...|\n",
            "|....\\/....|\n",
            "+==========+ \n",
            "     /\\ \n",
            "    //\\\\ \n",
            "   ///\\\\\\ \n",
            "  ////\\\\\\\\ \n",
            " /////\\\\\\\\\\ \n",
            "Enter rocket size(1,2,5,10 or -1 to quit )?: 5\n",
            "     /\\ \n",
            "    //\\\\ \n",
            "   ///\\\\\\ \n",
            "  ////\\\\\\\\ \n",
            " /////\\\\\\\\\\ \n",
            "+==========+ \n",
            "|..../\\....|\n",
            "|.../\\/\\...|\n",
            "|../\\/\\/\\..|\n",
            "|./\\/\\/\\/\\.|\n",
            "|/\\/\\/\\/\\/\\|\n",
            "|\\/\\/\\/\\/\\/|\n",
            "|.\\/\\/\\/\\/.|\n",
            "|..\\/\\/\\/..|\n",
            "|...\\/\\/...|\n",
            "|....\\/....|\n",
            "+==========+ \n",
            "     /\\ \n",
            "    //\\\\ \n",
            "   ///\\\\\\ \n",
            "  ////\\\\\\\\ \n",
            " /////\\\\\\\\\\ \n"
          ]
        }
      ],
      "source": [
        "print('Wellcome to Taiwan No.1 Rocket!!!')\n",
        "while True:\n",
        "\tSIZE=int(input('Enter rocket size(1,2,5,10 or '+str(EXIT)+' to quit )?: '))\n",
        "\tif SIZE == 0:\n",
        "\t\tSIZE = int(input('Rocket size is not =0!!!Enter rocket size,again(1,2,5,10 or ' + str(EXIT) + 'to quit )?: '))\n",
        "\tif SIZE >=1:  #火箭組合\n",
        "\t\thead(SIZE)\n",
        "\t\tbelt(2*SIZE) #腰帶是兩倍組合\n",
        "\t\tupper(SIZE)  #head(SIZE)是火箭火頭 也是尾部噴射\n",
        "\t\tlower(SIZE)\n",
        "\t\tbelt(2*SIZE) #腰帶是兩倍組合\n",
        "\t\thead(SIZE)  #head(SIZE)是火箭頭 也是尾部噴射\n",
        "\telse:\n",
        "\t\tprint('Thank you for using Taiwan No.1 Rocket!')\n",
        "\t\tbreak"
      ]
    },
    {
      "cell_type": "code",
      "source": [
        "print(\"123\",end='')\n",
        "print(\"abc\",end='')"
      ],
      "metadata": {
        "id": "cfqSg-BSzhms"
      },
      "execution_count": null,
      "outputs": []
    },
    {
      "cell_type": "markdown",
      "source": [
        "### 發想：畫金字塔星星程式很酷"
      ],
      "metadata": {
        "id": "4PV0vbhibzMH"
      }
    },
    {
      "cell_type": "code",
      "source": [
        "for i in range(1,8):\n",
        "    print(' ' * (7-i) + '*' * (2*i-1)) #做7層(次) 每次畫7-n個空格+星星*(2*i-1))"
      ],
      "metadata": {
        "id": "THkbn3hrb7sJ"
      },
      "execution_count": null,
      "outputs": []
    },
    {
      "cell_type": "markdown",
      "source": [
        "### 國箭國造 自己的火箭自己造更酷\n",
        "##  可以自己決定Size"
      ],
      "metadata": {
        "id": "W9sv1bmEcEhA"
      }
    },
    {
      "cell_type": "code",
      "source": [
        "\"\"\"\n",
        "#/\\ \n",
        "+==+ \n",
        "|/\\|\n",
        "|\\/|\n",
        "+==+ \n",
        "#/\\ \n",
        "\"\"\""
      ],
      "metadata": {
        "id": "BbQnx5WuRfPs"
      },
      "execution_count": null,
      "outputs": []
    },
    {
      "cell_type": "code",
      "source": [
        "\"\"\"\n",
        "Enter rocket size(1,2,5,10 or -1 to quit )?: 2\n",
        "  /\\ \n",
        " //\\\\ \n",
        "+====+ \n",
        "|./\\.|\n",
        "|/\\/\\|\n",
        "|\\/\\/|\n",
        "|.\\/.|\n",
        "+====+ \n",
        "  /\\ \n",
        " //\\\\ \n",
        "\n",
        " \"\"\""
      ],
      "metadata": {
        "id": "GMFh3NiIgIsc"
      },
      "execution_count": null,
      "outputs": []
    },
    {
      "cell_type": "markdown",
      "source": [
        "### 不是自己手刻\n",
        "### 叫 PyTon 畫 叫傅噴達送\n",
        "### 叫ChatGPT ? 大家可以試試看 ^^"
      ],
      "metadata": {
        "id": "-Rq6UsBKeixd"
      }
    },
    {
      "cell_type": "markdown",
      "source": [
        "### 一、找出圖形規則性\n",
        "##      1.圖形是左右對稱跟畫金字塔星星一樣 所以依據其規則性畫出火箭\n",
        "##      2.輸入尺寸 n 其實印出長度是2*(n+1) 也就是輸入1 長度是4\n",
        "##      3.火箭組成\n",
        "##        頭部+腰帶+上半部+下半部+腰帶+噴射\n",
        "##      4.火箭上半部下半部的\".\"是尺寸大於1才會出現\n",
        "### 二、設計程式需求(流程)\n",
        "##      1.使用While迴圈(為何使用while?)永遠待命執行    \n",
        "##      2.火箭自造自訂尺寸 要有輸入和提示字元\n",
        "##      3.要有跳出程式 結束功能\n",
        "##      4.劃出火箭功能\n",
        "##        注意輸入最大尺寸不要超過螢幕最大畫面 XD\n",
        "##      5.不使用模組套件\n",
        "### 三、程式實戰=>先破解函式\n",
        "##      1.頭部/噴射 函式 def head(head_n):#尺寸輸入n 其實印出的寬度是2*(n+1)\n",
        "##      2.火箭上半部 def upper(upper_n):\n",
        "##      3.火箭下半部def lower(lower_n):\n",
        "##      4.腰帶 def belt(belt_n):\n"
      ],
      "metadata": {
        "id": "J5mCDKpl4cez"
      }
    },
    {
      "cell_type": "markdown",
      "source": [
        "## 畫火箭頭部函式 def head(head_n):\n",
        "##目標 /\\ =>空白/\\空白"
      ],
      "metadata": {
        "id": "i_kyCW1DVx1C"
      }
    },
    {
      "cell_type": "code",
      "source": [
        "def head(head_n):#尺寸輸入n 其實印出的寬度是2*(n+1)\n",
        "\tfor i in range(head_n):\n",
        "\t\tfor j in range(head_n-i):\n",
        "\t\t\tprint(\" \",end='')  #end=''接續印不換行\n",
        "\t\tfor j in range(i+1):\n",
        "\t\t\tprint(\"/\",end='')\n",
        "\t\tfor j in range(i+1):\n",
        "\t\t\tprint(\"\\\\\",end='')  #只有一個\"\\\"代表特字元 \\n 印出\"\\\" 要用\"\\\\\"\n",
        "\n",
        "\t\tprint(\" \") #最後的空白"
      ],
      "metadata": {
        "id": "Hp5xlxZRVv1K"
      },
      "execution_count": null,
      "outputs": []
    },
    {
      "cell_type": "code",
      "source": [
        "head(1)"
      ],
      "metadata": {
        "id": "10SBy7k3WYQo"
      },
      "execution_count": null,
      "outputs": []
    },
    {
      "cell_type": "markdown",
      "source": [
        "## 畫出火箭上半部函式 def upper(upper_n):\n",
        "## \"|/\\\\|\"  \n",
        "## 她的組成空格/\\空格"
      ],
      "metadata": {
        "id": "TrYfz7V9WxSY"
      }
    },
    {
      "cell_type": "code",
      "source": [
        "def upper(upper_n):\n",
        "\tfor i in range(upper_n):\n",
        "\t\tprint('|', end='') \n",
        "\t\tfor j in range(upper_n-1-i): #size >=2 才會出現\".\"\n",
        "\t\t\tprint(\".\", end='')  #上半部先畫\".\"\n",
        "\t\tfor j in range(i+1):  #i從1開始因為range函數關係 起j~迄(i-1)+1 \n",
        "\t\t\tprint(\"/\\\\\", end='') \n",
        "\t\tfor j in range(upper_n-1-i): #size >=2 才會出現\".\"\"\n",
        "\t\t\tprint(\".\", end='')\n",
        "\t\tprint('|')"
      ],
      "metadata": {
        "id": "xN4PijbTW-Mg"
      },
      "execution_count": null,
      "outputs": []
    },
    {
      "cell_type": "code",
      "source": [
        "upper(1)"
      ],
      "metadata": {
        "id": "xzq2xbejXI05"
      },
      "execution_count": null,
      "outputs": []
    },
    {
      "cell_type": "markdown",
      "source": [
        "## 畫出火箭下半部 def lower(lower_n):\n",
        "## |\\\\/|\n",
        "## 她的組成空格\\/空格 跟上半部一樣將\"/\\\" 改成\"\\/\""
      ],
      "metadata": {
        "id": "cfLxLM37XOEa"
      }
    },
    {
      "cell_type": "code",
      "source": [
        "def lower(lower_n):\n",
        "\tfor i in range(lower_n):\n",
        "\t\tprint('|', end='')\n",
        "\t\tfor j in range(i):\n",
        "\t\t\tprint(\".\", end='')  #size >=2 才會出現\".\"\"\n",
        "\t\tfor j in range(lower_n - i):\n",
        "\t\t\tprint(\"\\\\/\", end='') #改成\"\\/\"\n",
        "\t\tfor j in range(i):\n",
        "\t\t\tprint(\".\", end='')  #size >=2 才會出現\".\"\"\n",
        "\t\tprint('|')"
      ],
      "metadata": {
        "id": "yTZQ-nb1XZ9g"
      },
      "execution_count": null,
      "outputs": []
    },
    {
      "cell_type": "code",
      "source": [
        "lower(1)"
      ],
      "metadata": {
        "id": "7o8NeF4oZOWo"
      },
      "execution_count": null,
      "outputs": []
    },
    {
      "cell_type": "markdown",
      "source": [
        "### 畫出腰帶 def belt(belt_n):\n",
        "## +==+\n",
        "## 她的組成+==+"
      ],
      "metadata": {
        "id": "L1xW3ErBYMzq"
      }
    },
    {
      "cell_type": "code",
      "source": [
        "def belt(belt_n):\n",
        "\tfor i in range(belt_n+2): #若輸入2 要符合印出長度=4 所以range(belt_n+2)\n",
        "\t\tif i==0 or i==belt_n+1: #若是第一和位元 \n",
        "\t\t\tprint('+',end='')  #則印出'+'接續印\n",
        "\t\telse:\n",
        "\t\t\tprint('=',end='')\n",
        "\tprint(\" \")"
      ],
      "metadata": {
        "id": "ThpTuhrrYMII"
      },
      "execution_count": null,
      "outputs": []
    },
    {
      "cell_type": "code",
      "source": [
        "belt(2*1)"
      ],
      "metadata": {
        "id": "IAMFjetqZcSX"
      },
      "execution_count": null,
      "outputs": []
    },
    {
      "cell_type": "markdown",
      "source": [
        "###  四指揮艇組合\n",
        "##   1.#尺寸輸入n 其實印出的長度是2*(n+1)"
      ],
      "metadata": {
        "id": "lAJgelJLZ9ng"
      }
    },
    {
      "cell_type": "code",
      "source": [
        "\"\"\"\n",
        "#/\\   空白/\\\n",
        "+==+  \n",
        "|/\\|\n",
        "|\\/|\n",
        "+==+ \n",
        "#/\\   空白/\\\n",
        "\"\"\""
      ],
      "metadata": {
        "id": "naac5slIZ4TA"
      },
      "execution_count": null,
      "outputs": []
    },
    {
      "cell_type": "code",
      "source": [
        "SIZE=2\n",
        "head(SIZE)  #head(SIZE)是火箭頭 也是尾部噴射\n",
        "belt(2*SIZE) #腰帶是兩倍組合\n",
        "upper(SIZE)  \n",
        "lower(SIZE)\n",
        "belt(2*SIZE) #腰帶是兩倍組合\n",
        "head(SIZE)  #head(SIZE)是火箭頭 也是尾部噴射"
      ],
      "metadata": {
        "id": "WipCqB_kathX"
      },
      "execution_count": null,
      "outputs": []
    },
    {
      "cell_type": "markdown",
      "source": [
        "### 五、整個程式流程順過一次"
      ],
      "metadata": {
        "id": "EMMvy2TGbRt4"
      }
    }
  ],
  "metadata": {
    "colab": {
      "provenance": [],
      "include_colab_link": true
    },
    "kernelspec": {
      "display_name": "Python 3",
      "name": "python3"
    },
    "language_info": {
      "name": "python"
    }
  },
  "nbformat": 4,
  "nbformat_minor": 0
}