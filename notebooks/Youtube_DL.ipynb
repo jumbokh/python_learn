{
  "nbformat": 4,
  "nbformat_minor": 0,
  "metadata": {
    "colab": {
      "provenance": [],
      "include_colab_link": true
    },
    "kernelspec": {
      "name": "python3",
      "display_name": "Python 3"
    },
    "language_info": {
      "name": "python"
    }
  },
  "cells": [
    {
      "cell_type": "markdown",
      "metadata": {
        "id": "view-in-github",
        "colab_type": "text"
      },
      "source": [
        "<a href=\"https://colab.research.google.com/github/jumbokh/python_learn/blob/master/notebooks/Youtube_DL.ipynb\" target=\"_parent\"><img src=\"https://colab.research.google.com/assets/colab-badge.svg\" alt=\"Open In Colab\"/></a>"
      ]
    },
    {
      "cell_type": "code",
      "execution_count": null,
      "metadata": {
        "id": "4hZagnZWvIg3"
      },
      "outputs": [],
      "source": [
        "# prompt: install yt-dlp\n",
        "\n",
        "!pip install -U yt-dlp\n",
        "!sudo apt update && sudo apt install ffmpeg\n",
        "import subprocess"
      ]
    },
    {
      "cell_type": "code",
      "source": [
        "def download_youtube_channel_videos(channel_url):\n",
        "    # 使用 YT-dlp 命令下載\n",
        "    # --yes-playlist 確保當網址指向播放列表時也會被處理\n",
        "    # --output 定義下載的影片檔名格式，加上章節名\n",
        "    # --ignore-errors 當某個影片因為版權等問題無法下載時，會跳過繼續下載其它影片\n",
        "    # --format bestvideo[ext=mp4]+bestaudio[ext=m4a]/best[ext=mp4]/best 指定下載 MP4 格式的影片\n",
        "    # --split-chapters 將影片按章節分割並下載\n",
        "    command = [\n",
        "        'yt-dlp',\n",
        "        channel_url,\n",
        "        '--yes-playlist',\n",
        "        '--format', 'bestvideo[ext=mp4]+bestaudio[ext=m4a]/best[ext=mp4]/best',\n",
        "        '--output', '%(title)s - %(chapter)s.%(ext)s',\n",
        "        '--ignore-errors',\n",
        "        '--split-chapters'\n",
        "    ]\n",
        "\n",
        "    subprocess.run(command, check=True)\n",
        "\n",
        "# 讓用戶輸入YouTube頻道或播放列表的URL\n",
        "channel_url = input(\"請輸入YouTube頻道或播放列表的URL: \")\n",
        "download_youtube_channel_videos(channel_url)"
      ],
      "metadata": {
        "id": "Y4YyUuLgvL7w"
      },
      "execution_count": null,
      "outputs": []
    }
  ]
}