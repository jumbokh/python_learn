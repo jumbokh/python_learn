{
  "nbformat": 4,
  "nbformat_minor": 0,
  "metadata": {
    "kernelspec": {
      "display_name": "Python 3",
      "language": "python",
      "name": "python3"
    },
    "language_info": {
      "name": "python",
      "version": "3.6.4",
      "mimetype": "text/x-python",
      "codemirror_mode": {
        "name": "ipython",
        "version": 3
      },
      "pygments_lexer": "ipython3",
      "nbconvert_exporter": "python",
      "file_extension": ".py"
    },
    "colab": {
      "name": "shampoo sales.ipynb",
      "provenance": [],
      "collapsed_sections": []
    }
  },
  "cells": [
    {
      "cell_type": "markdown",
      "metadata": {
        "_uuid": "f83b100733e05bdca30770430a43d78ab557db2c",
        "_cell_guid": "7500c108-839a-4149-b034-0e67339c143a",
        "id": "t683gXNcQxw2",
        "colab_type": "text"
      },
      "source": [
        "https://machinelearningmastery.com/use-dropout-lstm-networks-time-series-forecasting/\n",
        "\n",
        "https://machinelearningmastery.com/dropout-regularization-deep-learning-models-keras/"
      ]
    },
    {
      "cell_type": "code",
      "metadata": {
        "id": "f6-whU4_Q1jX",
        "colab_type": "code",
        "colab": {
          "base_uri": "https://localhost:8080/",
          "height": 126
        },
        "outputId": "82961dd5-b438-4584-e9e6-41816b4b1488"
      },
      "source": [
        "from google.colab import drive\n",
        "drive.mount('/content/gdrive') # 點擊網址，選擇 Google 帳號登入，然後將授權碼貼回輸入框中"
      ],
      "execution_count": 1,
      "outputs": [
        {
          "output_type": "stream",
          "text": [
            "Go to this URL in a browser: https://accounts.google.com/o/oauth2/auth?client_id=947318989803-6bn6qk8qdgf4n4g3pfee6491hc0brc4i.apps.googleusercontent.com&redirect_uri=urn%3aietf%3awg%3aoauth%3a2.0%3aoob&response_type=code&scope=email%20https%3a%2f%2fwww.googleapis.com%2fauth%2fdocs.test%20https%3a%2f%2fwww.googleapis.com%2fauth%2fdrive%20https%3a%2f%2fwww.googleapis.com%2fauth%2fdrive.photos.readonly%20https%3a%2f%2fwww.googleapis.com%2fauth%2fpeopleapi.readonly\n",
            "\n",
            "Enter your authorization code:\n",
            "··········\n",
            "Mounted at /content/gdrive\n"
          ],
          "name": "stdout"
        }
      ]
    },
    {
      "cell_type": "code",
      "metadata": {
        "id": "lRrDdSpxQ6nv",
        "colab_type": "code",
        "colab": {}
      },
      "source": [
        "!ln -fs /content/gdrive/My\\ Drive/Colab\\ Notebooks/Datascience /app"
      ],
      "execution_count": 0,
      "outputs": []
    },
    {
      "cell_type": "code",
      "metadata": {
        "id": "nRU6irHiRF1W",
        "colab_type": "code",
        "colab": {
          "base_uri": "https://localhost:8080/",
          "height": 248
        },
        "outputId": "3de513f9-c8d3-427c-aceb-3dd08487239f"
      },
      "source": [
        "!tar -xzvf /app/cuDNN/cudnn-10.0-linux-x64-v7.5.0.56.tgz -C /usr/local/\n",
        "!chmod a+r /usr/local/cuda/include/cudnn.h\n",
        "\n",
        "# 檢查是否安裝成功\n",
        "!cat /usr/local/cuda/include/cudnn.h | grep CUDNN_MAJOR -A 2"
      ],
      "execution_count": 3,
      "outputs": [
        {
          "output_type": "stream",
          "text": [
            "cuda/include/cudnn.h\n",
            "cuda/NVIDIA_SLA_cuDNN_Support.txt\n",
            "cuda/lib64/libcudnn.so\n",
            "cuda/lib64/libcudnn.so.7\n",
            "cuda/lib64/libcudnn.so.7.5.0\n",
            "cuda/lib64/libcudnn_static.a\n",
            "#define CUDNN_MAJOR 7\n",
            "#define CUDNN_MINOR 5\n",
            "#define CUDNN_PATCHLEVEL 0\n",
            "--\n",
            "#define CUDNN_VERSION (CUDNN_MAJOR * 1000 + CUDNN_MINOR * 100 + CUDNN_PATCHLEVEL)\n",
            "\n",
            "#include \"driver_types.h\"\n"
          ],
          "name": "stdout"
        }
      ]
    },
    {
      "cell_type": "code",
      "metadata": {
        "_uuid": "6709fd5f63503e7b4c551c8f7aa08fb556eed439",
        "_cell_guid": "831d51c6-bc30-481c-b9a1-fce57c202db9",
        "trusted": false,
        "id": "DrLkzDkBQxw6",
        "colab_type": "code",
        "colab": {
          "base_uri": "https://localhost:8080/",
          "height": 568
        },
        "outputId": "dd841f34-b79a-44f3-b63c-7932655e7883"
      },
      "source": [
        "# This Python 3 environment comes with many helpful analytics libraries installed\n",
        "# It is defined by the kaggle/python docker image: https://github.com/kaggle/docker-python\n",
        "# For example, here's several helpful packages to load in \n",
        "\n",
        "import numpy as np # linear algebra\n",
        "import pandas as pd # data processing, CSV file I/O (e.g. pd.read_csv)\n",
        "\n",
        "# Input data files are available in the \"../input/\" directory.\n",
        "# For example, running this (by clicking run or pressing Shift+Enter) will list the files in the input directory\n",
        "\n",
        "from subprocess import check_output\n",
        "print(check_output([\"ls\", \"/app/input\"]).decode(\"utf8\"))\n",
        "\n",
        "# Any results you write to the current directory are saved as output."
      ],
      "execution_count": 4,
      "outputs": [
        {
          "output_type": "stream",
          "text": [
            "2006-2015PowernTemp.csv\n",
            "2006-2015PowernTempStr.csv\n",
            "2006~2015system24hours_and_tempture_data.csv\n",
            "2006_2015系統24小時與溫度資料統計.csv\n",
            "2006~2015系統24小時與溫度資料統計.xlsx\n",
            "2011-2018powerSaleTemp.csv\n",
            "2011-2018x0x10x3x4.csv\n",
            "BicycleWeather.csv\n",
            "BuynSale.xlsx\n",
            "buysale_raw.xlsx\n",
            "data_description.txt\n",
            "FremontBridge.csv\n",
            "Google_Stock_Price_Test.csv\n",
            "Google_Stock_Price_Train.csv\n",
            "power_raw.xlsx\n",
            "power_use102-108.csv\n",
            "sales-of-shampoo-over-a-three-ye.csv\n",
            "sample_submission.csv\n",
            "Taipower_powerGen_sale.xlsx\n",
            "temp102-108.csv\n",
            "test.csv\n",
            "train.csv\n",
            "weather_102-108.csv\n",
            "Weather_BuySale2011-2018.pbix\n",
            "x0x10x3x4.pbix\n",
            "x3x4Prosperity_indicator.csv\n",
            "x3x4景氣.csv\n",
            "氣溫95-108.xlsx\n",
            "用電量_需量.csv\n",
            "用電量_需量_use.csv\n",
            "\n"
          ],
          "name": "stdout"
        }
      ]
    },
    {
      "cell_type": "code",
      "metadata": {
        "_uuid": "1369810dd538918c978848e2fe9e6c171fa30935",
        "_cell_guid": "1f1d65f9-012d-41db-977c-9f0d0e650668",
        "trusted": false,
        "id": "QnJP6TtOQxw-",
        "colab_type": "code",
        "colab": {
          "base_uri": "https://localhost:8080/",
          "height": 340
        },
        "outputId": "643e15f3-25b7-4a9d-df0b-1f4016ffd9f0"
      },
      "source": [
        "from pandas import read_table\n",
        "df = read_table('/app/input/sales-of-shampoo-over-a-three-ye.csv',sep=',')\n",
        "df[:10]"
      ],
      "execution_count": 16,
      "outputs": [
        {
          "output_type": "execute_result",
          "data": {
            "text/html": [
              "<div>\n",
              "<style scoped>\n",
              "    .dataframe tbody tr th:only-of-type {\n",
              "        vertical-align: middle;\n",
              "    }\n",
              "\n",
              "    .dataframe tbody tr th {\n",
              "        vertical-align: top;\n",
              "    }\n",
              "\n",
              "    .dataframe thead th {\n",
              "        text-align: right;\n",
              "    }\n",
              "</style>\n",
              "<table border=\"1\" class=\"dataframe\">\n",
              "  <thead>\n",
              "    <tr style=\"text-align: right;\">\n",
              "      <th></th>\n",
              "      <th>Month</th>\n",
              "      <th>Sales of shampoo over a three year period</th>\n",
              "    </tr>\n",
              "  </thead>\n",
              "  <tbody>\n",
              "    <tr>\n",
              "      <th>0</th>\n",
              "      <td>1-01</td>\n",
              "      <td>266.0</td>\n",
              "    </tr>\n",
              "    <tr>\n",
              "      <th>1</th>\n",
              "      <td>1-02</td>\n",
              "      <td>145.9</td>\n",
              "    </tr>\n",
              "    <tr>\n",
              "      <th>2</th>\n",
              "      <td>1-03</td>\n",
              "      <td>183.1</td>\n",
              "    </tr>\n",
              "    <tr>\n",
              "      <th>3</th>\n",
              "      <td>1-04</td>\n",
              "      <td>119.3</td>\n",
              "    </tr>\n",
              "    <tr>\n",
              "      <th>4</th>\n",
              "      <td>1-05</td>\n",
              "      <td>180.3</td>\n",
              "    </tr>\n",
              "    <tr>\n",
              "      <th>5</th>\n",
              "      <td>1-06</td>\n",
              "      <td>168.5</td>\n",
              "    </tr>\n",
              "    <tr>\n",
              "      <th>6</th>\n",
              "      <td>1-07</td>\n",
              "      <td>231.8</td>\n",
              "    </tr>\n",
              "    <tr>\n",
              "      <th>7</th>\n",
              "      <td>1-08</td>\n",
              "      <td>224.5</td>\n",
              "    </tr>\n",
              "    <tr>\n",
              "      <th>8</th>\n",
              "      <td>1-09</td>\n",
              "      <td>192.8</td>\n",
              "    </tr>\n",
              "    <tr>\n",
              "      <th>9</th>\n",
              "      <td>1-10</td>\n",
              "      <td>122.9</td>\n",
              "    </tr>\n",
              "  </tbody>\n",
              "</table>\n",
              "</div>"
            ],
            "text/plain": [
              "  Month  Sales of shampoo over a three year period\n",
              "0  1-01                                      266.0\n",
              "1  1-02                                      145.9\n",
              "2  1-03                                      183.1\n",
              "3  1-04                                      119.3\n",
              "4  1-05                                      180.3\n",
              "5  1-06                                      168.5\n",
              "6  1-07                                      231.8\n",
              "7  1-08                                      224.5\n",
              "8  1-09                                      192.8\n",
              "9  1-10                                      122.9"
            ]
          },
          "metadata": {
            "tags": []
          },
          "execution_count": 16
        }
      ]
    },
    {
      "cell_type": "code",
      "metadata": {
        "_uuid": "e5ec32c874e5dc1521ea584e623d2ff9feda0047",
        "_cell_guid": "875cfe8b-ca2a-4ee1-ad9a-e72b4f53eb5b",
        "trusted": false,
        "id": "9_UX47g_QxxC",
        "colab_type": "code",
        "colab": {
          "base_uri": "https://localhost:8080/",
          "height": 1000
        },
        "outputId": "8207ce6c-d843-464c-8022-b865469d2c89"
      },
      "source": [
        "df['Month'] = \"2018-\" + df['Month']\n",
        "df = df[:-1]\n",
        "df"
      ],
      "execution_count": 17,
      "outputs": [
        {
          "output_type": "execute_result",
          "data": {
            "text/html": [
              "<div>\n",
              "<style scoped>\n",
              "    .dataframe tbody tr th:only-of-type {\n",
              "        vertical-align: middle;\n",
              "    }\n",
              "\n",
              "    .dataframe tbody tr th {\n",
              "        vertical-align: top;\n",
              "    }\n",
              "\n",
              "    .dataframe thead th {\n",
              "        text-align: right;\n",
              "    }\n",
              "</style>\n",
              "<table border=\"1\" class=\"dataframe\">\n",
              "  <thead>\n",
              "    <tr style=\"text-align: right;\">\n",
              "      <th></th>\n",
              "      <th>Month</th>\n",
              "      <th>Sales of shampoo over a three year period</th>\n",
              "    </tr>\n",
              "  </thead>\n",
              "  <tbody>\n",
              "    <tr>\n",
              "      <th>0</th>\n",
              "      <td>2018-1-01</td>\n",
              "      <td>266.0</td>\n",
              "    </tr>\n",
              "    <tr>\n",
              "      <th>1</th>\n",
              "      <td>2018-1-02</td>\n",
              "      <td>145.9</td>\n",
              "    </tr>\n",
              "    <tr>\n",
              "      <th>2</th>\n",
              "      <td>2018-1-03</td>\n",
              "      <td>183.1</td>\n",
              "    </tr>\n",
              "    <tr>\n",
              "      <th>3</th>\n",
              "      <td>2018-1-04</td>\n",
              "      <td>119.3</td>\n",
              "    </tr>\n",
              "    <tr>\n",
              "      <th>4</th>\n",
              "      <td>2018-1-05</td>\n",
              "      <td>180.3</td>\n",
              "    </tr>\n",
              "    <tr>\n",
              "      <th>5</th>\n",
              "      <td>2018-1-06</td>\n",
              "      <td>168.5</td>\n",
              "    </tr>\n",
              "    <tr>\n",
              "      <th>6</th>\n",
              "      <td>2018-1-07</td>\n",
              "      <td>231.8</td>\n",
              "    </tr>\n",
              "    <tr>\n",
              "      <th>7</th>\n",
              "      <td>2018-1-08</td>\n",
              "      <td>224.5</td>\n",
              "    </tr>\n",
              "    <tr>\n",
              "      <th>8</th>\n",
              "      <td>2018-1-09</td>\n",
              "      <td>192.8</td>\n",
              "    </tr>\n",
              "    <tr>\n",
              "      <th>9</th>\n",
              "      <td>2018-1-10</td>\n",
              "      <td>122.9</td>\n",
              "    </tr>\n",
              "    <tr>\n",
              "      <th>10</th>\n",
              "      <td>2018-1-11</td>\n",
              "      <td>336.5</td>\n",
              "    </tr>\n",
              "    <tr>\n",
              "      <th>11</th>\n",
              "      <td>2018-1-12</td>\n",
              "      <td>185.9</td>\n",
              "    </tr>\n",
              "    <tr>\n",
              "      <th>12</th>\n",
              "      <td>2018-2-01</td>\n",
              "      <td>194.3</td>\n",
              "    </tr>\n",
              "    <tr>\n",
              "      <th>13</th>\n",
              "      <td>2018-2-02</td>\n",
              "      <td>149.5</td>\n",
              "    </tr>\n",
              "    <tr>\n",
              "      <th>14</th>\n",
              "      <td>2018-2-03</td>\n",
              "      <td>210.1</td>\n",
              "    </tr>\n",
              "    <tr>\n",
              "      <th>15</th>\n",
              "      <td>2018-2-04</td>\n",
              "      <td>273.3</td>\n",
              "    </tr>\n",
              "    <tr>\n",
              "      <th>16</th>\n",
              "      <td>2018-2-05</td>\n",
              "      <td>191.4</td>\n",
              "    </tr>\n",
              "    <tr>\n",
              "      <th>17</th>\n",
              "      <td>2018-2-06</td>\n",
              "      <td>287.0</td>\n",
              "    </tr>\n",
              "    <tr>\n",
              "      <th>18</th>\n",
              "      <td>2018-2-07</td>\n",
              "      <td>226.0</td>\n",
              "    </tr>\n",
              "    <tr>\n",
              "      <th>19</th>\n",
              "      <td>2018-2-08</td>\n",
              "      <td>303.6</td>\n",
              "    </tr>\n",
              "    <tr>\n",
              "      <th>20</th>\n",
              "      <td>2018-2-09</td>\n",
              "      <td>289.9</td>\n",
              "    </tr>\n",
              "    <tr>\n",
              "      <th>21</th>\n",
              "      <td>2018-2-10</td>\n",
              "      <td>421.6</td>\n",
              "    </tr>\n",
              "    <tr>\n",
              "      <th>22</th>\n",
              "      <td>2018-2-11</td>\n",
              "      <td>264.5</td>\n",
              "    </tr>\n",
              "    <tr>\n",
              "      <th>23</th>\n",
              "      <td>2018-2-12</td>\n",
              "      <td>342.3</td>\n",
              "    </tr>\n",
              "    <tr>\n",
              "      <th>24</th>\n",
              "      <td>2018-3-01</td>\n",
              "      <td>339.7</td>\n",
              "    </tr>\n",
              "    <tr>\n",
              "      <th>25</th>\n",
              "      <td>2018-3-02</td>\n",
              "      <td>440.4</td>\n",
              "    </tr>\n",
              "    <tr>\n",
              "      <th>26</th>\n",
              "      <td>2018-3-03</td>\n",
              "      <td>315.9</td>\n",
              "    </tr>\n",
              "    <tr>\n",
              "      <th>27</th>\n",
              "      <td>2018-3-04</td>\n",
              "      <td>439.3</td>\n",
              "    </tr>\n",
              "    <tr>\n",
              "      <th>28</th>\n",
              "      <td>2018-3-05</td>\n",
              "      <td>401.3</td>\n",
              "    </tr>\n",
              "    <tr>\n",
              "      <th>29</th>\n",
              "      <td>2018-3-06</td>\n",
              "      <td>437.4</td>\n",
              "    </tr>\n",
              "    <tr>\n",
              "      <th>30</th>\n",
              "      <td>2018-3-07</td>\n",
              "      <td>575.5</td>\n",
              "    </tr>\n",
              "    <tr>\n",
              "      <th>31</th>\n",
              "      <td>2018-3-08</td>\n",
              "      <td>407.6</td>\n",
              "    </tr>\n",
              "    <tr>\n",
              "      <th>32</th>\n",
              "      <td>2018-3-09</td>\n",
              "      <td>682.0</td>\n",
              "    </tr>\n",
              "    <tr>\n",
              "      <th>33</th>\n",
              "      <td>2018-3-10</td>\n",
              "      <td>475.3</td>\n",
              "    </tr>\n",
              "    <tr>\n",
              "      <th>34</th>\n",
              "      <td>2018-3-11</td>\n",
              "      <td>581.3</td>\n",
              "    </tr>\n",
              "    <tr>\n",
              "      <th>35</th>\n",
              "      <td>2018-3-12</td>\n",
              "      <td>646.9</td>\n",
              "    </tr>\n",
              "  </tbody>\n",
              "</table>\n",
              "</div>"
            ],
            "text/plain": [
              "        Month  Sales of shampoo over a three year period\n",
              "0   2018-1-01                                      266.0\n",
              "1   2018-1-02                                      145.9\n",
              "2   2018-1-03                                      183.1\n",
              "3   2018-1-04                                      119.3\n",
              "4   2018-1-05                                      180.3\n",
              "5   2018-1-06                                      168.5\n",
              "6   2018-1-07                                      231.8\n",
              "7   2018-1-08                                      224.5\n",
              "8   2018-1-09                                      192.8\n",
              "9   2018-1-10                                      122.9\n",
              "10  2018-1-11                                      336.5\n",
              "11  2018-1-12                                      185.9\n",
              "12  2018-2-01                                      194.3\n",
              "13  2018-2-02                                      149.5\n",
              "14  2018-2-03                                      210.1\n",
              "15  2018-2-04                                      273.3\n",
              "16  2018-2-05                                      191.4\n",
              "17  2018-2-06                                      287.0\n",
              "18  2018-2-07                                      226.0\n",
              "19  2018-2-08                                      303.6\n",
              "20  2018-2-09                                      289.9\n",
              "21  2018-2-10                                      421.6\n",
              "22  2018-2-11                                      264.5\n",
              "23  2018-2-12                                      342.3\n",
              "24  2018-3-01                                      339.7\n",
              "25  2018-3-02                                      440.4\n",
              "26  2018-3-03                                      315.9\n",
              "27  2018-3-04                                      439.3\n",
              "28  2018-3-05                                      401.3\n",
              "29  2018-3-06                                      437.4\n",
              "30  2018-3-07                                      575.5\n",
              "31  2018-3-08                                      407.6\n",
              "32  2018-3-09                                      682.0\n",
              "33  2018-3-10                                      475.3\n",
              "34  2018-3-11                                      581.3\n",
              "35  2018-3-12                                      646.9"
            ]
          },
          "metadata": {
            "tags": []
          },
          "execution_count": 17
        }
      ]
    },
    {
      "cell_type": "code",
      "metadata": {
        "id": "GA7sfw3aYbKj",
        "colab_type": "code",
        "colab": {}
      },
      "source": [
        "columns = ['Date','Sales']\n",
        "df.columns = columns"
      ],
      "execution_count": 0,
      "outputs": []
    },
    {
      "cell_type": "code",
      "metadata": {
        "id": "7-l32unaYkjO",
        "colab_type": "code",
        "colab": {
          "base_uri": "https://localhost:8080/",
          "height": 35
        },
        "outputId": "61d5cf56-b70b-44f2-c274-497b62d60047"
      },
      "source": [
        "print(df.columns)"
      ],
      "execution_count": 19,
      "outputs": [
        {
          "output_type": "stream",
          "text": [
            "Index(['Date', 'Sales'], dtype='object')\n"
          ],
          "name": "stdout"
        }
      ]
    },
    {
      "cell_type": "code",
      "metadata": {
        "_uuid": "884436067ec909d82b07933f8a00b9fc00a15c08",
        "_cell_guid": "89918b06-b66a-4f06-a72c-5ba434286ae7",
        "trusted": false,
        "id": "BHy-ZYH_QxxF",
        "colab_type": "code",
        "colab": {
          "base_uri": "https://localhost:8080/",
          "height": 35
        },
        "outputId": "0c6a4412-0790-483c-e4f0-2199933b0a99"
      },
      "source": [
        "df.Date = pd.to_datetime(df.Date, format='%Y-%m-%d')\n",
        "print(type(df.Date))"
      ],
      "execution_count": 22,
      "outputs": [
        {
          "output_type": "stream",
          "text": [
            "<class 'pandas.core.series.Series'>\n"
          ],
          "name": "stdout"
        }
      ]
    },
    {
      "cell_type": "code",
      "metadata": {
        "_uuid": "ab1ad6e3ebc7816c643fd2953c064613d70b7b6c",
        "_cell_guid": "6eaa59e3-c0ce-4bf0-a33f-515383623a16",
        "trusted": false,
        "id": "xlgKdBSNQxxJ",
        "colab_type": "code",
        "colab": {
          "base_uri": "https://localhost:8080/",
          "height": 394
        },
        "outputId": "40b32f03-4e88-45c9-ebc2-bfe32a4a0f57"
      },
      "source": [
        "# load and plot dataset\n",
        "\n",
        "from pandas import datetime\n",
        "import matplotlib.pyplot as plt\n",
        "import matplotlib.ticker as ticker\n",
        "# load dataset\n",
        "#def parser(x):\n",
        "#\treturn datetime.strptime('190'+x, '%Y-%m')\n",
        "#series = read_csv('../input/sales-of-shampoo-over-a-three-ye.csv', header=0, parse_dates=[0], index_col=0, squeeze=True, date_parser=parser)\n",
        "# summarize first few rows\n",
        "# first we'll do it the default way, with gaps on weekends\n",
        "date = df.Date.astype('O')\n",
        "fig, axes = plt.subplots(ncols=2, figsize=(8, 4))\n",
        "ax = axes[0]\n",
        "ax.plot(date, df.Sales, 'o-')\n",
        "ax.set_title(\"Default\")\n",
        "fig.autofmt_xdate()\n",
        "\n",
        "print(df.head())\n",
        "N = len(df)\n",
        "ind = np.arange(N)\n",
        "\n",
        "def format_date(x, pos=None):\n",
        "  thisind = np.clip(int(x+0.5), 0, N-1)\n",
        "  return date[thisind].strftime('%Y-%m-%d')\n",
        "\n",
        "ax = axes[1]\n",
        "ax.plot(ind, df.Sales, 'o-')\n",
        "ax.xaxis.set_major_formatter(ticker.FuncFormatter(format_date))\n",
        "ax.set_title(\"Shampoo Sales in Three years\")\n",
        "fig.autofmt_xdate()\n",
        "\n",
        "plt.show()"
      ],
      "execution_count": 30,
      "outputs": [
        {
          "output_type": "stream",
          "text": [
            "        Date  Sales\n",
            "0 2018-01-01  266.0\n",
            "1 2018-01-02  145.9\n",
            "2 2018-01-03  183.1\n",
            "3 2018-01-04  119.3\n",
            "4 2018-01-05  180.3\n"
          ],
          "name": "stdout"
        },
        {
          "output_type": "display_data",
          "data": {
            "image/png": "[encoded data removed]",
            "text/plain": [
              "<Figure size 576x288 with 2 Axes>"
            ]
          },
          "metadata": {
            "tags": []
          }
        }
      ]
    },
    {
      "cell_type": "code",
      "metadata": {
        "_uuid": "dcbe5167b16ca5cf08c559bf10aab91fbb867b71",
        "_cell_guid": "75665b90-de59-4543-aaea-25bb0a52d32a",
        "trusted": false,
        "id": "5wjIxEHoQxxM",
        "colab_type": "code",
        "colab": {
          "base_uri": "https://localhost:8080/",
          "height": 82
        },
        "outputId": "4f1101ba-1e3f-41e3-83f6-310808c31dbc"
      },
      "source": [
        "from pandas import DataFrame\n",
        "from pandas import Series\n",
        "from pandas import concat\n",
        "from pandas import read_csv\n",
        "from pandas import datetime\n",
        "from sklearn.metrics import mean_squared_error\n",
        "from sklearn.preprocessing import MinMaxScaler\n",
        "from keras.models import Sequential\n",
        "from keras.layers import Dense\n",
        "from keras.layers import LSTM\n",
        "from math import sqrt\n",
        "import matplotlib\n",
        "# be able to save images on server\n",
        "#matplotlib.use('Agg')\n",
        "from matplotlib import pyplot\n",
        "import numpy\n",
        "\n",
        "# date-time parsing function for loading the dataset\n",
        "def parser(x):\n",
        "\treturn datetime.strptime('190'+x, '%Y-%m')\n",
        "\n",
        "# frame a sequence as a supervised learning problem\n",
        "def timeseries_to_supervised(data, lag=1):\n",
        "\tdf = DataFrame(data)\n",
        "\tcolumns = [df.shift(i) for i in range(1, lag+1)]\n",
        "\tcolumns.append(df)\n",
        "\tdf = concat(columns, axis=1)\n",
        "\treturn df\n",
        "\n",
        "\n",
        "\n",
        "# scale train and test data to [-1, 1]\n",
        "def scale(train, test):\n",
        "\t# fit scaler\n",
        "\tscaler = MinMaxScaler(feature_range=(-1, 1))\n",
        "\tscaler = scaler.fit(train)\n",
        "\t# transform train\n",
        "\ttrain = train.reshape(train.shape[0], train.shape[1])\n",
        "\ttrain_scaled = scaler.transform(train)\n",
        "\t# transform test\n",
        "\ttest = test.reshape(test.shape[0], test.shape[1])\n",
        "\ttest_scaled = scaler.transform(test)\n",
        "\treturn scaler, train_scaled, test_scaled\n",
        "\n",
        "# inverse scaling for a forecasted value\n",
        "def invert_scale(scaler, X, yhat):\n",
        "\tnew_row = [x for x in X] + [yhat]\n",
        "\tarray = numpy.array(new_row)\n",
        "\tarray = array.reshape(1, len(array))\n",
        "\tinverted = scaler.inverse_transform(array)\n",
        "\treturn inverted[0, -1]\n",
        "\n",
        "# evaluate the model on a dataset, returns RMSE in transformed units\n",
        "def evaluate(model, raw_data, scaled_dataset, scaler, offset, batch_size):\n",
        "\t# separate\n",
        "\tX, y = scaled_dataset[:,0:-1], scaled_dataset[:,-1]\n",
        "\t# reshape\n",
        "\treshaped = X.reshape(len(X), 1, 1)\n",
        "\t# forecast dataset\n",
        "\toutput = model.predict(reshaped, batch_size=batch_size)\n",
        "\t# invert data transforms on forecast\n",
        "\tpredictions = list()\n",
        "\tfor i in range(len(output)):\n",
        "\t\tyhat = output[i,0]\n",
        "\t\t# invert scaling\n",
        "\t\tyhat = invert_scale(scaler, X[i], yhat)\n",
        "\t\t# invert differencing\n",
        "\t\tyhat = yhat + raw_data[i]\n",
        "\t\t# store forecast\n",
        "\t\tpredictions.append(yhat)\n",
        "\t# report performance\n",
        "\trmse = sqrt(mean_squared_error(raw_data[1:], predictions))\n",
        "\t# reset model state\n",
        "\tmodel.reset_states()\n",
        "\treturn rmse\n",
        "\n",
        "# fit an LSTM network to training data\n",
        "def fit_lstm(train, test, raw, scaler, batch_size, nb_epoch, neurons):\n",
        "\tX, y = train[:, 0:-1], train[:, -1]\n",
        "\tX = X.reshape(X.shape[0], 1, X.shape[1])\n",
        "\t# prepare model\n",
        "\tmodel = Sequential()\n",
        "\tmodel.add(LSTM(neurons, batch_input_shape=(batch_size, X.shape[1], X.shape[2]), stateful=True))\n",
        "\tmodel.add(Dense(1))\n",
        "\tmodel.compile(loss='mean_squared_error', optimizer='adam')\n",
        "\t# fit model\n",
        "\ttrain_rmse, test_rmse = list(), list()\n",
        "\tfor i in range(nb_epoch):\n",
        "\t\tmodel.fit(X, y, epochs=1, batch_size=batch_size, verbose=0, shuffle=False)\n",
        "\t\tmodel.reset_states()\n",
        "\t\t# evaluate model on train data\n",
        "\t\traw_train = raw[-(len(train)+len(test)+1):-len(test)]\n",
        "\t\ttrain_rmse.append(evaluate(model, raw_train, train, scaler, 0, batch_size))\n",
        "\t\t# evaluate model on test data\n",
        "\t\traw_test = raw[-(len(test)+1):]\n",
        "\t\ttest_rmse.append(evaluate(model, raw_test, test, scaler, 0, batch_size))\n",
        "\thistory = DataFrame()\n",
        "\thistory['train'], history['test'] = train_rmse, test_rmse\n",
        "\treturn history\n",
        "\n",
        "# create a differenced series\n",
        "def difference(dataset, interval=1):\n",
        "\tdiff = list()\n",
        "\tfor i in range(interval, len(dataset)):\n",
        "\t\tvalue = dataset[i] - dataset[i - interval]\n",
        "\t\tdiff.append(value)\n",
        "\treturn Series(diff)"
      ],
      "execution_count": 13,
      "outputs": [
        {
          "output_type": "stream",
          "text": [
            "Using TensorFlow backend.\n"
          ],
          "name": "stderr"
        },
        {
          "output_type": "display_data",
          "data": {
            "text/html": [
              "<p style=\"color: red;\">\n",
              "The default version of TensorFlow in Colab will soon switch to TensorFlow 2.x.<br>\n",
              "We recommend you <a href=\"https://www.tensorflow.org/guide/migrate\" target=\"_blank\">upgrade</a> now \n",
              "or ensure your notebook will continue to use TensorFlow 1.x via the <code>%tensorflow_version 1.x</code> magic:\n",
              "<a href=\"https://colab.research.google.com/notebooks/tensorflow_version.ipynb\" target=\"_blank\">more info</a>.</p>\n"
            ],
            "text/plain": [
              "<IPython.core.display.HTML object>"
            ]
          },
          "metadata": {
            "tags": []
          }
        }
      ]
    },
    {
      "cell_type": "code",
      "metadata": {
        "_uuid": "d886fba37aaac6ad60bc11b5da58da92a148a0d7",
        "_cell_guid": "3440970b-1e2f-468a-8384-8e6d63942379",
        "trusted": false,
        "id": "4Dn5DBRAQxxP",
        "colab_type": "code",
        "colab": {
          "base_uri": "https://localhost:8080/",
          "height": 943
        },
        "outputId": "cf1d25a3-a132-4221-afe1-cc0857880706"
      },
      "source": [
        "# config\n",
        "n_lag = 1\n",
        "n_repeats = 10\n",
        "n_epochs = 1000 \n",
        "n_batch = 4\n",
        "n_neurons = 3\n",
        "# load dataset\n",
        "#series = read_csv('shampoo-sales.csv', header=0, parse_dates=[0], index_col=0, squeeze=True, date_parser=parser)\n",
        "# transform data to be stationary\n",
        "#print(series.values)\n",
        "raw_values = df['Sales of shampoo over a three year period'].values\n",
        "diff_values = difference(raw_values, 1)\n",
        "# transform data to be supervised learning\n",
        "supervised = timeseries_to_supervised(diff_values, n_lag)\n",
        "supervised_values = supervised.values[n_lag:,:]\n",
        "# split data into train and test-sets\n",
        "train, test = supervised_values[0:-12], supervised_values[-12:]\n",
        "# transform the scale of the data\n",
        "scaler, train_scaled, test_scaled = scale(train, test)\n",
        "# fit and evaluate model\n",
        "train_trimmed = train_scaled[2:, :]\n",
        "# run diagnostic tests\n",
        "for i in range(n_repeats):\n",
        "    history = fit_lstm(train_trimmed, test_scaled, raw_values, scaler, n_batch, n_epochs, n_neurons)\n",
        "    pyplot.plot(history['train'], color='blue')\n",
        "    pyplot.plot(history['test'], color='orange')\n",
        "    print('%d) TrainRMSE=%f, TestRMSE=%f' % (i+1, history['train'].iloc[-1], history['test'].iloc[-1]))\n",
        "pyplot.savefig('diagnostic_baseline.png')\n",
        "\n"
      ],
      "execution_count": 14,
      "outputs": [
        {
          "output_type": "stream",
          "text": [
            "WARNING:tensorflow:From /usr/local/lib/python3.6/dist-packages/keras/backend/tensorflow_backend.py:66: The name tf.get_default_graph is deprecated. Please use tf.compat.v1.get_default_graph instead.\n",
            "\n",
            "WARNING:tensorflow:From /usr/local/lib/python3.6/dist-packages/keras/backend/tensorflow_backend.py:541: The name tf.placeholder is deprecated. Please use tf.compat.v1.placeholder instead.\n",
            "\n",
            "WARNING:tensorflow:From /usr/local/lib/python3.6/dist-packages/keras/backend/tensorflow_backend.py:4432: The name tf.random_uniform is deprecated. Please use tf.random.uniform instead.\n",
            "\n",
            "WARNING:tensorflow:From /usr/local/lib/python3.6/dist-packages/keras/optimizers.py:793: The name tf.train.Optimizer is deprecated. Please use tf.compat.v1.train.Optimizer instead.\n",
            "\n",
            "WARNING:tensorflow:From /usr/local/lib/python3.6/dist-packages/tensorflow_core/python/ops/math_grad.py:1424: where (from tensorflow.python.ops.array_ops) is deprecated and will be removed in a future version.\n",
            "Instructions for updating:\n",
            "Use tf.where in 2.0, which has the same broadcast rule as np.where\n",
            "WARNING:tensorflow:From /usr/local/lib/python3.6/dist-packages/keras/backend/tensorflow_backend.py:1033: The name tf.assign_add is deprecated. Please use tf.compat.v1.assign_add instead.\n",
            "\n",
            "WARNING:tensorflow:From /usr/local/lib/python3.6/dist-packages/keras/backend/tensorflow_backend.py:1020: The name tf.assign is deprecated. Please use tf.compat.v1.assign instead.\n",
            "\n",
            "WARNING:tensorflow:From /usr/local/lib/python3.6/dist-packages/keras/backend/tensorflow_backend.py:3005: The name tf.Session is deprecated. Please use tf.compat.v1.Session instead.\n",
            "\n",
            "WARNING:tensorflow:From /usr/local/lib/python3.6/dist-packages/keras/backend/tensorflow_backend.py:190: The name tf.get_default_session is deprecated. Please use tf.compat.v1.get_default_session instead.\n",
            "\n",
            "WARNING:tensorflow:From /usr/local/lib/python3.6/dist-packages/keras/backend/tensorflow_backend.py:197: The name tf.ConfigProto is deprecated. Please use tf.compat.v1.ConfigProto instead.\n",
            "\n",
            "WARNING:tensorflow:From /usr/local/lib/python3.6/dist-packages/keras/backend/tensorflow_backend.py:207: The name tf.global_variables is deprecated. Please use tf.compat.v1.global_variables instead.\n",
            "\n",
            "WARNING:tensorflow:From /usr/local/lib/python3.6/dist-packages/keras/backend/tensorflow_backend.py:216: The name tf.is_variable_initialized is deprecated. Please use tf.compat.v1.is_variable_initialized instead.\n",
            "\n",
            "WARNING:tensorflow:From /usr/local/lib/python3.6/dist-packages/keras/backend/tensorflow_backend.py:223: The name tf.variables_initializer is deprecated. Please use tf.compat.v1.variables_initializer instead.\n",
            "\n",
            "1) TrainRMSE=67.392058, TestRMSE=104.543866\n",
            "2) TrainRMSE=66.785179, TestRMSE=97.470170\n",
            "3) TrainRMSE=63.070105, TestRMSE=99.063515\n",
            "4) TrainRMSE=58.657796, TestRMSE=90.696643\n",
            "5) TrainRMSE=61.008893, TestRMSE=96.445631\n",
            "6) TrainRMSE=62.886522, TestRMSE=94.294312\n",
            "7) TrainRMSE=60.551328, TestRMSE=99.745857\n",
            "8) TrainRMSE=61.566763, TestRMSE=97.155428\n",
            "9) TrainRMSE=61.257668, TestRMSE=92.272514\n",
            "10) TrainRMSE=60.337688, TestRMSE=95.613117\n"
          ],
          "name": "stdout"
        },
        {
          "output_type": "display_data",
          "data": {
            "image/png": "[encoded data removed]",
            "text/plain": [
              "<Figure size 432x288 with 1 Axes>"
            ]
          },
          "metadata": {
            "tags": []
          }
        }
      ]
    },
    {
      "cell_type": "code",
      "metadata": {
        "_uuid": "e761cce4c9a4489ed7ab0cbaa2f0e0abbceac327",
        "_cell_guid": "eafa4126-733e-41cf-9c94-de76c35f9074",
        "trusted": false,
        "id": "3j2HEimwQxxS",
        "colab_type": "code",
        "colab": {}
      },
      "source": [
        ""
      ],
      "execution_count": 0,
      "outputs": []
    }
  ]
}